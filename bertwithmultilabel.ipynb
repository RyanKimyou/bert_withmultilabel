{
 "cells": [
  {
   "cell_type": "code",
   "execution_count": 1,
   "metadata": {},
   "outputs": [
    {
     "data": {
      "text/plain": [
       "'/home/yjkim/new'"
      ]
     },
     "execution_count": 1,
     "metadata": {},
     "output_type": "execute_result"
    }
   ],
   "source": [
    "pwd"
   ]
  },
  {
   "cell_type": "code",
   "execution_count": 2,
   "metadata": {},
   "outputs": [],
   "source": [
    "\n",
    "%%capture\n",
    "\n",
    "# Package Import and Installation\n",
    "import torch\n",
    "import torch.nn as nn\n",
    "import pandas as pd\n",
    "import os\n",
    "\n",
    "from torch.utils.data import Dataset, DataLoader\n",
    "from torch.nn.utils.rnn import pad_packed_sequence, pack_padded_sequence\n",
    "from tqdm.notebook import tqdm\n",
    "\n",
    "\n",
    "!pip3 install kobert-transformers\n",
    "!pip3 install git+https://git@github.com/SKTBrain/KoBERT.git@master\n"
   ]
  },
  {
   "cell_type": "code",
   "execution_count": 3,
   "metadata": {},
   "outputs": [
    {
     "name": "stderr",
     "output_type": "stream",
     "text": [
      "/home/yjkim/anaconda3/envs/allml/lib/python3.7/site-packages/tensorflow/python/framework/dtypes.py:526: FutureWarning: Passing (type, 1) or '1type' as a synonym of type is deprecated; in a future version of numpy, it will be understood as (type, (1,)) / '(1,)type'.\n",
      "  _np_qint8 = np.dtype([(\"qint8\", np.int8, 1)])\n",
      "/home/yjkim/anaconda3/envs/allml/lib/python3.7/site-packages/tensorflow/python/framework/dtypes.py:527: FutureWarning: Passing (type, 1) or '1type' as a synonym of type is deprecated; in a future version of numpy, it will be understood as (type, (1,)) / '(1,)type'.\n",
      "  _np_quint8 = np.dtype([(\"quint8\", np.uint8, 1)])\n",
      "/home/yjkim/anaconda3/envs/allml/lib/python3.7/site-packages/tensorflow/python/framework/dtypes.py:528: FutureWarning: Passing (type, 1) or '1type' as a synonym of type is deprecated; in a future version of numpy, it will be understood as (type, (1,)) / '(1,)type'.\n",
      "  _np_qint16 = np.dtype([(\"qint16\", np.int16, 1)])\n",
      "/home/yjkim/anaconda3/envs/allml/lib/python3.7/site-packages/tensorflow/python/framework/dtypes.py:529: FutureWarning: Passing (type, 1) or '1type' as a synonym of type is deprecated; in a future version of numpy, it will be understood as (type, (1,)) / '(1,)type'.\n",
      "  _np_quint16 = np.dtype([(\"quint16\", np.uint16, 1)])\n",
      "/home/yjkim/anaconda3/envs/allml/lib/python3.7/site-packages/tensorflow/python/framework/dtypes.py:530: FutureWarning: Passing (type, 1) or '1type' as a synonym of type is deprecated; in a future version of numpy, it will be understood as (type, (1,)) / '(1,)type'.\n",
      "  _np_qint32 = np.dtype([(\"qint32\", np.int32, 1)])\n",
      "/home/yjkim/anaconda3/envs/allml/lib/python3.7/site-packages/tensorflow/python/framework/dtypes.py:535: FutureWarning: Passing (type, 1) or '1type' as a synonym of type is deprecated; in a future version of numpy, it will be understood as (type, (1,)) / '(1,)type'.\n",
      "  np_resource = np.dtype([(\"resource\", np.ubyte, 1)])\n"
     ]
    },
    {
     "name": "stdout",
     "output_type": "stream",
     "text": [
      "CUDA AVAILABLE:  True\n"
     ]
    }
   ],
   "source": [
    "from kobert_transformers import get_distilkobert_model, get_tokenizer\n",
    "\n",
    "# Import Data\n",
    "\n",
    "\n",
    "# CUDA\n",
    "print(\"CUDA AVAILABLE: \", torch.cuda.is_available())\n",
    "DEVICE = 'cuda:0' if torch.cuda.is_available() else 'cpu'\n",
    "\n",
    "tokenizer = get_tokenizer()\n",
    "KoBERT    = get_distilkobert_model()"
   ]
  },
  {
   "cell_type": "code",
   "execution_count": 4,
   "metadata": {},
   "outputs": [],
   "source": [
    "# Need PAD_ID for data preprocessing\n",
    "PAD_ID = tokenizer.pad_token_id\n",
    "SEP_ID = tokenizer.sep_token_id\n",
    "CLS_ID = tokenizer.cls_token_id\n",
    "\n",
    "# Hyperparameters\n",
    "hyperparams = {'num_epochs': 3,\n",
    "               'batch_size': 32,\n",
    "               'seq_len'   : 200,\n",
    "               'learn_rate': 2e-5}"
   ]
  },
  {
   "cell_type": "code",
   "execution_count": 5,
   "metadata": {},
   "outputs": [
    {
     "name": "stdout",
     "output_type": "stream",
     "text": [
      "[2408, 2046, 7086, 3394, 1900, 6431, 6116, 3840, 7078, 517, 7815, 4841, 7223, 3415, 7843, 54] \n",
      " ['▁본', '▁모델', '은', '▁영화', '▁리', '뷰', '를', '▁입력', '으로', '▁', '하여', '▁평', '점을', '▁예측', '합니다', '.']\n"
     ]
    }
   ],
   "source": [
    "# Demonstration of KoBERT Tokenizer\n",
    "ex_sentence = \"본 모델은 영화 리뷰를 입력으로 하여 평점을 예측합니다.\"\n",
    "ex_tokenize = tokenizer.tokenize(ex_sentence)\n",
    "tokenized   = tokenizer.convert_tokens_to_ids(ex_tokenize)\n",
    "untokenized = tokenizer.convert_ids_to_tokens(tokenized)\n",
    "print(tokenized, '\\n', untokenized)"
   ]
  },
  {
   "cell_type": "code",
   "execution_count": 6,
   "metadata": {},
   "outputs": [
    {
     "data": {
      "text/plain": [
       "8002"
      ]
     },
     "execution_count": 6,
     "metadata": {},
     "output_type": "execute_result"
    }
   ],
   "source": [
    "tokenizer.vocab_size"
   ]
  },
  {
   "cell_type": "code",
   "execution_count": 7,
   "metadata": {},
   "outputs": [],
   "source": [
    "class MovieDataset(Dataset):\n",
    "    def __init__(self, tokenizer, input_file, label_file, seq_len=64):\n",
    "        super().__init__()\n",
    "        \n",
    "        self.label_file = label_file\n",
    "        self.seq_len = seq_len\n",
    "        self.inputs  = open(input_file, 'r').read().splitlines()\n",
    "        if label_file is not None:\n",
    "            self.labels = open(label_file, 'r').read().splitlines()\n",
    "\n",
    "        \n",
    "\n",
    "    def __len__(self):\n",
    "        return len(self.inputs)\n",
    "\n",
    "    def __getitem__(self, idx):\n",
    "        # Convert to tokens then augment tags\n",
    "        tokens = tokenizer.convert_tokens_to_ids(tokenizer.tokenize(self.inputs[idx]))\n",
    "        padded = [CLS_ID] + tokens[:self.seq_len-2] + [SEP_ID] + [PAD_ID] * (self.seq_len - len(tokens) - 2)\n",
    "        length = len(tokens[:self.seq_len-2])\n",
    "        if self.label_file is not None:\n",
    "            labels = int(self.labels[idx])\n",
    "            return {'inputs': torch.tensor(padded),\n",
    "                    'labels': torch.tensor(labels),\n",
    "                    'length': torch.tensor(length)}\n",
    "        else:\n",
    "            return {'inputs': torch.tensor(padded),\n",
    "                    'length': torch.tensor(length)}"
   ]
  },
  {
   "cell_type": "code",
   "execution_count": 8,
   "metadata": {},
   "outputs": [],
   "source": [
    "train_ds = MovieDataset(tokenizer, 'train_data', 'train_label', seq_len=hyperparams['seq_len'])\n",
    "valid_ds = MovieDataset(tokenizer, 'valid_data', 'valid_label', seq_len=hyperparams['seq_len'])\n",
    "test_ds  = MovieDataset(tokenizer, 'test_data', None, seq_len=hyperparams['seq_len'])\n",
    "\n",
    "train_loader = DataLoader(train_ds, batch_size=hyperparams['batch_size'], shuffle=True)\n",
    "valid_loader = DataLoader(valid_ds, batch_size=128)\n",
    "test_loader  = DataLoader(test_ds,  batch_size=128)"
   ]
  },
  {
   "cell_type": "code",
   "execution_count": 8,
   "metadata": {},
   "outputs": [
    {
     "data": {
      "text/plain": [
       "'불멸의 명작. 영화인을 꿈꾸는 사람이라면 반드시 봐야할 영화'"
      ]
     },
     "execution_count": 8,
     "metadata": {},
     "output_type": "execute_result"
    }
   ],
   "source": [
    "train_ds.inputs[1]"
   ]
  },
  {
   "cell_type": "code",
   "execution_count": 9,
   "metadata": {},
   "outputs": [
    {
     "data": {
      "text/plain": [
       "'10'"
      ]
     },
     "execution_count": 9,
     "metadata": {},
     "output_type": "execute_result"
    }
   ],
   "source": [
    "train_ds.labels[0]"
   ]
  },
  {
   "cell_type": "code",
   "execution_count": 10,
   "metadata": {},
   "outputs": [
    {
     "data": {
      "text/plain": [
       "{'inputs': tensor([   2, 2288, 7089,  517,  422,  453,  389,  708,  423,  389, 7095,  791,\n",
       "         7206, 2734, 7069, 5468, 3376, 6493, 5561, 6903, 1390, 1597, 7543, 7828,\n",
       "         4694, 3960, 5938, 2355, 6197, 4737, 7628, 7095, 5152, 6527, 6896,  517,\n",
       "         7233, 7086, 5943, 7828, 3194, 7172, 7828, 4883, 4299, 5859,  517, 7145,\n",
       "         7088, 6630, 3273,   54,    3,    1,    1,    1,    1,    1,    1,    1,\n",
       "            1,    1,    1,    1,    1,    1,    1,    1,    1,    1,    1,    1,\n",
       "            1,    1,    1,    1,    1,    1,    1,    1,    1,    1,    1,    1,\n",
       "            1,    1,    1,    1,    1,    1,    1,    1,    1,    1,    1,    1,\n",
       "            1,    1,    1,    1,    1,    1,    1,    1,    1,    1,    1,    1,\n",
       "            1,    1,    1,    1,    1,    1,    1,    1,    1,    1,    1,    1,\n",
       "            1,    1,    1,    1,    1,    1,    1,    1,    1,    1,    1,    1,\n",
       "            1,    1,    1,    1,    1,    1,    1,    1,    1,    1,    1,    1,\n",
       "            1,    1,    1,    1,    1,    1,    1,    1,    1,    1,    1,    1,\n",
       "            1,    1,    1,    1,    1,    1,    1,    1,    1,    1,    1,    1,\n",
       "            1,    1,    1,    1,    1,    1,    1,    1,    1,    1,    1,    1,\n",
       "            1,    1,    1,    1,    1,    1,    1,    1,    1,    1,    1,    1,\n",
       "            1,    1,    1,    1,    1,    1,    1,    1]),\n",
       " 'labels': tensor(10),\n",
       " 'length': tensor(51)}"
      ]
     },
     "execution_count": 10,
     "metadata": {},
     "output_type": "execute_result"
    }
   ],
   "source": [
    "train_ds[0]"
   ]
  },
  {
   "cell_type": "code",
   "execution_count": 9,
   "metadata": {},
   "outputs": [],
   "source": [
    "# Model\n",
    "class MovieReviewModel(nn.Module):\n",
    "    def __init__(self):\n",
    "        super().__init__()\n",
    "        # nn.CrossEntropyLoss in torch has built-in softmax. No need for activation.\n",
    "        self.pretrained = KoBERT.to(DEVICE)\n",
    "        self.linear     = nn.Linear(768, 10).to(DEVICE)\n",
    "        \n",
    "    def forward(self, x):\n",
    "        # Pretrained Model Output -> (Embedding, Pooled)\n",
    "        x, = self.pretrained(x)\n",
    "        x  = self.linear(x[:,0])\n",
    "\n",
    "        return x\n",
    "\n",
    "model = MovieReviewModel()\n",
    "\n",
    "# Loss\n",
    "loss_func = nn.CrossEntropyLoss(ignore_index=PAD_ID)\n",
    "\n",
    "# Optimizer\n",
    "optimizer = torch.optim.Adam(params=model.parameters(), lr=hyperparams['learn_rate'])"
   ]
  },
  {
   "cell_type": "code",
   "execution_count": 10,
   "metadata": {},
   "outputs": [],
   "source": [
    "# Validating\n",
    "def validate(model, valid_loader):\n",
    "    model.eval()\n",
    "    s, t = 0, 0\n",
    "    with torch.no_grad():\n",
    "        for batch in tqdm(valid_loader):\n",
    "            x = batch['inputs'].to(DEVICE)\n",
    "            y = batch['labels'].cpu()\n",
    "            q = batch['length']\n",
    "\n",
    "            if type(model) == MovieReviewModel:\n",
    "                z = model(x).cpu()\n",
    "            else:\n",
    "                z = model(x, q).cpu()\n",
    "            p = torch.argmax(z, dim=-1).cpu() + 1\n",
    "\n",
    "            s += torch.sum(y==p, [-1,0]).item()\n",
    "            t += len(x)\n",
    "\n",
    "        print('VALIDATION ACCURACY: %.2f %%' % (s / t * 100))\n",
    "\n",
    "# Finetuning\n",
    "def finetune(model, train_loader):\n",
    "    model.train()\n",
    "    t = 0\n",
    "    for i, batch in enumerate(tqdm(train_loader)):\n",
    "        x = batch['inputs'].to(DEVICE)\n",
    "        y = batch['labels'].cpu() - 1\n",
    "        z = model(x).cpu()\n",
    "\n",
    "        l = loss_func(z, y)\n",
    "        t += l.item()\n",
    "        \n",
    "        optimizer.zero_grad()\n",
    "        l.backward()\n",
    "        optimizer.step()\n",
    "        \n",
    "        # Print train loss, save model, and validate every 1000 steps\n",
    "        if not (i % 1000):\n",
    "            print('BATCH %d of %d TRAIN LOSS: %.3f' % (i, len(train_loader), l))\n",
    "            print('SAVING MODEL ...')\n",
    "            torch.save(model.state_dict(), 'checkpoint.pt')\n",
    "            validate(model, valid_loader)\n",
    "            model.train()\n",
    "\n",
    "    print('TRAIN LOSS: %.3f' % t)\n",
    "\n"
   ]
  },
  {
   "cell_type": "code",
   "execution_count": null,
   "metadata": {
    "collapsed": true,
    "jupyter": {
     "outputs_hidden": true
    }
   },
   "outputs": [
    {
     "name": "stdout",
     "output_type": "stream",
     "text": [
      "******* EPOCH 1 / 3 ********\n"
     ]
    },
    {
     "data": {
      "application/vnd.jupyter.widget-view+json": {
       "model_id": "d2269a057ad04894a45ad3c2904ddd78",
       "version_major": 2,
       "version_minor": 0
      },
      "text/plain": [
       "HBox(children=(FloatProgress(value=0.0, max=281250.0), HTML(value='')))"
      ]
     },
     "metadata": {},
     "output_type": "display_data"
    },
    {
     "name": "stdout",
     "output_type": "stream",
     "text": [
      "BATCH 0 of 281250 TRAIN LOSS: 2.370\n",
      "SAVING MODEL ...\n"
     ]
    },
    {
     "data": {
      "application/vnd.jupyter.widget-view+json": {
       "model_id": "a8cd8a00a8874255846e20c1ff6ec685",
       "version_major": 2,
       "version_minor": 0
      },
      "text/plain": [
       "HBox(children=(FloatProgress(value=0.0, max=79.0), HTML(value='')))"
      ]
     },
     "metadata": {},
     "output_type": "display_data"
    },
    {
     "name": "stdout",
     "output_type": "stream",
     "text": [
      "\n",
      "VALIDATION ACCURACY: 60.52 %\n",
      "BATCH 1000 of 281250 TRAIN LOSS: 1.094\n",
      "SAVING MODEL ...\n"
     ]
    },
    {
     "data": {
      "application/vnd.jupyter.widget-view+json": {
       "model_id": "22109e0cc45a42d59c1a3891450a2a6e",
       "version_major": 2,
       "version_minor": 0
      },
      "text/plain": [
       "HBox(children=(FloatProgress(value=0.0, max=79.0), HTML(value='')))"
      ]
     },
     "metadata": {},
     "output_type": "display_data"
    },
    {
     "name": "stdout",
     "output_type": "stream",
     "text": [
      "\n",
      "VALIDATION ACCURACY: 76.94 %\n",
      "BATCH 2000 of 281250 TRAIN LOSS: 1.585\n",
      "SAVING MODEL ...\n"
     ]
    },
    {
     "data": {
      "application/vnd.jupyter.widget-view+json": {
       "model_id": "dfa8c4a7f91a4906bdafaa6d07383781",
       "version_major": 2,
       "version_minor": 0
      },
      "text/plain": [
       "HBox(children=(FloatProgress(value=0.0, max=79.0), HTML(value='')))"
      ]
     },
     "metadata": {},
     "output_type": "display_data"
    },
    {
     "name": "stdout",
     "output_type": "stream",
     "text": [
      "\n",
      "VALIDATION ACCURACY: 78.15 %\n",
      "BATCH 3000 of 281250 TRAIN LOSS: 1.323\n",
      "SAVING MODEL ...\n"
     ]
    },
    {
     "data": {
      "application/vnd.jupyter.widget-view+json": {
       "model_id": "e88caf1381e843baa0ccc876daf465b1",
       "version_major": 2,
       "version_minor": 0
      },
      "text/plain": [
       "HBox(children=(FloatProgress(value=0.0, max=79.0), HTML(value='')))"
      ]
     },
     "metadata": {},
     "output_type": "display_data"
    },
    {
     "name": "stdout",
     "output_type": "stream",
     "text": [
      "\n",
      "VALIDATION ACCURACY: 79.13 %\n",
      "BATCH 4000 of 281250 TRAIN LOSS: 1.289\n",
      "SAVING MODEL ...\n"
     ]
    },
    {
     "data": {
      "application/vnd.jupyter.widget-view+json": {
       "model_id": "f9480146fdf74d33a533f23ab8371059",
       "version_major": 2,
       "version_minor": 0
      },
      "text/plain": [
       "HBox(children=(FloatProgress(value=0.0, max=79.0), HTML(value='')))"
      ]
     },
     "metadata": {},
     "output_type": "display_data"
    },
    {
     "name": "stdout",
     "output_type": "stream",
     "text": [
      "\n",
      "VALIDATION ACCURACY: 79.47 %\n",
      "BATCH 5000 of 281250 TRAIN LOSS: 1.093\n",
      "SAVING MODEL ...\n"
     ]
    },
    {
     "data": {
      "application/vnd.jupyter.widget-view+json": {
       "model_id": "9845b824bcec441a9cb3049cd327fd4d",
       "version_major": 2,
       "version_minor": 0
      },
      "text/plain": [
       "HBox(children=(FloatProgress(value=0.0, max=79.0), HTML(value='')))"
      ]
     },
     "metadata": {},
     "output_type": "display_data"
    },
    {
     "name": "stdout",
     "output_type": "stream",
     "text": [
      "\n",
      "VALIDATION ACCURACY: 79.94 %\n",
      "BATCH 6000 of 281250 TRAIN LOSS: 1.140\n",
      "SAVING MODEL ...\n"
     ]
    },
    {
     "data": {
      "application/vnd.jupyter.widget-view+json": {
       "model_id": "d127b0edf22c4ee68fc28027c68bb81c",
       "version_major": 2,
       "version_minor": 0
      },
      "text/plain": [
       "HBox(children=(FloatProgress(value=0.0, max=79.0), HTML(value='')))"
      ]
     },
     "metadata": {},
     "output_type": "display_data"
    },
    {
     "name": "stdout",
     "output_type": "stream",
     "text": [
      "\n",
      "VALIDATION ACCURACY: 80.31 %\n",
      "BATCH 7000 of 281250 TRAIN LOSS: 1.198\n",
      "SAVING MODEL ...\n"
     ]
    },
    {
     "data": {
      "application/vnd.jupyter.widget-view+json": {
       "model_id": "465e89e9c05e42cc809a65843a3a53ba",
       "version_major": 2,
       "version_minor": 0
      },
      "text/plain": [
       "HBox(children=(FloatProgress(value=0.0, max=79.0), HTML(value='')))"
      ]
     },
     "metadata": {},
     "output_type": "display_data"
    },
    {
     "name": "stdout",
     "output_type": "stream",
     "text": [
      "\n",
      "VALIDATION ACCURACY: 80.10 %\n",
      "BATCH 8000 of 281250 TRAIN LOSS: 1.496\n",
      "SAVING MODEL ...\n"
     ]
    },
    {
     "data": {
      "application/vnd.jupyter.widget-view+json": {
       "model_id": "bfc429a52e004f9fbdae8ad07fd3a2ac",
       "version_major": 2,
       "version_minor": 0
      },
      "text/plain": [
       "HBox(children=(FloatProgress(value=0.0, max=79.0), HTML(value='')))"
      ]
     },
     "metadata": {},
     "output_type": "display_data"
    },
    {
     "name": "stdout",
     "output_type": "stream",
     "text": [
      "\n",
      "VALIDATION ACCURACY: 80.39 %\n",
      "BATCH 9000 of 281250 TRAIN LOSS: 1.263\n",
      "SAVING MODEL ...\n"
     ]
    },
    {
     "data": {
      "application/vnd.jupyter.widget-view+json": {
       "model_id": "a7c6759af1434b55a86c0e08dc6ab7e9",
       "version_major": 2,
       "version_minor": 0
      },
      "text/plain": [
       "HBox(children=(FloatProgress(value=0.0, max=79.0), HTML(value='')))"
      ]
     },
     "metadata": {},
     "output_type": "display_data"
    },
    {
     "name": "stdout",
     "output_type": "stream",
     "text": [
      "\n",
      "VALIDATION ACCURACY: 80.17 %\n",
      "BATCH 10000 of 281250 TRAIN LOSS: 1.046\n",
      "SAVING MODEL ...\n"
     ]
    },
    {
     "data": {
      "application/vnd.jupyter.widget-view+json": {
       "model_id": "b02e27082642490389b26d5e0fba51d5",
       "version_major": 2,
       "version_minor": 0
      },
      "text/plain": [
       "HBox(children=(FloatProgress(value=0.0, max=79.0), HTML(value='')))"
      ]
     },
     "metadata": {},
     "output_type": "display_data"
    },
    {
     "name": "stdout",
     "output_type": "stream",
     "text": [
      "\n",
      "VALIDATION ACCURACY: 80.16 %\n",
      "BATCH 11000 of 281250 TRAIN LOSS: 1.382\n",
      "SAVING MODEL ...\n"
     ]
    },
    {
     "data": {
      "application/vnd.jupyter.widget-view+json": {
       "model_id": "50dc2af34207444bac078b7fefeb48e8",
       "version_major": 2,
       "version_minor": 0
      },
      "text/plain": [
       "HBox(children=(FloatProgress(value=0.0, max=79.0), HTML(value='')))"
      ]
     },
     "metadata": {},
     "output_type": "display_data"
    },
    {
     "name": "stdout",
     "output_type": "stream",
     "text": [
      "\n",
      "VALIDATION ACCURACY: 80.94 %\n",
      "BATCH 12000 of 281250 TRAIN LOSS: 1.126\n",
      "SAVING MODEL ...\n"
     ]
    },
    {
     "data": {
      "application/vnd.jupyter.widget-view+json": {
       "model_id": "70bacd3fa2884112aebc6a994684b6ad",
       "version_major": 2,
       "version_minor": 0
      },
      "text/plain": [
       "HBox(children=(FloatProgress(value=0.0, max=79.0), HTML(value='')))"
      ]
     },
     "metadata": {},
     "output_type": "display_data"
    },
    {
     "name": "stdout",
     "output_type": "stream",
     "text": [
      "\n",
      "VALIDATION ACCURACY: 80.42 %\n",
      "BATCH 13000 of 281250 TRAIN LOSS: 1.280\n",
      "SAVING MODEL ...\n"
     ]
    },
    {
     "data": {
      "application/vnd.jupyter.widget-view+json": {
       "model_id": "006181c41e48413588877b0ca45bf247",
       "version_major": 2,
       "version_minor": 0
      },
      "text/plain": [
       "HBox(children=(FloatProgress(value=0.0, max=79.0), HTML(value='')))"
      ]
     },
     "metadata": {},
     "output_type": "display_data"
    },
    {
     "name": "stdout",
     "output_type": "stream",
     "text": [
      "\n",
      "VALIDATION ACCURACY: 80.65 %\n",
      "BATCH 14000 of 281250 TRAIN LOSS: 1.065\n",
      "SAVING MODEL ...\n"
     ]
    },
    {
     "data": {
      "application/vnd.jupyter.widget-view+json": {
       "model_id": "d3ec07ea4712496da741c3bcd6df6c4c",
       "version_major": 2,
       "version_minor": 0
      },
      "text/plain": [
       "HBox(children=(FloatProgress(value=0.0, max=79.0), HTML(value='')))"
      ]
     },
     "metadata": {},
     "output_type": "display_data"
    },
    {
     "name": "stdout",
     "output_type": "stream",
     "text": [
      "\n",
      "VALIDATION ACCURACY: 80.81 %\n",
      "BATCH 15000 of 281250 TRAIN LOSS: 0.854\n",
      "SAVING MODEL ...\n"
     ]
    },
    {
     "data": {
      "application/vnd.jupyter.widget-view+json": {
       "model_id": "a88441d76e6c46cb8eeb6f6466b7d43a",
       "version_major": 2,
       "version_minor": 0
      },
      "text/plain": [
       "HBox(children=(FloatProgress(value=0.0, max=79.0), HTML(value='')))"
      ]
     },
     "metadata": {},
     "output_type": "display_data"
    },
    {
     "name": "stdout",
     "output_type": "stream",
     "text": [
      "\n",
      "VALIDATION ACCURACY: 80.56 %\n",
      "BATCH 16000 of 281250 TRAIN LOSS: 0.847\n",
      "SAVING MODEL ...\n"
     ]
    },
    {
     "data": {
      "application/vnd.jupyter.widget-view+json": {
       "model_id": "1a720697efbe4ee28befe3567f4bba7b",
       "version_major": 2,
       "version_minor": 0
      },
      "text/plain": [
       "HBox(children=(FloatProgress(value=0.0, max=79.0), HTML(value='')))"
      ]
     },
     "metadata": {},
     "output_type": "display_data"
    },
    {
     "name": "stdout",
     "output_type": "stream",
     "text": [
      "\n",
      "VALIDATION ACCURACY: 81.06 %\n",
      "BATCH 17000 of 281250 TRAIN LOSS: 1.047\n",
      "SAVING MODEL ...\n"
     ]
    },
    {
     "data": {
      "application/vnd.jupyter.widget-view+json": {
       "model_id": "aec1d27aeff44b5f8e79d97a12200965",
       "version_major": 2,
       "version_minor": 0
      },
      "text/plain": [
       "HBox(children=(FloatProgress(value=0.0, max=79.0), HTML(value='')))"
      ]
     },
     "metadata": {},
     "output_type": "display_data"
    },
    {
     "name": "stdout",
     "output_type": "stream",
     "text": [
      "\n",
      "VALIDATION ACCURACY: 80.73 %\n",
      "BATCH 18000 of 281250 TRAIN LOSS: 1.269\n",
      "SAVING MODEL ...\n"
     ]
    },
    {
     "data": {
      "application/vnd.jupyter.widget-view+json": {
       "model_id": "0382af56c1f744ae875a81532212d3eb",
       "version_major": 2,
       "version_minor": 0
      },
      "text/plain": [
       "HBox(children=(FloatProgress(value=0.0, max=79.0), HTML(value='')))"
      ]
     },
     "metadata": {},
     "output_type": "display_data"
    },
    {
     "name": "stdout",
     "output_type": "stream",
     "text": [
      "\n",
      "VALIDATION ACCURACY: 80.97 %\n",
      "BATCH 19000 of 281250 TRAIN LOSS: 1.438\n",
      "SAVING MODEL ...\n"
     ]
    },
    {
     "data": {
      "application/vnd.jupyter.widget-view+json": {
       "model_id": "be206a6d75df45c68d4ea3700cb78b37",
       "version_major": 2,
       "version_minor": 0
      },
      "text/plain": [
       "HBox(children=(FloatProgress(value=0.0, max=79.0), HTML(value='')))"
      ]
     },
     "metadata": {},
     "output_type": "display_data"
    },
    {
     "name": "stdout",
     "output_type": "stream",
     "text": [
      "\n",
      "VALIDATION ACCURACY: 81.20 %\n",
      "BATCH 20000 of 281250 TRAIN LOSS: 1.325\n",
      "SAVING MODEL ...\n"
     ]
    },
    {
     "data": {
      "application/vnd.jupyter.widget-view+json": {
       "model_id": "7f47b65dd07a4c14812820b541d62118",
       "version_major": 2,
       "version_minor": 0
      },
      "text/plain": [
       "HBox(children=(FloatProgress(value=0.0, max=79.0), HTML(value='')))"
      ]
     },
     "metadata": {},
     "output_type": "display_data"
    },
    {
     "name": "stdout",
     "output_type": "stream",
     "text": [
      "\n",
      "VALIDATION ACCURACY: 81.43 %\n",
      "BATCH 21000 of 281250 TRAIN LOSS: 1.335\n",
      "SAVING MODEL ...\n"
     ]
    },
    {
     "data": {
      "application/vnd.jupyter.widget-view+json": {
       "model_id": "e2a38708656e4fadba576aaeecca0a99",
       "version_major": 2,
       "version_minor": 0
      },
      "text/plain": [
       "HBox(children=(FloatProgress(value=0.0, max=79.0), HTML(value='')))"
      ]
     },
     "metadata": {},
     "output_type": "display_data"
    },
    {
     "name": "stdout",
     "output_type": "stream",
     "text": [
      "\n",
      "VALIDATION ACCURACY: 81.09 %\n",
      "BATCH 22000 of 281250 TRAIN LOSS: 1.444\n",
      "SAVING MODEL ...\n"
     ]
    },
    {
     "data": {
      "application/vnd.jupyter.widget-view+json": {
       "model_id": "55efa3304aac42db8b7bcfdbd167af91",
       "version_major": 2,
       "version_minor": 0
      },
      "text/plain": [
       "HBox(children=(FloatProgress(value=0.0, max=79.0), HTML(value='')))"
      ]
     },
     "metadata": {},
     "output_type": "display_data"
    },
    {
     "name": "stdout",
     "output_type": "stream",
     "text": [
      "\n",
      "VALIDATION ACCURACY: 81.67 %\n",
      "BATCH 23000 of 281250 TRAIN LOSS: 0.847\n",
      "SAVING MODEL ...\n"
     ]
    },
    {
     "data": {
      "application/vnd.jupyter.widget-view+json": {
       "model_id": "c49cce1238a5416a8a1763f83f7f366b",
       "version_major": 2,
       "version_minor": 0
      },
      "text/plain": [
       "HBox(children=(FloatProgress(value=0.0, max=79.0), HTML(value='')))"
      ]
     },
     "metadata": {},
     "output_type": "display_data"
    },
    {
     "name": "stdout",
     "output_type": "stream",
     "text": [
      "\n",
      "VALIDATION ACCURACY: 81.72 %\n",
      "BATCH 24000 of 281250 TRAIN LOSS: 1.140\n",
      "SAVING MODEL ...\n"
     ]
    },
    {
     "data": {
      "application/vnd.jupyter.widget-view+json": {
       "model_id": "4c694389b45c4472bc97c38de0416e0d",
       "version_major": 2,
       "version_minor": 0
      },
      "text/plain": [
       "HBox(children=(FloatProgress(value=0.0, max=79.0), HTML(value='')))"
      ]
     },
     "metadata": {},
     "output_type": "display_data"
    },
    {
     "name": "stdout",
     "output_type": "stream",
     "text": [
      "\n",
      "VALIDATION ACCURACY: 81.53 %\n",
      "BATCH 25000 of 281250 TRAIN LOSS: 1.303\n",
      "SAVING MODEL ...\n"
     ]
    },
    {
     "data": {
      "application/vnd.jupyter.widget-view+json": {
       "model_id": "308131e187a1491bafb16c2e7979d21e",
       "version_major": 2,
       "version_minor": 0
      },
      "text/plain": [
       "HBox(children=(FloatProgress(value=0.0, max=79.0), HTML(value='')))"
      ]
     },
     "metadata": {},
     "output_type": "display_data"
    },
    {
     "name": "stdout",
     "output_type": "stream",
     "text": [
      "\n",
      "VALIDATION ACCURACY: 81.65 %\n",
      "BATCH 26000 of 281250 TRAIN LOSS: 0.893\n",
      "SAVING MODEL ...\n"
     ]
    },
    {
     "data": {
      "application/vnd.jupyter.widget-view+json": {
       "model_id": "85fd27750ca54552ab9f3424f281fddb",
       "version_major": 2,
       "version_minor": 0
      },
      "text/plain": [
       "HBox(children=(FloatProgress(value=0.0, max=79.0), HTML(value='')))"
      ]
     },
     "metadata": {},
     "output_type": "display_data"
    },
    {
     "name": "stdout",
     "output_type": "stream",
     "text": [
      "\n",
      "VALIDATION ACCURACY: 81.38 %\n",
      "BATCH 27000 of 281250 TRAIN LOSS: 1.302\n",
      "SAVING MODEL ...\n"
     ]
    },
    {
     "data": {
      "application/vnd.jupyter.widget-view+json": {
       "model_id": "46239b4a7b394aa98f54495b643c002f",
       "version_major": 2,
       "version_minor": 0
      },
      "text/plain": [
       "HBox(children=(FloatProgress(value=0.0, max=79.0), HTML(value='')))"
      ]
     },
     "metadata": {},
     "output_type": "display_data"
    },
    {
     "name": "stdout",
     "output_type": "stream",
     "text": [
      "\n",
      "VALIDATION ACCURACY: 81.83 %\n",
      "BATCH 28000 of 281250 TRAIN LOSS: 1.328\n",
      "SAVING MODEL ...\n"
     ]
    },
    {
     "data": {
      "application/vnd.jupyter.widget-view+json": {
       "model_id": "a9d34a0933ce47f3ba050708719e59ea",
       "version_major": 2,
       "version_minor": 0
      },
      "text/plain": [
       "HBox(children=(FloatProgress(value=0.0, max=79.0), HTML(value='')))"
      ]
     },
     "metadata": {},
     "output_type": "display_data"
    },
    {
     "name": "stdout",
     "output_type": "stream",
     "text": [
      "\n",
      "VALIDATION ACCURACY: 81.44 %\n",
      "BATCH 29000 of 281250 TRAIN LOSS: 1.025\n",
      "SAVING MODEL ...\n"
     ]
    },
    {
     "data": {
      "application/vnd.jupyter.widget-view+json": {
       "model_id": "493ee7bfc1cb4cd7ae12866ea4f32cd9",
       "version_major": 2,
       "version_minor": 0
      },
      "text/plain": [
       "HBox(children=(FloatProgress(value=0.0, max=79.0), HTML(value='')))"
      ]
     },
     "metadata": {},
     "output_type": "display_data"
    },
    {
     "name": "stdout",
     "output_type": "stream",
     "text": [
      "\n",
      "VALIDATION ACCURACY: 81.81 %\n",
      "BATCH 30000 of 281250 TRAIN LOSS: 1.244\n",
      "SAVING MODEL ...\n"
     ]
    },
    {
     "data": {
      "application/vnd.jupyter.widget-view+json": {
       "model_id": "8e04a79607a741ceb3b63ee53d1b5b82",
       "version_major": 2,
       "version_minor": 0
      },
      "text/plain": [
       "HBox(children=(FloatProgress(value=0.0, max=79.0), HTML(value='')))"
      ]
     },
     "metadata": {},
     "output_type": "display_data"
    },
    {
     "name": "stdout",
     "output_type": "stream",
     "text": [
      "\n",
      "VALIDATION ACCURACY: 81.90 %\n",
      "BATCH 31000 of 281250 TRAIN LOSS: 1.037\n",
      "SAVING MODEL ...\n"
     ]
    },
    {
     "data": {
      "application/vnd.jupyter.widget-view+json": {
       "model_id": "4c04b9bfdbc4465c91bfecfa8eb2a645",
       "version_major": 2,
       "version_minor": 0
      },
      "text/plain": [
       "HBox(children=(FloatProgress(value=0.0, max=79.0), HTML(value='')))"
      ]
     },
     "metadata": {},
     "output_type": "display_data"
    },
    {
     "name": "stdout",
     "output_type": "stream",
     "text": [
      "\n",
      "VALIDATION ACCURACY: 81.64 %\n",
      "BATCH 32000 of 281250 TRAIN LOSS: 1.124\n",
      "SAVING MODEL ...\n"
     ]
    },
    {
     "data": {
      "application/vnd.jupyter.widget-view+json": {
       "model_id": "64487c5766f24069a04d7ad25e6fb3e3",
       "version_major": 2,
       "version_minor": 0
      },
      "text/plain": [
       "HBox(children=(FloatProgress(value=0.0, max=79.0), HTML(value='')))"
      ]
     },
     "metadata": {},
     "output_type": "display_data"
    },
    {
     "name": "stdout",
     "output_type": "stream",
     "text": [
      "\n",
      "VALIDATION ACCURACY: 81.54 %\n",
      "BATCH 33000 of 281250 TRAIN LOSS: 0.951\n",
      "SAVING MODEL ...\n"
     ]
    },
    {
     "data": {
      "application/vnd.jupyter.widget-view+json": {
       "model_id": "2f04bf4d9e2c49cea2afd4d12fd91e2f",
       "version_major": 2,
       "version_minor": 0
      },
      "text/plain": [
       "HBox(children=(FloatProgress(value=0.0, max=79.0), HTML(value='')))"
      ]
     },
     "metadata": {},
     "output_type": "display_data"
    },
    {
     "name": "stdout",
     "output_type": "stream",
     "text": [
      "\n",
      "VALIDATION ACCURACY: 81.82 %\n",
      "BATCH 34000 of 281250 TRAIN LOSS: 1.419\n",
      "SAVING MODEL ...\n"
     ]
    },
    {
     "data": {
      "application/vnd.jupyter.widget-view+json": {
       "model_id": "fdf6a96a58924cf89d7c60d719852e4c",
       "version_major": 2,
       "version_minor": 0
      },
      "text/plain": [
       "HBox(children=(FloatProgress(value=0.0, max=79.0), HTML(value='')))"
      ]
     },
     "metadata": {},
     "output_type": "display_data"
    },
    {
     "name": "stdout",
     "output_type": "stream",
     "text": [
      "\n",
      "VALIDATION ACCURACY: 81.77 %\n",
      "BATCH 35000 of 281250 TRAIN LOSS: 1.108\n",
      "SAVING MODEL ...\n"
     ]
    },
    {
     "data": {
      "application/vnd.jupyter.widget-view+json": {
       "model_id": "a1ad5ae1664c489f8209e5e647e29481",
       "version_major": 2,
       "version_minor": 0
      },
      "text/plain": [
       "HBox(children=(FloatProgress(value=0.0, max=79.0), HTML(value='')))"
      ]
     },
     "metadata": {},
     "output_type": "display_data"
    },
    {
     "name": "stdout",
     "output_type": "stream",
     "text": [
      "\n",
      "VALIDATION ACCURACY: 81.78 %\n",
      "BATCH 36000 of 281250 TRAIN LOSS: 0.893\n",
      "SAVING MODEL ...\n"
     ]
    },
    {
     "data": {
      "application/vnd.jupyter.widget-view+json": {
       "model_id": "7c5816db7970442cbaccd6df32ae2894",
       "version_major": 2,
       "version_minor": 0
      },
      "text/plain": [
       "HBox(children=(FloatProgress(value=0.0, max=79.0), HTML(value='')))"
      ]
     },
     "metadata": {},
     "output_type": "display_data"
    },
    {
     "name": "stdout",
     "output_type": "stream",
     "text": [
      "\n",
      "VALIDATION ACCURACY: 82.01 %\n",
      "BATCH 37000 of 281250 TRAIN LOSS: 1.207\n",
      "SAVING MODEL ...\n"
     ]
    },
    {
     "data": {
      "application/vnd.jupyter.widget-view+json": {
       "model_id": "16bb2434ab634a5a8110dd6f4cfed05c",
       "version_major": 2,
       "version_minor": 0
      },
      "text/plain": [
       "HBox(children=(FloatProgress(value=0.0, max=79.0), HTML(value='')))"
      ]
     },
     "metadata": {},
     "output_type": "display_data"
    },
    {
     "name": "stdout",
     "output_type": "stream",
     "text": [
      "\n",
      "VALIDATION ACCURACY: 81.92 %\n",
      "BATCH 38000 of 281250 TRAIN LOSS: 1.432\n",
      "SAVING MODEL ...\n"
     ]
    },
    {
     "data": {
      "application/vnd.jupyter.widget-view+json": {
       "model_id": "c40bd6b4665a4be59bf137ba3eb559b6",
       "version_major": 2,
       "version_minor": 0
      },
      "text/plain": [
       "HBox(children=(FloatProgress(value=0.0, max=79.0), HTML(value='')))"
      ]
     },
     "metadata": {},
     "output_type": "display_data"
    },
    {
     "name": "stdout",
     "output_type": "stream",
     "text": [
      "\n",
      "VALIDATION ACCURACY: 81.97 %\n",
      "BATCH 39000 of 281250 TRAIN LOSS: 1.120\n",
      "SAVING MODEL ...\n"
     ]
    },
    {
     "data": {
      "application/vnd.jupyter.widget-view+json": {
       "model_id": "4e8616dc08e645f1a48580855548f47a",
       "version_major": 2,
       "version_minor": 0
      },
      "text/plain": [
       "HBox(children=(FloatProgress(value=0.0, max=79.0), HTML(value='')))"
      ]
     },
     "metadata": {},
     "output_type": "display_data"
    },
    {
     "name": "stdout",
     "output_type": "stream",
     "text": [
      "\n",
      "VALIDATION ACCURACY: 81.92 %\n",
      "BATCH 40000 of 281250 TRAIN LOSS: 0.994\n",
      "SAVING MODEL ...\n"
     ]
    },
    {
     "data": {
      "application/vnd.jupyter.widget-view+json": {
       "model_id": "785f0aad9c534009b22d67b9c48c5f84",
       "version_major": 2,
       "version_minor": 0
      },
      "text/plain": [
       "HBox(children=(FloatProgress(value=0.0, max=79.0), HTML(value='')))"
      ]
     },
     "metadata": {},
     "output_type": "display_data"
    },
    {
     "name": "stdout",
     "output_type": "stream",
     "text": [
      "\n",
      "VALIDATION ACCURACY: 82.13 %\n",
      "BATCH 41000 of 281250 TRAIN LOSS: 1.061\n",
      "SAVING MODEL ...\n"
     ]
    },
    {
     "data": {
      "application/vnd.jupyter.widget-view+json": {
       "model_id": "b942b5c2465c4585b290d24b962dcdf4",
       "version_major": 2,
       "version_minor": 0
      },
      "text/plain": [
       "HBox(children=(FloatProgress(value=0.0, max=79.0), HTML(value='')))"
      ]
     },
     "metadata": {},
     "output_type": "display_data"
    },
    {
     "name": "stdout",
     "output_type": "stream",
     "text": [
      "\n",
      "VALIDATION ACCURACY: 82.26 %\n",
      "BATCH 42000 of 281250 TRAIN LOSS: 1.100\n",
      "SAVING MODEL ...\n"
     ]
    },
    {
     "data": {
      "application/vnd.jupyter.widget-view+json": {
       "model_id": "ceb3f50055b7488f842cf19d0dd29697",
       "version_major": 2,
       "version_minor": 0
      },
      "text/plain": [
       "HBox(children=(FloatProgress(value=0.0, max=79.0), HTML(value='')))"
      ]
     },
     "metadata": {},
     "output_type": "display_data"
    },
    {
     "name": "stdout",
     "output_type": "stream",
     "text": [
      "\n",
      "VALIDATION ACCURACY: 81.73 %\n",
      "BATCH 43000 of 281250 TRAIN LOSS: 1.177\n",
      "SAVING MODEL ...\n"
     ]
    },
    {
     "data": {
      "application/vnd.jupyter.widget-view+json": {
       "model_id": "b593d61d658c4ec686375705f6c464c2",
       "version_major": 2,
       "version_minor": 0
      },
      "text/plain": [
       "HBox(children=(FloatProgress(value=0.0, max=79.0), HTML(value='')))"
      ]
     },
     "metadata": {},
     "output_type": "display_data"
    },
    {
     "name": "stdout",
     "output_type": "stream",
     "text": [
      "\n",
      "VALIDATION ACCURACY: 82.09 %\n",
      "BATCH 44000 of 281250 TRAIN LOSS: 1.218\n",
      "SAVING MODEL ...\n"
     ]
    },
    {
     "data": {
      "application/vnd.jupyter.widget-view+json": {
       "model_id": "73bb3289947c47cd9518974655fd165a",
       "version_major": 2,
       "version_minor": 0
      },
      "text/plain": [
       "HBox(children=(FloatProgress(value=0.0, max=79.0), HTML(value='')))"
      ]
     },
     "metadata": {},
     "output_type": "display_data"
    },
    {
     "name": "stdout",
     "output_type": "stream",
     "text": [
      "\n",
      "VALIDATION ACCURACY: 82.04 %\n",
      "BATCH 45000 of 281250 TRAIN LOSS: 0.915\n",
      "SAVING MODEL ...\n"
     ]
    },
    {
     "data": {
      "application/vnd.jupyter.widget-view+json": {
       "model_id": "bdaadf9465894f4ab1237a8bfdd4da67",
       "version_major": 2,
       "version_minor": 0
      },
      "text/plain": [
       "HBox(children=(FloatProgress(value=0.0, max=79.0), HTML(value='')))"
      ]
     },
     "metadata": {},
     "output_type": "display_data"
    },
    {
     "name": "stdout",
     "output_type": "stream",
     "text": [
      "\n",
      "VALIDATION ACCURACY: 82.22 %\n",
      "BATCH 46000 of 281250 TRAIN LOSS: 1.279\n",
      "SAVING MODEL ...\n"
     ]
    },
    {
     "data": {
      "application/vnd.jupyter.widget-view+json": {
       "model_id": "210402541c5a4c48a3f1db883c12e5c7",
       "version_major": 2,
       "version_minor": 0
      },
      "text/plain": [
       "HBox(children=(FloatProgress(value=0.0, max=79.0), HTML(value='')))"
      ]
     },
     "metadata": {},
     "output_type": "display_data"
    },
    {
     "name": "stdout",
     "output_type": "stream",
     "text": [
      "\n",
      "VALIDATION ACCURACY: 81.92 %\n",
      "BATCH 47000 of 281250 TRAIN LOSS: 1.392\n",
      "SAVING MODEL ...\n"
     ]
    },
    {
     "data": {
      "application/vnd.jupyter.widget-view+json": {
       "model_id": "1f3596e09c27440dadbd3dc5b7fcb48c",
       "version_major": 2,
       "version_minor": 0
      },
      "text/plain": [
       "HBox(children=(FloatProgress(value=0.0, max=79.0), HTML(value='')))"
      ]
     },
     "metadata": {},
     "output_type": "display_data"
    },
    {
     "name": "stdout",
     "output_type": "stream",
     "text": [
      "\n",
      "VALIDATION ACCURACY: 82.22 %\n",
      "BATCH 48000 of 281250 TRAIN LOSS: 0.809\n",
      "SAVING MODEL ...\n"
     ]
    },
    {
     "data": {
      "application/vnd.jupyter.widget-view+json": {
       "model_id": "96eb8c6b45084319b89bae22313cbddb",
       "version_major": 2,
       "version_minor": 0
      },
      "text/plain": [
       "HBox(children=(FloatProgress(value=0.0, max=79.0), HTML(value='')))"
      ]
     },
     "metadata": {},
     "output_type": "display_data"
    },
    {
     "name": "stdout",
     "output_type": "stream",
     "text": [
      "\n",
      "VALIDATION ACCURACY: 82.10 %\n",
      "BATCH 49000 of 281250 TRAIN LOSS: 1.153\n",
      "SAVING MODEL ...\n"
     ]
    },
    {
     "data": {
      "application/vnd.jupyter.widget-view+json": {
       "model_id": "d277a35963a041bbbf520336ee43a7f5",
       "version_major": 2,
       "version_minor": 0
      },
      "text/plain": [
       "HBox(children=(FloatProgress(value=0.0, max=79.0), HTML(value='')))"
      ]
     },
     "metadata": {},
     "output_type": "display_data"
    },
    {
     "name": "stdout",
     "output_type": "stream",
     "text": [
      "\n",
      "VALIDATION ACCURACY: 82.15 %\n",
      "BATCH 50000 of 281250 TRAIN LOSS: 1.507\n",
      "SAVING MODEL ...\n"
     ]
    },
    {
     "data": {
      "application/vnd.jupyter.widget-view+json": {
       "model_id": "cd10ab60a5e14d7bacc7e4205fe519a5",
       "version_major": 2,
       "version_minor": 0
      },
      "text/plain": [
       "HBox(children=(FloatProgress(value=0.0, max=79.0), HTML(value='')))"
      ]
     },
     "metadata": {},
     "output_type": "display_data"
    },
    {
     "name": "stdout",
     "output_type": "stream",
     "text": [
      "\n",
      "VALIDATION ACCURACY: 82.17 %\n",
      "BATCH 51000 of 281250 TRAIN LOSS: 1.408\n",
      "SAVING MODEL ...\n"
     ]
    },
    {
     "data": {
      "application/vnd.jupyter.widget-view+json": {
       "model_id": "029636f3bb234215b788675164dac067",
       "version_major": 2,
       "version_minor": 0
      },
      "text/plain": [
       "HBox(children=(FloatProgress(value=0.0, max=79.0), HTML(value='')))"
      ]
     },
     "metadata": {},
     "output_type": "display_data"
    },
    {
     "name": "stdout",
     "output_type": "stream",
     "text": [
      "\n",
      "VALIDATION ACCURACY: 82.21 %\n",
      "BATCH 52000 of 281250 TRAIN LOSS: 1.479\n",
      "SAVING MODEL ...\n"
     ]
    },
    {
     "data": {
      "application/vnd.jupyter.widget-view+json": {
       "model_id": "68452a07684a4f39a396b3348fc6b803",
       "version_major": 2,
       "version_minor": 0
      },
      "text/plain": [
       "HBox(children=(FloatProgress(value=0.0, max=79.0), HTML(value='')))"
      ]
     },
     "metadata": {},
     "output_type": "display_data"
    },
    {
     "name": "stdout",
     "output_type": "stream",
     "text": [
      "\n",
      "VALIDATION ACCURACY: 82.09 %\n",
      "BATCH 53000 of 281250 TRAIN LOSS: 1.069\n",
      "SAVING MODEL ...\n"
     ]
    },
    {
     "data": {
      "application/vnd.jupyter.widget-view+json": {
       "model_id": "5bff066d525544f9807d19312a9e59d2",
       "version_major": 2,
       "version_minor": 0
      },
      "text/plain": [
       "HBox(children=(FloatProgress(value=0.0, max=79.0), HTML(value='')))"
      ]
     },
     "metadata": {},
     "output_type": "display_data"
    },
    {
     "name": "stdout",
     "output_type": "stream",
     "text": [
      "\n",
      "VALIDATION ACCURACY: 82.44 %\n",
      "BATCH 54000 of 281250 TRAIN LOSS: 1.394\n",
      "SAVING MODEL ...\n"
     ]
    },
    {
     "data": {
      "application/vnd.jupyter.widget-view+json": {
       "model_id": "f1b44aa449b54c2da3da2bda1a924df3",
       "version_major": 2,
       "version_minor": 0
      },
      "text/plain": [
       "HBox(children=(FloatProgress(value=0.0, max=79.0), HTML(value='')))"
      ]
     },
     "metadata": {},
     "output_type": "display_data"
    },
    {
     "name": "stdout",
     "output_type": "stream",
     "text": [
      "\n",
      "VALIDATION ACCURACY: 82.37 %\n",
      "BATCH 55000 of 281250 TRAIN LOSS: 1.056\n",
      "SAVING MODEL ...\n"
     ]
    },
    {
     "data": {
      "application/vnd.jupyter.widget-view+json": {
       "model_id": "c0690f4d3919497790c5cc0fe2aea940",
       "version_major": 2,
       "version_minor": 0
      },
      "text/plain": [
       "HBox(children=(FloatProgress(value=0.0, max=79.0), HTML(value='')))"
      ]
     },
     "metadata": {},
     "output_type": "display_data"
    },
    {
     "name": "stdout",
     "output_type": "stream",
     "text": [
      "\n",
      "VALIDATION ACCURACY: 82.31 %\n",
      "BATCH 56000 of 281250 TRAIN LOSS: 0.862\n",
      "SAVING MODEL ...\n"
     ]
    },
    {
     "data": {
      "application/vnd.jupyter.widget-view+json": {
       "model_id": "616f8786d31541d8b394e911e7b1e3b9",
       "version_major": 2,
       "version_minor": 0
      },
      "text/plain": [
       "HBox(children=(FloatProgress(value=0.0, max=79.0), HTML(value='')))"
      ]
     },
     "metadata": {},
     "output_type": "display_data"
    },
    {
     "name": "stdout",
     "output_type": "stream",
     "text": [
      "\n",
      "VALIDATION ACCURACY: 82.28 %\n",
      "BATCH 57000 of 281250 TRAIN LOSS: 1.028\n",
      "SAVING MODEL ...\n"
     ]
    },
    {
     "data": {
      "application/vnd.jupyter.widget-view+json": {
       "model_id": "fe837851f9d24d51ae0921b03f44138c",
       "version_major": 2,
       "version_minor": 0
      },
      "text/plain": [
       "HBox(children=(FloatProgress(value=0.0, max=79.0), HTML(value='')))"
      ]
     },
     "metadata": {},
     "output_type": "display_data"
    },
    {
     "name": "stdout",
     "output_type": "stream",
     "text": [
      "\n",
      "VALIDATION ACCURACY: 82.38 %\n",
      "BATCH 58000 of 281250 TRAIN LOSS: 0.930\n",
      "SAVING MODEL ...\n"
     ]
    },
    {
     "data": {
      "application/vnd.jupyter.widget-view+json": {
       "model_id": "5529d6e85f284c0685828ff905a92dcd",
       "version_major": 2,
       "version_minor": 0
      },
      "text/plain": [
       "HBox(children=(FloatProgress(value=0.0, max=79.0), HTML(value='')))"
      ]
     },
     "metadata": {},
     "output_type": "display_data"
    },
    {
     "name": "stdout",
     "output_type": "stream",
     "text": [
      "\n",
      "VALIDATION ACCURACY: 82.38 %\n",
      "BATCH 59000 of 281250 TRAIN LOSS: 0.746\n",
      "SAVING MODEL ...\n"
     ]
    },
    {
     "data": {
      "application/vnd.jupyter.widget-view+json": {
       "model_id": "16ae57b9002b4663a0b2b0d4e366da7e",
       "version_major": 2,
       "version_minor": 0
      },
      "text/plain": [
       "HBox(children=(FloatProgress(value=0.0, max=79.0), HTML(value='')))"
      ]
     },
     "metadata": {},
     "output_type": "display_data"
    },
    {
     "name": "stdout",
     "output_type": "stream",
     "text": [
      "\n",
      "VALIDATION ACCURACY: 82.03 %\n",
      "BATCH 60000 of 281250 TRAIN LOSS: 1.759\n",
      "SAVING MODEL ...\n"
     ]
    },
    {
     "data": {
      "application/vnd.jupyter.widget-view+json": {
       "model_id": "6160f6736815418b997fdfb98e1fb770",
       "version_major": 2,
       "version_minor": 0
      },
      "text/plain": [
       "HBox(children=(FloatProgress(value=0.0, max=79.0), HTML(value='')))"
      ]
     },
     "metadata": {},
     "output_type": "display_data"
    },
    {
     "name": "stdout",
     "output_type": "stream",
     "text": [
      "\n",
      "VALIDATION ACCURACY: 82.35 %\n",
      "BATCH 61000 of 281250 TRAIN LOSS: 0.916\n",
      "SAVING MODEL ...\n"
     ]
    },
    {
     "data": {
      "application/vnd.jupyter.widget-view+json": {
       "model_id": "d4050a64376b427bb7f628d980158e70",
       "version_major": 2,
       "version_minor": 0
      },
      "text/plain": [
       "HBox(children=(FloatProgress(value=0.0, max=79.0), HTML(value='')))"
      ]
     },
     "metadata": {},
     "output_type": "display_data"
    },
    {
     "name": "stdout",
     "output_type": "stream",
     "text": [
      "\n",
      "VALIDATION ACCURACY: 82.08 %\n",
      "BATCH 62000 of 281250 TRAIN LOSS: 1.074\n",
      "SAVING MODEL ...\n"
     ]
    },
    {
     "data": {
      "application/vnd.jupyter.widget-view+json": {
       "model_id": "3c0b0b4a781149c4a8d55a3aedec0a43",
       "version_major": 2,
       "version_minor": 0
      },
      "text/plain": [
       "HBox(children=(FloatProgress(value=0.0, max=79.0), HTML(value='')))"
      ]
     },
     "metadata": {},
     "output_type": "display_data"
    },
    {
     "name": "stdout",
     "output_type": "stream",
     "text": [
      "\n",
      "VALIDATION ACCURACY: 82.47 %\n",
      "BATCH 63000 of 281250 TRAIN LOSS: 1.135\n",
      "SAVING MODEL ...\n"
     ]
    },
    {
     "data": {
      "application/vnd.jupyter.widget-view+json": {
       "model_id": "7d28b349fd944aa5920356bc0a8cd0f8",
       "version_major": 2,
       "version_minor": 0
      },
      "text/plain": [
       "HBox(children=(FloatProgress(value=0.0, max=79.0), HTML(value='')))"
      ]
     },
     "metadata": {},
     "output_type": "display_data"
    },
    {
     "name": "stdout",
     "output_type": "stream",
     "text": [
      "\n",
      "VALIDATION ACCURACY: 82.38 %\n",
      "BATCH 64000 of 281250 TRAIN LOSS: 1.153\n",
      "SAVING MODEL ...\n"
     ]
    },
    {
     "data": {
      "application/vnd.jupyter.widget-view+json": {
       "model_id": "a682bf8d5a744991901204dbb42e63e1",
       "version_major": 2,
       "version_minor": 0
      },
      "text/plain": [
       "HBox(children=(FloatProgress(value=0.0, max=79.0), HTML(value='')))"
      ]
     },
     "metadata": {},
     "output_type": "display_data"
    },
    {
     "name": "stdout",
     "output_type": "stream",
     "text": [
      "\n",
      "VALIDATION ACCURACY: 82.17 %\n",
      "BATCH 65000 of 281250 TRAIN LOSS: 1.149\n",
      "SAVING MODEL ...\n"
     ]
    },
    {
     "data": {
      "application/vnd.jupyter.widget-view+json": {
       "model_id": "8dfbc8ad542e40869cde0bb088355bc7",
       "version_major": 2,
       "version_minor": 0
      },
      "text/plain": [
       "HBox(children=(FloatProgress(value=0.0, max=79.0), HTML(value='')))"
      ]
     },
     "metadata": {},
     "output_type": "display_data"
    },
    {
     "name": "stdout",
     "output_type": "stream",
     "text": [
      "\n",
      "VALIDATION ACCURACY: 82.30 %\n",
      "BATCH 66000 of 281250 TRAIN LOSS: 1.449\n",
      "SAVING MODEL ...\n"
     ]
    },
    {
     "data": {
      "application/vnd.jupyter.widget-view+json": {
       "model_id": "5f12a2885edf48178be7e622f4e0241d",
       "version_major": 2,
       "version_minor": 0
      },
      "text/plain": [
       "HBox(children=(FloatProgress(value=0.0, max=79.0), HTML(value='')))"
      ]
     },
     "metadata": {},
     "output_type": "display_data"
    },
    {
     "name": "stdout",
     "output_type": "stream",
     "text": [
      "\n",
      "VALIDATION ACCURACY: 82.42 %\n",
      "BATCH 67000 of 281250 TRAIN LOSS: 0.978\n",
      "SAVING MODEL ...\n"
     ]
    },
    {
     "data": {
      "application/vnd.jupyter.widget-view+json": {
       "model_id": "130f8bf8d5844b8dbb98c185cb85baad",
       "version_major": 2,
       "version_minor": 0
      },
      "text/plain": [
       "HBox(children=(FloatProgress(value=0.0, max=79.0), HTML(value='')))"
      ]
     },
     "metadata": {},
     "output_type": "display_data"
    },
    {
     "name": "stdout",
     "output_type": "stream",
     "text": [
      "\n",
      "VALIDATION ACCURACY: 82.34 %\n",
      "BATCH 68000 of 281250 TRAIN LOSS: 1.172\n",
      "SAVING MODEL ...\n"
     ]
    },
    {
     "data": {
      "application/vnd.jupyter.widget-view+json": {
       "model_id": "f66d7398d78d414baf66063b4de4a2ba",
       "version_major": 2,
       "version_minor": 0
      },
      "text/plain": [
       "HBox(children=(FloatProgress(value=0.0, max=79.0), HTML(value='')))"
      ]
     },
     "metadata": {},
     "output_type": "display_data"
    },
    {
     "name": "stdout",
     "output_type": "stream",
     "text": [
      "\n",
      "VALIDATION ACCURACY: 82.50 %\n",
      "BATCH 69000 of 281250 TRAIN LOSS: 0.919\n",
      "SAVING MODEL ...\n"
     ]
    },
    {
     "data": {
      "application/vnd.jupyter.widget-view+json": {
       "model_id": "df8d0602e8de424bbf647520eb971b15",
       "version_major": 2,
       "version_minor": 0
      },
      "text/plain": [
       "HBox(children=(FloatProgress(value=0.0, max=79.0), HTML(value='')))"
      ]
     },
     "metadata": {},
     "output_type": "display_data"
    },
    {
     "name": "stdout",
     "output_type": "stream",
     "text": [
      "\n",
      "VALIDATION ACCURACY: 82.26 %\n",
      "BATCH 70000 of 281250 TRAIN LOSS: 1.256\n",
      "SAVING MODEL ...\n"
     ]
    },
    {
     "data": {
      "application/vnd.jupyter.widget-view+json": {
       "model_id": "b31858d8f2b04f69aacfb4dbe8909e06",
       "version_major": 2,
       "version_minor": 0
      },
      "text/plain": [
       "HBox(children=(FloatProgress(value=0.0, max=79.0), HTML(value='')))"
      ]
     },
     "metadata": {},
     "output_type": "display_data"
    },
    {
     "name": "stdout",
     "output_type": "stream",
     "text": [
      "\n",
      "VALIDATION ACCURACY: 82.63 %\n",
      "BATCH 71000 of 281250 TRAIN LOSS: 0.966\n",
      "SAVING MODEL ...\n"
     ]
    },
    {
     "data": {
      "application/vnd.jupyter.widget-view+json": {
       "model_id": "91681f6ed2f74a4eb50cea06d9218037",
       "version_major": 2,
       "version_minor": 0
      },
      "text/plain": [
       "HBox(children=(FloatProgress(value=0.0, max=79.0), HTML(value='')))"
      ]
     },
     "metadata": {},
     "output_type": "display_data"
    },
    {
     "name": "stdout",
     "output_type": "stream",
     "text": [
      "\n",
      "VALIDATION ACCURACY: 82.39 %\n",
      "BATCH 72000 of 281250 TRAIN LOSS: 1.050\n",
      "SAVING MODEL ...\n"
     ]
    },
    {
     "data": {
      "application/vnd.jupyter.widget-view+json": {
       "model_id": "f7a5efc614604b8686bbd009a4c735a6",
       "version_major": 2,
       "version_minor": 0
      },
      "text/plain": [
       "HBox(children=(FloatProgress(value=0.0, max=79.0), HTML(value='')))"
      ]
     },
     "metadata": {},
     "output_type": "display_data"
    },
    {
     "name": "stdout",
     "output_type": "stream",
     "text": [
      "\n",
      "VALIDATION ACCURACY: 82.55 %\n",
      "BATCH 73000 of 281250 TRAIN LOSS: 1.002\n",
      "SAVING MODEL ...\n"
     ]
    },
    {
     "data": {
      "application/vnd.jupyter.widget-view+json": {
       "model_id": "d1060c56a56847f984d9a37c8bad3dc0",
       "version_major": 2,
       "version_minor": 0
      },
      "text/plain": [
       "HBox(children=(FloatProgress(value=0.0, max=79.0), HTML(value='')))"
      ]
     },
     "metadata": {},
     "output_type": "display_data"
    },
    {
     "name": "stdout",
     "output_type": "stream",
     "text": [
      "\n",
      "VALIDATION ACCURACY: 82.61 %\n",
      "BATCH 74000 of 281250 TRAIN LOSS: 0.989\n",
      "SAVING MODEL ...\n"
     ]
    },
    {
     "data": {
      "application/vnd.jupyter.widget-view+json": {
       "model_id": "116d1e560eef432ab651aede40494d84",
       "version_major": 2,
       "version_minor": 0
      },
      "text/plain": [
       "HBox(children=(FloatProgress(value=0.0, max=79.0), HTML(value='')))"
      ]
     },
     "metadata": {},
     "output_type": "display_data"
    },
    {
     "name": "stdout",
     "output_type": "stream",
     "text": [
      "\n",
      "VALIDATION ACCURACY: 82.39 %\n",
      "BATCH 75000 of 281250 TRAIN LOSS: 0.928\n",
      "SAVING MODEL ...\n"
     ]
    },
    {
     "data": {
      "application/vnd.jupyter.widget-view+json": {
       "model_id": "5daf74f3fd0a46f38eb8e94978835b5c",
       "version_major": 2,
       "version_minor": 0
      },
      "text/plain": [
       "HBox(children=(FloatProgress(value=0.0, max=79.0), HTML(value='')))"
      ]
     },
     "metadata": {},
     "output_type": "display_data"
    },
    {
     "name": "stdout",
     "output_type": "stream",
     "text": [
      "\n",
      "VALIDATION ACCURACY: 82.57 %\n",
      "BATCH 76000 of 281250 TRAIN LOSS: 0.992\n",
      "SAVING MODEL ...\n"
     ]
    },
    {
     "data": {
      "application/vnd.jupyter.widget-view+json": {
       "model_id": "d34db181bdee47e5b32ef9b9dfcd98ef",
       "version_major": 2,
       "version_minor": 0
      },
      "text/plain": [
       "HBox(children=(FloatProgress(value=0.0, max=79.0), HTML(value='')))"
      ]
     },
     "metadata": {},
     "output_type": "display_data"
    },
    {
     "name": "stdout",
     "output_type": "stream",
     "text": [
      "\n",
      "VALIDATION ACCURACY: 82.50 %\n",
      "BATCH 77000 of 281250 TRAIN LOSS: 1.188\n",
      "SAVING MODEL ...\n"
     ]
    },
    {
     "data": {
      "application/vnd.jupyter.widget-view+json": {
       "model_id": "2097567fb32e4a609763dee2bc9fb1ac",
       "version_major": 2,
       "version_minor": 0
      },
      "text/plain": [
       "HBox(children=(FloatProgress(value=0.0, max=79.0), HTML(value='')))"
      ]
     },
     "metadata": {},
     "output_type": "display_data"
    },
    {
     "name": "stdout",
     "output_type": "stream",
     "text": [
      "\n",
      "VALIDATION ACCURACY: 82.76 %\n",
      "BATCH 78000 of 281250 TRAIN LOSS: 1.022\n",
      "SAVING MODEL ...\n"
     ]
    },
    {
     "data": {
      "application/vnd.jupyter.widget-view+json": {
       "model_id": "17e0ab4aca69474e9f0b6308cf88834a",
       "version_major": 2,
       "version_minor": 0
      },
      "text/plain": [
       "HBox(children=(FloatProgress(value=0.0, max=79.0), HTML(value='')))"
      ]
     },
     "metadata": {},
     "output_type": "display_data"
    },
    {
     "name": "stdout",
     "output_type": "stream",
     "text": [
      "\n",
      "VALIDATION ACCURACY: 82.49 %\n",
      "BATCH 79000 of 281250 TRAIN LOSS: 0.684\n",
      "SAVING MODEL ...\n"
     ]
    },
    {
     "data": {
      "application/vnd.jupyter.widget-view+json": {
       "model_id": "285d7f49cb15413794633b5be7a0aa95",
       "version_major": 2,
       "version_minor": 0
      },
      "text/plain": [
       "HBox(children=(FloatProgress(value=0.0, max=79.0), HTML(value='')))"
      ]
     },
     "metadata": {},
     "output_type": "display_data"
    },
    {
     "name": "stdout",
     "output_type": "stream",
     "text": [
      "\n",
      "VALIDATION ACCURACY: 82.57 %\n",
      "BATCH 80000 of 281250 TRAIN LOSS: 1.094\n",
      "SAVING MODEL ...\n"
     ]
    },
    {
     "data": {
      "application/vnd.jupyter.widget-view+json": {
       "model_id": "ac1ee8102563428985d771c1a60f24f5",
       "version_major": 2,
       "version_minor": 0
      },
      "text/plain": [
       "HBox(children=(FloatProgress(value=0.0, max=79.0), HTML(value='')))"
      ]
     },
     "metadata": {},
     "output_type": "display_data"
    },
    {
     "name": "stdout",
     "output_type": "stream",
     "text": [
      "\n",
      "VALIDATION ACCURACY: 82.71 %\n",
      "BATCH 81000 of 281250 TRAIN LOSS: 0.934\n",
      "SAVING MODEL ...\n"
     ]
    },
    {
     "data": {
      "application/vnd.jupyter.widget-view+json": {
       "model_id": "5ba6c3fb1e8a4def8726f665f028078f",
       "version_major": 2,
       "version_minor": 0
      },
      "text/plain": [
       "HBox(children=(FloatProgress(value=0.0, max=79.0), HTML(value='')))"
      ]
     },
     "metadata": {},
     "output_type": "display_data"
    },
    {
     "name": "stdout",
     "output_type": "stream",
     "text": [
      "\n",
      "VALIDATION ACCURACY: 82.74 %\n",
      "BATCH 82000 of 281250 TRAIN LOSS: 0.998\n",
      "SAVING MODEL ...\n"
     ]
    },
    {
     "data": {
      "application/vnd.jupyter.widget-view+json": {
       "model_id": "2474b7073f754b4ea0f916e98becc87f",
       "version_major": 2,
       "version_minor": 0
      },
      "text/plain": [
       "HBox(children=(FloatProgress(value=0.0, max=79.0), HTML(value='')))"
      ]
     },
     "metadata": {},
     "output_type": "display_data"
    },
    {
     "name": "stdout",
     "output_type": "stream",
     "text": [
      "\n",
      "VALIDATION ACCURACY: 82.71 %\n",
      "BATCH 83000 of 281250 TRAIN LOSS: 1.090\n",
      "SAVING MODEL ...\n"
     ]
    },
    {
     "data": {
      "application/vnd.jupyter.widget-view+json": {
       "model_id": "3ebc7dad569d4b7bb542f54775ec1bb5",
       "version_major": 2,
       "version_minor": 0
      },
      "text/plain": [
       "HBox(children=(FloatProgress(value=0.0, max=79.0), HTML(value='')))"
      ]
     },
     "metadata": {},
     "output_type": "display_data"
    },
    {
     "name": "stdout",
     "output_type": "stream",
     "text": [
      "\n",
      "VALIDATION ACCURACY: 82.54 %\n",
      "BATCH 84000 of 281250 TRAIN LOSS: 1.222\n",
      "SAVING MODEL ...\n"
     ]
    },
    {
     "data": {
      "application/vnd.jupyter.widget-view+json": {
       "model_id": "a24211466cac4514b6dfb95cdb4f0902",
       "version_major": 2,
       "version_minor": 0
      },
      "text/plain": [
       "HBox(children=(FloatProgress(value=0.0, max=79.0), HTML(value='')))"
      ]
     },
     "metadata": {},
     "output_type": "display_data"
    },
    {
     "name": "stdout",
     "output_type": "stream",
     "text": [
      "\n",
      "VALIDATION ACCURACY: 82.36 %\n",
      "BATCH 85000 of 281250 TRAIN LOSS: 1.281\n",
      "SAVING MODEL ...\n"
     ]
    },
    {
     "data": {
      "application/vnd.jupyter.widget-view+json": {
       "model_id": "ed05958a7f0640ad98d1d9029e5eea75",
       "version_major": 2,
       "version_minor": 0
      },
      "text/plain": [
       "HBox(children=(FloatProgress(value=0.0, max=79.0), HTML(value='')))"
      ]
     },
     "metadata": {},
     "output_type": "display_data"
    },
    {
     "name": "stdout",
     "output_type": "stream",
     "text": [
      "\n",
      "VALIDATION ACCURACY: 82.58 %\n",
      "BATCH 86000 of 281250 TRAIN LOSS: 1.227\n",
      "SAVING MODEL ...\n"
     ]
    },
    {
     "data": {
      "application/vnd.jupyter.widget-view+json": {
       "model_id": "ae40f678fa7d4ca88584a436d999500e",
       "version_major": 2,
       "version_minor": 0
      },
      "text/plain": [
       "HBox(children=(FloatProgress(value=0.0, max=79.0), HTML(value='')))"
      ]
     },
     "metadata": {},
     "output_type": "display_data"
    },
    {
     "name": "stdout",
     "output_type": "stream",
     "text": [
      "\n",
      "VALIDATION ACCURACY: 82.71 %\n",
      "BATCH 87000 of 281250 TRAIN LOSS: 0.917\n",
      "SAVING MODEL ...\n"
     ]
    },
    {
     "data": {
      "application/vnd.jupyter.widget-view+json": {
       "model_id": "86bf0f90d19a4b7e88c768d7c33f859d",
       "version_major": 2,
       "version_minor": 0
      },
      "text/plain": [
       "HBox(children=(FloatProgress(value=0.0, max=79.0), HTML(value='')))"
      ]
     },
     "metadata": {},
     "output_type": "display_data"
    },
    {
     "name": "stdout",
     "output_type": "stream",
     "text": [
      "\n",
      "VALIDATION ACCURACY: 82.75 %\n",
      "BATCH 88000 of 281250 TRAIN LOSS: 0.874\n",
      "SAVING MODEL ...\n"
     ]
    },
    {
     "data": {
      "application/vnd.jupyter.widget-view+json": {
       "model_id": "02a18b15fb9e4ce59ef24c98dd5b954b",
       "version_major": 2,
       "version_minor": 0
      },
      "text/plain": [
       "HBox(children=(FloatProgress(value=0.0, max=79.0), HTML(value='')))"
      ]
     },
     "metadata": {},
     "output_type": "display_data"
    },
    {
     "name": "stdout",
     "output_type": "stream",
     "text": [
      "\n",
      "VALIDATION ACCURACY: 82.57 %\n",
      "BATCH 89000 of 281250 TRAIN LOSS: 1.266\n",
      "SAVING MODEL ...\n"
     ]
    },
    {
     "data": {
      "application/vnd.jupyter.widget-view+json": {
       "model_id": "03c3f94bb4714ed686951c81e31049fa",
       "version_major": 2,
       "version_minor": 0
      },
      "text/plain": [
       "HBox(children=(FloatProgress(value=0.0, max=79.0), HTML(value='')))"
      ]
     },
     "metadata": {},
     "output_type": "display_data"
    },
    {
     "name": "stdout",
     "output_type": "stream",
     "text": [
      "\n",
      "VALIDATION ACCURACY: 82.52 %\n",
      "BATCH 90000 of 281250 TRAIN LOSS: 1.242\n",
      "SAVING MODEL ...\n"
     ]
    },
    {
     "data": {
      "application/vnd.jupyter.widget-view+json": {
       "model_id": "7b90fce767c541c2a8ded3bb527b1727",
       "version_major": 2,
       "version_minor": 0
      },
      "text/plain": [
       "HBox(children=(FloatProgress(value=0.0, max=79.0), HTML(value='')))"
      ]
     },
     "metadata": {},
     "output_type": "display_data"
    },
    {
     "name": "stdout",
     "output_type": "stream",
     "text": [
      "\n",
      "VALIDATION ACCURACY: 82.49 %\n",
      "BATCH 91000 of 281250 TRAIN LOSS: 0.827\n",
      "SAVING MODEL ...\n"
     ]
    },
    {
     "data": {
      "application/vnd.jupyter.widget-view+json": {
       "model_id": "1c9dbc9ec46b47a184f10fd57f2a2840",
       "version_major": 2,
       "version_minor": 0
      },
      "text/plain": [
       "HBox(children=(FloatProgress(value=0.0, max=79.0), HTML(value='')))"
      ]
     },
     "metadata": {},
     "output_type": "display_data"
    },
    {
     "name": "stdout",
     "output_type": "stream",
     "text": [
      "\n",
      "VALIDATION ACCURACY: 82.69 %\n"
     ]
    }
   ],
   "source": [
    "# if os.path.exists('checkpoint.pt'):\n",
    "#     model.load_state_dict(torch.load('checkpoint.pt'))\n",
    "#     model.to(DEVICE)\n",
    "# else:\n",
    " \n",
    "\n",
    "for e in range(hyperparams['num_epochs']):\n",
    "    print('******* EPOCH %d / %d ********' % (e+1, hyperparams['num_epochs']))\n",
    "    finetune(model, train_loader)"
   ]
  },
  {
   "cell_type": "code",
   "execution_count": 85,
   "metadata": {
    "collapsed": true,
    "jupyter": {
     "outputs_hidden": true
    }
   },
   "outputs": [
    {
     "data": {
      "application/vnd.jupyter.widget-view+json": {
       "model_id": "9e1a7cd1178c4e5faed809b5aaf852db",
       "version_major": 2,
       "version_minor": 0
      },
      "text/plain": [
       "HBox(children=(FloatProgress(value=0.0, max=281250.0), HTML(value='')))"
      ]
     },
     "metadata": {},
     "output_type": "display_data"
    },
    {
     "name": "stdout",
     "output_type": "stream",
     "text": [
      "0 {'inputs': tensor([[   2, 2366, 5678,  ...,    1,    1,    1],\n",
      "        [   2,  733, 6022,  ...,    1,    1,    1],\n",
      "        [   2, 3941, 7172,  ...,    1,    1,    1],\n",
      "        ...,\n",
      "        [   2,  517, 6618,  ...,    1,    1,    1],\n",
      "        [   2, 3471, 6954,  ...,    1,    1,    1],\n",
      "        [   2, 3123, 7086,  ...,    1,    1,    1]]), 'labels': tensor([0, 4, 7, 8, 9, 9, 9, 9, 8, 9, 7, 7, 9, 8, 9, 6, 7, 9, 9, 8, 9, 9, 8, 4,\n",
      "        9, 7, 8, 5, 4, 0, 9, 7]), 'length': tensor([24, 61, 10, 66, 28, 10, 10, 29, 21, 21,  4, 17,  9, 33, 10, 22,  9,  9,\n",
      "         9, 21, 13,  5, 32, 19, 17, 10, 12, 26, 15, 19, 24, 29])}\n",
      "1 {'inputs': tensor([[   2, 3533, 7170,  ...,    1,    1,    1],\n",
      "        [   2, 3394, 7724,  ...,    1,    1,    1],\n",
      "        [   2,  517,    0,  ...,    1,    1,    1],\n",
      "        ...,\n",
      "        [   2, 2293, 7096,  ...,    1,    1,    1],\n",
      "        [   2, 3461,  517,  ...,    1,    1,    1],\n",
      "        [   2, 3759, 7095,  ...,    1,    1,    1]]), 'labels': tensor([9, 7, 7, 9, 9, 7, 9, 9, 9, 6, 9, 4, 7, 1, 5, 7, 8, 6, 9, 8, 6, 7, 0, 9,\n",
      "        3, 9, 6, 0, 9, 5, 9, 8]), 'length': tensor([15, 14, 13, 18, 11, 31, 23, 13, 19, 12, 98,  6, 25, 65, 18, 45, 22, 35,\n",
      "         8, 15, 39, 21, 26, 33, 12, 20, 18, 15, 16, 41, 34, 21])}\n",
      "2 {'inputs': tensor([[   2, 1917, 7096,  ...,    1,    1,    1],\n",
      "        [   2,  517, 6079,  ...,    1,    1,    1],\n",
      "        [   2, 2929, 7774,  ...,    1,    1,    1],\n",
      "        ...,\n",
      "        [   2, 3701, 7103,  ...,    1,    1,    1],\n",
      "        [   2, 2358, 6160,  ...,    1,    1,    1],\n",
      "        [   2, 3978, 5842,  ...,    1,    1,    1]]), 'labels': tensor([9, 9, 9, 9, 9, 9, 9, 9, 9, 9, 9, 9, 6, 8, 9, 0, 6, 4, 4, 0, 9, 3, 0, 7,\n",
      "        0, 9, 0, 7, 9, 4, 9, 9]), 'length': tensor([12, 13, 10, 17, 21, 17, 13, 18, 27, 21, 10, 29,  9, 16, 25, 33, 17, 29,\n",
      "        11, 17,  5, 11, 28, 26, 22,  6, 18,  5, 27, 28, 10,  6])}\n",
      "3 {'inputs': tensor([[   2, 2366, 3977,  ...,    1,    1,    1],\n",
      "        [   2,  517, 7753,  ...,    1,    1,    1],\n",
      "        [   2, 2417, 6150,  ...,    1,    1,    1],\n",
      "        ...,\n",
      "        [   2, 4773, 6095,  ...,    1,    1,    1],\n",
      "        [   2, 2292, 6273,  ...,    1,    1,    1],\n",
      "        [   2, 1730, 3093,  ...,    1,    1,    1]]), 'labels': tensor([9, 9, 9, 9, 9, 8, 9, 9, 8, 9, 6, 9, 9, 9, 9, 9, 9, 8, 8, 8, 9, 8, 9, 5,\n",
      "        0, 9, 9, 7, 4, 0, 5, 0]), 'length': tensor([ 7, 29,  7, 18, 15, 34, 12, 27, 28, 43, 29, 12,  6, 12, 10, 64, 19, 49,\n",
      "         9, 17, 22, 17, 32, 53, 23, 19,  8,  9, 21, 35, 20, 13])}\n",
      "4 {'inputs': tensor([[   2, 3672, 3394,  ...,    1,    1,    1],\n",
      "        [   2, 3942, 1940,  ...,    1,    1,    1],\n",
      "        [   2,  517, 6473,  ...,    1,    1,    1],\n",
      "        ...,\n",
      "        [   2, 4128, 5330,  ...,    1,    1,    1],\n",
      "        [   2,  517, 7058,  ...,    1,    1,    1],\n",
      "        [   2, 3941, 7119,  ...,    1,    1,    1]]), 'labels': tensor([9, 6, 5, 9, 8, 8, 9, 6, 9, 9, 0, 9, 8, 9, 7, 7, 9, 2, 9, 9, 7, 9, 9, 8,\n",
      "        4, 7, 9, 0, 6, 9, 4, 8]), 'length': tensor([20, 32, 15, 24, 19, 13, 11, 82, 22, 22, 34, 32, 23, 17, 33, 21, 12, 18,\n",
      "         8, 30, 24, 13, 19, 23, 65, 14, 14, 38, 22, 14, 12, 26])}\n",
      "5 {'inputs': tensor([[   2, 2707, 6158,  ...,    1,    1,    1],\n",
      "        [   2, 3647, 3394,  ...,    1,    1,    1],\n",
      "        [   2, 3129, 3135,  ...,    1,    1,    1],\n",
      "        ...,\n",
      "        [   2, 3423, 6150,  ...,    1,    1,    1],\n",
      "        [   2, 2008, 6615,  ...,    1,    1,    1],\n",
      "        [   2, 1650, 5940,  ...,    1,    1,    1]]), 'labels': tensor([6, 9, 9, 9, 0, 6, 0, 7, 5, 8, 6, 5, 9, 0, 9, 4, 9, 0, 9, 7, 6, 9, 9, 1,\n",
      "        9, 9, 0, 8, 9, 8, 8, 5]), 'length': tensor([12, 24, 15, 55, 12, 13, 15, 12, 14, 20, 15, 23,  6, 29, 21, 32, 45, 13,\n",
      "        59, 13, 15, 20, 14, 15, 61,  9,  4, 21, 18, 32, 24, 28])}\n",
      "6 {'inputs': tensor([[   2, 2293, 7095,  ...,    1,    1,    1],\n",
      "        [   2,  529,  162,  ...,    1,    1,    1],\n",
      "        [   2, 4102, 7191,  ...,    1,    1,    1],\n",
      "        ...,\n",
      "        [   2, 3628, 6983,  ...,    1,    1,    1],\n",
      "        [   2, 2846, 6983,  ...,    1,    1,    1],\n",
      "        [   2, 4506, 6398,  ...,    1,    1,    1]]), 'labels': tensor([9, 0, 9, 9, 0, 9, 9, 6, 9, 0, 9, 4, 9, 1, 9, 7, 9, 9, 9, 9, 9, 9, 0, 8,\n",
      "        9, 9, 8, 9, 9, 8, 7, 9]), 'length': tensor([20, 24, 26,  9, 28, 55, 76, 11,  7, 28, 20, 48, 15, 22, 11, 12, 12, 11,\n",
      "        26, 27,  7, 58, 21, 22,  7, 14, 15, 30, 36, 15, 18, 26])}\n",
      "7 {'inputs': tensor([[   2, 4102, 7227,  ...,    1,    1,    1],\n",
      "        [   2, 1185, 6039,  ...,    1,    1,    1],\n",
      "        [   2, 4128, 6217,  ...,    1,    1,    1],\n",
      "        ...,\n",
      "        [   2, 1435, 6383,  ...,    1,    1,    1],\n",
      "        [   2, 4522, 5782,  ...,    1,    1,    1],\n",
      "        [   2, 4841, 7096,  ...,    1,    1,    1]]), 'labels': tensor([9, 6, 0, 9, 9, 9, 9, 0, 9, 0, 7, 9, 7, 2, 9, 9, 9, 5, 0, 7, 8, 9, 0, 9,\n",
      "        9, 9, 9, 9, 6, 0, 9, 9]), 'length': tensor([42,  6, 15, 95, 12, 44, 20, 11, 14, 10, 32, 13, 10, 14, 17, 10, 15, 27,\n",
      "        32, 35, 15, 45, 15, 21, 10, 16, 18, 16, 17,  7, 22, 29])}\n",
      "8 {'inputs': tensor([[   2, 4628, 7096,  ...,    1,    1,    1],\n",
      "        [   2, 4102, 3969,  ...,    1,    1,    1],\n",
      "        [   2, 1189, 1434,  ...,    1,    1,    1],\n",
      "        ...,\n",
      "        [   2, 1458, 7357,  ...,    1,    1,    1],\n",
      "        [   2, 3327, 2926,  ...,    1,    1,    1],\n",
      "        [   2, 2417, 6150,  ...,    1,    1,    1]]), 'labels': tensor([8, 9, 9, 9, 7, 4, 7, 6, 9, 8, 8, 9, 9, 2, 9, 8, 8, 9, 9, 0, 5, 0, 7, 9,\n",
      "        9, 4, 7, 9, 9, 0, 9, 8]), 'length': tensor([46, 23, 87, 13, 23, 20, 12, 33, 26, 79, 16, 27, 13, 24, 23, 31, 17, 14,\n",
      "        27, 17, 14, 50, 16,  7, 24,  7, 24, 29,  9, 10, 10, 12])}\n",
      "9 {'inputs': tensor([[   2, 3341,   46,  ...,    1,    1,    1],\n",
      "        [   2, 2573, 6003,  ...,    1,    1,    1],\n",
      "        [   2, 4368,  777,  ...,    1,    1,    1],\n",
      "        ...,\n",
      "        [   2, 3969, 6269,  ...,    1,    1,    1],\n",
      "        [   2, 1370,  517,  ...,    1,    1,    1],\n",
      "        [   2, 4164, 4297,  ...,    1,    1,    1]]), 'labels': tensor([9, 6, 9, 9, 0, 9, 9, 0, 9, 7, 9, 9, 9, 0, 9, 8, 9, 7, 9, 9, 9, 9, 0, 9,\n",
      "        8, 0, 6, 9, 7, 9, 8, 9]), 'length': tensor([20, 34, 11, 13, 33, 15, 39, 11, 12, 23,  7, 28, 26, 34, 12, 11, 35, 22,\n",
      "        35, 17, 28, 26, 45,  9, 28, 22, 11, 20, 82, 11, 28, 17])}\n",
      "10 {'inputs': tensor([[   2,  517, 5468,  ...,    1,    1,    1],\n",
      "        [   2, 2966, 5760,  ...,    1,    1,    1],\n",
      "        [   2, 2267, 5550,  ...,    1,    1,    1],\n",
      "        ...,\n",
      "        [   2, 5090, 6424,  ...,    1,    1,    1],\n",
      "        [   2, 1917, 1833,  ...,    1,    1,    1],\n",
      "        [   2, 4368, 2822,  ...,    1,    1,    1]]), 'labels': tensor([5, 7, 9, 0, 0, 7, 8, 0, 9, 9, 8, 8, 0, 6, 0, 4, 7, 9, 5, 9, 7, 8, 8, 1,\n",
      "        9, 0, 9, 7, 7, 8, 9, 9]), 'length': tensor([19, 20, 15, 22, 27, 10, 24, 68, 26, 15, 31,  8, 28,  6, 30,  7, 14, 12,\n",
      "        29, 17, 27, 68, 17, 56, 25,  6, 20, 34, 19, 16,  8, 12])}\n",
      "11 {'inputs': tensor([[   2, 2734, 5872,  ...,    1,    1,    1],\n",
      "        [   2, 1189, 3626,  ...,    1,    1,    1],\n",
      "        [   2, 1267, 5330,  ...,    1,    1,    1],\n",
      "        ...,\n",
      "        [   2, 2417, 5966,  ...,    1,    1,    1],\n",
      "        [   2, 2423, 7697,  ...,    1,    1,    1],\n",
      "        [   2, 4368,    0,  ...,    1,    1,    1]]), 'labels': tensor([0, 9, 0, 0, 8, 4, 8, 4, 0, 9, 9, 6, 9, 8, 0, 9, 9, 9, 9, 7, 9, 0, 5, 5,\n",
      "        9, 2, 6, 9, 0, 5, 6, 9]), 'length': tensor([ 5, 25, 84, 17, 35, 29, 19,  8, 22, 66, 12, 82, 47,  9, 19, 19,  7, 10,\n",
      "        19, 41, 20, 22,  5, 56, 21, 75, 29, 14, 26, 45, 32, 17])}\n",
      "12 {'inputs': tensor([[   2, 1907, 7096,  ...,    1,    1,    1],\n",
      "        [   2, 1773, 6328,  ...,    1,    1,    1],\n",
      "        [   2, 3691, 6787,  ...,    1,    1,    1],\n",
      "        ...,\n",
      "        [   2, 4299, 6395,  ...,    1,    1,    1],\n",
      "        [   2, 4524, 3194,  ...,    1,    1,    1],\n",
      "        [   2, 3439, 5920,  ...,    1,    1,    1]]), 'labels': tensor([4, 0, 8, 6, 9, 6, 9, 9, 5, 9, 9, 9, 6, 2, 9, 4, 1, 9, 7, 1, 9, 9, 9, 0,\n",
      "        6, 9, 9, 6, 5, 9, 9, 6]), 'length': tensor([16, 13, 19, 21, 13, 11, 20, 13, 49, 12, 16, 25, 15, 12, 21, 14, 16,  7,\n",
      "        16, 19, 16, 24, 31,  7, 11, 26,  6, 21, 12, 29, 13, 14])}\n",
      "13 {'inputs': tensor([[   2,  589,  388,  ...,    1,    1,    1],\n",
      "        [   2, 2941, 5330,  ...,    1,    1,    1],\n",
      "        [   2, 1830, 7310,  ...,    1,    1,    1],\n",
      "        ...,\n",
      "        [   2, 2929, 7715,  ...,    1,    1,    1],\n",
      "        [   2,  517, 6770,  ...,    1,    1,    1],\n",
      "        [   2, 2633, 4894,  ...,    1,    1,    1]]), 'labels': tensor([9, 1, 9, 9, 0, 7, 9, 9, 9, 9, 6, 9, 7, 9, 0, 6, 9, 0, 8, 8, 9, 7, 9, 9,\n",
      "        4, 9, 0, 9, 0, 9, 6, 6]), 'length': tensor([13, 34, 50, 18, 20, 67, 13, 15, 51, 18,  7, 12, 34, 18,  9, 18, 15, 13,\n",
      "        15,  3, 29, 19, 28, 59, 37, 36, 12, 13, 15, 15, 12, 14])}\n",
      "14 {'inputs': tensor([[   2,  517, 6476,  ...,    1,    1,    1],\n",
      "        [   2, 1221, 5850,  ...,    1,    1,    1],\n",
      "        [   2, 2348, 7088,  ...,    1,    1,    1],\n",
      "        ...,\n",
      "        [   2, 1347, 2355,  ...,    1,    1,    1],\n",
      "        [   2, 3978, 5400,  ...,    1,    1,    1],\n",
      "        [   2, 3093, 3672,  ...,    1,    1,    1]]), 'labels': tensor([0, 6, 8, 9, 9, 8, 9, 9, 6, 9, 9, 9, 9, 0, 9, 8, 9, 6, 6, 4, 9, 9, 9, 9,\n",
      "        9, 9, 9, 9, 9, 9, 8, 8]), 'length': tensor([22, 16, 20, 10,  7,  9, 31, 12, 28, 84, 29,  8, 10,  3, 48, 22,  8, 11,\n",
      "        26, 64, 10, 15, 15, 17, 30, 12, 36, 17, 33,  7, 15, 19])}\n",
      "15 {'inputs': tensor([[   2, 1907, 6141,  ...,    1,    1,    1],\n",
      "        [   2,  517, 6983,  ...,    1,    1,    1],\n",
      "        [   2,  517,    0,  ...,    1,    1,    1],\n",
      "        ...,\n",
      "        [   2, 2701, 6896,  ...,    1,    1,    1],\n",
      "        [   2, 4501, 5944,  ...,    1,    1,    1],\n",
      "        [   2, 3969, 6269,  ...,    1,    1,    1]]), 'labels': tensor([9, 9, 8, 3, 9, 7, 9, 0, 9, 8, 9, 9, 9, 9, 9, 7, 9, 6, 9, 6, 7, 4, 9, 9,\n",
      "        9, 9, 9, 9, 9, 8, 2, 8]), 'length': tensor([ 8, 33, 11, 27, 20, 30, 15, 30, 18, 28, 28, 10, 20,  9, 25, 26, 18, 30,\n",
      "        22, 26, 23, 23, 17, 10, 20, 26, 15,  9,  8, 17, 12, 21])}\n",
      "16 {'inputs': tensor([[   2, 4949, 6903,  ...,    1,    1,    1],\n",
      "        [   2, 4102, 3969,  ...,    1,    1,    1],\n",
      "        [   2,  517,    0,  ...,    1,    1,    1],\n",
      "        ...,\n",
      "        [   2,  517, 6188,  ...,    1,    1,    1],\n",
      "        [   2, 1986, 5640,  ...,    1,    1,    1],\n",
      "        [   2, 4368, 3647,  ...,    1,    1,    1]]), 'labels': tensor([9, 9, 9, 9, 8, 6, 4, 9, 9, 9, 6, 5, 0, 9, 8, 8, 9, 9, 0, 9, 8, 9, 9, 9,\n",
      "        6, 9, 9, 7, 9, 9, 7, 9]), 'length': tensor([96, 15, 16, 21, 42, 25, 23, 37, 27, 18,  7, 13, 14, 12, 19, 30,  5,  4,\n",
      "        27, 81, 19, 20, 16, 36, 34,  4, 11, 22, 50, 16, 23, 23])}\n",
      "17 {'inputs': tensor([[   2, 2235, 6824,  ...,    1,    1,    1],\n",
      "        [   2, 4522,    0,  ...,    1,    1,    1],\n",
      "        [   2, 2358, 1861,  ...,    1,    1,    1],\n",
      "        ...,\n",
      "        [   2, 4063, 7206,  ...,    1,    1,    1],\n",
      "        [   2, 4368, 5521,  ...,    1,    1,    1],\n",
      "        [   2, 3342,  517,  ...,    1,    1,    1]]), 'labels': tensor([0, 9, 9, 5, 9, 7, 7, 8, 9, 7, 8, 9, 8, 8, 0, 9, 9, 0, 2, 9, 9, 9, 9, 9,\n",
      "        9, 9, 9, 7, 9, 5, 4, 9]), 'length': tensor([13,  9, 12, 24, 13,  9, 13, 26,  7, 30, 25,  6, 37, 19, 16, 19, 17, 16,\n",
      "         8, 16, 13, 34, 29, 10, 32, 10, 24, 26, 15, 18, 16, 14])}\n",
      "18 {'inputs': tensor([[   2,  517, 7368,  ...,    1,    1,    1],\n",
      "        [   2, 2604, 7206,  ...,    1,    1,    1],\n",
      "        [   2, 1721, 7227,  ...,    1,    1,    1],\n",
      "        ...,\n",
      "        [   2, 4368, 7968,  ...,    1,    1,    1],\n",
      "        [   2, 3111, 6542,  ...,    1,    1,    1],\n",
      "        [   2, 4522,  524,  ...,    1,    1,    1]]), 'labels': tensor([9, 5, 2, 7, 9, 7, 9, 9, 9, 0, 9, 9, 8, 6, 9, 7, 7, 8, 9, 9, 5, 9, 9, 9,\n",
      "        3, 9, 9, 9, 9, 9, 7, 9]), 'length': tensor([ 5, 19, 33, 57, 15, 17, 33, 10, 22, 24, 36, 20, 71, 16, 18, 24, 11, 19,\n",
      "        32, 23, 17, 22, 10,  8, 25, 10, 11, 25, 24, 28, 11,  8])}\n",
      "19 {'inputs': tensor([[   2, 3394, 5330,  ...,    1,    1,    1],\n",
      "        [   2, 1889, 7836,  ...,    1,    1,    1],\n",
      "        [   2, 3498, 6992,  ...,    1,    1,    1],\n",
      "        ...,\n",
      "        [   2, 3759, 7203,  ...,    1,    1,    1],\n",
      "        [   2, 4162, 7119,  ...,    1,    1,    1],\n",
      "        [   2, 3486, 7794,  ...,    1,    1,    1]]), 'labels': tensor([9, 7, 8, 5, 9, 1, 9, 9, 8, 5, 9, 8, 0, 9, 9, 0, 7, 9, 9, 9, 9, 9, 4, 8,\n",
      "        1, 8, 0, 9, 9, 0, 9, 8]), 'length': tensor([28, 15, 32, 28, 27, 17, 19,  9, 23, 40,  9, 23, 28, 11, 22, 11, 23, 64,\n",
      "        13, 20, 66, 12, 32, 11, 10, 15, 81, 11, 13, 47, 24, 22])}\n",
      "20 {'inputs': tensor([[   2,  517, 7467,  ...,    1,    1,    1],\n",
      "        [   2, 3202, 6954,  ...,    1,    1,    1],\n",
      "        [   2,  517, 7368,  ...,    1,    1,    1],\n",
      "        ...,\n",
      "        [   2,  517,   46,  ...,    1,    1,    1],\n",
      "        [   2, 3394, 6371,  ...,    1,    1,    1],\n",
      "        [   2, 1100, 6827,  ...,    1,    1,    1]]), 'labels': tensor([6, 1, 9, 0, 0, 0, 7, 7, 4, 9, 3, 0, 9, 9, 9, 9, 3, 3, 9, 6, 0, 6, 0, 6,\n",
      "        9, 9, 4, 9, 4, 0, 4, 9]), 'length': tensor([28, 45,  8, 10, 15, 34, 25, 11, 58, 41, 28, 15, 19, 13, 13, 14, 18, 58,\n",
      "        28, 19,  6, 19, 18, 67, 18, 15, 13,  9, 26, 21, 40,  6])}\n",
      "21 {'inputs': tensor([[   2, 3941, 7930,  ...,    1,    1,    1],\n",
      "        [   2,  517, 5960,  ...,    1,    1,    1],\n",
      "        [   2,  517, 6679,  ...,    1,    1,    1],\n",
      "        ...,\n",
      "        [   2, 2562, 5337,  ...,    1,    1,    1],\n",
      "        [   2, 3010, 5663,  ...,    1,    1,    1],\n",
      "        [   2,  517, 6162,  ...,    1,    1,    1]]), 'labels': tensor([9, 5, 5, 5, 9, 9, 9, 0, 4, 9, 9, 8, 9, 3, 9, 9, 5, 9, 9, 7, 9, 9, 0, 7,\n",
      "        9, 5, 9, 9, 9, 0, 9, 9]), 'length': tensor([ 7, 10, 18, 14, 34, 71, 13, 20, 32, 58,  9, 13, 10, 29, 64, 11,  8, 11,\n",
      "        48, 16, 17, 11, 13, 19, 12, 18, 24, 20, 27, 34, 15, 12])}\n",
      "22 {'inputs': tensor([[   2,  517, 5859,  ...,    1,    1,    1],\n",
      "        [   2, 3133, 6926,  ...,    1,    1,    1],\n",
      "        [   2,  760, 4208,  ...,    1,    1,    1],\n",
      "        ...,\n",
      "        [   2,  765, 6897,  ...,    1,    1,    1],\n",
      "        [   2, 4958, 7459,  ...,    1,    1,    1],\n",
      "        [   2, 3990, 5760,  ...,    1,    1,    1]]), 'labels': tensor([9, 9, 9, 5, 9, 6, 7, 9, 9, 9, 6, 9, 9, 5, 2, 9, 9, 9, 8, 9, 7, 8, 8, 0,\n",
      "        1, 0, 8, 9, 9, 8, 9, 9]), 'length': tensor([14, 61, 18, 18, 34, 16, 19, 87, 28, 17,  8, 18, 12, 32, 23, 13, 17, 35,\n",
      "        20, 17, 39,  7, 12, 24, 23, 12, 16, 15,  9, 20, 22, 39])}\n",
      "23 {'inputs': tensor([[   2, 3109, 5801,  ...,    1,    1,    1],\n",
      "        [   2, 3969, 6268,  ...,    1,    1,    1],\n",
      "        [   2, 4102, 7191,  ...,    1,    1,    1],\n",
      "        ...,\n",
      "        [   2, 3647, 5384,  ...,    1,    1,    1],\n",
      "        [   2, 2366, 1436,  ...,    1,    1,    1],\n",
      "        [   2,  791, 7202,  ...,    1,    1,    1]]), 'labels': tensor([9, 9, 9, 4, 7, 2, 9, 9, 9, 5, 1, 9, 9, 0, 9, 9, 9, 9, 9, 9, 9, 6, 9, 9,\n",
      "        9, 9, 8, 7, 0, 9, 9, 9]), 'length': tensor([16, 29, 13, 18, 14,  6, 22, 13, 14, 36, 36, 10, 25, 14,  6, 19, 16, 23,\n",
      "        12,  8, 24, 26, 16, 29, 14, 86, 10, 19, 24,  8, 27,  4])}\n",
      "24 {'inputs': tensor([[   2, 1435, 3533,  ...,    1,    1,    1],\n",
      "        [   2, 4958, 6954,  ...,    1,    1,    1],\n",
      "        [   2, 1258, 6703,  ...,    1,    1,    1],\n",
      "        ...,\n",
      "        [   2, 3093,   54,  ...,    1,    1,    1],\n",
      "        [   2, 1732, 7720,  ...,    1,    1,    1],\n",
      "        [   2, 3969, 6269,  ...,    1,    1,    1]]), 'labels': tensor([9, 9, 9, 5, 9, 4, 2, 0, 5, 7, 9, 8, 9, 9, 9, 8, 9, 0, 7, 8, 9, 9, 9, 8,\n",
      "        7, 7, 8, 8, 0, 9, 9, 7]), 'length': tensor([62, 25, 26, 19,  3, 15, 26, 23, 67,  8, 13, 17, 20, 22, 38, 63,  9, 15,\n",
      "        11, 21, 40,  8, 11, 14, 17, 74, 11, 14, 23, 13,  6, 28])}\n",
      "25 {'inputs': tensor([[   2, 3809, 7119,  ...,    1,    1,    1],\n",
      "        [   2, 4353, 7096,  ...,    1,    1,    1],\n",
      "        [   2, 1884, 5446,  ...,    1,    1,    1],\n",
      "        ...,\n",
      "        [   2,  642, 2658,  ...,    1,    1,    1],\n",
      "        [   2, 1370, 6897,  ...,    1,    1,    1],\n",
      "        [   2,  517, 5520,  ...,    1,    1,    1]]), 'labels': tensor([6, 9, 9, 8, 9, 0, 2, 9, 4, 0, 9, 9, 9, 9, 9, 6, 9, 7, 9, 9, 0, 0, 8, 6,\n",
      "        9, 0, 9, 0, 9, 9, 8, 9]), 'length': tensor([25, 18, 98, 29, 14, 17,  6, 18, 19, 17, 11, 18,  7,  9, 14, 12, 14, 21,\n",
      "         8, 65, 33, 34, 14, 15, 30, 32,  7,  6, 15, 77, 18, 13])}\n",
      "26 {'inputs': tensor([[   2, 1375,  791,  ...,    1,    1,    1],\n",
      "        [   2,  517, 6473,  ...,    1,    1,    1],\n",
      "        [   2, 4297, 5421,  ...,    1,    1,    1],\n",
      "        ...,\n",
      "        [   2, 4955, 6643,  ...,    1,    1,    1],\n",
      "        [   2, 3969, 6269,  ...,    1,    1,    1],\n",
      "        [   2, 3367, 2643,  ...,    1,    1,    1]]), 'labels': tensor([9, 9, 1, 7, 4, 0, 7, 0, 0, 8, 9, 3, 5, 9, 9, 8, 0, 9, 6, 0, 6, 5, 8, 6,\n",
      "        9, 9, 4, 7, 7, 9, 9, 8]), 'length': tensor([10, 12,  6, 22, 12, 30,  9, 22, 16, 64, 22, 20, 14, 26, 16, 55, 42, 19,\n",
      "        29, 12, 23, 11, 25, 10, 19, 31, 72, 23, 15, 12, 11,  6])}\n",
      "27 {'inputs': tensor([[   2, 3528, 5423,  ...,    1,    1,    1],\n",
      "        [   2, 4368, 1347,  ...,    1,    1,    1],\n",
      "        [   2,  517, 7990,  ...,    1,    1,    1],\n",
      "        ...,\n",
      "        [   2, 3765, 7095,  ...,    1,    1,    1],\n",
      "        [   2, 3647, 7629,  ...,    1,    1,    1],\n",
      "        [   2, 3977, 6364,  ...,    1,    1,    1]]), 'labels': tensor([6, 9, 7, 8, 6, 7, 7, 0, 3, 9, 9, 9, 9, 9, 9, 3, 9, 7, 9, 9, 7, 8, 9, 6,\n",
      "        6, 9, 7, 9, 8, 8, 9, 9]), 'length': tensor([14, 20, 11, 10,  7, 18, 41, 34, 18, 10,  7, 35,  9, 16, 50,  9, 17, 30,\n",
      "        12, 29, 15, 31, 10, 21, 33, 13, 24, 17, 49, 19, 51, 30])}\n",
      "28 {'inputs': tensor([[   2,  627, 7224,  ...,    1,    1,    1],\n",
      "        [   2, 1458, 2658,  ...,    1,    1,    1],\n",
      "        [   2, 3060, 7187,  ...,    1,    1,    1],\n",
      "        ...,\n",
      "        [   2, 3417, 6326,  ...,    1,    1,    1],\n",
      "        [   2, 3969, 6269,  ...,    1,    1,    1],\n",
      "        [   2, 2311, 6579,  ...,    1,    1,    1]]), 'labels': tensor([9, 0, 8, 9, 7, 5, 0, 9, 5, 9, 4, 8, 7, 0, 0, 2, 9, 6, 9, 9, 4, 4, 9, 8,\n",
      "        7, 9, 9, 9, 0, 0, 9, 9]), 'length': tensor([ 17,  23,  21,  17,  57,  20,  64,  22,  15,  26,  75,  23,  15,  16,\n",
      "         14,  53,  13,  44,  20,   4,  20,  67,   5,   9,  11, 103,  15,  22,\n",
      "         43,  20,  11,  13])}\n",
      "29 {'inputs': tensor([[   2, 4368, 3423,  ...,    1,    1,    1],\n",
      "        [   2, 3969, 6269,  ...,    1,    1,    1],\n",
      "        [   2, 4299, 5609,  ...,    1,    1,    1],\n",
      "        ...,\n",
      "        [   2, 1460, 4297,  ...,    1,    1,    1],\n",
      "        [   2,  517, 5521,  ...,    1,    1,    1],\n",
      "        [   2, 2358,  984,  ...,    1,    1,    1]]), 'labels': tensor([9, 7, 8, 6, 9, 7, 0, 9, 9, 6, 4, 7, 0, 6, 9, 9, 9, 9, 9, 9, 7, 3, 0, 0,\n",
      "        9, 0, 9, 9, 9, 0, 6, 9]), 'length': tensor([20, 29, 71, 11, 22, 46, 14, 22, 17, 37, 15, 30, 24, 21, 11, 18,  4, 12,\n",
      "        46,  8, 20, 14, 33,  6, 10, 10, 11, 13, 86,  6,  9, 31])}\n",
      "30 {'inputs': tensor([[   2, 1204,  953,  ...,    1,    1,    1],\n",
      "        [   2, 1458, 3574,  ...,    1,    1,    1],\n",
      "        [   2,  535, 7223,  ...,    1,    1,    1],\n",
      "        ...,\n",
      "        [   2, 2643, 6199,  ...,    1,    1,    1],\n",
      "        [   2, 2355, 6687,  ...,    1,    1,    1],\n",
      "        [   2,  517, 6896,  ...,    1,    1,    1]]), 'labels': tensor([0, 9, 9, 9, 4, 9, 5, 9, 0, 9, 9, 9, 4, 5, 8, 9, 9, 7, 7, 9, 0, 8, 0, 9,\n",
      "        8, 9, 7, 7, 9, 9, 9, 0]), 'length': tensor([ 19,  10,  22,  34,  16,  13,  37,  16,  18,   7,  14, 102,  16,  18,\n",
      "         18,   9,  15,   6,  13,  77,   5,  43,  26,  20,  30,  28,  18,  80,\n",
      "         20,  12,  70,   6])}\n",
      "31 {'inputs': tensor([[   2, 1919, 3292,  ...,    1,    1,    1],\n",
      "        [   2, 3121, 5390,  ...,    1,    1,    1],\n",
      "        [   2, 3574, 7858,  ...,    1,    1,    1],\n",
      "        ...,\n",
      "        [   2, 1434, 2704,  ...,    1,    1,    1],\n",
      "        [   2, 3556, 7095,  ...,    1,    1,    1],\n",
      "        [   2, 2423,    0,  ...,    1,    1,    1]]), 'labels': tensor([9, 9, 7, 8, 6, 9, 9, 9, 9, 6, 9, 9, 9, 1, 0, 9, 8, 6, 9, 1, 9, 9, 9, 0,\n",
      "        7, 7, 9, 5, 7, 9, 9, 9]), 'length': tensor([30, 25, 18, 16, 20, 20, 10, 16,  8, 24,  7, 17,  8, 20, 18, 23, 14, 12,\n",
      "         9, 33, 20, 13, 14, 20, 12, 13, 10, 21, 26, 17, 13, 29])}\n",
      "32 {'inputs': tensor([[   2,  517, 5397,  ...,    1,    1,    1],\n",
      "        [   2, 1725, 7663,  ...,    1,    1,    1],\n",
      "        [   2,  517, 6357,  ...,    1,    1,    1],\n",
      "        ...,\n",
      "        [   2, 1773, 5335,  ...,    1,    1,    1],\n",
      "        [   2, 4063, 7206,  ...,    1,    1,    1],\n",
      "        [   2, 4992, 5495,  ...,    1,    1,    1]]), 'labels': tensor([1, 8, 0, 9, 9, 7, 9, 9, 4, 0, 8, 5, 9, 6, 5, 9, 8, 9, 9, 9, 9, 0, 7, 9,\n",
      "        9, 5, 9, 9, 9, 7, 2, 6]), 'length': tensor([13, 11, 14,  5, 20, 37, 23,  6, 23, 30,  8,  6, 14, 24,  3,  8, 14, 18,\n",
      "         3, 35, 39, 33, 29, 12, 33, 26, 13, 47, 60, 14, 13, 17])}\n",
      "33 {'inputs': tensor([[   2, 3397, 7720,  ...,    1,    1,    1],\n",
      "        [   2, 4368, 1370,  ...,    1,    1,    1],\n",
      "        [   2, 3647, 3394,  ...,    1,    1,    1],\n",
      "        ...,\n",
      "        [   2,  517, 6389,  ...,    1,    1,    1],\n",
      "        [   2, 1458, 5655,  ...,    1,    1,    1],\n",
      "        [   2, 3226, 3322,  ...,    1,    1,    1]]), 'labels': tensor([9, 9, 9, 0, 9, 7, 9, 8, 9, 9, 9, 5, 9, 9, 8, 9, 9, 9, 9, 9, 9, 3, 0, 7,\n",
      "        9, 5, 9, 9, 8, 9, 7, 6]), 'length': tensor([31, 39, 23, 20, 11, 86, 16, 21,  3,  4, 24,  6, 34, 13, 41, 26, 30, 15,\n",
      "         5, 27,  9, 16, 11, 28, 23,  8,  6, 16, 21, 11, 16, 32])}\n",
      "34 {'inputs': tensor([[   2, 3489, 5191,  ...,    1,    1,    1],\n",
      "        [   2, 2219, 4077,  ...,    1,    1,    1],\n",
      "        [   2,  993, 7750,  ...,    1,    1,    1],\n",
      "        ...,\n",
      "        [   2, 4524, 2941,  ...,    1,    1,    1],\n",
      "        [   2, 2767, 7086,  ...,    1,    1,    1],\n",
      "        [   2, 1958, 5538,  ...,    1,    1,    1]]), 'labels': tensor([9, 7, 8, 7, 9, 0, 9, 9, 6, 9, 5, 8, 9, 6, 3, 9, 8, 9, 7, 9, 7, 9, 5, 9,\n",
      "        8, 0, 0, 6, 9, 9, 9, 8]), 'length': tensor([25, 87, 70, 24, 14, 41,  3, 22, 64, 14, 22, 29, 51, 15, 11, 17, 17, 32,\n",
      "        14, 28, 17, 13, 23, 30, 30, 29,  6, 31, 20,  9, 80, 49])}\n",
      "35 {'inputs': tensor([[   2,  582, 5368,  ...,    1,    1,    1],\n",
      "        [   2, 4235, 7086,  ...,    1,    1,    1],\n",
      "        [   2, 3969, 6269,  ...,    1,    1,    1],\n",
      "        ...,\n",
      "        [   2, 1730, 7276,  ...,    1,    1,    1],\n",
      "        [   2, 1535, 7096,  ...,    1,    1,    1],\n",
      "        [   2, 3093, 6657,  ...,    1,    1,    1]]), 'labels': tensor([8, 7, 9, 1, 8, 9, 6, 2, 5, 9, 9, 7, 9, 9, 0, 9, 3, 9, 7, 6, 8, 6, 9, 9,\n",
      "        9, 4, 9, 9, 9, 9, 8, 4]), 'length': tensor([13, 22, 13, 23,  8, 16, 19, 30, 59, 32, 60, 47, 19, 22, 33, 24, 12, 25,\n",
      "        17, 68, 30, 17, 12, 14, 24,  9, 12, 12, 25, 22, 29,  7])}\n",
      "36 {'inputs': tensor([[   2, 1416, 7828,  ...,    1,    1,    1],\n",
      "        [   2, 3394, 5474,  ...,    1,    1,    1],\n",
      "        [   2,  517, 5545,  ...,    1,    1,    1],\n",
      "        ...,\n",
      "        [   2, 3969, 6269,  ...,    1,    1,    1],\n",
      "        [   2,  612, 6328,  ...,    1,    1,    1],\n",
      "        [   2,  517, 7891,  ...,    1,    1,    1]]), 'labels': tensor([9, 5, 9, 9, 9, 9, 9, 9, 9, 9, 9, 7, 9, 9, 9, 9, 9, 5, 6, 0, 0, 4, 9, 0,\n",
      "        9, 3, 9, 9, 1, 8, 9, 3]), 'length': tensor([18, 84, 25,  4, 26, 23, 13, 44, 20, 17, 17, 34, 11, 27, 18, 10, 30, 33,\n",
      "        19, 91, 17, 86,  5, 11, 12, 10, 27, 20, 18, 13, 51, 19])}\n",
      "37 {'inputs': tensor([[   2, 2421, 5761,  ...,    1,    1,    1],\n",
      "        [   2, 2705, 7788,  ...,    1,    1,    1],\n",
      "        [   2,  517,  427,  ...,    1,    1,    1],\n",
      "        ...,\n",
      "        [   2, 4368, 7191,  ...,    1,    1,    1],\n",
      "        [   2, 4832, 7784,  ...,    1,    1,    1],\n",
      "        [   2, 4102, 3942,  ...,    1,    1,    1]]), 'labels': tensor([9, 0, 5, 9, 6, 9, 4, 9, 0, 9, 9, 5, 9, 9, 9, 4, 9, 0, 7, 8, 2, 8, 9, 8,\n",
      "        0, 9, 9, 9, 9, 9, 9, 9]), 'length': tensor([ 9,  9, 16, 20, 26,  7, 29,  7, 18, 22, 22, 21, 19, 11, 20,  8, 29, 37,\n",
      "        24, 17,  8, 15, 21, 78, 18, 19, 12, 12, 15,  6, 22,  9])}\n",
      "38 {'inputs': tensor([[   2, 1730, 6881,  ...,    1,    1,    1],\n",
      "        [   2, 3461,  517,  ...,    1,    1,    1],\n",
      "        [   2, 1923, 3959,  ...,    1,    1,    1],\n",
      "        ...,\n",
      "        [   2, 3093, 5739,  ...,    1,    1,    1],\n",
      "        [   2, 4457, 7088,  ...,    1,    1,    1],\n",
      "        [   2, 3672, 5400,  ...,    1,    1,    1]]), 'labels': tensor([9, 8, 3, 9, 9, 9, 9, 8, 9, 9, 4, 9, 9, 5, 0, 5, 9, 9, 6, 9, 5, 6, 9, 9,\n",
      "        0, 5, 9, 9, 9, 9, 5, 9]), 'length': tensor([28, 29, 22, 11, 31, 10, 26, 19, 10, 51, 17, 18,  4, 32, 16, 25, 16, 15,\n",
      "        18, 36, 20, 22, 20, 20,  8, 12, 20, 10, 26, 23, 80, 46])}\n",
      "39 {'inputs': tensor([[   2, 3969, 6269,  ...,    1,    1,    1],\n",
      "        [   2, 1189, 2348,  ...,    1,    1,    1],\n",
      "        [   2, 3969, 6269,  ...,    1,    1,    1],\n",
      "        ...,\n",
      "        [   2,  517, 7265,  ...,    1,    1,    1],\n",
      "        [   2, 3958, 6797,  ...,    1,    1,    1],\n",
      "        [   2, 1267, 6812,  ...,    1,    1,    1]]), 'labels': tensor([7, 9, 9, 9, 8, 8, 9, 9, 9, 9, 9, 7, 9, 8, 9, 7, 9, 9, 4, 0, 9, 8, 9, 9,\n",
      "        4, 6, 4, 1, 9, 9, 9, 9]), 'length': tensor([ 62,  14,   5,  26,  11,  24,  33,   7,  30,  24,  28,  28,  14,  17,\n",
      "         29,  12,  13,  59,  19,  11,  25,  83,  26,  26,   8,  25,  13,  41,\n",
      "         23, 143,  19,  14])}\n",
      "40 {'inputs': tensor([[   2, 2846, 6983,  ...,    1,    1,    1],\n",
      "        [   2, 3394, 4102,  ...,    1,    1,    1],\n",
      "        [   2, 3380, 6255,  ...,    1,    1,    1],\n",
      "        ...,\n",
      "        [   2,  517,  400,  ...,    1,    1,    1],\n",
      "        [   2, 1201, 5812,  ...,    1,    1,    1],\n",
      "        [   2, 2355, 6199,  ...,    1,    1,    1]]), 'labels': tensor([6, 9, 8, 8, 9, 8, 8, 8, 7, 7, 9, 9, 6, 6, 8, 9, 9, 8, 9, 9, 3, 7, 9, 9,\n",
      "        9, 9, 9, 7, 8, 9, 6, 8]), 'length': tensor([14, 28, 23, 20, 13, 21, 18, 23, 13, 17, 19, 12, 15, 24, 14, 10,  8, 20,\n",
      "        22, 11, 12, 29,  5, 99, 25, 23, 55, 21,  9, 70,  8, 66])}\n",
      "41 {'inputs': tensor([[   2, 4128, 6295,  ...,    1,    1,    1],\n",
      "        [   2, 3394, 6896,  ...,    1,    1,    1],\n",
      "        [   2, 3942, 5655,  ...,    1,    1,    1],\n",
      "        ...,\n",
      "        [   2, 3423, 6150,  ...,    1,    1,    1],\n",
      "        [   2, 1458, 5691,  ...,    1,    1,    1],\n",
      "        [   2, 4841, 7220,  ...,    1,    1,    1]]), 'labels': tensor([0, 9, 4, 0, 9, 9, 9, 9, 9, 0, 9, 8, 0, 9, 5, 4, 9, 9, 6, 8, 5, 9, 6, 8,\n",
      "        8, 6, 9, 9, 0, 9, 7, 9]), 'length': tensor([22, 12, 32, 22, 36, 10, 18, 24, 22, 16, 12, 20, 42, 49, 42, 14, 21, 73,\n",
      "        12, 17, 18,  4, 30, 21, 26, 26, 23,  6, 26, 23, 13, 38])}\n",
      "42 {'inputs': tensor([[   2, 2959, 6514,  ...,    1,    1,    1],\n",
      "        [   2, 4368, 5616,  ...,    1,    1,    1],\n",
      "        [   2, 2769, 5664,  ...,    1,    1,    1],\n",
      "        ...,\n",
      "        [   2, 1833, 6416,  ...,    1,    1,    1],\n",
      "        [   2, 1189, 2705,  ...,    1,    1,    1],\n",
      "        [   2, 4128, 3774,  ...,    1,    1,    1]]), 'labels': tensor([9, 9, 5, 8, 9, 7, 9, 9, 5, 9, 9, 8, 9, 9, 5, 8, 9, 6, 2, 9, 5, 1, 9, 9,\n",
      "        8, 7, 4, 4, 9, 9, 6, 9]), 'length': tensor([27, 54, 19, 11, 17, 36, 12, 24, 26, 12, 37, 30, 12, 27, 36, 33, 16, 14,\n",
      "        53, 34, 34, 13, 13, 33, 13, 21, 63, 16, 21, 20, 17, 15])}\n",
      "43 {'inputs': tensor([[   2, 3417,   54,  ...,    1,    1,    1],\n",
      "        [   2, 3647, 3394,  ...,    1,    1,    1],\n",
      "        [   2, 3978, 6888,  ...,    1,    1,    1],\n",
      "        ...,\n",
      "        [   2, 3610, 7096,  ...,    1,    1,    1],\n",
      "        [   2, 3673, 5101,  ...,    1,    1,    1],\n",
      "        [   2, 3941, 7172,  ...,    1,    1,    1]]), 'labels': tensor([8, 9, 9, 8, 9, 9, 9, 8, 8, 9, 3, 9, 4, 7, 8, 7, 5, 5, 9, 8, 2, 9, 9, 9,\n",
      "        9, 6, 7, 0, 9, 9, 6, 7]), 'length': tensor([35, 12,  9,  8, 10, 55, 14, 53, 20,  8, 25, 70, 31, 19, 18, 19, 67, 15,\n",
      "         5,  4, 10, 22, 68, 14, 27, 17, 13, 25,  8,  9,  9, 59])}\n",
      "44 {'inputs': tensor([[   2, 3978, 6888,  ...,    1,    1,    1],\n",
      "        [   2, 4368, 1830,  ...,    1,    1,    1],\n",
      "        [   2, 4468, 2417,  ...,    1,    1,    1],\n",
      "        ...,\n",
      "        [   2, 3551, 7649,  ...,    1,    1,    1],\n",
      "        [   2, 3093,   54,  ...,    1,    1,    1],\n",
      "        [   2, 4969, 6079,  ...,    1,    1,    1]]), 'labels': tensor([9, 9, 6, 6, 8, 9, 7, 8, 9, 7, 7, 9, 3, 5, 9, 7, 5, 9, 9, 6, 9, 6, 7, 9,\n",
      "        9, 8, 9, 9, 6, 9, 8, 9]), 'length': tensor([15, 43, 22, 17, 13, 29, 17, 11, 17, 16, 14, 25, 48, 28, 23,  7, 19, 31,\n",
      "        14,  8,  7, 21, 13, 85, 31, 20,  4, 21, 30, 31, 40,  7])}\n",
      "45 {'inputs': tensor([[   2, 2856, 6827,  ...,    1,    1,    1],\n",
      "        [   2, 1435, 4998,  ...,    1,    1,    1],\n",
      "        [   2, 4102,  755,  ...,    1,    1,    1],\n",
      "        ...,\n",
      "        [   2, 2941, 5330,  ...,    1,    1,    1],\n",
      "        [   2, 4368, 3969,  ...,    1,    1,    1],\n",
      "        [   2, 1535, 7096,  ...,    1,    1,    1]]), 'labels': tensor([0, 2, 9, 9, 6, 9, 5, 9, 8, 7, 9, 5, 7, 9, 9, 6, 0, 6, 7, 9, 8, 9, 9, 4,\n",
      "        9, 9, 6, 7, 0, 7, 9, 9]), 'length': tensor([25, 25,  7, 20, 14, 12, 81, 29, 24, 21, 25, 24, 26, 29, 29, 19, 34, 29,\n",
      "        20, 14, 27, 12,  8, 17, 56,  5, 19, 26, 12, 19, 13, 28])}\n",
      "46 {'inputs': tensor([[   2, 3530, 5691,  ...,    1,    1,    1],\n",
      "        [   2,  517, 7772,  ...,    1,    1,    1],\n",
      "        [   2,  517, 5484,  ...,    1,    1,    1],\n",
      "        ...,\n",
      "        [   2,  517, 7095,  ...,    1,    1,    1],\n",
      "        [   2, 1562, 3752,  ...,    1,    1,    1],\n",
      "        [   2, 4974, 7095,  ...,    1,    1,    1]]), 'labels': tensor([3, 9, 8, 9, 9, 8, 6, 2, 9, 9, 9, 0, 9, 9, 0, 7, 7, 9, 8, 4, 9, 9, 9, 9,\n",
      "        7, 9, 9, 3, 9, 6, 9, 6]), 'length': tensor([21, 24, 11, 25, 12, 10, 27, 33, 20, 19, 11, 21, 10, 12, 45, 21, 66, 12,\n",
      "        13, 15, 20, 25,  9, 20, 18, 13, 20, 25,  4, 22, 32, 22])}\n",
      "47 {'inputs': tensor([[   2, 3123, 5468,  ...,    1,    1,    1],\n",
      "        [   2,  680,  401,  ...,    1,    1,    1],\n",
      "        [   2, 2348, 1267,  ...,    1,    1,    1],\n",
      "        ...,\n",
      "        [   2,  936, 7147,  ...,    1,    1,    1],\n",
      "        [   2, 1449, 5859,  ...,    1,    1,    1],\n",
      "        [   2, 5037, 7207,  ...,    1,    1,    1]]), 'labels': tensor([9, 9, 9, 7, 2, 9, 9, 9, 9, 9, 6, 9, 9, 8, 9, 9, 7, 9, 5, 8, 9, 9, 9, 9,\n",
      "        9, 8, 9, 9, 9, 9, 9, 9]), 'length': tensor([11, 10, 39, 31, 13, 19, 12, 48,  9, 22,  8, 25,  7, 35, 14,  8, 25,  7,\n",
      "        14, 11, 16,  9, 27, 15, 26, 19, 24, 22,  6, 13, 25, 22])}\n",
      "48 {'inputs': tensor([[   2, 2355, 6827,  ...,    1,    1,    1],\n",
      "        [   2, 4102, 2822,  ...,    1,    1,    1],\n",
      "        [   2, 3137, 6198,  ...,    1,    1,    1],\n",
      "        ...,\n",
      "        [   2, 2348, 3704,  ...,    1,    1,    1],\n",
      "        [   2, 2146, 3060,  ...,    1,    1,    1],\n",
      "        [   2, 4544, 7147,  ...,    1,    1,    1]]), 'labels': tensor([6, 9, 8, 9, 8, 8, 9, 9, 0, 9, 7, 8, 9, 9, 9, 9, 8, 8, 9, 9, 9, 0, 8, 9,\n",
      "        9, 8, 9, 0, 9, 9, 9, 2]), 'length': tensor([18, 18, 28, 19, 82, 11, 59, 48, 17, 76, 22, 10, 24, 18,  8, 34, 10, 19,\n",
      "        18,  5, 17,  7, 36, 14,  7, 16, 27, 10,  5, 39, 17, 76])}\n",
      "49 {'inputs': tensor([[   2, 4204, 5584,  ...,    1,    1,    1],\n",
      "        [   2, 4196, 1704,  ...,    1,    1,    1],\n",
      "        [   2, 2348, 2705,  ...,    1,    1,    1],\n",
      "        ...,\n",
      "        [   2, 3942,  993,  ...,    1,    1,    1],\n",
      "        [   2,  791, 7202,  ...,    1,    1,    1],\n",
      "        [   2, 4012, 7720,  ...,    1,    1,    1]]), 'labels': tensor([7, 5, 8, 9, 9, 7, 9, 9, 6, 1, 9, 9, 0, 7, 9, 9, 9, 9, 8, 9, 1, 5, 9, 9,\n",
      "        9, 0, 9, 8, 2, 6, 9, 6]), 'length': tensor([25,  8, 52, 25, 28, 11, 25,  5, 23, 23, 21,  4, 31, 15,  8, 31, 27, 21,\n",
      "        11, 22, 17, 36, 10,  5, 33,  9, 28, 59, 24, 11, 18, 14])}\n",
      "50 {'inputs': tensor([[   2, 2149, 7167,  ...,    1,    1,    1],\n",
      "        [   2, 1926, 7227,  ...,    1,    1,    1],\n",
      "        [   2, 3255, 7431,  ...,    1,    1,    1],\n",
      "        ...,\n",
      "        [   2,  784, 6204,  ...,    1,    1,    1],\n",
      "        [   2, 4102, 3969,  ...,    1,    1,    1],\n",
      "        [   2, 3812, 6903,  ...,    1,    1,    1]]), 'labels': tensor([5, 2, 9, 8, 9, 9, 5, 7, 0, 6, 9, 5, 6, 9, 7, 0, 8, 9, 6, 9, 9, 8, 7, 9,\n",
      "        9, 9, 0, 7, 9, 9, 9, 9]), 'length': tensor([26, 22,  6, 18, 13, 58, 46, 10, 25, 18, 43, 21, 13, 16, 20, 14, 12, 17,\n",
      "        26, 10, 83, 18, 13, 29, 44, 23, 14, 14, 54, 11, 33, 11])}\n",
      "51 {'inputs': tensor([[   2, 3093, 1730,  ...,    1,    1,    1],\n",
      "        [   2, 3647, 5377,  ...,    1,    1,    1],\n",
      "        [   2, 4092, 6493,  ...,    1,    1,    1],\n",
      "        ...,\n",
      "        [   2, 2705, 6883,  ...,    1,    1,    1],\n",
      "        [   2, 4057, 6793,  ...,    1,    1,    1],\n",
      "        [   2, 4368, 3969,  ...,    1,    1,    1]]), 'labels': tensor([1, 9, 6, 8, 9, 9, 8, 7, 9, 9, 9, 7, 0, 8, 9, 0, 9, 9, 9, 9, 9, 0, 9, 6,\n",
      "        2, 9, 6, 9, 9, 5, 9, 9]), 'length': tensor([73, 26, 16, 19, 30, 21, 59, 40,  8, 16, 15, 20, 11,  9, 15, 28,  3,  5,\n",
      "        31, 11, 10, 66,  4, 13, 15, 21, 26, 28, 13,  9, 23,  9])}\n",
      "52 {'inputs': tensor([[   2, 2436, 6009,  ...,    1,    1,    1],\n",
      "        [   2,  589,  278,  ...,    1,    1,    1],\n",
      "        [   2, 1458, 3528,  ...,    1,    1,    1],\n",
      "        ...,\n",
      "        [   2,  517, 6983,  ...,    1,    1,    1],\n",
      "        [   2,  517, 6983,  ...,    1,    1,    1],\n",
      "        [   2, 1784,  766,  ...,    1,    1,    1]]), 'labels': tensor([8, 9, 0, 7, 0, 8, 8, 4, 7, 8, 9, 9, 9, 8, 4, 7, 9, 9, 9, 9, 9, 7, 7, 9,\n",
      "        9, 3, 0, 9, 9, 9, 9, 9]), 'length': tensor([18, 25, 52, 22, 27, 14, 22, 27, 27, 25, 11,  6, 27, 36, 12, 28, 26, 12,\n",
      "        24,  9, 19, 10, 33, 31, 24, 32, 14, 33, 21, 17, 22, 69])}\n",
      "53 {'inputs': tensor([[   2, 3969, 6268,  ...,    1,    1,    1],\n",
      "        [   2, 1370, 2929,  ...,    1,    1,    1],\n",
      "        [   2,  517, 5520,  ...,    1,    1,    1],\n",
      "        ...,\n",
      "        [   2, 2962, 5330,  ...,    1,    1,    1],\n",
      "        [   2, 4368, 3969,  ...,    1,    1,    1],\n",
      "        [   2,  517,  492,  ...,    1,    1,    1]]), 'labels': tensor([9, 5, 9, 9, 9, 6, 9, 9, 9, 9, 9, 9, 0, 9, 6, 3, 0, 0, 8, 7, 7, 9, 5, 9,\n",
      "        9, 9, 9, 9, 9, 6, 9, 8]), 'length': tensor([14, 12, 17, 17, 13, 52, 15, 15, 23, 20, 27, 14, 12, 82,  8, 14, 16, 15,\n",
      "        18, 12, 15,  7, 25, 33, 15, 24, 19, 13, 33, 22, 25, 16])}\n",
      "54 {'inputs': tensor([[   2, 1665,   54,  ...,    1,    1,    1],\n",
      "        [   2, 5112, 6060,  ...,    1,    1,    1],\n",
      "        [   2, 2151, 2058,  ...,    1,    1,    1],\n",
      "        ...,\n",
      "        [   2, 3697, 6909,  ...,    1,    1,    1],\n",
      "        [   2, 4924, 3394,  ...,    1,    1,    1],\n",
      "        [   2,  524,  105,  ...,    1,    1,    1]]), 'labels': tensor([3, 8, 9, 0, 7, 6, 7, 8, 6, 8, 4, 9, 3, 9, 8, 8, 9, 9, 0, 8, 9, 9, 9, 9,\n",
      "        9, 9, 9, 7, 9, 5, 9, 0]), 'length': tensor([14, 77, 20, 20, 15,  4, 16, 26, 21,  9, 29,  6, 19, 24, 22, 18, 11, 53,\n",
      "         8, 18, 11, 13, 15,  8, 21, 15, 59, 28, 22, 15, 13, 35])}\n",
      "55 {'inputs': tensor([[   2, 2293, 7095,  ...,    1,    1,    1],\n",
      "        [   2, 4368, 7191,  ...,    1,    1,    1],\n",
      "        [   2, 1919, 5415,  ...,    1,    1,    1],\n",
      "        ...,\n",
      "        [   2, 3257, 6022,  ...,    1,    1,    1],\n",
      "        [   2, 4919, 7110,  ...,    1,    1,    1],\n",
      "        [   2, 4102, 2366,  ...,    1,    1,    1]]), 'labels': tensor([9, 8, 9, 7, 9, 0, 1, 9, 9, 8, 9, 0, 9, 4, 8, 7, 8, 8, 9, 9, 0, 9, 0, 9,\n",
      "        0, 5, 8, 9, 9, 9, 3, 1]), 'length': tensor([31, 62,  7,  9, 16,  7, 18, 17, 32, 11, 10, 21, 17, 25, 39, 27, 23, 12,\n",
      "        15,  7, 14, 16,  9, 25, 19, 21, 31, 11, 25, 22, 13, 30])}\n",
      "56 {'inputs': tensor([[   2, 4102, 4420,  ...,    1,    1,    1],\n",
      "        [   2,  517,  492,  ...,    1,    1,    1],\n",
      "        [   2,  847, 7202,  ...,    1,    1,    1],\n",
      "        ...,\n",
      "        [   2, 1096, 5827,  ...,    1,    1,    1],\n",
      "        [   2, 1458, 5655,  ...,    1,    1,    1],\n",
      "        [   2, 3192, 7096,  ...,    1,    1,    1]]), 'labels': tensor([6, 9, 7, 6, 9, 9, 9, 9, 7, 9, 0, 9, 8, 0, 9, 6, 9, 0, 9, 9, 9, 9, 9, 9,\n",
      "        9, 4, 9, 4, 8, 8, 9, 9]), 'length': tensor([22, 31, 76, 32, 39, 19, 26, 26, 12, 31, 61, 39, 31,  6, 24, 16, 27, 40,\n",
      "        30, 32, 22, 29, 13,  8, 17, 32, 25,  9, 38, 21,  9, 14])}\n",
      "57 {'inputs': tensor([[   2, 3647, 5390,  ...,    1,    1,    1],\n",
      "        [   2, 3977, 6881,  ...,    1,    1,    1],\n",
      "        [   2, 1221, 5850,  ...,    1,    1,    1],\n",
      "        ...,\n",
      "        [   2, 3298, 7598,  ...,    1,    1,    1],\n",
      "        [   2, 4958, 6954,  ...,    1,    1,    1],\n",
      "        [   2, 4368, 1423,  ...,    1,    1,    1]]), 'labels': tensor([9, 9, 9, 0, 9, 5, 9, 4, 9, 6, 9, 9, 9, 9, 9, 7, 8, 7, 9, 9, 9, 8, 0, 9,\n",
      "        7, 9, 8, 9, 0, 9, 0, 9]), 'length': tensor([21, 16, 79, 25, 18, 20, 37, 16,  8, 13, 12, 22, 59, 21, 18, 28, 16, 29,\n",
      "        10, 21, 54, 75,  4, 15, 33, 31, 23, 33, 10, 11, 12, 10])}\n",
      "58 {'inputs': tensor([[   2, 1955, 2589,  ...,    1,    1,    1],\n",
      "        [   2, 2970, 5330,  ...,    1,    1,    1],\n",
      "        [   2, 1185, 7199,  ...,    1,    1,    1],\n",
      "        ...,\n",
      "        [   2, 3670, 7199,  ...,    1,    1,    1],\n",
      "        [   2, 3969, 6269,  ...,    1,    1,    1],\n",
      "        [   2, 3977, 4192,  ...,    1,    1,    1]]), 'labels': tensor([9, 9, 8, 9, 1, 7, 7, 8, 0, 5, 9, 9, 9, 9, 9, 9, 8, 6, 9, 9, 9, 9, 9, 9,\n",
      "        6, 7, 9, 9, 2, 9, 8, 0]), 'length': tensor([ 8, 17, 15, 28, 14, 18, 14, 25,  7, 34, 37, 19, 26, 18, 12, 24, 11, 26,\n",
      "        36, 16, 20, 46, 21, 11, 59, 21,  9, 24, 12, 33, 13,  7])}\n",
      "59 {'inputs': tensor([[   2, 4244, 7086,  ...,    1,    1,    1],\n",
      "        [   2, 1343, 7788,  ...,    1,    1,    1],\n",
      "        [   2, 4102, 3978,  ...,    1,    1,    1],\n",
      "        ...,\n",
      "        [   2, 1189, 3977,  ...,    1,    1,    1],\n",
      "        [   2, 2417, 6150,  ...,    1,    1,    1],\n",
      "        [   2,  517, 6618,  ...,    1,    1,    1]]), 'labels': tensor([9, 9, 9, 0, 9, 8, 9, 9, 0, 9, 6, 9, 8, 9, 2, 6, 0, 9, 5, 9, 4, 8, 9, 9,\n",
      "        0, 0, 9, 9, 4, 9, 8, 5]), 'length': tensor([28, 43, 23, 14,  7, 14, 78, 19, 25,  4, 12,  8, 17, 35, 30, 16,  5, 17,\n",
      "        27,  5, 46,  8, 28, 43,  7, 15, 12,  4, 13, 24,  8, 28])}\n",
      "60 {'inputs': tensor([[   2, 4522,    5,  ...,    1,    1,    1],\n",
      "        [   2,  517, 5330,  ...,    1,    1,    1],\n",
      "        [   2, 2704, 6834,  ...,    1,    1,    1],\n",
      "        ...,\n",
      "        [   2, 3533, 6450,  ...,    1,    1,    1],\n",
      "        [   2, 2120, 5546,  ...,    1,    1,    1],\n",
      "        [   2, 1434, 6499,  ...,    1,    1,    1]]), 'labels': tensor([9, 6, 0, 9, 9, 9, 4, 8, 9, 6, 9, 0, 7, 8, 9, 9, 9, 9, 5, 9, 9, 1, 1, 9,\n",
      "        0, 9, 5, 9, 9, 9, 9, 2]), 'length': tensor([  4,  13,  25,  64,  10,   4,  12,  26,  65,  24,  10,  33,  21,  25,\n",
      "         63,  15,  28,   8,   8,  12,  26,  70, 102,  16,  18,  14,  11,  22,\n",
      "         15,  12,  16,  12])}\n",
      "61 {'inputs': tensor([[   2,  940, 2549,  ...,    1,    1,    1],\n",
      "        [   2, 1458, 3978,  ...,    1,    1,    1],\n",
      "        [   2, 1963, 4919,  ...,    1,    1,    1],\n",
      "        ...,\n",
      "        [   2, 3036, 7941,  ...,    1,    1,    1],\n",
      "        [   2, 5178, 6398,  ...,    1,    1,    1],\n",
      "        [   2, 1470, 6903,  ...,    1,    1,    1]]), 'labels': tensor([4, 9, 9, 9, 8, 7, 9, 9, 6, 9, 8, 0, 9, 5, 0, 6, 6, 5, 9, 9, 9, 9, 9, 5,\n",
      "        1, 8, 4, 9, 9, 6, 9, 0]), 'length': tensor([16, 10, 15, 13, 75, 26,  6, 36, 24,  5, 24, 19, 26, 11, 12, 24,  7, 98,\n",
      "        30, 21, 33, 19, 59, 27, 15, 36, 31, 13, 18, 23, 37, 28])}\n",
      "62 {'inputs': tensor([[   2,  517, 6858,  ...,    1,    1,    1],\n",
      "        [   2, 3087, 5850,  ...,    1,    1,    1],\n",
      "        [   2, 3826, 6629,  ...,    1,    1,    1],\n",
      "        ...,\n",
      "        [   2, 4506, 5592,  ...,    1,    1,    1],\n",
      "        [   2, 2293, 3341,  ...,    1,    1,    1],\n",
      "        [   2, 1258, 6488,  ...,    1,    1,    1]]), 'labels': tensor([8, 3, 1, 0, 9, 9, 9, 8, 9, 8, 7, 8, 9, 0, 9, 9, 5, 0, 7, 0, 9, 8, 9, 9,\n",
      "        9, 8, 9, 9, 9, 0, 6, 9]), 'length': tensor([23, 21, 12, 22,  6,  8, 17, 87,  9, 32, 28, 23,  6, 31, 14, 79, 25, 18,\n",
      "        31,  9, 22, 14, 23, 43, 21, 17, 17, 12, 15, 24, 12, 14])}\n",
      "63 {'inputs': tensor([[   2, 3647, 5377,  ...,    1,    1,    1],\n",
      "        [   2, 1370, 6117,  ...,    1,    1,    1],\n",
      "        [   2, 1189,  517,  ...,    1,    1,    1],\n",
      "        ...,\n",
      "        [   2, 2645, 7153,  ...,    1,    1,    1],\n",
      "        [   2, 4473, 5931,  ...,    1,    1,    1],\n",
      "        [   2, 4379, 5678,  ...,    1,    1,    1]]), 'labels': tensor([9, 9, 4, 5, 9, 9, 0, 8, 9, 6, 6, 8, 9, 9, 9, 6, 0, 9, 9, 9, 1, 8, 9, 6,\n",
      "        9, 7, 0, 0, 9, 9, 9, 0]), 'length': tensor([20, 10, 19, 24, 13, 10, 29, 10, 38, 29,  8, 25, 20, 16, 15, 24,  8, 26,\n",
      "        20, 20, 16, 23,  9,  7, 10, 37, 22, 16, 15, 21, 36,  9])}\n",
      "64 {'inputs': tensor([[   2, 3318, 4196,  ...,    1,    1,    1],\n",
      "        [   2, 3133,    5,  ...,    1,    1,    1],\n",
      "        [   2, 5206, 7344,  ...,    1,    1,    1],\n",
      "        ...,\n",
      "        [   2, 3533, 7170,  ...,    1,    1,    1],\n",
      "        [   2, 1730, 5678,  ...,    1,    1,    1],\n",
      "        [   2, 3695, 5561,  ...,    1,    1,    1]]), 'labels': tensor([9, 4, 9, 7, 9, 0, 9, 4, 9, 9, 9, 7, 7, 9, 9, 9, 7, 8, 9, 0, 6, 8, 9, 0,\n",
      "        8, 9, 4, 6, 9, 6, 0, 6]), 'length': tensor([23, 71, 24, 19, 13,  4, 21, 12, 10, 11, 18, 12,  6, 17,  6, 26, 20, 13,\n",
      "        12, 29, 30, 20,  5,  7, 15, 27, 13, 10, 23, 32, 22, 21])}\n",
      "65 {'inputs': tensor([[   2, 1187, 2643,  ...,    1,    1,    1],\n",
      "        [   2, 3647, 6954,  ...,    1,    1,    1],\n",
      "        [   2, 1204, 1434,  ...,    1,    1,    1],\n",
      "        ...,\n",
      "        [   2, 3010, 6559,  ...,    1,    1,    1],\n",
      "        [   2, 3419, 2421,  ...,    1,    1,    1],\n",
      "        [   2, 1458, 3977,  ...,    1,    1,    1]]), 'labels': tensor([0, 9, 9, 6, 0, 9, 0, 2, 7, 9, 9, 9, 9, 9, 7, 9, 8, 9, 8, 9, 1, 4, 9, 9,\n",
      "        8, 9, 9, 9, 9, 3, 9, 9]), 'length': tensor([24, 30, 18, 20,  7, 11, 25,  9,  6, 26, 17, 21,  9, 12, 33, 14, 21, 11,\n",
      "        22,  9,  9, 50, 14, 10, 29,  8, 22, 13, 20, 44, 32, 23])}\n",
      "66 {'inputs': tensor([[   2, 2007, 1189,  ...,    1,    1,    1],\n",
      "        [   2, 3093, 4368,  ...,    1,    1,    1],\n",
      "        [   2, 4646, 4368,  ...,    1,    1,    1],\n",
      "        ...,\n",
      "        [   2,  517, 7634,  ...,    1,    1,    1],\n",
      "        [   2, 1406, 3466,  ...,    1,    1,    1],\n",
      "        [   2,  517,    0,  ...,    1,    1,    1]]), 'labels': tensor([6, 9, 9, 9, 3, 0, 8, 9, 9, 7, 4, 9, 7, 0, 6, 9, 8, 9, 9, 9, 5, 0, 6, 7,\n",
      "        8, 9, 9, 9, 9, 7, 9, 9]), 'length': tensor([18, 26, 24, 18, 21, 36,  3, 26,  8, 23, 12, 43, 15,  8, 16, 24, 17, 55,\n",
      "        18, 25, 17, 23, 34, 14, 14, 20, 31, 25, 19, 20, 29, 16])}\n",
      "67 {'inputs': tensor([[   2, 3498, 6928,  ...,    1,    1,    1],\n",
      "        [   2, 4102,   54,  ...,    1,    1,    1],\n",
      "        [   2, 5064,  127,  ...,    1,    1,    1],\n",
      "        ...,\n",
      "        [   2, 3886, 5628,  ...,    1,    1,    1],\n",
      "        [   2, 1370, 6117,  ...,    1,    1,    1],\n",
      "        [   2, 3394, 5330,  ...,    1,    1,    1]]), 'labels': tensor([9, 9, 9, 9, 7, 9, 9, 9, 9, 9, 6, 9, 9, 9, 9, 7, 3, 9, 8, 9, 0, 5, 4, 9,\n",
      "        9, 9, 9, 6, 9, 8, 7, 8]), 'length': tensor([31,  9, 23, 21, 45, 21,  9, 19, 13, 10, 14, 11, 29, 27, 15, 16, 10, 29,\n",
      "        26, 12, 28, 27, 23, 10, 30, 29, 15, 22, 12, 28, 25, 18])}\n",
      "68 {'inputs': tensor([[   2, 4368, 3166,  ...,    1,    1,    1],\n",
      "        [   2, 2355, 7327,  ...,    1,    1,    1],\n",
      "        [   2, 5149, 7227,  ...,    1,    1,    1],\n",
      "        ...,\n",
      "        [   2, 1958, 5538,  ...,    1,    1,    1],\n",
      "        [   2,  939, 3175,  ...,    1,    1,    1],\n",
      "        [   2,  517,    0,  ...,    1,    1,    1]]), 'labels': tensor([1, 9, 7, 2, 6, 9, 9, 7, 9, 7, 9, 2, 7, 1, 6, 9, 9, 5, 9, 9, 7, 9, 4, 6,\n",
      "        1, 9, 0, 5, 8, 9, 7, 8]), 'length': tensor([23, 16, 30, 17, 12, 31, 13, 10, 17, 24, 51, 11, 19, 16, 79, 20, 19, 18,\n",
      "        29, 16, 14, 32, 27, 11, 28, 26, 17, 24, 26, 10, 25, 57])}\n",
      "69 {'inputs': tensor([[   2,  652,  389,  ...,    1,    1,    1],\n",
      "        [   2, 1406, 3969,  ...,    1,    1,    1],\n",
      "        [   2, 4012, 4368,  ...,    1,    1,    1],\n",
      "        ...,\n",
      "        [   2, 1460,   54,  ...,    1,    1,    1],\n",
      "        [   2, 2948, 7753,  ...,    1,    1,    1],\n",
      "        [   2, 1832, 6364,  ...,    1,    1,    1]]), 'labels': tensor([9, 9, 8, 9, 9, 0, 8, 9, 0, 7, 1, 9, 0, 5, 8, 8, 9, 0, 6, 8, 0, 7, 6, 0,\n",
      "        8, 8, 9, 9, 8, 9, 9, 9]), 'length': tensor([61, 16, 30, 15, 31, 11, 21, 83, 26, 17,  8, 21, 23, 23, 22,  9, 28, 15,\n",
      "        15, 11, 21, 26, 40, 41, 14, 23, 13, 16,  5, 17,  8, 56])}\n",
      "70 {'inputs': tensor([[   2, 4298, 6202,  ...,    1,    1,    1],\n",
      "        [   2, 4368, 2043,  ...,    1,    1,    1],\n",
      "        [   2, 3701, 7095,  ...,    1,    1,    1],\n",
      "        ...,\n",
      "        [   2, 2358, 1381,  ...,    1,    1,    1],\n",
      "        [   2, 3394, 6116,  ...,    1,    1,    1],\n",
      "        [   2, 2185, 6896,  ...,    1,    1,    1]]), 'labels': tensor([9, 9, 9, 0, 9, 4, 9, 9, 9, 0, 4, 9, 9, 9, 0, 9, 7, 9, 0, 0, 6, 8, 0, 9,\n",
      "        8, 0, 9, 9, 0, 7, 9, 9]), 'length': tensor([86, 39, 27,  4,  4, 20,  6, 13, 11, 11, 51, 44, 36, 10, 36, 21, 19, 11,\n",
      "        26,  5, 11, 35,  7, 22, 12, 30, 13, 27, 39, 25, 59, 24])}\n",
      "71 {'inputs': tensor([[   2, 1458, 7191,  ...,    1,    1,    1],\n",
      "        [   2, 1221, 5850,  ...,    1,    1,    1],\n",
      "        [   2, 2961, 7095,  ...,    1,    1,    1],\n",
      "        ...,\n",
      "        [   2, 1341, 1504,  ...,    1,    1,    1],\n",
      "        [   2, 3647, 6954,  ...,    1,    1,    1],\n",
      "        [   2, 3341, 1100,  ...,    1,    1,    1]]), 'labels': tensor([9, 9, 9, 9, 9, 9, 7, 9, 9, 9, 9, 9, 0, 5, 9, 9, 9, 0, 9, 8, 9, 9, 8, 9,\n",
      "        5, 7, 9, 7, 8, 7, 9, 7]), 'length': tensor([ 8, 42, 21, 13,  6, 29, 34, 12, 21, 24, 11, 10, 30, 23, 24,  5, 14, 17,\n",
      "         9, 23,  6,  8, 17, 13, 11, 17,  8, 14, 51, 14, 34, 18])}\n",
      "72 {'inputs': tensor([[   2, 5191,  463,  ...,    1,    1,    1],\n",
      "        [   2, 1535, 6323,  ...,    1,    1,    1],\n",
      "        [   2, 4368, 3647,  ...,    1,    1,    1],\n",
      "        ...,\n",
      "        [   2,  517, 7998,  ...,    1,    1,    1],\n",
      "        [   2, 1633, 6280,  ...,    1,    1,    1],\n",
      "        [   2, 3978, 7084,  ...,    1,    1,    1]]), 'labels': tensor([0, 0, 1, 9, 9, 9, 9, 8, 9, 7, 9, 9, 9, 5, 9, 9, 0, 9, 8, 0, 0, 9, 9, 0,\n",
      "        9, 1, 9, 9, 9, 4, 9, 8]), 'length': tensor([36,  6, 36,  5, 39, 25, 32, 51,  5, 26, 51, 25, 12, 10, 11, 20,  8,  5,\n",
      "        23, 41, 12, 15, 26, 55, 20, 88, 10, 13, 13, 14, 19, 19])}\n",
      "73 {'inputs': tensor([[   2,  517, 7673,  ...,    1,    1,    1],\n",
      "        [   2, 4128, 5330,  ...,    1,    1,    1],\n",
      "        [   2, 1100, 7086,  ...,    1,    1,    1],\n",
      "        ...,\n",
      "        [   2, 3111, 6122,  ...,    1,    1,    1],\n",
      "        [   2, 2043, 6328,  ...,    1,    1,    1],\n",
      "        [   2, 4814, 5782,  ...,    1,    1,    1]]), 'labels': tensor([0, 9, 7, 9, 9, 9, 0, 9, 9, 5, 9, 7, 9, 5, 7, 9, 6, 9, 9, 9, 9, 9, 0, 9,\n",
      "        6, 8, 9, 5, 8, 6, 9, 0]), 'length': tensor([16, 15, 14, 17, 21, 11, 23, 19, 22, 16, 29, 12, 77, 15, 27, 16, 29, 37,\n",
      "        16,  9, 26, 24, 10, 29, 69, 22, 22, 15, 33, 27, 30, 35])}\n",
      "74 {'inputs': tensor([[   2, 4360, 7227,  ...,    1,    1,    1],\n",
      "        [   2, 3978, 5400,  ...,    1,    1,    1],\n",
      "        [   2, 4689, 6079,  ...,    1,    1,    1],\n",
      "        ...,\n",
      "        [   2, 1424, 6022,  ...,    1,    1,    1],\n",
      "        [   2, 4102, 6079,  ...,    1,    1,    1],\n",
      "        [   2, 1458, 7191,  ...,    1,    1,    1]]), 'labels': tensor([9, 9, 8, 5, 9, 9, 0, 9, 9, 9, 9, 9, 9, 9, 9, 9, 2, 0, 9, 0, 9, 9, 1, 8,\n",
      "        9, 9, 9, 0, 8, 9, 9, 9]), 'length': tensor([41, 19, 17, 25, 14, 18, 63, 13, 11, 50, 40, 69, 13, 10, 12, 18, 33, 10,\n",
      "        34, 80, 19, 17, 18, 12, 32, 22, 16, 10, 15, 63, 27, 11])}\n",
      "75 {'inputs': tensor([[   2, 1895, 6705,  ...,    1,    1,    1],\n",
      "        [   2, 3439, 6150,  ...,    1,    1,    1],\n",
      "        [   2, 4468, 6410,  ...,    1,    1,    1],\n",
      "        ...,\n",
      "        [   2,  517, 5626,  ...,    1,    1,    1],\n",
      "        [   2, 1071, 7206,  ...,    1,    1,    1],\n",
      "        [   2, 3551, 7649,  ...,    1,    1,    1]]), 'labels': tensor([0, 9, 9, 8, 9, 9, 9, 5, 8, 9, 9, 9, 6, 0, 0, 7, 9, 9, 9, 4, 6, 9, 9, 9,\n",
      "        9, 9, 9, 0, 9, 7, 0, 9]), 'length': tensor([91, 22, 37, 57, 21, 20, 16, 20, 16, 20, 25, 15, 19, 37, 51, 19, 10, 16,\n",
      "        14, 12, 19, 22,  6, 13, 17, 24, 51, 35, 22, 20, 44, 10])}\n",
      "76 {'inputs': tensor([[   2, 4102, 3978,  ...,    1,    1,    1],\n",
      "        [   2, 3123, 7095,  ...,    1,    1,    1],\n",
      "        [   2, 4360,    0,  ...,    1,    1,    1],\n",
      "        ...,\n",
      "        [   2, 3036, 7941,  ...,    1,    1,    1],\n",
      "        [   2, 1884, 6982,  ...,    1,    1,    1],\n",
      "        [   2, 4501,  862,  ...,    1,    1,    1]]), 'labels': tensor([9, 9, 9, 9, 9, 9, 5, 7, 9, 8, 0, 9, 9, 6, 8, 0, 9, 7, 9, 0, 7, 9, 9, 0,\n",
      "        8, 9, 7, 0, 7, 6, 9, 7]), 'length': tensor([ 7, 23, 23, 19, 12, 14, 42, 74, 23, 52, 45, 25, 18,  9,  5, 14, 18,  7,\n",
      "        23, 32, 28, 10, 26, 86, 34, 54, 23, 17, 16, 11, 27, 63])}\n",
      "77 {'inputs': tensor([[   2, 3461, 1919,  ...,    1,    1,    1],\n",
      "        [   2, 1120, 7086,  ...,    1,    1,    1],\n",
      "        [   2, 2872, 6834,  ...,    1,    1,    1],\n",
      "        ...,\n",
      "        [   2, 3978, 5782,  ...,    1,    1,    1],\n",
      "        [   2, 3978, 6885,  ...,    1,    1,    1],\n",
      "        [   2, 3977, 6983,  ...,    1,    1,    1]]), 'labels': tensor([7, 6, 9, 9, 9, 9, 9, 9, 8, 9, 7, 3, 8, 9, 9, 9, 9, 9, 9, 9, 6, 9, 9, 9,\n",
      "        9, 8, 9, 9, 9, 0, 8, 9]), 'length': tensor([ 9, 57,  7, 18, 11,  8, 17, 79, 44, 10, 20, 59, 23, 39, 12, 19, 14, 12,\n",
      "         9, 28, 78, 21, 35, 18, 47, 15, 25, 13, 24,  4, 11, 11])}\n",
      "78 {'inputs': tensor([[   2, 1479, 5760,  ...,    1,    1,    1],\n",
      "        [   2, 4368, 1574,  ...,    1,    1,    1],\n",
      "        [   2, 3087, 6781,  ...,    1,    1,    1],\n",
      "        ...,\n",
      "        [   2, 2095, 6553,  ...,    1,    1,    1],\n",
      "        [   2, 3225, 4212,  ...,    1,    1,    1],\n",
      "        [   2,  624, 7220,  ...,    1,    1,    1]]), 'labels': tensor([6, 9, 8, 7, 0, 6, 0, 7, 2, 9, 7, 5, 8, 9, 8, 9, 9, 9, 9, 3, 9, 7, 9, 7,\n",
      "        9, 0, 0, 9, 3, 9, 5, 9]), 'length': tensor([11, 16, 11, 15, 22, 15, 30, 24, 13, 19, 14, 18, 13, 21, 30,  9, 10, 18,\n",
      "        17, 15, 20, 64,  9, 30, 22, 37,  5, 58, 32, 17, 13, 29])}\n",
      "79 {'inputs': tensor([[   2, 5102,  517,  ...,    1,    1,    1],\n",
      "        [   2, 4297, 7344,  ...,    1,    1,    1],\n",
      "        [   2, 2705, 7784,  ...,    1,    1,    1],\n",
      "        ...,\n",
      "        [   2, 3920, 6116,  ...,    1,    1,    1],\n",
      "        [   2, 3701, 7088,  ...,    1,    1,    1],\n",
      "        [   2, 4207, 7003,  ...,    1,    1,    1]]), 'labels': tensor([7, 9, 9, 9, 8, 9, 8, 0, 3, 9, 5, 7, 0, 8, 7, 8, 0, 0, 9, 8, 8, 5, 2, 8,\n",
      "        8, 9, 3, 7, 5, 9, 9, 9]), 'length': tensor([12, 14, 13,  6, 18, 28, 20, 14, 26, 45,  9, 67, 31, 17, 20, 16, 60, 28,\n",
      "        73, 12, 12, 17, 30, 32, 20, 83, 18,  9, 12, 13, 18, 15])}\n",
      "80 {'inputs': tensor([[   2, 3714, 6896,  ...,    1,    1,    1],\n",
      "        [   2, 4012, 7170,  ...,    1,    1,    1],\n",
      "        [   2, 3489, 5355,  ...,    1,    1,    1],\n",
      "        ...,\n",
      "        [   2, 1434, 7724,  ...,    1,    1,    1],\n",
      "        [   2, 1963, 4919,  ...,    1,    1,    1],\n",
      "        [   2, 3524, 5439,  ...,    1,    1,    1]]), 'labels': tensor([9, 8, 9, 0, 5, 6, 7, 9, 2, 3, 4, 9, 9, 9, 9, 2, 9, 6, 9, 9, 8, 9, 9, 9,\n",
      "        9, 9, 6, 7, 0, 5, 9, 9]), 'length': tensor([23, 19, 13, 21, 12,  8, 38, 27, 20, 20, 32, 17, 68, 10, 73, 25, 13, 41,\n",
      "        32, 11, 21, 19, 12, 12, 12, 13, 40, 11,  9, 71, 17, 20])}\n",
      "81 {'inputs': tensor([[   2,  517, 7894,  ...,    1,    1,    1],\n",
      "        [   2,  680,  329,  ...,    1,    1,    1],\n",
      "        [   2, 4501, 5766,  ...,    1,    1,    1],\n",
      "        ...,\n",
      "        [   2, 4762, 1395,  ...,    1,    1,    1],\n",
      "        [   2, 4209, 2293,  ...,    1,    1,    1],\n",
      "        [   2, 2044, 1185,  ...,    1,    1,    1]]), 'labels': tensor([4, 0, 8, 9, 9, 9, 7, 9, 7, 8, 8, 7, 9, 6, 9, 5, 6, 5, 9, 4, 0, 6, 9, 6,\n",
      "        7, 9, 1, 0, 9, 9, 8, 3]), 'length': tensor([51, 23, 16, 10, 12, 29, 18, 28, 23, 10, 10, 35, 16,  9, 20, 13,  4, 12,\n",
      "        17, 22, 15, 21,  5, 25, 10,  7, 21, 52, 39, 32, 12,  7])}\n",
      "82 {'inputs': tensor([[   2, 2778, 7096,  ...,    1,    1,    1],\n",
      "        [   2,  635, 5558,  ...,    1,    1,    1],\n",
      "        [   2, 1023, 5336,  ...,    1,    1,    1],\n",
      "        ...,\n",
      "        [   2, 3093, 6150,  ...,    1,    1,    1],\n",
      "        [   2, 3969, 6269,  ...,    1,    1,    1],\n",
      "        [   2, 4102, 3978,  ...,    1,    1,    1]]), 'labels': tensor([7, 5, 5, 9, 9, 9, 9, 8, 9, 7, 9, 9, 4, 9, 0, 7, 7, 9, 5, 9, 7, 9, 3, 7,\n",
      "        9, 8, 9, 0, 7, 9, 9, 9]), 'length': tensor([19, 78, 92, 10, 15, 17, 13, 20,  8, 18,  5, 27, 11, 22, 46, 18, 12, 27,\n",
      "        14, 24, 24, 33,  8, 27,  5, 42, 18,  7, 15, 16, 18,  8])}\n",
      "83 {'inputs': tensor([[   2, 2417, 5382,  ...,    1,    1,    1],\n",
      "        [   2, 3133, 7095,  ...,    1,    1,    1],\n",
      "        [   2,  517, 5441,  ...,    1,    1,    1],\n",
      "        ...,\n",
      "        [   2,  517, 6018,  ...,    1,    1,    1],\n",
      "        [   2,  517, 7597,  ...,    1,    1,    1],\n",
      "        [   2, 1914, 5330,  ...,    1,    1,    1]]), 'labels': tensor([7, 7, 9, 4, 9, 9, 5, 9, 9, 8, 9, 9, 8, 5, 7, 8, 5, 0, 9, 0, 9, 6, 2, 9,\n",
      "        6, 9, 9, 9, 9, 7, 9, 4]), 'length': tensor([16, 35, 37, 47, 21, 10, 10, 22, 22, 22, 14, 14,  9, 12,  8, 29, 14, 15,\n",
      "         4, 15, 27, 17, 18, 57, 12, 51, 32, 21, 16, 24, 34,  9])}\n",
      "84 {'inputs': tensor([[   2,  611, 7220,  ...,    1,    1,    1],\n",
      "        [   2,  517, 6188,  ...,    1,    1,    1],\n",
      "        [   2, 4360, 7227,  ...,    1,    1,    1],\n",
      "        ...,\n",
      "        [   2, 1316, 6228,  ...,    1,    1,    1],\n",
      "        [   2, 2207, 7318,  ...,    1,    1,    1],\n",
      "        [   2, 3036, 7942,  ...,    1,    1,    1]]), 'labels': tensor([9, 7, 8, 9, 8, 9, 5, 9, 6, 9, 8, 0, 9, 8, 7, 0, 9, 6, 7, 8, 9, 9, 8, 6,\n",
      "        9, 8, 9, 8, 9, 7, 8, 9]), 'length': tensor([ 8, 22, 16, 18, 28, 22, 21, 30, 45, 83, 27, 11, 20, 28, 40, 19, 14, 26,\n",
      "        14, 79,  5,  9, 48, 36, 73, 21, 16, 49, 29, 13, 26, 58])}\n",
      "85 {'inputs': tensor([[   2,  517,  492,  ...,    1,    1,    1],\n",
      "        [   2, 2929, 6135,  ...,    1,    1,    1],\n",
      "        [   2, 3954, 5546,  ...,    1,    1,    1],\n",
      "        ...,\n",
      "        [   2,  517, 7016,  ...,    1,    1,    1],\n",
      "        [   2,  517,  248,  ...,    1,    1,    1],\n",
      "        [   2,  517, 5620,  ...,    1,    1,    1]]), 'labels': tensor([9, 9, 0, 9, 9, 9, 9, 4, 4, 1, 0, 9, 9, 9, 9, 9, 7, 6, 9, 5, 9, 7, 9, 9,\n",
      "        0, 9, 9, 9, 9, 9, 9, 9]), 'length': tensor([36, 28, 22, 39, 14, 20, 12, 27, 23, 45, 25, 25, 17,  7, 22, 14, 39, 21,\n",
      "        21, 26, 19, 15, 25, 18, 29, 20, 12,  4, 29, 15, 15, 37])}\n",
      "86 {'inputs': tensor([[   2, 3672, 2034,  ...,    1,    1,    1],\n",
      "        [   2, 4998, 7767,  ...,    1,    1,    1],\n",
      "        [   2, 3357, 6064,  ...,    1,    1,    1],\n",
      "        ...,\n",
      "        [   2,  529, 7220,  ...,    1,    1,    1],\n",
      "        [   2, 3969, 7848,  ...,    1,    1,    1],\n",
      "        [   2,  926, 7086,  ...,    1,    1,    1]]), 'labels': tensor([9, 8, 3, 9, 9, 9, 9, 6, 9, 9, 2, 9, 7, 0, 0, 9, 6, 9, 9, 9, 2, 7, 1, 9,\n",
      "        9, 2, 9, 9, 9, 9, 7, 6]), 'length': tensor([14, 27, 24, 25,  8,  9, 13, 13, 20, 27, 19, 69, 58, 20, 23, 27, 14, 13,\n",
      "        24, 22, 19, 18, 69, 17,  5, 26, 19, 10, 11, 26, 52, 27])}\n",
      "87 {'inputs': tensor([[   2, 4162, 7344,  ...,    1,    1,    1],\n",
      "        [   2, 4102, 4522,  ...,    1,    1,    1],\n",
      "        [   2, 4102,  517,  ...,    1,    1,    1],\n",
      "        ...,\n",
      "        [   2, 4164, 4478,  ...,    1,    1,    1],\n",
      "        [   2, 4519, 5450,  ...,    1,    1,    1],\n",
      "        [   2, 1434, 7119,  ...,    1,    1,    1]]), 'labels': tensor([8, 9, 9, 9, 0, 6, 9, 9, 9, 8, 8, 9, 8, 5, 9, 9, 0, 9, 7, 0, 4, 9, 9, 7,\n",
      "        9, 9, 9, 0, 9, 7, 9, 0]), 'length': tensor([18, 32,  6, 22, 39,  8, 12, 35, 25, 28, 10, 27, 26, 20, 37, 19, 25, 15,\n",
      "        12, 23, 30, 32, 20, 10, 12, 28, 21, 11, 11, 19,  6, 10])}\n",
      "88 {'inputs': tensor([[   2, 1189, 2781,  ...,    1,    1,    1],\n",
      "        [   2, 4996, 4360,  ...,    1,    1,    1],\n",
      "        [   2, 5051, 2633,  ...,    1,    1,    1],\n",
      "        ...,\n",
      "        [   2, 1453, 3824,  ...,    1,    1,    1],\n",
      "        [   2, 2366, 1436,  ...,    1,    1,    1],\n",
      "        [   2,  777, 6150,  ...,    1,    1,    1]]), 'labels': tensor([4, 8, 9, 7, 9, 0, 5, 0, 9, 4, 9, 6, 5, 7, 9, 8, 9, 0, 8, 9, 6, 9, 5, 4,\n",
      "        9, 7, 9, 6, 2, 3, 9, 6]), 'length': tensor([21, 68, 20, 14,  9,  5, 28, 17, 28, 11, 15, 33, 21,  9, 16, 27, 11, 28,\n",
      "        22, 24, 22, 15, 16, 15, 29, 22,  8, 25, 25, 25,  8, 20])}\n",
      "89 {'inputs': tensor([[   2, 3969, 6269,  ...,    1,    1,    1],\n",
      "        [   2, 1861, 4971,  ...,    1,    1,    1],\n",
      "        [   2,  517, 6039,  ...,    1,    1,    1],\n",
      "        ...,\n",
      "        [   2, 3916, 7088,  ...,    1,    1,    1],\n",
      "        [   2,  517, 7086,  ...,    1,    1,    1],\n",
      "        [   2, 4635, 7673,  ...,    1,    1,    1]]), 'labels': tensor([6, 3, 9, 8, 7, 9, 4, 9, 6, 9, 9, 5, 6, 9, 0, 6, 9, 0, 8, 9, 7, 9, 9, 9,\n",
      "        7, 9, 0, 0, 9, 8, 9, 0]), 'length': tensor([32, 12, 17, 17, 21, 25, 46, 14,  7, 20, 14, 37, 17, 29, 20, 11, 11, 26,\n",
      "        16, 35, 11, 14, 30, 21, 16, 37, 39, 14, 19, 28, 30, 14])}\n",
      "90 {'inputs': tensor([[   2, 4102, 1633,  ...,    1,    1,    1],\n",
      "        [   2, 4012, 7170,  ...,    1,    1,    1],\n",
      "        [   2, 1189, 3990,  ...,    1,    1,    1],\n",
      "        ...,\n",
      "        [   2,  517,  492,  ...,    1,    1,    1],\n",
      "        [   2,  517, 6596,  ...,    1,    1,    1],\n",
      "        [   2,  543, 6579,  ...,    1,    1,    1]]), 'labels': tensor([9, 6, 7, 9, 6, 0, 9, 9, 9, 9, 9, 0, 9, 0, 9, 6, 1, 0, 7, 2, 9, 7, 9, 0,\n",
      "        4, 9, 7, 7, 5, 8, 0, 8]), 'length': tensor([14, 21, 11, 14, 51, 16, 11, 47,  4, 23, 23, 80, 34, 29, 11, 38, 25, 20,\n",
      "         6, 13, 33, 25, 19, 35, 10, 12, 16, 12, 77, 26, 21, 55])}\n",
      "91 {'inputs': tensor([[   2, 4703, 7581,  ...,    1,    1,    1],\n",
      "        [   2, 4235, 6188,  ...,    1,    1,    1],\n",
      "        [   2, 4524, 1907,  ...,    1,    1,    1],\n",
      "        ...,\n",
      "        [   2, 4379, 7350,  ...,    1,    1,    1],\n",
      "        [   2, 2366, 5678,  ...,    1,    1,    1],\n",
      "        [   2, 1096, 6204,  ...,    1,    1,    1]]), 'labels': tensor([9, 9, 9, 8, 9, 9, 0, 9, 9, 7, 8, 3, 9, 9, 1, 9, 8, 9, 9, 8, 9, 8, 8, 6,\n",
      "        0, 6, 9, 2, 6, 9, 9, 3]), 'length': tensor([14, 11, 14, 13, 21, 15, 32, 21, 21, 15, 11, 11,  7,  4, 29, 27, 25, 16,\n",
      "        32, 24, 13, 19, 12, 15, 14, 18, 36, 11, 16, 22, 21, 81])}\n",
      "92 {'inputs': tensor([[   2, 4843, 4977,  ...,    1,    1,    1],\n",
      "        [   2,  517, 6473,  ...,    1,    1,    1],\n",
      "        [   2, 1435, 2408,  ...,    1,    1,    1],\n",
      "        ...,\n",
      "        [   2, 4841, 7220,  ...,    1,    1,    1],\n",
      "        [   2, 1861, 6366,  ...,    1,    1,    1],\n",
      "        [   2, 4468, 6900,  ...,    1,    1,    1]]), 'labels': tensor([9, 5, 9, 9, 2, 9, 8, 9, 5, 7, 9, 9, 6, 9, 0, 9, 8, 6, 4, 9, 2, 1, 8, 9,\n",
      "        3, 0, 9, 9, 9, 9, 9, 9]), 'length': tensor([ 8, 26, 24, 26,  8, 36, 29, 25,  6, 21, 23, 14, 17, 17, 26, 10, 23, 23,\n",
      "        24, 10, 25, 32,  9, 15, 12, 14, 34, 25, 11, 22,  5, 53])}\n",
      "93 {'inputs': tensor([[   2, 2602, 6400,  ...,    1,    1,    1],\n",
      "        [   2,  517, 7145,  ...,    1,    1,    1],\n",
      "        [   2, 3220, 6135,  ...,    1,    1,    1],\n",
      "        ...,\n",
      "        [   2, 1258, 7153,  ...,    1,    1,    1],\n",
      "        [   2, 2408, 6804,  ...,    1,    1,    1],\n",
      "        [   2, 2929, 6135,  ...,    1,    1,    1]]), 'labels': tensor([9, 7, 9, 1, 9, 0, 9, 9, 9, 9, 9, 9, 8, 0, 9, 9, 8, 5, 0, 6, 8, 9, 0, 9,\n",
      "        7, 1, 3, 8, 0, 7, 6, 9]), 'length': tensor([12, 18, 50, 25,  7, 13, 16, 13, 12, 10, 16, 11,  9, 25, 20, 33,  8, 30,\n",
      "        44, 12, 31, 24, 11, 31, 32, 19, 20, 33, 22, 52, 20, 21])}\n",
      "94 {'inputs': tensor([[   2, 3355, 5650,  ...,    1,    1,    1],\n",
      "        [   2, 2649, 5468,  ...,    1,    1,    1],\n",
      "        [   2, 3380, 5468,  ...,    1,    1,    1],\n",
      "        ...,\n",
      "        [   2, 4013, 5330,  ...,    1,    1,    1],\n",
      "        [   2, 1450, 1339,  ...,    1,    1,    1],\n",
      "        [   2, 3969, 6269,  ...,    1,    1,    1]]), 'labels': tensor([6, 7, 9, 9, 8, 6, 9, 9, 9, 0, 9, 7, 8, 1, 0, 8, 9, 9, 1, 9, 5, 0, 1, 0,\n",
      "        0, 9, 0, 9, 6, 9, 7, 8]), 'length': tensor([21, 14, 27, 31, 16, 27, 12, 18, 25, 13, 34,  6, 29, 46, 21, 13,  6, 43,\n",
      "        85, 15, 36, 75, 45,  8, 26, 10, 13, 12, 23, 29, 18,  7])}\n",
      "95 {'inputs': tensor([[   2, 2514, 6965,  ...,    1,    1,    1],\n",
      "        [   2, 4688, 1103,  ...,    1,    1,    1],\n",
      "        [   2, 2959, 7436,  ...,    1,    1,    1],\n",
      "        ...,\n",
      "        [   2, 4050, 7078,  ...,    1,    1,    1],\n",
      "        [   2, 4128, 6003,  ...,    1,    1,    1],\n",
      "        [   2, 4645, 6896,  ...,    1,    1,    1]]), 'labels': tensor([9, 5, 4, 9, 6, 9, 9, 9, 9, 8, 5, 9, 9, 9, 1, 5, 9, 9, 9, 9, 7, 0, 9, 9,\n",
      "        9, 8, 8, 9, 9, 9, 6, 6]), 'length': tensor([13, 21, 28, 15, 23, 27, 45,  7, 26, 19, 21,  8, 19, 19, 26, 16, 24, 18,\n",
      "        31, 14, 13, 18, 34, 34, 14, 31, 79, 30, 12, 29, 27, 15])}\n",
      "96 {'inputs': tensor([[   2, 1189, 3977,  ...,    1,    1,    1],\n",
      "        [   2, 3111, 6122,  ...,    1,    1,    1],\n",
      "        [   2, 1370, 6488,  ...,    1,    1,    1],\n",
      "        ...,\n",
      "        [   2, 5178, 6896,  ...,    1,    1,    1],\n",
      "        [   2, 3647, 3394,  ...,    1,    1,    1],\n",
      "        [   2,  542, 7941,  ...,    1,    1,    1]]), 'labels': tensor([6, 5, 9, 7, 9, 9, 8, 0, 5, 8, 9, 9, 9, 9, 8, 9, 9, 9, 8, 9, 9, 9, 8, 6,\n",
      "        8, 9, 9, 9, 9, 9, 9, 5]), 'length': tensor([20, 23, 21, 14, 14, 51, 24, 20, 30, 29,  6, 16, 38, 15, 21, 63, 19, 20,\n",
      "         8, 24, 12, 24, 11, 12, 19, 10,  8,  9,  6, 22, 22, 15])}\n",
      "97 {'inputs': tensor([[   2, 4483, 7467,  ...,    1,    1,    1],\n",
      "        [   2, 3773, 5590,  ...,    1,    1,    1],\n",
      "        [   2, 1458, 1270,  ...,    1,    1,    1],\n",
      "        ...,\n",
      "        [   2,  517, 5859,  ...,    1,    1,    1],\n",
      "        [   2,  517, 7989,  ...,    1,    1,    1],\n",
      "        [   2, 2358, 7141,  ...,    1,    1,    1]]), 'labels': tensor([9, 9, 0, 9, 9, 7, 8, 9, 0, 7, 9, 0, 2, 6, 9, 9, 1, 9, 9, 9, 8, 9, 3, 9,\n",
      "        6, 9, 5, 1, 9, 0, 3, 0]), 'length': tensor([ 8,  9, 14, 18, 21, 21, 14, 11, 18, 10, 27, 15, 12, 22, 18,  9, 16, 19,\n",
      "        11, 31, 56, 12, 17, 13, 29, 12, 14,  9, 22, 18, 13, 16])}\n",
      "98 {'inputs': tensor([[   2, 2293, 7095,  ...,    1,    1,    1],\n",
      "        [   2, 3927, 3227,  ...,    1,    1,    1],\n",
      "        [   2, 3327, 3039,  ...,    1,    1,    1],\n",
      "        ...,\n",
      "        [   2, 3533, 6450,  ...,    1,    1,    1],\n",
      "        [   2, 1562, 7533,  ...,    1,    1,    1],\n",
      "        [   2,  517, 5673,  ...,    1,    1,    1]]), 'labels': tensor([9, 5, 9, 9, 8, 9, 9, 6, 9, 9, 0, 9, 9, 8, 7, 9, 9, 9, 9, 9, 5, 0, 8, 8,\n",
      "        7, 9, 0, 4, 4, 9, 9, 6]), 'length': tensor([21, 69,  9, 22, 24, 29, 10, 18,  6, 17, 17, 19, 32, 24, 18, 15, 23, 14,\n",
      "        42,  8, 28, 23, 25, 44, 12, 11, 13, 27, 62, 31, 19, 20])}\n",
      "99 {'inputs': tensor([[   2, 3093,   46,  ...,    1,    1,    1],\n",
      "        [   2, 3093, 4102,  ...,    1,    1,    1],\n",
      "        [   2, 3537, 7096,  ...,    1,    1,    1],\n",
      "        ...,\n",
      "        [   2, 5090, 6037,  ...,    1,    1,    1],\n",
      "        [   2, 1730, 5468,  ...,    1,    1,    1],\n",
      "        [   2,  791, 7100,  ...,    1,    1,    1]]), 'labels': tensor([9, 8, 8, 8, 7, 9, 4, 9, 8, 9, 5, 9, 9, 3, 6, 9, 5, 9, 6, 8, 9, 9, 9, 9,\n",
      "        8, 9, 6, 3, 9, 9, 8, 9]), 'length': tensor([29, 17, 72, 23, 49,  7, 22,  4, 12,  8,  8,  9, 51, 80, 28, 21, 21, 12,\n",
      "        13, 61, 18, 22, 26, 20, 34, 23, 15, 34, 21, 14, 15, 13])}\n",
      "100 {'inputs': tensor([[   2, 3093, 6964,  ...,    1,    1,    1],\n",
      "        [   2, 5112, 7096,  ...,    1,    1,    1],\n",
      "        [   2, 1458,  517,  ...,    1,    1,    1],\n",
      "        ...,\n",
      "        [   2, 1537, 5664,  ...,    1,    1,    1],\n",
      "        [   2, 1185, 7207,  ...,    1,    1,    1],\n",
      "        [   2, 2408, 5943,  ...,    1,    1,    1]]), 'labels': tensor([0, 7, 6, 9, 0, 5, 8, 9, 6, 0, 9, 9, 9, 8, 9, 5, 9, 9, 9, 9, 9, 9, 9, 9,\n",
      "        9, 9, 9, 8, 9, 9, 9, 0]), 'length': tensor([ 9, 16,  8, 65, 25, 22, 61, 33, 23, 62, 11,  9, 20, 14, 11, 11, 31, 18,\n",
      "         9, 23, 14, 29, 21, 25, 26, 34, 11, 16, 27, 21, 26, 29])}\n",
      "101 {'inputs': tensor([[   2, 3501,  953,  ...,    1,    1,    1],\n",
      "        [   2,  517, 6983,  ...,    1,    1,    1],\n",
      "        [   2, 3647, 5384,  ...,    1,    1,    1],\n",
      "        ...,\n",
      "        [   2,  517, 7428,  ...,    1,    1,    1],\n",
      "        [   2, 3647, 5377,  ...,    1,    1,    1],\n",
      "        [   2, 4102, 1641,  ...,    1,    1,    1]]), 'labels': tensor([9, 0, 9, 6, 9, 9, 9, 9, 9, 9, 9, 9, 9, 9, 9, 8, 9, 9, 9, 0, 4, 5, 9, 9,\n",
      "        5, 8, 4, 9, 0, 9, 6, 9]), 'length': tensor([38, 34, 13, 17, 17, 14, 10, 10, 21,  7,  9, 13, 25, 16,  7, 32, 30, 20,\n",
      "         8, 65, 12, 79, 14, 38, 31,  6, 44, 19, 70, 61, 25, 16])}\n",
      "102 {'inputs': tensor([[   2, 3461,  835,  ...,    1,    1,    1],\n",
      "        [   2, 4298, 6116,  ...,    1,    1,    1],\n",
      "        [   2, 2095, 5985,  ...,    1,    1,    1],\n",
      "        ...,\n",
      "        [   2, 3394, 6366,  ...,    1,    1,    1],\n",
      "        [   2, 4368, 1919,  ...,    1,    1,    1],\n",
      "        [   2, 3647, 5384,  ...,    1,    1,    1]]), 'labels': tensor([8, 9, 9, 9, 9, 6, 4, 9, 9, 4, 9, 9, 8, 9, 9, 0, 3, 3, 8, 9, 6, 9, 7, 5,\n",
      "        0, 7, 9, 9, 0, 9, 9, 0]), 'length': tensor([ 9, 33, 22, 12, 17,  7, 21, 40, 14, 16, 13, 17, 79, 24, 19, 17, 20, 24,\n",
      "        12, 20, 14, 33, 14, 19, 15, 30, 22, 16, 11, 17, 62,  9])}\n",
      "103 {'inputs': tensor([[   2, 4524, 3394,  ...,    1,    1,    1],\n",
      "        [   2,  517, 6591,  ...,    1,    1,    1],\n",
      "        [   2, 4524, 3202,  ...,    1,    1,    1],\n",
      "        ...,\n",
      "        [   2, 1058, 5064,  ...,    1,    1,    1],\n",
      "        [   2, 4116, 5785,  ...,    1,    1,    1],\n",
      "        [   2, 4998, 7767,  ...,    1,    1,    1]]), 'labels': tensor([9, 3, 9, 0, 6, 6, 9, 9, 4, 9, 8, 9, 0, 8, 7, 9, 8, 1, 9, 0, 9, 9, 8, 9,\n",
      "        8, 9, 7, 8, 9, 9, 0, 9]), 'length': tensor([18, 34, 14, 19, 15, 10, 34,  9, 21, 15,  6,  3, 11, 90, 24, 28, 25, 31,\n",
      "        19, 28, 10, 89, 12, 20,  9, 20, 21, 16, 38, 16, 28, 19])}\n",
      "104 {'inputs': tensor([[   2, 1434, 4598,  ...,    1,    1,    1],\n",
      "        [   2, 1267, 7170,  ...,    1,    1,    1],\n",
      "        [   2, 1073, 6811,  ...,    1,    1,    1],\n",
      "        ...,\n",
      "        [   2, 4691, 7837,  ...,    1,    1,    1],\n",
      "        [   2, 2970, 6983,  ...,    1,    1,    1],\n",
      "        [   2, 3969, 6269,  ...,    1,    1,    1]]), 'labels': tensor([8, 9, 9, 9, 3, 8, 9, 8, 9, 4, 6, 9, 1, 7, 9, 0, 8, 7, 9, 0, 9, 9, 9, 8,\n",
      "        9, 0, 9, 0, 8, 8, 9, 9]), 'length': tensor([ 9,  7, 38, 12, 18, 75, 21,  9, 30, 15, 18, 14, 13, 24, 41, 27, 18, 24,\n",
      "        16, 18, 32, 19, 21, 17,  8,  8, 15, 20, 49, 16, 19,  7])}\n",
      "105 {'inputs': tensor([[   2,  517, 6188,  ...,    1,    1,    1],\n",
      "        [   2, 2186, 5908,  ...,    1,    1,    1],\n",
      "        [   2, 1100, 7086,  ...,    1,    1,    1],\n",
      "        ...,\n",
      "        [   2, 1409, 5940,  ...,    1,    1,    1],\n",
      "        [   2, 3394, 4054,  ...,    1,    1,    1],\n",
      "        [   2,  803, 5468,  ...,    1,    1,    1]]), 'labels': tensor([9, 9, 9, 9, 9, 8, 9, 9, 9, 0, 4, 7, 8, 9, 9, 8, 5, 9, 9, 0, 9, 6, 0, 3,\n",
      "        9, 7, 6, 9, 0, 2, 6, 9]), 'length': tensor([ 8, 16, 18, 33, 78, 19, 24, 15, 14, 13, 18, 68, 75,  7, 32, 16, 32, 91,\n",
      "        18, 17, 23, 11, 11,  9, 18, 65, 38,  4, 45, 26, 26, 26])}\n",
      "106 {'inputs': tensor([[   2, 2860, 7078,  ...,    1,    1,    1],\n",
      "        [   2,  553, 5793,  ...,    1,    1,    1],\n",
      "        [   2, 3093, 5808,  ...,    1,    1,    1],\n",
      "        ...,\n",
      "        [   2, 1409, 5872,  ...,    1,    1,    1],\n",
      "        [   2, 3085,   54,  ...,    1,    1,    1],\n",
      "        [   2, 1830, 7495,  ...,    1,    1,    1]]), 'labels': tensor([9, 0, 9, 9, 9, 9, 5, 9, 9, 7, 9, 9, 9, 6, 5, 9, 4, 9, 8, 9, 9, 5, 8, 8,\n",
      "        9, 6, 3, 9, 9, 0, 0, 9]), 'length': tensor([20, 25, 16, 11, 29, 16, 17, 34, 10, 20, 18, 26, 11, 11, 26, 16, 21, 33,\n",
      "        20, 37, 10,  6, 15, 23, 12, 25,  9, 20, 48, 25, 22, 28])}\n",
      "107 {'inputs': tensor([[   2,  517, 6618,  ...,    1,    1,    1],\n",
      "        [   2, 1132, 6516,  ...,    1,    1,    1],\n",
      "        [   2, 1165, 7119,  ...,    1,    1,    1],\n",
      "        ...,\n",
      "        [   2, 2293, 3341,  ...,    1,    1,    1],\n",
      "        [   2, 5037, 6228,  ...,    1,    1,    1],\n",
      "        [   2,  517, 6037,  ...,    1,    1,    1]]), 'labels': tensor([2, 8, 0, 9, 8, 0, 8, 7, 5, 9, 0, 5, 0, 0, 3, 9, 6, 0, 8, 9, 3, 5, 9, 9,\n",
      "        2, 9, 0, 9, 9, 7, 5, 9]), 'length': tensor([28, 15, 11,  7, 12, 22, 27, 11, 15, 12, 49, 16,  6, 12, 24, 15, 21, 15,\n",
      "        21,  9, 17, 32, 13, 22, 14, 58, 14, 34, 19, 23, 24, 29])}\n",
      "108 {'inputs': tensor([[   2, 1458, 3941,  ...,    1,    1,    1],\n",
      "        [   2, 3977, 7140,  ...,    1,    1,    1],\n",
      "        [   2,  517, 7313,  ...,    1,    1,    1],\n",
      "        ...,\n",
      "        [   2, 3327,  529,  ...,    1,    1,    1],\n",
      "        [   2, 3528, 7147,  ...,    1,    1,    1],\n",
      "        [   2, 1537, 7096,  ...,    1,    1,    1]]), 'labels': tensor([0, 9, 9, 7, 0, 9, 3, 7, 8, 8, 9, 7, 9, 7, 2, 9, 5, 6, 3, 2, 9, 9, 9, 1,\n",
      "        9, 8, 9, 9, 8, 5, 1, 9]), 'length': tensor([10, 23, 12, 27, 19, 12, 34,  8, 25,  6, 40, 26, 18, 19, 28, 14, 23, 10,\n",
      "        21, 30, 15, 29, 26, 27, 18, 27, 20, 26, 18, 19, 16,  8])}\n",
      "109 {'inputs': tensor([[   2, 1023, 7965,  ...,    1,    1,    1],\n",
      "        [   2, 4368, 1963,  ...,    1,    1,    1],\n",
      "        [   2, 3647, 5384,  ...,    1,    1,    1],\n",
      "        ...,\n",
      "        [   2,  517,  493,  ...,    1,    1,    1],\n",
      "        [   2, 1406, 3533,  ...,    1,    1,    1],\n",
      "        [   2,  517,  492,  ...,    1,    1,    1]]), 'labels': tensor([7, 9, 9, 7, 9, 9, 8, 9, 8, 9, 4, 6, 9, 9, 9, 7, 9, 0, 7, 9, 9, 8, 9, 9,\n",
      "        9, 8, 3, 9, 0, 9, 8, 9]), 'length': tensor([21, 25, 25, 21, 33, 10, 19, 20,  9, 12, 26, 11, 17, 14,  9, 29, 13, 49,\n",
      "        37, 12, 54, 24,  6, 15,  9, 32, 13,  9,  5,  9, 30, 46])}\n",
      "110 {'inputs': tensor([[   2, 1615, 5801,  ...,    1,    1,    1],\n",
      "        [   2, 3257, 6799,  ...,    1,    1,    1],\n",
      "        [   2,  517, 5961,  ...,    1,    1,    1],\n",
      "        ...,\n",
      "        [   2, 4368, 5341,  ...,    1,    1,    1],\n",
      "        [   2, 3358, 6328,  ...,    1,    1,    1],\n",
      "        [   2, 1406, 3978,  ...,    1,    1,    1]]), 'labels': tensor([0, 9, 8, 6, 6, 9, 0, 4, 0, 4, 9, 9, 9, 9, 0, 4, 9, 9, 9, 3, 0, 9, 0, 0,\n",
      "        9, 9, 7, 9, 6, 9, 9, 9]), 'length': tensor([25,  8, 23, 10,  8, 25, 29, 36,  8, 29, 28, 19, 15, 46, 20, 13, 14, 15,\n",
      "        24, 79, 34, 21,  5,  9, 19, 27, 19, 13, 57, 10, 13, 17])}\n",
      "111 {'inputs': tensor([[   2, 1458, 1270,  ...,    1,    1,    1],\n",
      "        [   2, 3574, 7858,  ...,    1,    1,    1],\n",
      "        [   2, 3990, 5760,  ...,    1,    1,    1],\n",
      "        ...,\n",
      "        [   2, 3647, 5384,  ...,    1,    1,    1],\n",
      "        [   2, 1963, 7774,  ...,    1,    1,    1],\n",
      "        [   2, 1537, 6771,  ...,    1,    1,    1]]), 'labels': tensor([0, 6, 9, 9, 1, 0, 9, 8, 0, 3, 9, 2, 8, 0, 8, 9, 9, 9, 4, 6, 9, 0, 6, 9,\n",
      "        0, 1, 9, 9, 4, 9, 9, 9]), 'length': tensor([ 8, 19, 69, 25, 29, 10, 12, 23, 77,  8, 24, 30, 32, 29,  9, 24, 15, 75,\n",
      "         8, 16, 21, 60, 15, 18, 12, 37, 12, 10, 49, 13,  9, 26])}\n",
      "112 {'inputs': tensor([[   2, 4487, 5561,  ...,    1,    1,    1],\n",
      "        [   2, 4128, 5330,  ...,    1,    1,    1],\n",
      "        [   2, 3647, 3394,  ...,    1,    1,    1],\n",
      "        ...,\n",
      "        [   2,  807, 7427,  ...,    1,    1,    1],\n",
      "        [   2, 4257,   46,  ...,    1,    1,    1],\n",
      "        [   2, 2095, 6553,  ...,    1,    1,    1]]), 'labels': tensor([1, 9, 8, 8, 8, 3, 0, 9, 9, 9, 9, 9, 9, 9, 5, 8, 9, 9, 9, 9, 9, 7, 9, 9,\n",
      "        7, 9, 0, 1, 1, 4, 3, 5]), 'length': tensor([25, 16, 18, 14, 14,  7, 33, 24, 74, 20, 44, 11, 17, 13, 27, 40, 24, 32,\n",
      "        13, 13,  6, 13, 11, 66, 74, 16, 29, 23, 37, 16, 14,  6])}\n",
      "113 {'inputs': tensor([[   2, 2081, 7138,  ...,    1,    1,    1],\n",
      "        [   2, 3954, 6295,  ...,    1,    1,    1],\n",
      "        [   2, 1458, 3978,  ...,    1,    1,    1],\n",
      "        ...,\n",
      "        [   2, 5114, 5495,  ...,    1,    1,    1],\n",
      "        [   2, 4162, 7003,  ...,    1,    1,    1],\n",
      "        [   2, 2110, 1449,  ...,    1,    1,    1]]), 'labels': tensor([9, 5, 9, 9, 9, 8, 9, 6, 7, 9, 9, 9, 9, 0, 8, 9, 6, 7, 0, 9, 9, 7, 7, 8,\n",
      "        9, 9, 9, 0, 8, 7, 9, 2]), 'length': tensor([16, 41, 15,  5,  9, 44,  6, 16, 18, 27, 12, 11, 13, 23, 12, 13, 23, 22,\n",
      "        28, 11, 18, 18, 14, 29, 11, 18, 42, 21, 21, 13, 11, 13])}\n",
      "114 {'inputs': tensor([[   2, 3298, 5424,  ...,    1,    1,    1],\n",
      "        [   2,  517, 5960,  ...,    1,    1,    1],\n",
      "        [   2, 3969, 6268,  ...,    1,    1,    1],\n",
      "        ...,\n",
      "        [   2, 4847, 7096,  ...,    1,    1,    1],\n",
      "        [   2, 4102, 7191,  ...,    1,    1,    1],\n",
      "        [   2, 3969, 6268,  ...,    1,    1,    1]]), 'labels': tensor([0, 4, 9, 2, 4, 9, 6, 8, 5, 9, 8, 9, 9, 9, 6, 8, 7, 9, 9, 9, 8, 3, 9, 6,\n",
      "        9, 3, 0, 9, 0, 9, 8, 8]), 'length': tensor([22,  7, 40, 12, 21, 10, 16, 26, 22, 12, 25,  9, 14,  9,  8, 86, 17, 26,\n",
      "        21, 21, 28, 19, 13, 25, 12, 42,  8, 14, 33, 37, 13, 11])}\n",
      "115 {'inputs': tensor([[   2, 2941, 5760,  ...,    1,    1,    1],\n",
      "        [   2,  621, 7220,  ...,    1,    1,    1],\n",
      "        [   2, 4257, 5865,  ...,    1,    1,    1],\n",
      "        ...,\n",
      "        [   2,  517,    0,  ...,    1,    1,    1],\n",
      "        [   2, 3461, 5521,  ...,    1,    1,    1],\n",
      "        [   2,  777, 6150,  ...,    1,    1,    1]]), 'labels': tensor([7, 6, 9, 7, 9, 5, 9, 9, 9, 9, 7, 9, 0, 0, 7, 9, 9, 9, 9, 4, 9, 9, 9, 9,\n",
      "        9, 7, 8, 8, 9, 8, 9, 9]), 'length': tensor([27, 11, 12, 15, 11, 26, 14, 51, 30, 19, 11,  5,  3, 20,  8, 27, 16,  8,\n",
      "        22, 22, 10, 29, 22, 24, 14, 40, 18, 21,  5,  7, 14, 29])}\n",
      "116 {'inputs': tensor([[   2, 1572,  517,  ...,    1,    1,    1],\n",
      "        [   2, 1458, 5691,  ...,    1,    1,    1],\n",
      "        [   2, 1102, 7191,  ...,    1,    1,    1],\n",
      "        ...,\n",
      "        [   2, 4102,  791,  ...,    1,    1,    1],\n",
      "        [   2, 3093, 1458,  ...,    1,    1,    1],\n",
      "        [   2, 2769, 6141,  ...,    1,    1,    1]]), 'labels': tensor([5, 9, 9, 9, 7, 8, 9, 9, 9, 9, 8, 9, 9, 8, 9, 9, 9, 7, 0, 0, 9, 7, 0, 9,\n",
      "        4, 8, 9, 5, 9, 9, 9, 8]), 'length': tensor([ 8, 33, 26, 18, 19, 66, 21, 33,  5, 11, 13, 20, 39, 15, 15, 70, 32, 19,\n",
      "        20, 13, 30,  5, 17, 15, 24, 25, 17, 23, 18,  6, 14, 16])}\n",
      "117 {'inputs': tensor([[   2, 4162, 7074,  ...,    1,    1,    1],\n",
      "        [   2, 4102,  517,  ...,    1,    1,    1],\n",
      "        [   2,  517, 5330,  ...,    1,    1,    1],\n",
      "        ...,\n",
      "        [   2, 2585, 4077,  ...,    1,    1,    1],\n",
      "        [   2,  526, 7220,  ...,    1,    1,    1],\n",
      "        [   2, 3969, 6269,  ...,    1,    1,    1]]), 'labels': tensor([9, 9, 7, 9, 4, 9, 7, 4, 2, 9, 6, 3, 3, 8, 9, 9, 7, 9, 7, 7, 8, 9, 0, 9,\n",
      "        9, 0, 0, 0, 9, 9, 0, 9]), 'length': tensor([11, 56, 18, 53, 11,  6, 17, 79, 62, 40, 18, 11, 85, 19, 65,  7, 29,  7,\n",
      "        13, 16, 26, 12, 61,  4, 10, 20, 15, 13, 50, 18, 20, 15])}\n",
      "118 {'inputs': tensor([[   2, 2311, 6410,  ...,    1,    1,    1],\n",
      "        [   2, 2146, 3298,  ...,    1,    1,    1],\n",
      "        [   2, 3394, 2355,  ...,    1,    1,    1],\n",
      "        ...,\n",
      "        [   2, 3039,    3,  ...,    1,    1,    1],\n",
      "        [   2, 3647, 5965,  ...,    1,    1,    1],\n",
      "        [   2, 1454, 6705,  ...,    1,    1,    1]]), 'labels': tensor([9, 9, 9, 9, 9, 8, 9, 9, 9, 9, 0, 8, 9, 0, 8, 9, 0, 6, 9, 9, 7, 6, 9, 9,\n",
      "        9, 2, 0, 0, 0, 0, 8, 9]), 'length': tensor([10,  7, 53, 25, 41, 56, 16,  8, 22, 13,  9, 23, 14, 79, 76, 32, 28, 17,\n",
      "        14, 17, 23,  5, 27, 22, 37,  9,  6, 13, 15,  3, 19, 19])}\n",
      "119 {'inputs': tensor([[   2, 3206, 7828,  ...,    1,    1,    1],\n",
      "        [   2, 1963, 7774,  ...,    1,    1,    1],\n",
      "        [   2, 1023, 6094,  ...,    1,    1,    1],\n",
      "        ...,\n",
      "        [   2, 3220, 6347,  ...,    1,    1,    1],\n",
      "        [   2,  921, 7096,  ...,    1,    1,    1],\n",
      "        [   2, 2417, 6150,  ...,    1,    1,    1]]), 'labels': tensor([9, 9, 9, 1, 9, 9, 9, 0, 6, 6, 6, 9, 0, 9, 9, 7, 9, 9, 8, 0, 0, 9, 0, 2,\n",
      "        8, 3, 9, 9, 9, 5, 0, 7]), 'length': tensor([ 6, 15, 14, 14, 24, 19, 30, 22, 21, 61, 25, 23, 11, 12, 14, 35, 12, 21,\n",
      "        16, 65, 27, 13, 43, 16, 12, 15, 13, 36,  6, 18, 12, 30])}\n",
      "120 {'inputs': tensor([[   2,  517, 7577,  ...,    1,    1,    1],\n",
      "        [   2, 1435, 3394,  ...,    1,    1,    1],\n",
      "        [   2, 4102, 7096,  ...,    1,    1,    1],\n",
      "        ...,\n",
      "        [   2,  693,  389,  ...,    1,    1,    1],\n",
      "        [   2, 1235, 6629,  ...,    1,    1,    1],\n",
      "        [   2, 3805, 3298,  ...,    1,    1,    1]]), 'labels': tensor([5, 9, 9, 9, 9, 0, 9, 7, 8, 8, 9, 9, 6, 7, 9, 9, 6, 9, 0, 8, 7, 9, 9, 7,\n",
      "        8, 9, 0, 4, 0, 5, 9, 9]), 'length': tensor([30, 31, 10, 16, 12, 22, 10, 20, 16, 15, 27, 11,  9, 11, 21, 45, 54, 36,\n",
      "         5, 16, 20, 17, 18, 16, 16, 34, 10, 32,  7, 19, 29, 24])}\n",
      "121 {'inputs': tensor([[   2, 3977, 6881,  ...,    1,    1,    1],\n",
      "        [   2,  517,  435,  ...,    1,    1,    1],\n",
      "        [   2,  517, 6357,  ...,    1,    1,    1],\n",
      "        ...,\n",
      "        [   2, 1919, 3960,  ...,    1,    1,    1],\n",
      "        [   2, 3977, 3272,  ...,    1,    1,    1],\n",
      "        [   2, 3123, 5468,  ...,    1,    1,    1]]), 'labels': tensor([0, 7, 0, 9, 7, 6, 8, 0, 9, 9, 0, 0, 9, 9, 7, 8, 6, 9, 9, 9, 9, 7, 9, 9,\n",
      "        8, 8, 7, 7, 2, 9, 5, 7]), 'length': tensor([13, 17, 12, 42, 43, 12, 31, 16, 10, 13, 73, 15, 22, 25, 42, 12,  8, 10,\n",
      "        19, 16, 11, 26,  9, 30, 17, 16, 25, 35, 24, 24, 18, 10])}\n",
      "122 {'inputs': tensor([[   2, 3112, 6005,  ...,    1,    1,    1],\n",
      "        [   2, 1562, 5931,  ...,    1,    1,    1],\n",
      "        [   2, 3093, 2145,  ...,    1,    1,    1],\n",
      "        ...,\n",
      "        [   2,  517, 5540,  ...,    1,    1,    1],\n",
      "        [   2, 2353, 2752,  ...,    1,    1,    1],\n",
      "        [   2, 1267, 6812,  ...,    1,    1,    1]]), 'labels': tensor([9, 9, 0, 9, 2, 7, 5, 9, 9, 9, 4, 0, 7, 0, 9, 0, 6, 0, 5, 9, 9, 9, 5, 9,\n",
      "        6, 9, 9, 6, 4, 7, 9, 8]), 'length': tensor([14, 18,  7, 26, 12, 16, 31,  5, 23,  8, 14,  7, 11, 80, 12, 11, 12, 25,\n",
      "        35, 21, 45, 19, 30, 11, 27, 14, 13, 26, 15, 20, 31, 10])}\n",
      "123 {'inputs': tensor([[   2, 3978, 5782,  ...,    1,    1,    1],\n",
      "        [   2, 2034, 6424,  ...,    1,    1,    1],\n",
      "        [   2, 3394, 6116,  ...,    1,    1,    1],\n",
      "        ...,\n",
      "        [   2,  517,    0,  ...,    1,    1,    1],\n",
      "        [   2, 2145, 5330,  ...,    1,    1,    1],\n",
      "        [   2, 3093, 4368,  ...,    1,    1,    1]]), 'labels': tensor([9, 9, 8, 9, 7, 9, 9, 9, 9, 7, 9, 8, 9, 8, 7, 9, 8, 2, 9, 1, 7, 7, 9, 9,\n",
      "        9, 8, 5, 9, 9, 0, 5, 9]), 'length': tensor([ 5,  6, 40, 26, 16, 10, 43, 11, 23, 23,  4, 29, 15,  6, 46, 11, 38,  5,\n",
      "         8, 32, 23, 30, 38, 16, 23, 26, 12, 10, 24, 15, 36,  7])}\n",
      "124 {'inputs': tensor([[   2,  807, 7005,  ...,    1,    1,    1],\n",
      "        [   2, 1963, 4919,  ...,    1,    1,    1],\n",
      "        [   2, 1562, 7523,  ...,    1,    1,    1],\n",
      "        ...,\n",
      "        [   2, 3394, 5474,  ...,    1,    1,    1],\n",
      "        [   2, 3489,  695,  ...,    1,    1,    1],\n",
      "        [   2,  517, 7580,  ...,    1,    1,    1]]), 'labels': tensor([5, 9, 9, 6, 9, 6, 0, 9, 9, 1, 7, 7, 9, 9, 9, 5, 9, 9, 3, 0, 6, 8, 7, 9,\n",
      "        0, 9, 8, 4, 9, 9, 9, 9]), 'length': tensor([11, 31,  8, 10, 34, 14, 11, 10, 77, 18, 12, 18, 35,  8,  4, 22, 12, 12,\n",
      "         9, 32, 24, 28,  8, 12, 25, 24, 46, 30, 21, 19, 24, 88])}\n",
      "125 {'inputs': tensor([[   2, 1204, 6629,  ...,    1,    1,    1],\n",
      "        [   2, 1267, 7483,  ...,    1,    1,    1],\n",
      "        [   2, 1185, 7199,  ...,    1,    1,    1],\n",
      "        ...,\n",
      "        [   2, 4102,  791,  ...,    1,    1,    1],\n",
      "        [   2, 1406, 6542,  ...,    1,    1,    1],\n",
      "        [   2,  547, 6579,  ...,    1,    1,    1]]), 'labels': tensor([0, 9, 7, 0, 9, 5, 9, 9, 9, 9, 9, 9, 6, 7, 9, 6, 0, 7, 9, 7, 9, 9, 8, 9,\n",
      "        9, 6, 9, 9, 8, 9, 3, 9]), 'length': tensor([23, 18, 12, 22, 20, 13, 23, 45, 18, 41, 32, 17, 11, 19, 17, 31, 26, 16,\n",
      "         9, 22, 18, 10, 20,  6,  9, 17, 17, 27, 63, 22, 30, 23])}\n",
      "126 {'inputs': tensor([[   2, 3942, 6150,  ...,    1,    1,    1],\n",
      "        [   2,  517,    0,  ...,    1,    1,    1],\n",
      "        [   2, 3327,   54,  ...,    1,    1,    1],\n",
      "        ...,\n",
      "        [   2, 1458,  791,  ...,    1,    1,    1],\n",
      "        [   2, 1367, 7276,  ...,    1,    1,    1],\n",
      "        [   2, 2440, 7846,  ...,    1,    1,    1]]), 'labels': tensor([3, 0, 9, 8, 0, 9, 9, 9, 9, 9, 9, 0, 9, 9, 7, 9, 9, 9, 0, 9, 6, 2, 0, 9,\n",
      "        9, 9, 3, 0, 9, 9, 8, 7]), 'length': tensor([17, 13, 23, 23, 28, 16, 21, 25, 24, 20, 78, 10, 11, 12, 17, 25,  4, 19,\n",
      "        21, 48, 69, 20,  8,  9, 14, 17, 10, 23, 15, 11,  8, 49])}\n",
      "127 {'inputs': tensor([[   2,  517,   54,  ...,    1,    1,    1],\n",
      "        [   2,  533, 7220,  ...,    1,    1,    1],\n",
      "        [   2, 3461, 3758,  ...,    1,    1,    1],\n",
      "        ...,\n",
      "        [   2, 1054, 5344,  ...,    1,    1,    1],\n",
      "        [   2, 3969, 6269,  ...,    1,    1,    1],\n",
      "        [   2,  533, 7220,  ...,    1,    1,    1]]), 'labels': tensor([2, 9, 5, 9, 8, 0, 8, 6, 0, 9, 4, 9, 9, 0, 1, 8, 0, 0, 8, 9, 9, 9, 9, 9,\n",
      "        9, 0, 9, 7, 7, 8, 6, 9]), 'length': tensor([ 7, 36, 52,  9, 21, 11, 75, 30,  9, 28, 21, 15, 15, 23, 28, 46, 27,  4,\n",
      "        79, 34, 14, 17, 31, 18, 27, 29, 10, 24, 19, 19, 27,  9])}\n",
      "128 {'inputs': tensor([[   2, 4955, 7398,  ...,    1,    1,    1],\n",
      "        [   2, 4102, 3942,  ...,    1,    1,    1],\n",
      "        [   2, 4841, 7220,  ...,    1,    1,    1],\n",
      "        ...,\n",
      "        [   2, 2926, 6055,  ...,    1,    1,    1],\n",
      "        [   2, 1370, 7020,  ...,    1,    1,    1],\n",
      "        [   2,  553, 7224,  ...,    1,    1,    1]]), 'labels': tensor([0, 8, 9, 0, 0, 0, 8, 2, 9, 9, 9, 9, 1, 9, 9, 3, 9, 0, 9, 9, 7, 1, 9, 9,\n",
      "        9, 6, 0, 6, 9, 8, 9, 1]), 'length': tensor([59, 23, 49, 22, 17, 39, 12, 83, 24,  9, 19, 11, 11, 35, 10, 31, 30, 22,\n",
      "        30, 29, 12, 18, 23, 12, 15, 64, 32, 13, 18, 19, 21, 45])}\n",
      "129 {'inputs': tensor([[   2, 1457, 7095,  ...,    1,    1,    1],\n",
      "        [   2, 4524, 3202,  ...,    1,    1,    1],\n",
      "        [   2, 3574, 7548,  ...,    1,    1,    1],\n",
      "        ...,\n",
      "        [   2, 3941, 7119,  ...,    1,    1,    1],\n",
      "        [   2,  517, 5845,  ...,    1,    1,    1],\n",
      "        [   2, 3327,  517,  ...,    1,    1,    1]]), 'labels': tensor([9, 9, 7, 9, 9, 3, 9, 8, 0, 9, 5, 9, 0, 9, 9, 5, 9, 9, 9, 8, 9, 4, 9, 8,\n",
      "        4, 9, 8, 7, 9, 5, 0, 7]), 'length': tensor([13,  5, 14, 99, 14, 41, 12, 27, 11,  9, 18,  8, 17, 19, 25, 18, 34,  6,\n",
      "        15, 74, 17, 14, 18,  7, 86, 11, 10, 36, 14,  6, 31, 16])}\n",
      "130 {'inputs': tensor([[   2, 1347, 2420,  ...,    1,    1,    1],\n",
      "        [   2, 1458, 3969,  ...,    1,    1,    1],\n",
      "        [   2, 4258, 6909,  ...,    1,    1,    1],\n",
      "        ...,\n",
      "        [   2, 1100, 7086,  ...,    1,    1,    1],\n",
      "        [   2, 3647, 3394,  ...,    1,    1,    1],\n",
      "        [   2,  517,  355,  ...,    1,    1,    1]]), 'labels': tensor([9, 7, 9, 9, 9, 9, 9, 8, 9, 9, 0, 9, 9, 9, 9, 4, 9, 9, 9, 8, 9, 7, 9, 9,\n",
      "        7, 9, 9, 9, 6, 9, 9, 9]), 'length': tensor([24, 17, 23, 24, 32, 42,  9, 28, 14, 45, 38, 13, 23, 29, 24, 41, 18, 15,\n",
      "        22, 14, 20, 22,  4, 16,  9, 30, 46, 18, 22,  6, 67, 18])}\n",
      "131 {'inputs': tensor([[   2, 2372, 2417,  ...,    1,    1,    1],\n",
      "        [   2, 4203, 2740,  ...,    1,    1,    1],\n",
      "        [   2, 4481, 6329,  ...,    1,    1,    1],\n",
      "        ...,\n",
      "        [   2, 1567, 5384,  ...,    1,    1,    1],\n",
      "        [   2, 1423, 2781,  ...,    1,    1,    1],\n",
      "        [   2,  517, 6546,  ...,    1,    1,    1]]), 'labels': tensor([9, 6, 6, 9, 9, 2, 9, 9, 9, 6, 9, 9, 2, 9, 8, 9, 9, 9, 9, 0, 8, 7, 9, 9,\n",
      "        7, 9, 5, 9, 6, 7, 7, 9]), 'length': tensor([17, 15, 14, 26,  6, 27, 16, 22, 22, 15, 17, 32, 81, 18, 36, 26, 19, 18,\n",
      "        14, 28, 27, 16, 24, 32, 24, 13, 26, 34, 24, 13, 21, 22])}\n",
      "132 {'inputs': tensor([[   2,  812, 1948,  ...,    1,    1,    1],\n",
      "        [   2, 4196, 4297,  ...,    1,    1,    1],\n",
      "        [   2, 5059, 5341,  ...,    1,    1,    1],\n",
      "        ...,\n",
      "        [   2, 4368,  559,  ...,    1,    1,    1],\n",
      "        [   2, 4698, 6016,  ...,    1,    1,    1],\n",
      "        [   2, 3010, 5655,  ...,    1,    1,    1]]), 'labels': tensor([7, 3, 6, 0, 9, 9, 5, 9, 9, 4, 9, 9, 9, 6, 9, 9, 9, 9, 9, 9, 9, 9, 8, 9,\n",
      "        8, 9, 7, 9, 8, 9, 9, 8]), 'length': tensor([14, 80, 15, 31, 27, 23,  8, 55, 25,  5, 25, 90, 50, 79, 14, 10,  4,  7,\n",
      "        62, 68, 13, 41, 24, 21, 35, 26, 53, 13,  6, 30, 27, 12])}\n",
      "133 {'inputs': tensor([[   2, 4524,  517,  ...,    1,    1,    1],\n",
      "        [   2, 1189, 3528,  ...,    1,    1,    1],\n",
      "        [   2, 1185, 5655,  ...,    1,    1,    1],\n",
      "        ...,\n",
      "        [   2,  517,    0,  ...,    1,    1,    1],\n",
      "        [   2, 4665, 6261,  ...,    1,    1,    1],\n",
      "        [   2, 1919, 3886,  ...,    1,    1,    1]]), 'labels': tensor([9, 6, 1, 9, 1, 0, 8, 2, 8, 9, 0, 9, 9, 9, 6, 8, 5, 9, 1, 6, 7, 9, 9, 9,\n",
      "        9, 9, 8, 9, 9, 9, 7, 7]), 'length': tensor([12, 14, 23,  9, 25, 82, 22, 90, 78, 29, 22, 14, 22,  6, 51, 13, 29, 11,\n",
      "        35, 11, 24, 13, 20, 10, 29, 14, 10, 35,  4,  8, 20, 22])}\n",
      "134 {'inputs': tensor([[   2, 3647, 3394,  ...,    1,    1,    1],\n",
      "        [   2, 1458, 5691,  ...,    1,    1,    1],\n",
      "        [   2, 3129, 5859,  ...,    1,    1,    1],\n",
      "        ...,\n",
      "        [   2, 4102, 3109,  ...,    1,    1,    1],\n",
      "        [   2, 1453, 1956,  ...,    1,    1,    1],\n",
      "        [   2, 1458, 6499,  ...,    1,    1,    1]]), 'labels': tensor([9, 9, 9, 5, 9, 9, 5, 9, 5, 9, 8, 7, 9, 3, 9, 9, 5, 9, 9, 2, 7, 0, 0, 8,\n",
      "        9, 9, 6, 8, 2, 9, 5, 9]), 'length': tensor([25, 12, 14, 16, 29, 10, 26, 29, 34, 21,  7, 11, 37, 20, 44, 10,  9, 26,\n",
      "        16, 15, 65,  9, 15,  9, 12, 23, 20,  5, 33, 24, 13, 17])}\n",
      "135 {'inputs': tensor([[   2, 4524, 3394,  ...,    1,    1,    1],\n",
      "        [   2, 1189, 2034,  ...,    1,    1,    1],\n",
      "        [   2, 3647, 6247,  ...,    1,    1,    1],\n",
      "        ...,\n",
      "        [   2,  807, 5872,  ...,    1,    1,    1],\n",
      "        [   2, 3341, 7150,  ...,    1,    1,    1],\n",
      "        [   2, 3574, 7858,  ...,    1,    1,    1]]), 'labels': tensor([9, 9, 5, 9, 6, 1, 9, 4, 9, 1, 9, 4, 9, 8, 9, 9, 9, 3, 9, 0, 8, 6, 2, 4,\n",
      "        7, 9, 9, 9, 9, 7, 9, 9]), 'length': tensor([ 6,  9, 24,  4, 22, 18, 22, 21,  6, 21, 14, 14, 18, 45, 16, 14, 25, 36,\n",
      "        14, 19, 27, 16, 16, 10,  6, 22, 16, 10, 27, 24, 24, 19])}\n",
      "136 {'inputs': tensor([[   2, 2938, 7018,  ...,    1,    1,    1],\n",
      "        [   2, 4841, 7220,  ...,    1,    1,    1],\n",
      "        [   2, 3969, 6268,  ...,    1,    1,    1],\n",
      "        ...,\n",
      "        [   2, 3758, 5947,  ...,    1,    1,    1],\n",
      "        [   2, 3450, 6383,  ...,    1,    1,    1],\n",
      "        [   2, 2780, 6579,  ...,    1,    1,    1]]), 'labels': tensor([9, 9, 7, 9, 9, 9, 9, 2, 7, 8, 0, 6, 8, 9, 9, 4, 9, 6, 0, 8, 5, 9, 9, 9,\n",
      "        9, 6, 9, 8, 8, 9, 9, 9]), 'length': tensor([34, 24,  9, 86, 34, 27,  8, 51, 28, 17, 20, 32, 10, 10,  6, 74, 29, 21,\n",
      "        11, 17, 11,  9, 23, 14, 28,  6, 25, 21, 11, 32, 13,  8])}\n",
      "137 {'inputs': tensor([[   2, 1054, 5760,  ...,    1,    1,    1],\n",
      "        [   2, 3759, 6834,  ...,    1,    1,    1],\n",
      "        [   2,  517, 7241,  ...,    1,    1,    1],\n",
      "        ...,\n",
      "        [   2, 4368,  835,  ...,    1,    1,    1],\n",
      "        [   2, 4579, 7344,  ...,    1,    1,    1],\n",
      "        [   2,  517, 6983,  ...,    1,    1,    1]]), 'labels': tensor([6, 7, 9, 7, 9, 7, 9, 0, 9, 2, 8, 8, 9, 0, 9, 1, 9, 9, 9, 5, 9, 3, 5, 9,\n",
      "        6, 9, 0, 9, 3, 0, 9, 9]), 'length': tensor([13, 33, 21, 22,  7, 13, 13, 13, 11, 20, 14,  7, 18, 39,  5, 12, 15, 33,\n",
      "        11, 23, 17, 44, 18,  6, 18,  9, 25,  5, 28, 26,  4, 20])}\n",
      "138 {'inputs': tensor([[   2, 2149, 6812,  ...,    1,    1,    1],\n",
      "        [   2, 3647, 3394,  ...,    1,    1,    1],\n",
      "        [   2,  517, 7086,  ...,    1,    1,    1],\n",
      "        ...,\n",
      "        [   2, 1271, 2372,  ...,    1,    1,    1],\n",
      "        [   2,  517, 7594,  ...,    1,    1,    1],\n",
      "        [   2,  517, 7095,  ...,    1,    1,    1]]), 'labels': tensor([5, 5, 9, 9, 9, 2, 5, 9, 8, 8, 7, 9, 9, 7, 9, 9, 7, 6, 6, 8, 4, 8, 9, 9,\n",
      "        8, 7, 3, 9, 9, 7, 9, 9]), 'length': tensor([18, 35, 14, 64,  7, 22, 41, 78, 19, 27, 14, 16, 19, 20, 18, 22, 11, 19,\n",
      "        27, 13, 26, 51, 26, 47, 21, 17, 20, 24, 27, 21, 10, 18])}\n",
      "139 {'inputs': tensor([[   2, 4176, 6141,  ...,    1,    1,    1],\n",
      "        [   2, 1547, 5400,  ...,    1,    1,    1],\n",
      "        [   2, 1185, 5786,  ...,    1,    1,    1],\n",
      "        ...,\n",
      "        [   2, 1900, 6431,  ...,    1,    1,    1],\n",
      "        [   2, 2959, 6514,  ...,    1,    1,    1],\n",
      "        [   2, 4617, 6168,  ...,    1,    1,    1]]), 'labels': tensor([9, 9, 4, 9, 5, 9, 4, 9, 9, 9, 8, 6, 0, 9, 9, 9, 5, 9, 9, 7, 9, 9, 8, 9,\n",
      "        9, 9, 8, 9, 4, 9, 9, 0]), 'length': tensor([20, 14, 41, 15, 19,  9, 25, 27, 39, 16, 17, 26,  8,  7, 40, 39, 86, 20,\n",
      "         6, 13, 44, 14, 27, 22, 15, 12, 75, 29, 10, 34, 18,  8])}\n",
      "140 {'inputs': tensor([[   2, 1897, 6703,  ...,    1,    1,    1],\n",
      "        [   2, 3422, 5337,  ...,    1,    1,    1],\n",
      "        [   2, 3220,    0,  ...,    1,    1,    1],\n",
      "        ...,\n",
      "        [   2, 1185, 3416,  ...,    1,    1,    1],\n",
      "        [   2, 3969, 6269,  ...,    1,    1,    1],\n",
      "        [   2,  517,  364,  ...,    1,    1,    1]]), 'labels': tensor([9, 8, 6, 7, 9, 9, 9, 9, 9, 9, 8, 6, 9, 0, 9, 8, 9, 9, 0, 4, 0, 6, 5, 9,\n",
      "        8, 4, 3, 6, 6, 9, 7, 9]), 'length': tensor([12, 33, 11, 20, 30,  5, 11, 31, 31, 14, 20, 26, 21, 20, 22, 26, 16, 56,\n",
      "         6, 28, 32, 25, 19,  6, 57, 14, 32, 42, 10, 74, 27, 25])}\n",
      "141 {'inputs': tensor([[   2, 4471, 7191,  ...,    1,    1,    1],\n",
      "        [   2, 1017, 1875,  ...,    1,    1,    1],\n",
      "        [   2,  847, 7203,  ...,    1,    1,    1],\n",
      "        ...,\n",
      "        [   2,  517, 6983,  ...,    1,    1,    1],\n",
      "        [   2,  517, 6871,  ...,    1,    1,    1],\n",
      "        [   2, 4714, 7565,  ...,    1,    1,    1]]), 'labels': tensor([8, 0, 9, 9, 0, 9, 9, 8, 4, 9, 6, 9, 7, 7, 0, 7, 9, 7, 3, 9, 9, 8, 0, 9,\n",
      "        8, 9, 4, 7, 0, 9, 9, 9]), 'length': tensor([30, 20, 20, 18,  5, 35,  6, 64, 57, 23, 21, 15, 11, 24, 12, 69,  8, 17,\n",
      "         9, 25, 15, 15, 11, 27, 14, 28, 17, 11,  5, 44, 35,  8])}\n",
      "142 {'inputs': tensor([[   2, 3196, 7096,  ...,    1,    1,    1],\n",
      "        [   2,  517, 6983,  ...,    1,    1,    1],\n",
      "        [   2,  791, 7459,  ...,    1,    1,    1],\n",
      "        ...,\n",
      "        [   2,  517, 7368,  ...,    1,    1,    1],\n",
      "        [   2, 2941, 5330,  ...,    1,    1,    1],\n",
      "        [   2, 3489, 4949,  ...,    1,    1,    1]]), 'labels': tensor([9, 9, 9, 8, 4, 7, 9, 9, 7, 9, 1, 9, 0, 9, 4, 4, 9, 9, 9, 7, 6, 7, 7, 9,\n",
      "        5, 7, 9, 9, 8, 9, 9, 6]), 'length': tensor([65, 25,  4, 26, 27,  4, 26,  7, 16, 10, 43, 22, 47,  5, 18, 25, 18, 45,\n",
      "        17, 33, 23, 77, 15, 29, 31, 32, 26, 13, 22, 49, 31, 34])}\n",
      "143 {'inputs': tensor([[   2, 2514, 7903,  ...,    1,    1,    1],\n",
      "        [   2, 3417, 6089,  ...,    1,    1,    1],\n",
      "        [   2,  533, 7295,  ...,    1,    1,    1],\n",
      "        ...,\n",
      "        [   2, 2856, 5439,  ...,    1,    1,    1],\n",
      "        [   2,  533, 7224,  ...,    1,    1,    1],\n",
      "        [   2, 1434, 6804,  ...,    1,    1,    1]]), 'labels': tensor([9, 8, 9, 6, 9, 9, 7, 9, 6, 0, 9, 9, 7, 9, 5, 9, 8, 9, 9, 1, 5, 9, 9, 9,\n",
      "        9, 8, 8, 9, 5, 9, 9, 9]), 'length': tensor([ 22,  38,  26,  43,   7,  19,  29,  85,  10,   5,   5,  17, 102,   9,\n",
      "         78,  18,  24,  16,  28,  21,  24,  13,  14,  12,  19,  33,  23,  54,\n",
      "         16,  16,  26,  11])}\n",
      "144 {'inputs': tensor([[   2, 1884, 6964,  ...,    1,    1,    1],\n",
      "        [   2,  517, 6618,  ...,    1,    1,    1],\n",
      "        [   2, 3060, 6745,  ...,    1,    1,    1],\n",
      "        ...,\n",
      "        [   2, 2145,    0,  ...,    1,    1,    1],\n",
      "        [   2, 1398, 3225,  ...,    1,    1,    1],\n",
      "        [   2, 4102, 3978,  ...,    1,    1,    1]]), 'labels': tensor([8, 9, 7, 9, 8, 9, 9, 7, 8, 9, 9, 9, 9, 0, 9, 8, 6, 9, 9, 9, 8, 8, 0, 9,\n",
      "        3, 9, 4, 9, 1, 1, 7, 9]), 'length': tensor([21, 56, 25, 62, 13, 14, 12, 11, 12,  4, 23, 29, 26, 10, 15, 13, 30, 10,\n",
      "        26, 11, 24, 80, 10, 20, 30, 49, 25, 33, 23, 17, 13, 19])}\n",
      "145 {'inputs': tensor([[   2, 3394, 6527,  ...,    1,    1,    1],\n",
      "        [   2, 4213, 5390,  ...,    1,    1,    1],\n",
      "        [   2,  921, 7178,  ...,    1,    1,    1],\n",
      "        ...,\n",
      "        [   2, 3234, 6983,  ...,    1,    1,    1],\n",
      "        [   2, 4360, 5538,  ...,    1,    1,    1],\n",
      "        [   2, 2417, 6150,  ...,    1,    1,    1]]), 'labels': tensor([9, 9, 2, 9, 7, 7, 0, 9, 6, 9, 6, 0, 9, 9, 9, 9, 5, 9, 7, 0, 9, 9, 7, 7,\n",
      "        9, 9, 9, 9, 0, 7, 9, 7]), 'length': tensor([31,  9, 15, 18, 35, 12, 16, 24, 16, 15, 28, 36, 18, 45, 12, 11, 12, 13,\n",
      "        14, 18,  6, 17, 12, 36, 45, 11, 27, 21, 16, 17, 16, 15])}\n",
      "146 {'inputs': tensor([[   2, 4164, 7086,  ...,    1,    1,    1],\n",
      "        [   2, 1458,  517,  ...,    1,    1,    1],\n",
      "        [   2, 3093, 5739,  ...,    1,    1,    1],\n",
      "        ...,\n",
      "        [   2, 1100, 6827,  ...,    1,    1,    1],\n",
      "        [   2, 2047, 5330,  ...,    1,    1,    1],\n",
      "        [   2, 1267, 5760,  ...,    1,    1,    1]]), 'labels': tensor([7, 7, 2, 6, 9, 9, 9, 8, 9, 6, 7, 9, 7, 9, 9, 7, 9, 9, 9, 1, 0, 8, 9, 9,\n",
      "        8, 9, 0, 3, 8, 7, 9, 9]), 'length': tensor([24, 14, 57,  9, 36, 40, 38, 19, 16, 51, 29, 17, 23, 28, 23, 13, 24, 13,\n",
      "        19, 12, 18, 14, 29, 13, 14,  9, 21, 29, 15, 14,  7, 12])}\n",
      "147 {'inputs': tensor([[   2, 2705, 6995,  ...,    1,    1,    1],\n",
      "        [   2, 5130,    3,  ...,    1,    1,    1],\n",
      "        [   2, 4468, 3135,  ...,    1,    1,    1],\n",
      "        ...,\n",
      "        [   2, 3977, 7140,  ...,    1,    1,    1],\n",
      "        [   2, 5108,   55,  ...,    1,    1,    1],\n",
      "        [   2, 4368, 3255,  ...,    1,    1,    1]]), 'labels': tensor([7, 6, 8, 9, 9, 9, 7, 9, 8, 7, 6, 0, 9, 9, 9, 9, 9, 7, 6, 0, 9, 9, 9, 0,\n",
      "        9, 9, 7, 7, 9, 9, 9, 9]), 'length': tensor([ 8,  3, 16, 18, 14, 19, 11, 16, 17, 10, 12, 11, 22, 33, 18, 14, 29, 49,\n",
      "        12, 12, 22, 25, 23,  5, 22,  8,  9, 14, 18, 14,  5, 28])}\n",
      "148 {'inputs': tensor([[   2, 2417, 6150,  ...,    1,    1,    1],\n",
      "        [   2, 2095, 5663,  ...,    1,    1,    1],\n",
      "        [   2, 1458, 7271,  ...,    1,    1,    1],\n",
      "        ...,\n",
      "        [   2, 2986, 7788,  ...,    1,    1,    1],\n",
      "        [   2, 3133, 5804,  ...,    1,    1,    1],\n",
      "        [   2, 4128, 5330,  ...,    1,    1,    1]]), 'labels': tensor([9, 6, 9, 9, 7, 5, 9, 9, 9, 9, 9, 9, 0, 9, 6, 9, 6, 3, 9, 4, 0, 8, 8, 5,\n",
      "        7, 1, 8, 6, 9, 8, 8, 9]), 'length': tensor([24, 51,  6,  8, 19, 20, 29, 76, 16, 14, 29, 14, 12, 24, 23, 33, 61, 81,\n",
      "         5, 14,  9, 28, 16, 12, 18, 14, 18, 21, 29, 51, 11, 22])}\n",
      "149 {'inputs': tensor([[   2, 3673, 4209,  ...,    1,    1,    1],\n",
      "        [   2, 2417, 5965,  ...,    1,    1,    1],\n",
      "        [   2,  517, 6968,  ...,    1,    1,    1],\n",
      "        ...,\n",
      "        [   2, 1963, 7774,  ...,    1,    1,    1],\n",
      "        [   2, 3394, 5330,  ...,    1,    1,    1],\n",
      "        [   2, 4128, 5330,  ...,    1,    1,    1]]), 'labels': tensor([9, 7, 3, 6, 9, 9, 9, 9, 9, 0, 9, 9, 2, 8, 9, 9, 4, 3, 8, 9, 9, 9, 9, 9,\n",
      "        6, 0, 9, 9, 8, 9, 9, 9]), 'length': tensor([63, 20,  9, 19, 15, 11, 15,  6,  5, 21, 14, 26, 69, 11, 23, 23, 19, 28,\n",
      "        19, 13, 15, 23, 15, 19, 13, 16, 10, 10, 23,  7, 28, 30])}\n",
      "150 {'inputs': tensor([[   2,  791,   54,  ...,    1,    1,    1],\n",
      "        [   2, 3394, 6116,  ...,    1,    1,    1],\n",
      "        [   2,  517, 5854,  ...,    1,    1,    1],\n",
      "        ...,\n",
      "        [   2, 3238,  766,  ...,    1,    1,    1],\n",
      "        [   2, 1363, 7096,  ...,    1,    1,    1],\n",
      "        [   2, 5059, 5468,  ...,    1,    1,    1]]), 'labels': tensor([7, 9, 9, 9, 6, 8, 0, 9, 9, 9, 9, 9, 5, 8, 6, 9, 9, 9, 9, 1, 8, 6, 9, 9,\n",
      "        7, 9, 9, 9, 7, 9, 6, 5]), 'length': tensor([16, 22, 16, 12, 16, 79, 15, 25, 28, 25, 27, 19, 15,  9, 21, 27, 15,  5,\n",
      "        28, 24, 10, 15, 63, 16, 11,  4, 19, 17, 19, 53, 10, 19])}\n",
      "151 {'inputs': tensor([[   2,  517, 5759,  ...,    1,    1,    1],\n",
      "        [   2, 2822, 6607,  ...,    1,    1,    1],\n",
      "        [   2, 4102,  533,  ...,    1,    1,    1],\n",
      "        ...,\n",
      "        [   2, 4841, 7220,  ...,    1,    1,    1],\n",
      "        [   2, 4063, 7206,  ...,    1,    1,    1],\n",
      "        [   2, 4841, 6084,  ...,    1,    1,    1]]), 'labels': tensor([9, 9, 9, 6, 9, 9, 9, 6, 9, 8, 9, 9, 9, 0, 9, 9, 6, 9, 9, 9, 9, 9, 7, 9,\n",
      "        8, 9, 0, 7, 8, 9, 6, 4]), 'length': tensor([16, 33, 24, 14,  4,  8, 14, 16, 14, 20,  8,  7, 21, 78, 86, 13, 20, 26,\n",
      "        19,  9, 17, 41, 17, 31, 13, 13, 81, 20, 16, 28, 31, 96])}\n",
      "152 {'inputs': tensor([[   2, 1347, 2355,  ...,    1,    1,    1],\n",
      "        [   2, 3301, 4297,  ...,    1,    1,    1],\n",
      "        [   2, 2044, 5760,  ...,    1,    1,    1],\n",
      "        ...,\n",
      "        [   2,  533, 6328,  ...,    1,    1,    1],\n",
      "        [   2, 3093, 7347,  ...,    1,    1,    1],\n",
      "        [   2, 3097,   46,  ...,    1,    1,    1]]), 'labels': tensor([9, 9, 9, 8, 5, 5, 9, 9, 9, 8, 9, 7, 9, 9, 9, 9, 9, 9, 7, 9, 9, 0, 9, 9,\n",
      "        9, 9, 9, 7, 9, 9, 0, 5]), 'length': tensor([ 5, 72, 18, 18, 13, 13, 13, 73,  7, 21, 15, 35, 13, 11, 24, 13, 42, 24,\n",
      "        16, 20, 57, 34, 24, 18, 50, 16, 25,  5,  9, 11, 35, 25])}\n",
      "153 {'inputs': tensor([[   2, 1185,   54,  ...,    1,    1,    1],\n",
      "        [   2,  791, 7096,  ...,    1,    1,    1],\n",
      "        [   2, 4054, 7203,  ...,    1,    1,    1],\n",
      "        ...,\n",
      "        [   2, 3129, 5859,  ...,    1,    1,    1],\n",
      "        [   2, 3202,   54,  ...,    1,    1,    1],\n",
      "        [   2, 4506, 6398,  ...,    1,    1,    1]]), 'labels': tensor([7, 9, 7, 9, 1, 9, 9, 9, 9, 9, 0, 9, 8, 9, 8, 9, 9, 9, 8, 8, 9, 9, 8, 7,\n",
      "        7, 9, 0, 0, 9, 9, 9, 9]), 'length': tensor([35, 15, 23, 18, 57, 22, 12, 20, 12, 20, 14,  5, 88, 28, 15, 36, 26, 10,\n",
      "        18, 11, 12,  9, 11, 23,  9, 10,  8, 15, 26, 16, 47, 18])}\n",
      "154 {'inputs': tensor([[   2,  517, 6260,  ...,    1,    1,    1],\n",
      "        [   2,  553, 7720,  ...,    1,    1,    1],\n",
      "        [   2, 2219, 1844,  ...,    1,    1,    1],\n",
      "        ...,\n",
      "        [   2, 4360, 6745,  ...,    1,    1,    1],\n",
      "        [   2,  937, 6160,  ...,    1,    1,    1],\n",
      "        [   2, 2970, 6116,  ...,    1,    1,    1]]), 'labels': tensor([9, 9, 7, 6, 9, 8, 9, 7, 9, 6, 9, 9, 9, 8, 9, 9, 9, 9, 0, 9, 0, 9, 6, 7,\n",
      "        6, 8, 7, 9, 7, 9, 7, 1]), 'length': tensor([ 30,  12,  11, 107,  42,  25,  28,  20,  12,  16,  29,  16,  23,   9,\n",
      "         36,   8,  35,  25,  20,  22,  23,  38,  21,   6,  18,  12,  21,  26,\n",
      "         17,  11,  15,  15])}\n",
      "155 {'inputs': tensor([[   2, 3184, 6398,  ...,    1,    1,    1],\n",
      "        [   2,  624, 6519,  ...,    1,    1,    1],\n",
      "        [   2, 4799, 5859,  ...,    1,    1,    1],\n",
      "        ...,\n",
      "        [   2, 3394, 6116,  ...,    1,    1,    1],\n",
      "        [   2, 4299, 7096,  ...,    1,    1,    1],\n",
      "        [   2, 1618, 7436,  ...,    1,    1,    1]]), 'labels': tensor([7, 7, 9, 9, 9, 6, 9, 9, 9, 9, 9, 4, 9, 5, 9, 4, 0, 6, 6, 9, 9, 9, 9, 4,\n",
      "        3, 7, 9, 9, 8, 0, 9, 0]), 'length': tensor([23, 44, 39,  6, 11, 26, 57,  9, 10, 25, 10,  5,  5,  9, 28, 21, 12, 33,\n",
      "        16, 17, 14, 36, 45, 21, 29, 15, 12,  6, 21, 11, 24, 15])}\n",
      "156 {'inputs': tensor([[   2, 3238, 2358,  ...,    1,    1,    1],\n",
      "        [   2, 3552, 5827,  ...,    1,    1,    1],\n",
      "        [   2,  517,    0,  ...,    1,    1,    1],\n",
      "        ...,\n",
      "        [   2, 3220, 7318,  ...,    1,    1,    1],\n",
      "        [   2, 3503, 7459,  ...,    1,    1,    1],\n",
      "        [   2, 3006, 6527,  ...,    1,    1,    1]]), 'labels': tensor([9, 9, 8, 9, 7, 9, 6, 9, 9, 2, 9, 9, 6, 8, 6, 5, 6, 9, 7, 6, 9, 4, 8, 6,\n",
      "        6, 9, 9, 9, 9, 1, 3, 7]), 'length': tensor([30,  6, 12, 16, 23,  9, 13, 10, 29, 86, 86, 26, 79, 16, 11, 27, 18, 17,\n",
      "         8, 13,  4, 20,  9, 34, 40, 22, 18,  6, 13, 28, 25, 36])}\n",
      "157 {'inputs': tensor([[   2, 3673, 1729,  ...,    1,    1,    1],\n",
      "        [   2, 4955,  566,  ...,    1,    1,    1],\n",
      "        [   2, 2333, 7618,  ...,    1,    1,    1],\n",
      "        ...,\n",
      "        [   2, 3301, 6553,  ...,    1,    1,    1],\n",
      "        [   2, 1574,  638,  ...,    1,    1,    1],\n",
      "        [   2,  517, 7989,  ...,    1,    1,    1]]), 'labels': tensor([9, 5, 9, 9, 7, 5, 5, 9, 5, 0, 0, 9, 0, 9, 4, 9, 9, 9, 7, 0, 7, 9, 8, 5,\n",
      "        9, 9, 9, 7, 9, 9, 9, 7]), 'length': tensor([ 9, 40, 13, 12, 11, 12, 24, 32, 19, 13, 20, 19, 30, 16, 16, 13, 32, 24,\n",
      "        13, 27, 65,  5, 75, 20,  8, 15, 21, 26, 10, 32, 22, 68])}\n",
      "158 {'inputs': tensor([[   2, 1189,   46,  ...,    1,    1,    1],\n",
      "        [   2, 2872, 7170,  ...,    1,    1,    1],\n",
      "        [   2, 3606,   54,  ...,    1,    1,    1],\n",
      "        ...,\n",
      "        [   2, 3327, 4665,  ...,    1,    1,    1],\n",
      "        [   2, 5149, 7227,  ...,    1,    1,    1],\n",
      "        [   2, 4102, 3978,  ...,    1,    1,    1]]), 'labels': tensor([7, 8, 5, 9, 9, 8, 9, 0, 0, 9, 9, 9, 7, 0, 5, 9, 5, 7, 9, 9, 9, 9, 9, 1,\n",
      "        4, 0, 9, 9, 9, 9, 7, 9]), 'length': tensor([ 9, 14, 14, 29, 13, 15, 32, 29, 33, 12, 17, 15, 17, 15, 13, 15, 30, 25,\n",
      "         9, 13, 16, 39, 11, 24, 12, 11, 36,  6, 40, 38, 27, 13])}\n",
      "159 {'inputs': tensor([[   2, 3093, 3969,  ...,    1,    1,    1],\n",
      "        [   2, 1316, 7119,  ...,    1,    1,    1],\n",
      "        [   2, 4562, 7701,  ...,    1,    1,    1],\n",
      "        ...,\n",
      "        [   2, 1665, 2145,  ...,    1,    1,    1],\n",
      "        [   2, 3606,   54,  ...,    1,    1,    1],\n",
      "        [   2, 4102, 3423,  ...,    1,    1,    1]]), 'labels': tensor([9, 0, 9, 8, 4, 9, 9, 6, 9, 4, 8, 9, 7, 7, 0, 9, 0, 7, 9, 9, 9, 9, 9, 6,\n",
      "        9, 0, 9, 0, 7, 2, 4, 9]), 'length': tensor([30, 18, 16, 16, 20, 16, 15, 12, 19, 25, 29,  9, 19, 19,  9, 34, 14, 21,\n",
      "        30, 22, 10, 52, 11, 42, 12, 10, 14, 15, 21,  7, 28, 16])}\n",
      "160 {'inputs': tensor([[   2,  517, 6473,  ...,    1,    1,    1],\n",
      "        [   2, 3969, 6269,  ...,    1,    1,    1],\n",
      "        [   2,  517,  401,  ...,    1,    1,    1],\n",
      "        ...,\n",
      "        [   2,  533, 7220,  ...,    1,    1,    1],\n",
      "        [   2, 3166, 6273,  ...,    1,    1,    1],\n",
      "        [   2, 4368, 2590,  ...,    1,    1,    1]]), 'labels': tensor([9, 7, 9, 6, 9, 8, 9, 9, 9, 3, 5, 1, 9, 9, 3, 8, 4, 9, 9, 4, 7, 8, 9, 9,\n",
      "        9, 6, 9, 7, 8, 6, 0, 9]), 'length': tensor([28,  8, 14, 14, 14, 16, 17, 19, 23, 28, 11, 31,  6, 19, 17, 15, 35, 48,\n",
      "        34, 22, 14, 27, 17, 27, 25,  8,  7, 19, 33, 29,  8, 21])}\n",
      "161 {'inputs': tensor([[   2, 2475, 2146,  ...,    1,    1,    1],\n",
      "        [   2,  517, 7368,  ...,    1,    1,    1],\n",
      "        [   2,  533, 5712,  ...,    1,    1,    1],\n",
      "        ...,\n",
      "        [   2,  791, 7139,  ...,    1,    1,    1],\n",
      "        [   2, 3394, 5474,  ...,    1,    1,    1],\n",
      "        [   2, 3121, 6664,  ...,    1,    1,    1]]), 'labels': tensor([9, 9, 9, 3, 9, 9, 0, 7, 0, 9, 9, 4, 7, 0, 0, 9, 0, 9, 7, 8, 9, 0, 9, 9,\n",
      "        9, 9, 9, 2, 9, 9, 9, 6]), 'length': tensor([21, 14, 31,  9, 12, 24, 94, 11, 14, 27, 19, 27,  9, 18, 23, 14,  6,  8,\n",
      "        24, 31, 16, 80, 18,  7,  9, 26, 17, 21, 31,  6, 30, 30])}\n",
      "162 {'inputs': tensor([[   2, 1501, 5330,  ...,    1,    1,    1],\n",
      "        [   2, 1370, 3537,  ...,    1,    1,    1],\n",
      "        [   2, 3394, 5760,  ...,    1,    1,    1],\n",
      "        ...,\n",
      "        [   2, 2366, 5678,  ...,    1,    1,    1],\n",
      "        [   2, 2919,  517,  ...,    1,    1,    1],\n",
      "        [   2,  517, 7145,  ...,    1,    1,    1]]), 'labels': tensor([0, 9, 5, 0, 0, 9, 9, 4, 8, 9, 0, 7, 8, 9, 9, 9, 9, 0, 0, 6, 4, 7, 9, 9,\n",
      "        0, 0, 9, 8, 9, 9, 8, 9]), 'length': tensor([11, 27, 50, 34, 14,  4, 11, 17, 27, 22, 22, 14, 21, 12,  9,  4, 31, 17,\n",
      "        26, 37, 20, 11,  6, 12, 13, 31, 44, 18, 12, 33, 38, 21])}\n",
      "163 {'inputs': tensor([[   2, 4257, 7825,  ...,    1,    1,    1],\n",
      "        [   2, 5081, 7720,  ...,    1,    1,    1],\n",
      "        [   2, 1347, 4971,  ...,    1,    1,    1],\n",
      "        ...,\n",
      "        [   2, 3202, 6241,  ...,    1,    1,    1],\n",
      "        [   2, 3394, 4208,  ...,    1,    1,    1],\n",
      "        [   2, 3129,  842,  ...,    1,    1,    1]]), 'labels': tensor([0, 0, 9, 9, 9, 9, 0, 1, 9, 9, 9, 7, 9, 9, 1, 3, 9, 9, 7, 4, 0, 8, 6, 7,\n",
      "        9, 1, 3, 9, 9, 9, 7, 0]), 'length': tensor([21,  6, 10, 28, 27, 13, 14, 25, 12,  8, 35,  8, 15, 23, 11, 31,  7, 68,\n",
      "        11, 43, 16, 25, 59, 17, 24, 24, 16,  9, 23, 20,  9, 19])}\n",
      "164 {'inputs': tensor([[   2, 3803, 6341,  ...,    1,    1,    1],\n",
      "        [   2, 3394, 6116,  ...,    1,    1,    1],\n",
      "        [   2, 4958, 7215,  ...,    1,    1,    1],\n",
      "        ...,\n",
      "        [   2,  517, 6983,  ...,    1,    1,    1],\n",
      "        [   2,  984, 2358,  ...,    1,    1,    1],\n",
      "        [   2, 1574, 4971,  ...,    1,    1,    1]]), 'labels': tensor([9, 9, 8, 7, 6, 8, 9, 6, 9, 7, 0, 9, 9, 9, 9, 8, 0, 9, 9, 8, 9, 9, 9, 0,\n",
      "        8, 0, 9, 9, 7, 9, 9, 9]), 'length': tensor([80, 73, 56, 15, 27, 10, 11, 10, 36, 17, 22, 17, 51, 20, 12, 17,  6, 28,\n",
      "         7, 29, 13, 30, 23, 14, 13,  3, 23, 25, 18, 37,  7, 11])}\n",
      "165 {'inputs': tensor([[   2, 4128, 6295,  ...,    1,    1,    1],\n",
      "        [   2, 2110, 3394,  ...,    1,    1,    1],\n",
      "        [   2,  517, 5540,  ...,    1,    1,    1],\n",
      "        ...,\n",
      "        [   2,  842, 7207,  ...,    1,    1,    1],\n",
      "        [   2, 3528, 5439,  ...,    1,    1,    1],\n",
      "        [   2, 3969, 6269,  ...,    1,    1,    1]]), 'labels': tensor([0, 9, 8, 0, 9, 9, 8, 9, 3, 5, 6, 9, 9, 9, 0, 6, 9, 9, 0, 9, 9, 8, 7, 9,\n",
      "        9, 9, 9, 9, 9, 3, 9, 9]), 'length': tensor([25, 35, 17, 47, 21, 21, 50, 34,  8, 21, 14,  9,  9,  6, 28, 19, 24, 25,\n",
      "        11, 28, 11, 32, 11, 52, 30, 49,  8, 21,  4, 50, 10,  6])}\n",
      "166 {'inputs': tensor([[   2, 3166, 6273,  ...,    1,    1,    1],\n",
      "        [   2, 1919, 6896,  ...,    1,    1,    1],\n",
      "        [   2, 3969, 6268,  ...,    1,    1,    1],\n",
      "        ...,\n",
      "        [   2, 3537, 3672,  ...,    1,    1,    1],\n",
      "        [   2, 3958, 7782,  ...,    1,    1,    1],\n",
      "        [   2, 2514, 7276,  ...,    1,    1,    1]]), 'labels': tensor([0, 5, 7, 9, 9, 9, 9, 7, 5, 9, 9, 0, 9, 6, 5, 4, 9, 9, 4, 7, 9, 9, 9, 6,\n",
      "        9, 9, 9, 4, 9, 2, 0, 4]), 'length': tensor([77, 15, 28, 14, 39, 12,  9, 47, 44,  8, 22, 29, 38, 23, 21, 10, 23, 19,\n",
      "        18, 11, 15, 28, 58, 21, 23,  7, 22, 17, 76, 65, 22,  8])}\n",
      "167 {'inputs': tensor([[   2, 1189,  984,  ...,    1,    1,    1],\n",
      "        [   2, 1366, 7318,  ...,    1,    1,    1],\n",
      "        [   2, 4665, 6261,  ...,    1,    1,    1],\n",
      "        ...,\n",
      "        [   2,  589, 6706,  ...,    1,    1,    1],\n",
      "        [   2, 2590, 6896,  ...,    1,    1,    1],\n",
      "        [   2, 1830, 6691,  ...,    1,    1,    1]]), 'labels': tensor([9, 9, 9, 8, 5, 9, 9, 3, 4, 9, 7, 9, 7, 9, 8, 2, 7, 8, 9, 8, 3, 9, 9, 9,\n",
      "        9, 7, 9, 8, 6, 9, 8, 9]), 'length': tensor([20, 56, 23, 20, 19, 13, 14, 16, 30, 10, 17, 13, 22, 50, 13, 19, 20, 44,\n",
      "        16, 27, 66,  5, 23, 33, 30, 32, 36, 34, 43, 33, 15, 30])}\n",
      "168 {'inputs': tensor([[   2, 4669, 6983,  ...,    1,    1,    1],\n",
      "        [   2, 3498, 6992,  ...,    1,    1,    1],\n",
      "        [   2, 5102, 6553,  ...,    1,    1,    1],\n",
      "        ...,\n",
      "        [   2,  517, 6188,  ...,    1,    1,    1],\n",
      "        [   2, 3085, 3394,  ...,    1,    1,    1],\n",
      "        [   2, 2050,   54,  ...,    1,    1,    1]]), 'labels': tensor([9, 9, 9, 9, 7, 9, 9, 9, 9, 9, 9, 9, 0, 9, 9, 2, 6, 7, 7, 9, 8, 2, 2, 8,\n",
      "        7, 9, 0, 8, 9, 9, 0, 7]), 'length': tensor([19,  7, 27, 21,  9,  5, 85, 28,  3, 34,  9, 19, 38, 24, 26, 26, 75, 15,\n",
      "        48, 36, 23, 15,  8,  7,  9, 13,  5, 10, 43,  7, 22, 37])}\n",
      "169 {'inputs': tensor([[   2, 2856, 7720,  ...,    1,    1,    1],\n",
      "        [   2, 4117, 6883,  ...,    1,    1,    1],\n",
      "        [   2, 4368, 3394,  ...,    1,    1,    1],\n",
      "        ...,\n",
      "        [   2,  531, 7720,  ...,    1,    1,    1],\n",
      "        [   2,  517,    0,  ...,    1,    1,    1],\n",
      "        [   2,  589, 6398,  ...,    1,    1,    1]]), 'labels': tensor([9, 9, 6, 8, 9, 9, 9, 9, 9, 7, 9, 8, 9, 9, 6, 9, 9, 9, 8, 9, 9, 4, 5, 8,\n",
      "        9, 9, 8, 9, 9, 9, 9, 1]), 'length': tensor([29, 23, 29, 11, 23, 19, 44, 17,  9, 87, 79, 12, 42, 23, 27,  8, 10, 12,\n",
      "        22, 30, 31, 34, 24, 21, 23, 11, 14, 25, 12, 24, 18, 22])}\n",
      "170 {'inputs': tensor([[   2, 1889, 3135,  ...,    1,    1,    1],\n",
      "        [   2, 1406, 1023,  ...,    1,    1,    1],\n",
      "        [   2,  517, 6618,  ...,    1,    1,    1],\n",
      "        ...,\n",
      "        [   2, 4762, 6213,  ...,    1,    1,    1],\n",
      "        [   2,  517,  493,  ...,    1,    1,    1],\n",
      "        [   2, 3461, 3969,  ...,    1,    1,    1]]), 'labels': tensor([9, 0, 1, 3, 8, 9, 9, 9, 6, 9, 0, 8, 9, 7, 9, 7, 8, 1, 9, 0, 4, 0, 0, 9,\n",
      "        7, 0, 9, 3, 6, 5, 9, 9]), 'length': tensor([29, 16, 36, 25, 54, 10, 30, 17, 20, 28, 25, 30, 17, 15, 10, 11, 47, 16,\n",
      "        32, 13, 33,  8, 12,  9, 18, 36, 16,  9, 12, 18, 13, 22])}\n",
      "171 {'inputs': tensor([[   2, 3394, 7095,  ...,    1,    1,    1],\n",
      "        [   2, 3341, 7227,  ...,    1,    1,    1],\n",
      "        [   2,  517,    0,  ...,    1,    1,    1],\n",
      "        ...,\n",
      "        [   2, 4235, 7096,  ...,    1,    1,    1],\n",
      "        [   2, 4815, 6992,  ...,    1,    1,    1],\n",
      "        [   2, 1607, 5798,  ...,    1,    1,    1]]), 'labels': tensor([8, 9, 9, 7, 9, 9, 9, 4, 9, 9, 9, 0, 5, 9, 1, 9, 8, 9, 5, 0, 9, 7, 5, 1,\n",
      "        9, 9, 9, 8, 9, 6, 9, 7]), 'length': tensor([69, 21, 13, 28, 11, 13, 11, 16, 22, 10,  4, 45, 16, 20,  8, 26, 34, 22,\n",
      "        10, 25, 12, 19, 54, 28, 37, 21,  6, 27, 25, 25, 30, 14])}\n",
      "172 {'inputs': tensor([[   2, 3093, 7347,  ...,    1,    1,    1],\n",
      "        [   2, 3969, 6269,  ...,    1,    1,    1],\n",
      "        [   2, 4164, 3093,  ...,    1,    1,    1],\n",
      "        ...,\n",
      "        [   2, 2219, 7086,  ...,    1,    1,    1],\n",
      "        [   2, 3093,   54,  ...,    1,    1,    1],\n",
      "        [   2, 3233, 6705,  ...,    1,    1,    1]]), 'labels': tensor([9, 7, 6, 8, 9, 9, 9, 9, 9, 7, 9, 9, 8, 7, 9, 9, 5, 8, 9, 9, 0, 9, 9, 9,\n",
      "        9, 9, 9, 7, 9, 6, 9, 9]), 'length': tensor([16, 16, 28, 30, 31,  4, 22, 14, 23, 84, 15,  8,  8, 23, 18, 28, 15, 36,\n",
      "         8, 13, 63, 28, 10, 13, 14, 10, 49, 11,  9, 29, 29, 28])}\n",
      "173 {'inputs': tensor([[   2, 4102,  517,  ...,    1,    1,    1],\n",
      "        [   2, 4534,   54,  ...,    1,    1,    1],\n",
      "        [   2, 4389, 6064,  ...,    1,    1,    1],\n",
      "        ...,\n",
      "        [   2,  791, 1210,  ...,    1,    1,    1],\n",
      "        [   2, 3606,   46,  ...,    1,    1,    1],\n",
      "        [   2,  766, 5468,  ...,    1,    1,    1]]), 'labels': tensor([9, 0, 7, 1, 1, 6, 9, 8, 5, 5, 2, 9, 9, 5, 6, 9, 8, 9, 7, 9, 9, 8, 7, 6,\n",
      "        9, 5, 9, 9, 0, 9, 1, 7]), 'length': tensor([30, 39, 21, 32, 12, 37, 23, 11, 27, 27, 21, 27, 14, 13,  9, 17, 60, 36,\n",
      "        10, 12, 44, 31, 19, 15, 20, 27, 29, 24,  8, 14, 11, 18])}\n",
      "174 {'inputs': tensor([[   2, 3107, 4695,  ...,    1,    1,    1],\n",
      "        [   2, 3977,    0,  ...,    1,    1,    1],\n",
      "        [   2, 3969, 6269,  ...,    1,    1,    1],\n",
      "        ...,\n",
      "        [   2, 3941, 7119,  ...,    1,    1,    1],\n",
      "        [   2, 2368, 5330,  ...,    1,    1,    1],\n",
      "        [   2, 3996, 5804,  ...,    1,    1,    1]]), 'labels': tensor([8, 8, 9, 9, 8, 9, 8, 9, 9, 0, 9, 7, 7, 9, 6, 0, 5, 9, 9, 4, 6, 9, 9, 9,\n",
      "        9, 8, 9, 9, 8, 0, 4, 7]), 'length': tensor([13,  8,  5, 31,  5, 11, 13, 33, 30, 27, 23, 49, 22, 63, 20, 15, 29, 28,\n",
      "         9, 59, 72, 13, 22, 13, 10, 15, 15, 22, 17, 22, 28, 18])}\n",
      "175 {'inputs': tensor([[   2, 3672, 3940,  ...,    1,    1,    1],\n",
      "        [   2, 4841, 7224,  ...,    1,    1,    1],\n",
      "        [   2, 4733, 7096,  ...,    1,    1,    1],\n",
      "        ...,\n",
      "        [   2, 1963, 4919,  ...,    1,    1,    1],\n",
      "        [   2, 3969, 6269,  ...,    1,    1,    1],\n",
      "        [   2,  940, 3167,  ...,    1,    1,    1]]), 'labels': tensor([9, 9, 9, 1, 9, 6, 9, 9, 0, 9, 9, 9, 9, 9, 7, 5, 8, 9, 9, 9, 6, 9, 9, 0,\n",
      "        9, 9, 8, 3, 9, 9, 0, 6]), 'length': tensor([27, 43, 10, 37, 10, 14, 50,  5, 26, 17, 14, 10, 18, 11, 18, 15, 29, 12,\n",
      "        10, 59,  7, 12, 21, 62,  7, 24, 17, 22, 17, 19,  5, 15])}\n",
      "176 {'inputs': tensor([[   2, 3969, 6269,  ...,    1,    1,    1],\n",
      "        [   2, 4128, 1907,  ...,    1,    1,    1],\n",
      "        [   2, 3085, 5937,  ...,    1,    1,    1],\n",
      "        ...,\n",
      "        [   2, 3093, 4368,  ...,    1,    1,    1],\n",
      "        [   2, 4102, 3931,  ...,    1,    1,    1],\n",
      "        [   2, 3036, 7942,  ...,    1,    1,    1]]), 'labels': tensor([9, 9, 9, 9, 9, 6, 1, 7, 8, 0, 4, 9, 0, 9, 3, 9, 9, 9, 5, 8, 9, 9, 7, 9,\n",
      "        9, 9, 7, 9, 9, 2, 9, 6]), 'length': tensor([10, 16, 20, 31, 10, 22, 23, 16, 18, 67, 34, 12,  6, 31, 29, 24, 16, 19,\n",
      "        84, 23,  5, 31, 14, 65, 13, 22, 14, 29, 14, 17, 15, 27])}\n",
      "177 {'inputs': tensor([[   2, 2149, 7478,  ...,    1,    1,    1],\n",
      "        [   2, 3647, 7344,  ...,    1,    1,    1],\n",
      "        [   2, 2199, 7724,  ...,    1,    1,    1],\n",
      "        ...,\n",
      "        [   2, 3977, 6881,  ...,    1,    1,    1],\n",
      "        [   2, 1773, 6706,  ...,    1,    1,    1],\n",
      "        [   2, 4805, 7581,  ...,    1,    1,    1]]), 'labels': tensor([9, 4, 4, 9, 9, 0, 9, 8, 4, 9, 9, 9, 7, 8, 7, 9, 8, 9, 4, 6, 7, 2, 6, 9,\n",
      "        7, 9, 9, 9, 0, 7, 0, 9]), 'length': tensor([13, 31, 25, 21, 24,  6, 14, 19,  7, 31, 19, 33, 19, 16, 13, 14, 13, 14,\n",
      "        90, 78, 11, 42, 11, 15, 26, 23, 22, 26, 34, 33,  9, 33])}\n",
      "178 {'inputs': tensor([[   2, 3423, 6150,  ...,    1,    1,    1],\n",
      "        [   2, 4505, 5859,  ...,    1,    1,    1],\n",
      "        [   2, 3010, 6559,  ...,    1,    1,    1],\n",
      "        ...,\n",
      "        [   2, 1633, 6280,  ...,    1,    1,    1],\n",
      "        [   2, 1995, 5206,  ...,    1,    1,    1],\n",
      "        [   2, 2562, 5374,  ...,    1,    1,    1]]), 'labels': tensor([8, 9, 8, 7, 7, 8, 7, 9, 0, 9, 8, 9, 9, 9, 9, 9, 9, 5, 9, 7, 7, 9, 9, 0,\n",
      "        9, 9, 9, 8, 9, 9, 7, 9]), 'length': tensor([20, 68, 11, 20, 35, 72, 35, 14, 82, 14, 66, 14, 18, 17, 29, 27, 45, 27,\n",
      "        19, 16, 13,  4, 22, 16, 20, 18, 10,  7, 26, 28,  8, 16])}\n",
      "179 {'inputs': tensor([[   2,  517, 6983,  ...,    1,    1,    1],\n",
      "        [   2, 2959, 6514,  ...,    1,    1,    1],\n",
      "        [   2, 3773, 7206,  ...,    1,    1,    1],\n",
      "        ...,\n",
      "        [   2, 4665, 5663,  ...,    1,    1,    1],\n",
      "        [   2, 1897, 5841,  ...,    1,    1,    1],\n",
      "        [   2, 1458, 2095,  ...,    1,    1,    1]]), 'labels': tensor([3, 8, 9, 8, 9, 7, 0, 5, 9, 9, 9, 9, 9, 9, 9, 9, 2, 9, 7, 7, 9, 9, 8, 7,\n",
      "        8, 0, 9, 9, 0, 9, 7, 9]), 'length': tensor([21, 20,  5, 21,  8, 10, 22,  9,  7, 20, 53, 44,  9, 20, 22,  6,  7, 12,\n",
      "        25, 37,  5, 17, 17, 19, 92, 14, 12, 14,  6, 24, 14, 21])}\n",
      "180 {'inputs': tensor([[   2, 1356, 5468,  ...,    1,    1,    1],\n",
      "        [   2, 2145, 6844,  ...,    1,    1,    1],\n",
      "        [   2, 3380, 6255,  ...,    1,    1,    1],\n",
      "        ...,\n",
      "        [   2, 1195, 3466,  ...,    1,    1,    1],\n",
      "        [   2, 3327, 1641,  ...,    1,    1,    1],\n",
      "        [   2, 2351, 5337,  ...,    1,    1,    1]]), 'labels': tensor([6, 0, 8, 7, 9, 9, 0, 9, 9, 9, 9, 5, 4, 8, 9, 9, 0, 9, 9, 1, 8, 9, 3, 9,\n",
      "        9, 8, 7, 6, 7, 1, 9, 7]), 'length': tensor([19,  6, 25, 14, 11, 37, 64, 15,  9,  7,  6,  9, 79, 19, 43, 36, 20, 32,\n",
      "        18, 25, 26, 16, 12,  7, 19, 40, 19, 72, 13, 31, 13, 17])}\n",
      "181 {'inputs': tensor([[   2, 1833, 6392,  ...,    1,    1,    1],\n",
      "        [   2, 2959, 6514,  ...,    1,    1,    1],\n",
      "        [   2, 1435,  529,  ...,    1,    1,    1],\n",
      "        ...,\n",
      "        [   2,  517, 5983,  ...,    1,    1,    1],\n",
      "        [   2, 3341, 6064,  ...,    1,    1,    1],\n",
      "        [   2, 3941, 7172,  ...,    1,    1,    1]]), 'labels': tensor([9, 9, 5, 8, 9, 9, 0, 9, 3, 6, 9, 9, 7, 9, 4, 1, 9, 9, 7, 6, 7, 9, 0, 8,\n",
      "        0, 8, 9, 9, 9, 0, 7, 8]), 'length': tensor([ 6, 10, 29, 30, 10, 19, 48,  5, 17, 21, 17, 20, 15, 25, 30, 73, 18,  5,\n",
      "        18,  9, 67,  5, 25, 12, 12, 23, 73, 40, 47,  4, 25, 26])}\n",
      "182 {'inputs': tensor([[   2, 3397, 7720,  ...,    1,    1,    1],\n",
      "        [   2, 3978, 6855,  ...,    1,    1,    1],\n",
      "        [   2, 3394, 2355,  ...,    1,    1,    1],\n",
      "        ...,\n",
      "        [   2, 1025, 7836,  ...,    1,    1,    1],\n",
      "        [   2, 4368, 3977,  ...,    1,    1,    1],\n",
      "        [   2, 1529, 1025,  ...,    1,    1,    1]]), 'labels': tensor([3, 9, 0, 9, 9, 1, 9, 4, 9, 9, 9, 9, 9, 5, 9, 9, 0, 8, 7, 0, 3, 3, 0, 8,\n",
      "        8, 9, 9, 9, 1, 7, 9, 9]), 'length': tensor([ 24,   5,  11,  17,   6,  95,  26,  76, 108,  21,  13,  62,  38,  12,\n",
      "         24,  10,  25,  31,  29,  13,  50,  14,  19,  31,  20,  11,  14,  18,\n",
      "         17,  16,  34,  12])}\n",
      "183 {'inputs': tensor([[   2, 3628, 6882,  ...,    1,    1,    1],\n",
      "        [   2, 3977, 5859,  ...,    1,    1,    1],\n",
      "        [   2, 3969, 6269,  ...,    1,    1,    1],\n",
      "        ...,\n",
      "        [   2, 3461, 3969,  ...,    1,    1,    1],\n",
      "        [   2, 3397, 7720,  ...,    1,    1,    1],\n",
      "        [   2, 3969, 6269,  ...,    1,    1,    1]]), 'labels': tensor([5, 9, 9, 9, 7, 9, 7, 2, 4, 9, 6, 9, 9, 0, 9, 9, 9, 9, 7, 8, 9, 8, 8, 9,\n",
      "        6, 9, 6, 9, 9, 9, 3, 8]), 'length': tensor([14, 12, 14, 22, 18, 12, 41, 38, 13, 47, 59, 10, 28, 10, 12, 13, 59, 12,\n",
      "        23, 33, 27, 14, 26, 39,  4, 14, 20,  9, 42, 11, 14, 15])}\n",
      "184 {'inputs': tensor([[   2, 1458, 7191,  ...,    1,    1,    1],\n",
      "        [   2, 4710, 1120,  ...,    1,    1,    1],\n",
      "        [   2, 4209, 6954,  ...,    1,    1,    1],\n",
      "        ...,\n",
      "        [   2, 4522, 6116,  ...,    1,    1,    1],\n",
      "        [   2, 2929, 6135,  ...,    1,    1,    1],\n",
      "        [   2, 2514, 7398,  ...,    1,    1,    1]]), 'labels': tensor([0, 9, 9, 9, 9, 9, 7, 8, 7, 8, 0, 0, 7, 9, 7, 0, 8, 6, 0, 6, 0, 8, 4, 7,\n",
      "        8, 9, 9, 9, 2, 9, 9, 8]), 'length': tensor([27,  5,  9, 13, 57, 29, 11, 26, 21, 25,  4, 11, 22, 12, 12, 15, 13, 22,\n",
      "        11, 13, 35,  4, 14,  8, 21, 35, 16, 10, 24, 23, 16, 22])}\n",
      "185 {'inputs': tensor([[   2, 3745, 5562,  ...,    1,    1,    1],\n",
      "        [   2, 2094, 7784,  ...,    1,    1,    1],\n",
      "        [   2, 4841, 6084,  ...,    1,    1,    1],\n",
      "        ...,\n",
      "        [   2, 3574, 7548,  ...,    1,    1,    1],\n",
      "        [   2, 5206, 7344,  ...,    1,    1,    1],\n",
      "        [   2,  517, 6515,  ...,    1,    1,    1]]), 'labels': tensor([9, 8, 7, 7, 9, 9, 9, 9, 8, 8, 0, 9, 9, 0, 9, 8, 8, 9, 8, 3, 7, 8, 9, 9,\n",
      "        8, 8, 9, 9, 9, 9, 9, 9]), 'length': tensor([16, 13, 29, 14, 18, 14, 29, 10, 55, 11,  7,  8, 14, 10, 20, 19, 14, 31,\n",
      "        12, 16, 50, 13, 35, 10, 28, 14, 31, 12, 17,  6, 26, 57])}\n",
      "186 {'inputs': tensor([[   2, 3978, 6885,  ...,    1,    1,    1],\n",
      "        [   2,  517, 6270,  ...,    1,    1,    1],\n",
      "        [   2, 3647, 5400,  ...,    1,    1,    1],\n",
      "        ...,\n",
      "        [   2,  526, 7220,  ...,    1,    1,    1],\n",
      "        [   2,  529,  149,  ...,    1,    1,    1],\n",
      "        [   2, 3255, 7431,  ...,    1,    1,    1]]), 'labels': tensor([9, 0, 8, 0, 6, 2, 9, 6, 9, 9, 0, 9, 9, 9, 9, 9, 9, 9, 4, 9, 9, 0, 5, 9,\n",
      "        9, 9, 6, 6, 9, 0, 8, 9]), 'length': tensor([ 5, 12, 32, 23, 20, 18, 11, 10, 11, 32, 43, 22, 16, 11, 13, 28,  6, 17,\n",
      "        12, 14, 23, 43, 25, 31, 16, 13, 24, 34, 85, 16, 16, 19])}\n",
      "187 {'inputs': tensor([[   2, 4780,  791,  ...,    1,    1,    1],\n",
      "        [   2, 1300, 7095,  ...,    1,    1,    1],\n",
      "        [   2,  517, 7891,  ...,    1,    1,    1],\n",
      "        ...,\n",
      "        [   2,  791, 1185,  ...,    1,    1,    1],\n",
      "        [   2, 3394, 5760,  ...,    1,    1,    1],\n",
      "        [   2, 3672, 3394,  ...,    1,    1,    1]]), 'labels': tensor([5, 9, 6, 9, 9, 9, 9, 9, 2, 0, 7, 0, 7, 6, 7, 7, 0, 7, 6, 9, 9, 9, 9, 9,\n",
      "        8, 9, 0, 7, 9, 9, 9, 0]), 'length': tensor([29, 57, 15, 39, 24, 26, 11, 12, 22, 21, 22,  5, 15,  5, 42, 45,  6,  8,\n",
      "        15, 24, 33, 18, 16, 18, 24, 51, 16, 27, 29,  8, 29, 17])}\n",
      "188 {'inputs': tensor([[   2, 3647, 6577,  ...,    1,    1,    1],\n",
      "        [   2, 3940, 6575,  ...,    1,    1,    1],\n",
      "        [   2,  517, 7265,  ...,    1,    1,    1],\n",
      "        ...,\n",
      "        [   2, 3327, 3122,  ...,    1,    1,    1],\n",
      "        [   2, 3296, 6785,  ...,    1,    1,    1],\n",
      "        [   2, 4102, 2640,  ...,    1,    1,    1]]), 'labels': tensor([9, 1, 0, 4, 8, 9, 6, 9, 6, 3, 8, 9, 7, 9, 7, 9, 4, 5, 9, 8, 6, 9, 9, 9,\n",
      "        0, 0, 7, 0, 9, 9, 0, 7]), 'length': tensor([23, 25, 12, 24, 13,  8, 23, 11,  7, 38, 10, 22, 20, 11, 31, 31, 22, 16,\n",
      "        15, 14, 19, 10, 19,  4, 25, 30, 18, 32, 15, 23, 18, 14])}\n",
      "189 {'inputs': tensor([[   2,  517, 5520,  ...,    1,    1,    1],\n",
      "        [   2, 4196, 6844,  ...,    1,    1,    1],\n",
      "        [   2,  702, 7094,  ...,    1,    1,    1],\n",
      "        ...,\n",
      "        [   2, 1194, 1185,  ...,    1,    1,    1],\n",
      "        [   2, 4679, 6133,  ...,    1,    1,    1],\n",
      "        [   2, 2941, 5330,  ...,    1,    1,    1]]), 'labels': tensor([9, 6, 9, 9, 9, 9, 9, 9, 9, 9, 9, 5, 9, 9, 7, 5, 9, 6, 9, 9, 6, 0, 9, 9,\n",
      "        1, 9, 8, 0, 9, 3, 9, 0]), 'length': tensor([18, 11, 18, 23, 13, 20, 25, 19, 36, 19,  9, 19, 18,  8, 13, 34,  3, 20,\n",
      "        15, 14, 19, 14, 17, 16, 38,  3, 14, 27, 11, 18, 22, 21])}\n",
      "190 {'inputs': tensor([[   2, 1435, 6383,  ...,    1,    1,    1],\n",
      "        [   2,  517, 6835,  ...,    1,    1,    1],\n",
      "        [   2,  517,  400,  ...,    1,    1,    1],\n",
      "        ...,\n",
      "        [   2, 4368, 3969,  ...,    1,    1,    1],\n",
      "        [   2, 2938, 7018,  ...,    1,    1,    1],\n",
      "        [   2, 3739,  517,  ...,    1,    1,    1]]), 'labels': tensor([9, 9, 9, 8, 1, 5, 8, 9, 9, 6, 7, 9, 9, 0, 7, 9, 2, 0, 9, 9, 9, 7, 3, 9,\n",
      "        5, 9, 4, 7, 9, 9, 9, 9]), 'length': tensor([34, 16,  7,  9, 17, 14, 19, 21, 10, 30, 25,  7, 56, 47, 25, 34, 10,  8,\n",
      "        17,  9, 29, 18, 30, 12, 28, 10, 19, 10, 27, 24, 16, 13])}\n",
      "191 {'inputs': tensor([[   2, 3093, 6129,  ...,    1,    1,    1],\n",
      "        [   2, 3396, 6489,  ...,    1,    1,    1],\n",
      "        [   2, 1527, 2149,  ...,    1,    1,    1],\n",
      "        ...,\n",
      "        [   2, 3394, 2366,  ...,    1,    1,    1],\n",
      "        [   2, 3257, 3114,  ...,    1,    1,    1],\n",
      "        [   2, 1370, 6150,  ...,    1,    1,    1]]), 'labels': tensor([9, 9, 0, 9, 9, 9, 9, 9, 6, 5, 8, 9, 9, 9, 9, 5, 7, 9, 6, 9, 3, 9, 7, 9,\n",
      "        8, 9, 8, 9, 9, 8, 8, 9]), 'length': tensor([15, 27, 14, 17, 21, 13, 17,  5, 13,  8, 31,  7, 25, 28, 19, 13, 26,  7,\n",
      "        20, 17, 24, 17, 50, 41, 22, 21,  8, 22, 82, 17, 26, 18])}\n",
      "192 {'inputs': tensor([[   2, 3647, 5377,  ...,    1,    1,    1],\n",
      "        [   2, 3123, 7096,  ...,    1,    1,    1],\n",
      "        [   2, 4826, 7715,  ...,    1,    1,    1],\n",
      "        ...,\n",
      "        [   2, 4647, 1788,  ...,    1,    1,    1],\n",
      "        [   2, 4102,  791,  ...,    1,    1,    1],\n",
      "        [   2, 3223, 6553,  ...,    1,    1,    1]]), 'labels': tensor([0, 5, 9, 7, 9, 9, 9, 9, 9, 5, 9, 9, 9, 9, 7, 1, 9, 8, 7, 9, 2, 9, 0, 9,\n",
      "        0, 9, 8, 0, 9, 9, 9, 3]), 'length': tensor([27, 19, 27, 15, 24, 14,  9, 15, 19, 32, 21,  6, 12, 16, 18, 32, 15, 11,\n",
      "        14, 13,  9, 28, 13,  4, 27, 30,  8, 26, 13, 31, 23, 27])}\n",
      "193 {'inputs': tensor([[   2, 3327, 1138,  ...,    1,    1,    1],\n",
      "        [   2, 4368, 6779,  ...,    1,    1,    1],\n",
      "        [   2, 3978, 6893,  ...,    1,    1,    1],\n",
      "        ...,\n",
      "        [   2, 3298,    0,  ...,    1,    1,    1],\n",
      "        [   2, 4958,  517,  ...,    1,    1,    1],\n",
      "        [   2, 3394, 6150,  ...,    1,    1,    1]]), 'labels': tensor([9, 9, 7, 9, 0, 8, 7, 9, 9, 5, 9, 9, 4, 9, 9, 9, 9, 0, 9, 9, 9, 0, 2, 0,\n",
      "        1, 4, 9, 8, 9, 9, 9, 0]), 'length': tensor([ 8, 31,  8, 32, 28, 10, 17, 13, 14, 29, 13, 23,  9, 17, 36, 19,  5, 20,\n",
      "        31, 10,  9, 13, 31, 16, 12, 18, 18, 22, 29, 30, 13, 22])}\n",
      "194 {'inputs': tensor([[   2, 1927, 7178,  ...,    1,    1,    1],\n",
      "        [   2,  648,  449,  ...,    1,    1,    1],\n",
      "        [   2,  517, 7095,  ...,    1,    1,    1],\n",
      "        ...,\n",
      "        [   2,  529, 7220,  ...,    1,    1,    1],\n",
      "        [   2, 1059, 4478,  ...,    1,    1,    1],\n",
      "        [   2, 3341, 6064,  ...,    1,    1,    1]]), 'labels': tensor([0, 6, 9, 0, 1, 7, 9, 9, 9, 9, 8, 9, 9, 8, 9, 9, 9, 0, 9, 7, 9, 1, 0, 0,\n",
      "        5, 9, 9, 9, 9, 9, 8, 9]), 'length': tensor([ 9, 11, 23, 27, 54, 23, 15, 13, 10, 69, 22, 15, 12, 30, 14,  8, 23, 12,\n",
      "        26, 15, 11, 10, 34, 12, 14, 22, 14, 11, 45, 15, 12, 12])}\n",
      "195 {'inputs': tensor([[   2, 3394, 6116,  ...,    1,    1,    1],\n",
      "        [   2, 3672, 5377,  ...,    1,    1,    1],\n",
      "        [   2, 2417, 5965,  ...,    1,    1,    1],\n",
      "        ...,\n",
      "        [   2,  766, 5650,  ...,    1,    1,    1],\n",
      "        [   2,  517, 7095,  ...,    1,    1,    1],\n",
      "        [   2, 4856, 5920,  ...,    1,    1,    1]]), 'labels': tensor([6, 9, 9, 9, 7, 0, 9, 0, 9, 9, 9, 9, 0, 0, 6, 8, 9, 0, 7, 8, 9, 8, 8, 4,\n",
      "        9, 9, 9, 9, 9, 9, 7, 9]), 'length': tensor([31, 11, 11, 31, 10, 12, 20, 16, 16, 26, 10, 34, 27, 14, 15, 18,  4, 27,\n",
      "        36, 83, 15, 10,  7, 45, 16, 13, 18, 28, 17, 13, 18, 24])}\n",
      "196 {'inputs': tensor([[   2, 2408, 7078,  ...,    1,    1,    1],\n",
      "        [   2,  517, 6770,  ...,    1,    1,    1],\n",
      "        [   2, 4062, 1267,  ...,    1,    1,    1],\n",
      "        ...,\n",
      "        [   2, 2929, 7682,  ...,    1,    1,    1],\n",
      "        [   2,  517, 6955,  ...,    1,    1,    1],\n",
      "        [   2, 3394, 5474,  ...,    1,    1,    1]]), 'labels': tensor([9, 9, 9, 9, 9, 8, 9, 6, 9, 0, 9, 4, 0, 6, 9, 9, 9, 9, 8, 6, 8, 9, 4, 9,\n",
      "        9, 8, 5, 9, 9, 7, 9, 9]), 'length': tensor([23, 15, 16, 17, 26, 16, 24, 24,  7, 80, 29, 28,  5, 13, 22, 10, 34, 20,\n",
      "        12, 19, 24,  5, 30, 55, 10, 13, 24,  6, 18, 14, 13, 23])}\n",
      "197 {'inputs': tensor([[   2,  517, 7368,  ...,    1,    1,    1],\n",
      "        [   2, 3650, 5859,  ...,    1,    1,    1],\n",
      "        [   2,  517, 5520,  ...,    1,    1,    1],\n",
      "        ...,\n",
      "        [   2, 3135, 7344,  ...,    1,    1,    1],\n",
      "        [   2,  533, 7220,  ...,    1,    1,    1],\n",
      "        [   2, 2417, 6150,  ...,    1,    1,    1]]), 'labels': tensor([9, 0, 9, 6, 9, 0, 6, 4, 1, 5, 8, 9, 6, 8, 4, 0, 9, 9, 9, 0, 9, 8, 9, 9,\n",
      "        9, 5, 0, 9, 9, 2, 8, 6]), 'length': tensor([26, 21,  5, 16, 15, 61, 11, 52, 15, 14, 11,  9, 22, 17, 44, 35,  5, 32,\n",
      "        22, 37,  7, 17,  8, 18, 18, 11, 12,  5, 24, 26, 29,  6])}\n",
      "198 {'inputs': tensor([[   2, 2573, 5543,  ...,    1,    1,    1],\n",
      "        [   2, 2573, 7150,  ...,    1,    1,    1],\n",
      "        [   2, 4239, 4136,  ...,    1,    1,    1],\n",
      "        ...,\n",
      "        [   2, 1830, 7018,  ...,    1,    1,    1],\n",
      "        [   2, 1449, 7984,  ...,    1,    1,    1],\n",
      "        [   2, 1535, 7078,  ...,    1,    1,    1]]), 'labels': tensor([9, 5, 8, 9, 5, 0, 6, 7, 9, 9, 8, 6, 9, 8, 9, 6, 9, 9, 9, 8, 9, 9, 8, 9,\n",
      "        9, 9, 0, 5, 9, 5, 2, 9]), 'length': tensor([10, 14, 22, 19, 28, 23, 24, 77, 23, 15, 50,  9, 12, 32, 12, 26, 13, 18,\n",
      "        13, 16, 23, 22, 10, 24, 13,  6, 29, 22, 30, 11, 22, 17])}\n",
      "199 {'inputs': tensor([[   2, 1314, 4522,  ...,    1,    1,    1],\n",
      "        [   2, 1370, 6806,  ...,    1,    1,    1],\n",
      "        [   2, 3220, 6071,  ...,    1,    1,    1],\n",
      "        ...,\n",
      "        [   2, 4522,    3,  ...,    1,    1,    1],\n",
      "        [   2,  517, 7996,  ...,    1,    1,    1],\n",
      "        [   2, 3304, 1342,  ...,    1,    1,    1]]), 'labels': tensor([6, 6, 9, 6, 9, 9, 9, 0, 9, 7, 9, 9, 0, 0, 0, 8, 9, 8, 6, 9, 9, 0, 9, 1,\n",
      "        9, 9, 9, 8, 7, 9, 9, 9]), 'length': tensor([21, 30, 20, 44,  5, 14, 27, 21, 21,  9, 22, 12, 51, 63, 20,  8,  6,  5,\n",
      "        35, 14, 24, 17, 13, 25, 36, 17, 16, 15, 10,  3, 32,  9])}\n",
      "200 {'inputs': tensor([[   2, 1861, 1567,  ...,    1,    1,    1],\n",
      "        [   2, 1460, 6804,  ...,    1,    1,    1],\n",
      "        [   2, 1698, 2358,  ...,    1,    1,    1],\n",
      "        ...,\n",
      "        [   2, 1457, 5760,  ...,    1,    1,    1],\n",
      "        [   2, 3978, 7088,  ...,    1,    1,    1],\n",
      "        [   2, 1917, 6150,  ...,    1,    1,    1]]), 'labels': tensor([9, 7, 9, 6, 9, 9, 9, 1, 9, 9, 6, 7, 7, 0, 9, 0, 9, 6, 9, 7, 9, 0, 9, 9,\n",
      "        7, 9, 9, 4, 9, 5, 9, 2]), 'length': tensor([50, 35, 10, 28, 18, 25, 12,  9, 52, 16, 26,  8, 28, 34, 13, 23, 13, 17,\n",
      "         6, 14, 34, 27, 19, 17, 14, 18, 22, 22,  6, 20, 10, 16])}\n",
      "201 {'inputs': tensor([[   2, 4102,  517,  ...,    1,    1,    1],\n",
      "        [   2, 4368, 3673,  ...,    1,    1,    1],\n",
      "        [   2, 1567, 5377,  ...,    1,    1,    1],\n",
      "        ...,\n",
      "        [   2,  517, 7098,  ...,    1,    1,    1],\n",
      "        [   2,  517, 7996,  ...,    1,    1,    1],\n",
      "        [   2,  517, 5515,  ...,    1,    1,    1]]), 'labels': tensor([0, 9, 0, 9, 6, 9, 9, 5, 8, 3, 9, 9, 9, 0, 9, 0, 9, 9, 7, 9, 7, 7, 9, 9,\n",
      "        9, 3, 0, 7, 9, 8, 9, 9]), 'length': tensor([85, 20, 33, 15, 13, 23, 60, 27, 22,  9, 33, 17, 21, 24, 11, 12, 13, 58,\n",
      "        14, 16, 19, 42, 14, 13, 31, 27, 17, 12, 14, 21, 35,  5])}\n",
      "202 {'inputs': tensor([[   2, 3301, 5782,  ...,    1,    1,    1],\n",
      "        [   2, 1457, 6254,  ...,    1,    1,    1],\n",
      "        [   2,  517, 5487,  ...,    1,    1,    1],\n",
      "        ...,\n",
      "        [   2, 1919, 6896,  ...,    1,    1,    1],\n",
      "        [   2, 4958, 6954,  ...,    1,    1,    1],\n",
      "        [   2, 3978, 5761,  ...,    1,    1,    1]]), 'labels': tensor([9, 9, 8, 9, 9, 5, 7, 9, 0, 9, 7, 9, 9, 2, 9, 9, 9, 9, 9, 9, 9, 9, 9, 9,\n",
      "        9, 9, 5, 8, 7, 4, 9, 9]), 'length': tensor([19, 13, 16, 28, 19, 21, 17, 23, 77,  6, 15,  5, 50, 17, 13, 20, 19,  8,\n",
      "        30, 15, 32,  8, 28,  7, 14, 26, 16, 23, 55, 24, 21,  8])}\n",
      "203 {'inputs': tensor([[   2, 3974, 3394,  ...,    1,    1,    1],\n",
      "        [   2, 3610, 4204,  ...,    1,    1,    1],\n",
      "        [   2,  517, 7016,  ...,    1,    1,    1],\n",
      "        ...,\n",
      "        [   2, 3450, 7095,  ...,    1,    1,    1],\n",
      "        [   2, 1072, 5859,  ...,    1,    1,    1],\n",
      "        [   2, 3111, 6542,  ...,    1,    1,    1]]), 'labels': tensor([9, 8, 7, 9, 8, 9, 6, 7, 9, 9, 0, 8, 8, 8, 9, 3, 6, 0, 9, 9, 9, 3, 7, 0,\n",
      "        6, 8, 9, 4, 7, 0, 9, 9]), 'length': tensor([20, 24, 18, 30, 17, 27, 13,  7, 13, 23, 57, 12, 41, 49, 17, 22, 20, 24,\n",
      "        29, 13, 23, 51, 10, 16, 78, 45, 23, 25, 36, 16, 16, 31])}\n",
      "204 {'inputs': tensor([[   2, 1267, 6812,  ...,    1,    1,    1],\n",
      "        [   2, 1185, 6039,  ...,    1,    1,    1],\n",
      "        [   2, 2292, 7095,  ...,    1,    1,    1],\n",
      "        ...,\n",
      "        [   2, 4562, 6896,  ...,    1,    1,    1],\n",
      "        [   2, 4522, 7139,  ...,    1,    1,    1],\n",
      "        [   2, 1562, 4162,  ...,    1,    1,    1]]), 'labels': tensor([7, 4, 4, 9, 8, 9, 4, 9, 9, 0, 9, 7, 8, 7, 9, 6, 2, 8, 2, 0, 9, 6, 0, 8,\n",
      "        8, 9, 9, 2, 8, 4, 9, 6]), 'length': tensor([ 9,  8, 12, 20, 18, 20, 24, 65, 16, 17, 11, 13, 99, 17, 28, 27, 14, 18,\n",
      "        20, 12, 21, 15, 12, 25, 31, 26, 13, 37, 30, 21, 12, 23])}\n",
      "205 {'inputs': tensor([[   2, 3647, 3394,  ...,    1,    1,    1],\n",
      "        [   2, 3194, 5503,  ...,    1,    1,    1],\n",
      "        [   2, 4208, 7089,  ...,    1,    1,    1],\n",
      "        ...,\n",
      "        [   2, 1456, 7227,  ...,    1,    1,    1],\n",
      "        [   2,  517, 7368,  ...,    1,    1,    1],\n",
      "        [   2, 1291, 6896,  ...,    1,    1,    1]]), 'labels': tensor([0, 0, 9, 9, 9, 0, 9, 2, 8, 0, 9, 9, 5, 7, 9, 0, 4, 9, 9, 6, 9, 8, 9, 5,\n",
      "        8, 8, 7, 9, 0, 7, 9, 5]), 'length': tensor([13, 12,  5, 19, 28, 20, 14, 27, 13, 13, 14, 15, 68,  8,  8, 26, 19, 26,\n",
      "         7, 21, 19, 11, 19, 32,  4, 19, 23, 58, 23, 25,  5, 32])}\n",
      "206 {'inputs': tensor([[   2, 3129, 5859,  ...,    1,    1,    1],\n",
      "        [   2, 4154, 4894,  ...,    1,    1,    1],\n",
      "        [   2, 4360, 6398,  ...,    1,    1,    1],\n",
      "        ...,\n",
      "        [   2, 2293, 1458,  ...,    1,    1,    1],\n",
      "        [   2, 1185, 6042,  ...,    1,    1,    1],\n",
      "        [   2, 1730, 6158,  ...,    1,    1,    1]]), 'labels': tensor([9, 8, 0, 9, 6, 9, 9, 0, 9, 8, 9, 9, 9, 9, 8, 8, 9, 9, 0, 9, 9, 9, 9, 8,\n",
      "        8, 9, 8, 6, 6, 8, 6, 2]), 'length': tensor([12, 22, 16, 33, 19, 23, 78, 15, 33, 18, 47, 16, 32, 22, 21, 23, 30,  7,\n",
      "        33, 19, 23, 26, 22,  9, 25, 12, 26, 16,  9, 26, 13, 37])}\n",
      "207 {'inputs': tensor([[   2, 5081, 5931,  ...,    1,    1,    1],\n",
      "        [   2, 4128, 7096,  ...,    1,    1,    1],\n",
      "        [   2, 1092, 7086,  ...,    1,    1,    1],\n",
      "        ...,\n",
      "        [   2, 4102,  517,  ...,    1,    1,    1],\n",
      "        [   2,  553, 6706,  ...,    1,    1,    1],\n",
      "        [   2, 4841, 7220,  ...,    1,    1,    1]]), 'labels': tensor([9, 9, 0, 7, 9, 7, 1, 9, 9, 5, 9, 7, 9, 0, 9, 9, 8, 9, 9, 4, 0, 9, 9, 9,\n",
      "        9, 4, 9, 9, 9, 9, 3, 8]), 'length': tensor([ 10,  17, 108,  22,  16,  12,  26,  14,  15,  19,  37,  13,  16,  19,\n",
      "         13,   8,   9,  33,  30,  21,  53,  25,  18,  24,  17,  37,  19,   5,\n",
      "         59,  23,  12,  22])}\n",
      "208 {'inputs': tensor([[   2, 3123, 7096,  ...,    1,    1,    1],\n",
      "        [   2, 2658, 6527,  ...,    1,    1,    1],\n",
      "        [   2, 1458, 3039,  ...,    1,    1,    1],\n",
      "        ...,\n",
      "        [   2,  517, 6357,  ...,    1,    1,    1],\n",
      "        [   2, 1370, 7932,  ...,    1,    1,    1],\n",
      "        [   2, 4102, 5206,  ...,    1,    1,    1]]), 'labels': tensor([9, 9, 4, 4, 4, 4, 7, 7, 8, 4, 9, 9, 5, 9, 0, 9, 4, 5, 7, 9, 9, 9, 4, 9,\n",
      "        9, 0, 9, 9, 9, 9, 8, 8]), 'length': tensor([12, 24, 29, 18, 16, 30, 38, 78, 30, 16,  8, 25, 19, 27, 18, 24, 32,  9,\n",
      "        10, 11, 31, 14, 31, 73, 19,  4, 68, 24, 11, 15, 23, 22])}\n",
      "209 {'inputs': tensor([[   2, 4427, 3978,  ...,    1,    1,    1],\n",
      "        [   2, 3969, 6269,  ...,    1,    1,    1],\n",
      "        [   2, 3085, 1258,  ...,    1,    1,    1],\n",
      "        ...,\n",
      "        [   2, 3133, 5804,  ...,    1,    1,    1],\n",
      "        [   2,  517, 6908,  ...,    1,    1,    1],\n",
      "        [   2, 2043, 3272,  ...,    1,    1,    1]]), 'labels': tensor([8, 0, 8, 9, 9, 9, 7, 4, 8, 9, 8, 6, 8, 0, 0, 9, 9, 8, 5, 9, 9, 9, 4, 6,\n",
      "        7, 7, 9, 9, 0, 9, 9, 9]), 'length': tensor([10, 25, 31, 19, 12, 27, 51, 23, 18, 97, 11, 14, 15, 32, 19, 22, 14, 22,\n",
      "         7, 10,  6, 32, 11, 29, 47, 20, 18, 21, 12, 27, 15, 54])}\n",
      "210 {'inputs': tensor([[   2, 3440, 6964,  ...,    1,    1,    1],\n",
      "        [   2, 1189, 1526,  ...,    1,    1,    1],\n",
      "        [   2, 1988, 3480,  ...,    1,    1,    1],\n",
      "        ...,\n",
      "        [   2, 1458, 3978,  ...,    1,    1,    1],\n",
      "        [   2, 3501, 3112,  ...,    1,    1,    1],\n",
      "        [   2, 5114, 7216,  ...,    1,    1,    1]]), 'labels': tensor([9, 5, 9, 9, 9, 9, 9, 0, 9, 8, 5, 9, 9, 9, 4, 8, 9, 9, 2, 0, 8, 9, 0, 9,\n",
      "        8, 9, 9, 9, 9, 9, 7, 7]), 'length': tensor([ 9, 24, 10, 18, 22, 42, 35, 13, 12, 22, 24,  5, 21,  5, 11, 19, 36, 37,\n",
      "        48, 28, 26, 15, 14, 16, 37, 30, 12, 16, 21, 23, 13, 25])}\n",
      "211 {'inputs': tensor([[   2, 3403, 5584,  ...,    1,    1,    1],\n",
      "        [   2,  517, 5785,  ...,    1,    1,    1],\n",
      "        [   2, 2962, 7347,  ...,    1,    1,    1],\n",
      "        ...,\n",
      "        [   2,  533, 7223,  ...,    1,    1,    1],\n",
      "        [   2, 2822, 5337,  ...,    1,    1,    1],\n",
      "        [   2, 3990, 5760,  ...,    1,    1,    1]]), 'labels': tensor([5, 0, 9, 8, 5, 9, 5, 9, 9, 6, 3, 0, 7, 6, 9, 7, 7, 5, 6, 9, 5, 9, 9, 9,\n",
      "        9, 5, 9, 4, 6, 9, 9, 9]), 'length': tensor([49, 10, 17, 29, 15, 26, 29,  4, 21, 39, 99,  5, 14, 18, 29, 27, 28, 74,\n",
      "        26,  7, 47, 26,  9, 27, 28, 13, 26, 13,  7, 12, 33, 44])}\n",
      "212 {'inputs': tensor([[   2, 1364, 4365,  ...,    1,    1,    1],\n",
      "        [   2, 2348, 5561,  ...,    1,    1,    1],\n",
      "        [   2, 3969, 6269,  ...,    1,    1,    1],\n",
      "        ...,\n",
      "        [   2, 4368, 6188,  ...,    1,    1,    1],\n",
      "        [   2, 2649, 7107,  ...,    1,    1,    1],\n",
      "        [   2, 1453, 1458,  ...,    1,    1,    1]]), 'labels': tensor([9, 8, 9, 9, 0, 9, 9, 9, 9, 8, 9, 7, 9, 0, 0, 9, 9, 9, 0, 9, 9, 9, 6, 9,\n",
      "        0, 9, 9, 8, 8, 9, 9, 7]), 'length': tensor([46, 13, 10, 17,  8, 25, 17, 14,  7, 10, 10, 15, 15, 16,  6, 36, 45, 25,\n",
      "        26, 47, 23, 33, 34, 30, 35, 20, 43, 30, 13, 10, 33, 14])}\n",
      "213 {'inputs': tensor([[   2, 4524, 3394,  ...,    1,    1,    1],\n",
      "        [   2, 1633, 6280,  ...,    1,    1,    1],\n",
      "        [   2, 3129, 5592,  ...,    1,    1,    1],\n",
      "        ...,\n",
      "        [   2, 3419, 1282,  ...,    1,    1,    1],\n",
      "        [   2, 3461, 3969,  ...,    1,    1,    1],\n",
      "        [   2, 3133, 5804,  ...,    1,    1,    1]]), 'labels': tensor([9, 9, 9, 9, 9, 9, 0, 8, 9, 9, 9, 9, 7, 0, 7, 2, 9, 9, 9, 9, 8, 5, 9, 0,\n",
      "        9, 7, 9, 9, 9, 8, 9, 3]), 'length': tensor([10, 31, 16, 22, 52, 28, 29, 11, 14, 23, 15, 10, 13, 82, 12, 12, 36, 21,\n",
      "        40, 19, 29,  9,  4, 81, 64, 11, 16, 11, 13, 30, 11, 28])}\n",
      "214 {'inputs': tensor([[   2,  777, 6150,  ...,    1,    1,    1],\n",
      "        [   2, 3978, 6885,  ...,    1,    1,    1],\n",
      "        [   2, 3844, 7096,  ...,    1,    1,    1],\n",
      "        ...,\n",
      "        [   2, 3574, 7548,  ...,    1,    1,    1],\n",
      "        [   2, 1370, 1861,  ...,    1,    1,    1],\n",
      "        [   2, 3394, 1458,  ...,    1,    1,    1]]), 'labels': tensor([8, 9, 9, 9, 7, 3, 9, 7, 0, 2, 8, 7, 9, 9, 9, 9, 9, 0, 7, 9, 7, 7, 2, 9,\n",
      "        9, 0, 8, 7, 9, 8, 9, 8]), 'length': tensor([18, 16, 30, 12, 26, 23, 20, 25, 16, 13, 15, 11, 18, 29, 13, 11, 14,  8,\n",
      "        30,  3, 12, 19, 15, 23, 37, 30, 14, 57, 20,  8,  8, 18])}\n",
      "215 {'inputs': tensor([[   2, 1189, 5538,  ...,    1,    1,    1],\n",
      "        [   2,  517,  120,  ...,    1,    1,    1],\n",
      "        [   2,  517, 6983,  ...,    1,    1,    1],\n",
      "        ...,\n",
      "        [   2, 1280, 7203,  ...,    1,    1,    1],\n",
      "        [   2, 2047, 5330,  ...,    1,    1,    1],\n",
      "        [   2, 3793, 6664,  ...,    1,    1,    1]]), 'labels': tensor([5, 7, 0, 9, 8, 0, 6, 7, 8, 8, 9, 7, 8, 8, 9, 9, 9, 9, 5, 9, 9, 9, 9, 9,\n",
      "        7, 8, 3, 1, 4, 6, 9, 9]), 'length': tensor([10, 10, 34, 18, 30, 23, 13, 29, 20, 47, 10, 29, 23, 11, 29, 32, 48,  5,\n",
      "        65, 23, 20, 64,  7, 55, 14, 10, 18, 25, 46, 18, 11, 28])}\n",
      "216 {'inputs': tensor([[   2, 2929, 7682,  ...,    1,    1,    1],\n",
      "        [   2,  517, 5347,  ...,    1,    1,    1],\n",
      "        [   2, 2095, 6553,  ...,    1,    1,    1],\n",
      "        ...,\n",
      "        [   2, 3461, 1633,  ...,    1,    1,    1],\n",
      "        [   2,  791, 5538,  ...,    1,    1,    1],\n",
      "        [   2, 4257, 6064,  ...,    1,    1,    1]]), 'labels': tensor([7, 9, 8, 7, 9, 9, 9, 0, 9, 8, 9, 9, 9, 9, 8, 9, 6, 5, 9, 3, 9, 7, 8, 9,\n",
      "        9, 9, 7, 4, 7, 9, 9, 9]), 'length': tensor([25, 13, 20, 13, 41, 21, 19, 11, 33, 30, 27, 73, 11, 14, 18, 19, 18, 21,\n",
      "        55, 18, 23, 46, 20, 18,  7,  7, 13, 24, 28, 20,  6, 37])}\n",
      "217 {'inputs': tensor([[   2, 1189, 3107,  ...,    1,    1,    1],\n",
      "        [   2, 3978, 5584,  ...,    1,    1,    1],\n",
      "        [   2, 2822, 6117,  ...,    1,    1,    1],\n",
      "        ...,\n",
      "        [   2, 1458, 5655,  ...,    1,    1,    1],\n",
      "        [   2, 3129, 5859,  ...,    1,    1,    1],\n",
      "        [   2, 4420, 7828,  ...,    1,    1,    1]]), 'labels': tensor([4, 4, 7, 8, 9, 8, 9, 9, 9, 8, 7, 9, 9, 9, 7, 8, 7, 8, 8, 6, 9, 3, 5, 9,\n",
      "        9, 9, 9, 9, 0, 9, 9, 9]), 'length': tensor([35, 31, 25, 16, 23, 11, 72, 10,  7, 26, 20, 11, 31, 23, 25, 18, 17,  7,\n",
      "        20, 20, 47, 27, 50, 29, 20, 30,  5, 20,  9, 17, 14, 39])}\n",
      "218 {'inputs': tensor([[   2, 3394, 3942,  ...,    1,    1,    1],\n",
      "        [   2,  517, 6983,  ...,    1,    1,    1],\n",
      "        [   2, 3093, 6926,  ...,    1,    1,    1],\n",
      "        ...,\n",
      "        [   2, 1572, 7318,  ...,    1,    1,    1],\n",
      "        [   2,  553,  139,  ...,    1,    1,    1],\n",
      "        [   2, 3647, 5390,  ...,    1,    1,    1]]), 'labels': tensor([9, 9, 0, 9, 9, 9, 7, 9, 7, 9, 9, 9, 9, 9, 9, 4, 9, 9, 9, 9, 9, 9, 9, 5,\n",
      "        9, 6, 9, 6, 9, 8, 9, 9]), 'length': tensor([25, 11, 32, 30, 11, 23, 64, 31, 58,  7, 18, 12, 35, 17, 20,  9,  7, 30,\n",
      "        16, 47, 17, 12, 27, 15, 17, 24, 23, 31, 13, 20, 29, 33])}\n",
      "219 {'inputs': tensor([[   2, 1450, 4297,  ...,    1,    1,    1],\n",
      "        [   2, 4525, 2408,  ...,    1,    1,    1],\n",
      "        [   2, 3166, 6273,  ...,    1,    1,    1],\n",
      "        ...,\n",
      "        [   2,  517, 6983,  ...,    1,    1,    1],\n",
      "        [   2, 3978, 6885,  ...,    1,    1,    1],\n",
      "        [   2, 1741, 7276,  ...,    1,    1,    1]]), 'labels': tensor([4, 0, 0, 7, 9, 9, 7, 0, 9, 5, 9, 8, 0, 9, 9, 9, 7, 7, 6, 9, 9, 9, 9, 9,\n",
      "        9, 8, 0, 9, 9, 9, 6, 9]), 'length': tensor([21, 14,  9, 32, 12, 19, 58, 38, 58, 24, 33,  9,  8, 20, 13, 13, 30, 19,\n",
      "        25, 15, 22, 23, 17,  6,  8, 22, 47, 11, 23, 20, 64, 12])}\n",
      "220 {'inputs': tensor([[   2, 4841, 7224,  ...,    1,    1,    1],\n",
      "        [   2, 3327, 1907,  ...,    1,    1,    1],\n",
      "        [   2, 4969, 6079,  ...,    1,    1,    1],\n",
      "        ...,\n",
      "        [   2, 3298, 7318,  ...,    1,    1,    1],\n",
      "        [   2, 4522, 1763,  ...,    1,    1,    1],\n",
      "        [   2, 3805, 5540,  ...,    1,    1,    1]]), 'labels': tensor([9, 9, 9, 9, 9, 8, 9, 0, 9, 9, 9, 9, 7, 5, 8, 7, 3, 6, 0, 9, 5, 9, 6, 8,\n",
      "        0, 5, 3, 4, 4, 8, 9, 7]), 'length': tensor([26, 41,  6, 21,  9,  4, 16, 10, 11,  9, 24, 10, 21, 19, 42, 17, 15, 14,\n",
      "        24, 26,  8, 24, 18, 23, 16, 14, 20, 15, 18, 55, 18, 25])}\n",
      "221 {'inputs': tensor([[   2, 2043, 6212,  ...,    1,    1,    1],\n",
      "        [   2, 3958, 7792,  ...,    1,    1,    1],\n",
      "        [   2,  535, 6416,  ...,    1,    1,    1],\n",
      "        ...,\n",
      "        [   2, 3301, 5859,  ...,    1,    1,    1],\n",
      "        [   2, 3327, 1170,  ...,    1,    1,    1],\n",
      "        [   2,  993, 6629,  ...,    1,    1,    1]]), 'labels': tensor([8, 0, 2, 8, 8, 9, 9, 5, 9, 8, 0, 2, 9, 9, 9, 9, 9, 9, 9, 9, 4, 1, 6, 9,\n",
      "        7, 9, 9, 9, 9, 9, 9, 7]), 'length': tensor([75, 13, 10, 14, 15, 11,  7, 42, 16, 15, 27, 24,  9, 29, 17,  5,  9, 44,\n",
      "         6, 28, 27, 30,  7, 31,  8,  3, 18, 15, 16, 24, 23, 20])}\n",
      "222 {'inputs': tensor([[   2, 4102, 3647,  ...,    1,    1,    1],\n",
      "        [   2, 4057, 6064,  ...,    1,    1,    1],\n",
      "        [   2, 3647, 5377,  ...,    1,    1,    1],\n",
      "        ...,\n",
      "        [   2,  517, 5626,  ...,    1,    1,    1],\n",
      "        [   2,  517, 7265,  ...,    1,    1,    1],\n",
      "        [   2,  517,  400,  ...,    1,    1,    1]]), 'labels': tensor([9, 8, 9, 9, 9, 9, 9, 9, 7, 9, 0, 0, 9, 9, 9, 9, 5, 9, 9, 8, 9, 7, 9, 9,\n",
      "        8, 9, 9, 7, 7, 8, 0, 9]), 'length': tensor([11, 23,  9,  4, 12, 41, 11, 13, 17, 12,  8,  8, 76,  7, 14,  4, 30, 28,\n",
      "        17, 20, 25, 11,  8, 14, 25,  7, 23, 11, 38,  9, 12,  6])}\n",
      "223 {'inputs': tensor([[   2, 3220, 6072,  ...,    1,    1,    1],\n",
      "        [   2, 3423, 6150,  ...,    1,    1,    1],\n",
      "        [   2, 3533, 7170,  ...,    1,    1,    1],\n",
      "        ...,\n",
      "        [   2, 1435, 2150,  ...,    1,    1,    1],\n",
      "        [   2, 3417, 6964,  ...,    1,    1,    1],\n",
      "        [   2, 4063, 7206,  ...,    1,    1,    1]]), 'labels': tensor([9, 9, 6, 7, 9, 3, 9, 9, 8, 4, 3, 8, 9, 7, 9, 9, 9, 8, 9, 8, 8, 9, 9, 9,\n",
      "        9, 9, 7, 8, 9, 6, 7, 8]), 'length': tensor([17, 13, 26,  9, 10, 25, 13, 49, 21, 40, 20, 24,  9, 30,  5, 33,  5, 22,\n",
      "        16, 18, 20, 21, 14, 29, 46, 12, 11, 55, 27, 14, 20, 20])}\n",
      "224 {'inputs': tensor([[   2, 2769, 5664,  ...,    1,    1,    1],\n",
      "        [   2,  517, 6538,  ...,    1,    1,    1],\n",
      "        [   2,  517, 5444,  ...,    1,    1,    1],\n",
      "        ...,\n",
      "        [   2, 3327,  517,  ...,    1,    1,    1],\n",
      "        [   2, 1435, 1423,  ...,    1,    1,    1],\n",
      "        [   2, 1633, 6280,  ...,    1,    1,    1]]), 'labels': tensor([1, 9, 9, 9, 7, 9, 9, 9, 9, 9, 9, 9, 9, 3, 9, 6, 8, 7, 0, 7, 9, 9, 8, 7,\n",
      "        8, 9, 9, 4, 9, 9, 9, 9]), 'length': tensor([17,  9, 41, 21, 23, 14,  9, 25, 42, 12, 27, 14, 26, 68, 18, 92, 33, 52,\n",
      "        32, 24, 54, 29, 11, 13, 24, 17, 21, 13, 14, 11, 37,  4])}\n",
      "225 {'inputs': tensor([[   2, 3318, 5330,  ...,    1,    1,    1],\n",
      "        [   2,  517, 6618,  ...,    1,    1,    1],\n",
      "        [   2, 1185, 2805,  ...,    1,    1,    1],\n",
      "        ...,\n",
      "        [   2,  650,  427,  ...,    1,    1,    1],\n",
      "        [   2, 3969, 6269,  ...,    1,    1,    1],\n",
      "        [   2, 3809, 6834,  ...,    1,    1,    1]]), 'labels': tensor([9, 9, 6, 8, 6, 9, 9, 6, 9, 9, 9, 0, 0, 9, 9, 8, 9, 8, 7, 6, 9, 9, 9, 7,\n",
      "        4, 9, 7, 0, 9, 7, 9, 9]), 'length': tensor([16, 26, 78,  8, 25, 12, 32, 21, 35, 22, 24,  6, 49, 43, 25, 26, 12, 10,\n",
      "        31, 59, 33,  9, 23, 26, 43, 54, 16, 19,  7, 17,  5, 13])}\n",
      "226 {'inputs': tensor([[   2, 3672, 5400,  ...,    1,    1,    1],\n",
      "        [   2, 3380, 3357,  ...,    1,    1,    1],\n",
      "        [   2, 1542, 6903,  ...,    1,    1,    1],\n",
      "        ...,\n",
      "        [   2, 2219, 5859,  ...,    1,    1,    1],\n",
      "        [   2, 1458, 7191,  ...,    1,    1,    1],\n",
      "        [   2,  517,   55,  ...,    1,    1,    1]]), 'labels': tensor([9, 7, 9, 8, 9, 9, 9, 9, 8, 7, 6, 0, 0, 8, 2, 9, 9, 0, 7, 0, 1, 9, 9, 9,\n",
      "        4, 9, 6, 5, 0, 9, 9, 9]), 'length': tensor([ 9, 17, 23, 71, 20, 21, 17, 28, 11, 25, 35, 15, 32, 15, 92, 19, 22, 41,\n",
      "        25, 26, 25, 20, 11, 10, 20,  7, 13, 19, 11, 59,  6, 19])}\n",
      "227 {'inputs': tensor([[   2, 2404, 6983,  ...,    1,    1,    1],\n",
      "        [   2,  655,  517,  ...,    1,    1,    1],\n",
      "        [   2, 3990, 5859,  ...,    1,    1,    1],\n",
      "        ...,\n",
      "        [   2, 1633, 6280,  ...,    1,    1,    1],\n",
      "        [   2, 4300, 2408,  ...,    1,    1,    1],\n",
      "        [   2, 3423, 6150,  ...,    1,    1,    1]]), 'labels': tensor([7, 9, 9, 9, 9, 4, 9, 8, 0, 9, 5, 9, 9, 9, 7, 6, 9, 5, 9, 8, 9, 9, 9, 9,\n",
      "        6, 9, 9, 8, 9, 8, 9, 9]), 'length': tensor([14, 13, 27, 15, 25, 17, 10, 15, 21,  8, 22, 27,  7, 26, 29, 94, 31, 29,\n",
      "        11, 26, 10, 17, 12, 29, 12,  8, 20, 22,  4, 26, 45, 20])}\n",
      "228 {'inputs': tensor([[   2, 2292, 6928,  ...,    1,    1,    1],\n",
      "        [   2, 4773, 6095,  ...,    1,    1,    1],\n",
      "        [   2, 3977, 5859,  ...,    1,    1,    1],\n",
      "        ...,\n",
      "        [   2, 2929, 7576,  ...,    1,    1,    1],\n",
      "        [   2, 4102,  517,  ...,    1,    1,    1],\n",
      "        [   2,  760, 3552,  ...,    1,    1,    1]]), 'labels': tensor([5, 3, 8, 0, 8, 8, 0, 9, 9, 0, 9, 6, 9, 0, 9, 0, 7, 8, 3, 8, 4, 9, 9, 9,\n",
      "        5, 9, 6, 9, 9, 9, 9, 9]), 'length': tensor([13, 75, 20, 12, 14, 15, 18, 19,  9, 61, 22,  8, 10,  6, 22, 52, 25, 11,\n",
      "        26, 22, 13,  4,  4, 13, 21,  4, 10, 15, 25, 12,  8, 30])}\n",
      "229 {'inputs': tensor([[   2,  517, 6896,  ...,    1,    1,    1],\n",
      "        [   2, 3673, 3942,  ...,    1,    1,    1],\n",
      "        [   2, 3503, 5859,  ...,    1,    1,    1],\n",
      "        ...,\n",
      "        [   2,  705,  399,  ...,    1,    1,    1],\n",
      "        [   2, 1189, 1100,  ...,    1,    1,    1],\n",
      "        [   2,  795, 7750,  ...,    1,    1,    1]]), 'labels': tensor([9, 9, 9, 9, 9, 0, 9, 4, 8, 0, 6, 9, 9, 7, 0, 8, 9, 6, 9, 5, 6, 7, 0, 9,\n",
      "        8, 9, 9, 7, 9, 2, 7, 6]), 'length': tensor([25, 22, 12, 49,  9, 11, 20, 30, 26,  6,  7, 24, 38,  7, 31, 12,  5, 36,\n",
      "        11, 26, 22, 29, 19, 14, 16, 32,  8,  6, 14, 29, 25, 19])}\n",
      "230 {'inputs': tensor([[   2, 1370, 6488,  ...,    1,    1,    1],\n",
      "        [   2, 1562, 7565,  ...,    1,    1,    1],\n",
      "        [   2, 3942, 6150,  ...,    1,    1,    1],\n",
      "        ...,\n",
      "        [   2, 2293, 6928,  ...,    1,    1,    1],\n",
      "        [   2, 1267, 6157,  ...,    1,    1,    1],\n",
      "        [   2, 4389, 6064,  ...,    1,    1,    1]]), 'labels': tensor([6, 9, 9, 0, 9, 9, 9, 9, 1, 9, 9, 9, 9, 6, 7, 6, 9, 7, 9, 9, 9, 9, 3, 9,\n",
      "        8, 6, 9, 9, 9, 8, 5, 9]), 'length': tensor([28, 55, 16, 12, 29, 25, 15, 19, 17, 11, 17, 25,  8, 31, 13,  8, 11, 21,\n",
      "        21,  9, 31, 30, 13, 11, 69, 13, 13, 13, 10, 25, 18,  5])}\n",
      "231 {'inputs': tensor([[   2, 3647, 6954,  ...,    1,    1,    1],\n",
      "        [   2,  517, 7074,  ...,    1,    1,    1],\n",
      "        [   2,  765, 7095,  ...,    1,    1,    1],\n",
      "        ...,\n",
      "        [   2, 3647, 5400,  ...,    1,    1,    1],\n",
      "        [   2,  517,   54,  ...,    1,    1,    1],\n",
      "        [   2,  524,  106,  ...,    1,    1,    1]]), 'labels': tensor([9, 9, 9, 4, 9, 9, 7, 9, 6, 8, 9, 8, 5, 9, 9, 9, 7, 8, 9, 9, 8, 9, 9, 5,\n",
      "        7, 9, 9, 9, 6, 0, 0, 0]), 'length': tensor([21, 12, 40, 30, 15, 12, 17, 26, 24, 49, 26, 22, 12, 12,  6, 20, 14, 17,\n",
      "        13,  5, 23, 16, 11, 24, 25, 30, 37, 17, 14, 27, 15, 85])}\n",
      "232 {'inputs': tensor([[   2, 3122, 4207,  ...,    1,    1,    1],\n",
      "        [   2, 4102, 3111,  ...,    1,    1,    1],\n",
      "        [   2, 1458, 3941,  ...,    1,    1,    1],\n",
      "        ...,\n",
      "        [   2, 3202, 5859,  ...,    1,    1,    1],\n",
      "        [   2, 1458, 4207,  ...,    1,    1,    1],\n",
      "        [   2, 4368, 6821,  ...,    1,    1,    1]]), 'labels': tensor([0, 9, 4, 4, 9, 9, 9, 8, 0, 0, 9, 9, 8, 8, 9, 6, 9, 9, 8, 9, 9, 9, 5, 5,\n",
      "        9, 6, 9, 9, 8, 6, 9, 9]), 'length': tensor([12, 14, 23, 11, 29, 11,  8, 15, 23, 10, 13, 45, 34, 10, 18, 16, 11,  9,\n",
      "        32, 33,  8, 15, 19, 85, 10, 17, 30,  9, 92, 41, 16, 29])}\n",
      "233 {'inputs': tensor([[   2, 1370, 7495,  ...,    1,    1,    1],\n",
      "        [   2, 3606,   46,  ...,    1,    1,    1],\n",
      "        [   2, 2043, 6212,  ...,    1,    1,    1],\n",
      "        ...,\n",
      "        [   2, 4083, 3977,  ...,    1,    1,    1],\n",
      "        [   2, 3423, 6150,  ...,    1,    1,    1],\n",
      "        [   2,  517, 5486,  ...,    1,    1,    1]]), 'labels': tensor([1, 6, 7, 0, 9, 9, 6, 5, 9, 9, 9, 4, 8, 9, 8, 9, 7, 8, 7, 0, 7, 9, 0, 6,\n",
      "        9, 8, 9, 9, 9, 6, 7, 7]), 'length': tensor([24, 66, 27, 39, 16, 64, 27, 14, 21, 11, 13, 14, 67,  6, 31, 16, 31, 14,\n",
      "        64, 54,  8, 16, 15, 50, 25, 12, 16, 14,  5, 21, 14, 16])}\n",
      "234 {'inputs': tensor([[   2, 4628, 7788,  ...,    1,    1,    1],\n",
      "        [   2, 1460, 4297,  ...,    1,    1,    1],\n",
      "        [   2, 2355, 6951,  ...,    1,    1,    1],\n",
      "        ...,\n",
      "        [   2, 2941,  517,  ...,    1,    1,    1],\n",
      "        [   2, 2941, 5330,  ...,    1,    1,    1],\n",
      "        [   2, 4102, 3978,  ...,    1,    1,    1]]), 'labels': tensor([9, 4, 9, 6, 9, 9, 9, 7, 7, 7, 0, 5, 9, 9, 9, 8, 0, 9, 0, 9, 7, 9, 4, 8,\n",
      "        9, 9, 0, 9, 9, 9, 6, 9]), 'length': tensor([59, 27, 19, 17,  6, 10, 23, 10, 23, 29, 15, 18, 21, 11, 21,  9,  9, 31,\n",
      "        20, 14, 12, 31, 12, 21, 23, 16, 46, 15, 45, 22, 56, 11])}\n",
      "235 {'inputs': tensor([[   2, 3466, 4297,  ...,    1,    1,    1],\n",
      "        [   2, 1189, 2846,  ...,    1,    1,    1],\n",
      "        [   2, 1370, 6117,  ...,    1,    1,    1],\n",
      "        ...,\n",
      "        [   2, 2095, 5663,  ...,    1,    1,    1],\n",
      "        [   2,  517, 7368,  ...,    1,    1,    1],\n",
      "        [   2, 4971, 1698,  ...,    1,    1,    1]]), 'labels': tensor([9, 5, 9, 2, 5, 9, 9, 0, 8, 9, 9, 8, 0, 6, 9, 7, 8, 9, 0, 9, 9, 9, 9, 7,\n",
      "        9, 9, 4, 8, 8, 7, 9, 9]), 'length': tensor([16, 10, 20, 85, 12, 17, 32, 22,  7, 32, 25,  5, 10, 11, 11, 18, 18,  9,\n",
      "         7,  6, 74,  5, 24, 26, 23, 15, 15, 29, 22, 35,  4,  9])}\n",
      "236 {'inputs': tensor([[   2, 3394, 5474,  ...,    1,    1,    1],\n",
      "        [   2, 1469, 6079,  ...,    1,    1,    1],\n",
      "        [   2, 3461, 3969,  ...,    1,    1,    1],\n",
      "        ...,\n",
      "        [   2, 2095, 6553,  ...,    1,    1,    1],\n",
      "        [   2, 2048,  785,  ...,    1,    1,    1],\n",
      "        [   2, 1100, 7086,  ...,    1,    1,    1]]), 'labels': tensor([9, 4, 9, 1, 0, 8, 9, 5, 8, 0, 9, 9, 0, 9, 9, 7, 9, 9, 9, 9, 5, 9, 9, 9,\n",
      "        9, 9, 9, 9, 9, 9, 9, 6]), 'length': tensor([47, 29, 15, 20, 20, 17, 31, 13, 25, 73, 14, 21,  9, 14,  7, 12, 20, 28,\n",
      "         7,  9, 82, 23, 25,  5,  5,  5, 11, 21, 13,  6, 23, 21])}\n",
      "237 {'inputs': tensor([[   2, 3647, 5384,  ...,    1,    1,    1],\n",
      "        [   2, 4368, 3969,  ...,    1,    1,    1],\n",
      "        [   2, 3524, 5439,  ...,    1,    1,    1],\n",
      "        ...,\n",
      "        [   2, 4468, 6909,  ...,    1,    1,    1],\n",
      "        [   2, 3647, 3394,  ...,    1,    1,    1],\n",
      "        [   2, 2358, 5655,  ...,    1,    1,    1]]), 'labels': tensor([0, 9, 9, 9, 1, 9, 0, 8, 7, 0, 6, 0, 8, 8, 9, 0, 9, 9, 8, 6, 0, 9, 0, 7,\n",
      "        8, 7, 9, 7, 9, 7, 7, 6]), 'length': tensor([20, 10, 23, 28, 20, 25, 32, 13, 22, 19, 47, 60, 27, 27, 16,  9, 31, 12,\n",
      "         5, 18, 86, 25, 71, 25, 58, 29, 23, 24, 21, 32, 42, 14])}\n",
      "238 {'inputs': tensor([[   2, 2780, 6579,  ...,    1,    1,    1],\n",
      "        [   2, 4102, 2939,  ...,    1,    1,    1],\n",
      "        [   2, 3969, 6269,  ...,    1,    1,    1],\n",
      "        ...,\n",
      "        [   2, 1730, 7096,  ...,    1,    1,    1],\n",
      "        [   2, 3909, 5859,  ...,    1,    1,    1],\n",
      "        [   2, 3672, 7096,  ...,    1,    1,    1]]), 'labels': tensor([2, 9, 9, 9, 9, 9, 8, 9, 9, 9, 9, 8, 7, 2, 0, 9, 7, 9, 5, 9, 9, 9, 9, 9,\n",
      "        9, 9, 0, 5, 5, 9, 9, 7]), 'length': tensor([19, 15,  8, 11, 15, 11, 11, 37, 38,  7,  6, 28, 29, 10, 13, 20, 18, 22,\n",
      "        35, 24, 17, 22, 20, 10,  5, 10, 18, 29, 23, 18, 23, 25])}\n",
      "239 {'inputs': tensor([[   2, 2292, 5760,  ...,    1,    1,    1],\n",
      "        [   2, 1314, 1466,  ...,    1,    1,    1],\n",
      "        [   2, 4427,   55,  ...,    1,    1,    1],\n",
      "        ...,\n",
      "        [   2, 4524,  517,  ...,    1,    1,    1],\n",
      "        [   2, 1963, 7774,  ...,    1,    1,    1],\n",
      "        [   2, 3461,  807,  ...,    1,    1,    1]]), 'labels': tensor([0, 9, 0, 9, 0, 8, 9, 9, 9, 2, 8, 9, 1, 9, 9, 3, 9, 7, 9, 9, 6, 7, 0, 0,\n",
      "        4, 3, 8, 9, 9, 9, 9, 8]), 'length': tensor([ 53,  22,  10,  22,  25,  34, 116,  72,  11,  12,  11,  14,  19,  19,\n",
      "         31,  29,  21,  51,  28,  14,  27,  19,  22,  20,  29,  23,  21,  14,\n",
      "         14,   9,  15,  24])}\n",
      "240 {'inputs': tensor([[   2, 1189, 4284,  ...,    1,    1,    1],\n",
      "        [   2,  517,  492,  ...,    1,    1,    1],\n",
      "        [   2, 2329, 6793,  ...,    1,    1,    1],\n",
      "        ...,\n",
      "        [   2, 4360, 6398,  ...,    1,    1,    1],\n",
      "        [   2, 3759, 7095,  ...,    1,    1,    1],\n",
      "        [   2, 1562, 7565,  ...,    1,    1,    1]]), 'labels': tensor([6, 9, 9, 7, 7, 0, 8, 9, 9, 9, 9, 9, 9, 0, 0, 8, 9, 9, 9, 4, 9, 9, 7, 6,\n",
      "        6, 9, 6, 8, 9, 0, 9, 8]), 'length': tensor([26, 11, 22, 20, 29, 13, 24,  6, 11, 22, 31, 15, 28, 16, 18, 27, 22, 27,\n",
      "        20, 35, 36, 18, 11,  6, 12,  6, 59, 21, 21, 25, 16, 16])}\n",
      "241 {'inputs': tensor([[   2, 1698, 5859,  ...,    1,    1,    1],\n",
      "        [   2, 4955, 6557,  ...,    1,    1,    1],\n",
      "        [   2, 4522,    3,  ...,    1,    1,    1],\n",
      "        ...,\n",
      "        [   2, 3394, 6116,  ...,    1,    1,    1],\n",
      "        [   2, 3222, 1527,  ...,    1,    1,    1],\n",
      "        [   2, 3752, 7789,  ...,    1,    1,    1]]), 'labels': tensor([2, 7, 9, 9, 7, 9, 9, 9, 6, 0, 9, 9, 9, 8, 9, 9, 8, 9, 8, 9, 9, 9, 6, 6,\n",
      "        9, 5, 9, 8, 9, 9, 9, 9]), 'length': tensor([27, 49,  3, 30, 13, 14, 17, 33, 74,  8, 26, 23, 36, 54, 14,  5, 24, 26,\n",
      "        20,  7, 25, 14, 18, 21, 38, 21, 13, 20, 14, 18, 12, 27])}\n",
      "242 {'inputs': tensor([[   2,  517,  492,  ...,    1,    1,    1],\n",
      "        [   2,  517,    0,  ...,    1,    1,    1],\n",
      "        [   2, 4162, 5770,  ...,    1,    1,    1],\n",
      "        ...,\n",
      "        [   2, 1458, 1315,  ...,    1,    1,    1],\n",
      "        [   2, 4012,  517,  ...,    1,    1,    1],\n",
      "        [   2, 2846, 7095,  ...,    1,    1,    1]]), 'labels': tensor([9, 9, 9, 9, 8, 1, 8, 5, 6, 2, 4, 5, 9, 9, 0, 5, 7, 5, 9, 8, 9, 9, 9, 9,\n",
      "        9, 9, 9, 9, 9, 5, 0, 5]), 'length': tensor([21, 26, 20, 17, 17, 22, 11, 27, 20, 24, 11, 16, 12, 20,  5, 26, 11, 15,\n",
      "        14, 18, 18, 17,  7, 23,  7, 13, 29, 16, 35, 27, 91, 18])}\n",
      "243 {'inputs': tensor([[   2,  553, 6706,  ...,    1,    1,    1],\n",
      "        [   2,  650,  427,  ...,    1,    1,    1],\n",
      "        [   2, 3093, 6926,  ...,    1,    1,    1],\n",
      "        ...,\n",
      "        [   2, 4937, 7495,  ...,    1,    1,    1],\n",
      "        [   2, 3977, 5859,  ...,    1,    1,    1],\n",
      "        [   2,  671,  375,  ...,    1,    1,    1]]), 'labels': tensor([9, 9, 6, 9, 9, 9, 8, 8, 9, 7, 9, 9, 0, 9, 0, 2, 8, 9, 9, 0, 9, 4, 9, 9,\n",
      "        9, 9, 9, 5, 4, 9, 9, 9]), 'length': tensor([13,  6, 28, 17,  8, 48, 16, 23, 17, 28, 14, 20, 21, 16, 15, 15, 18, 27,\n",
      "         8,  7, 23, 79, 65, 12,  7, 16, 21, 12, 10, 14, 15, 18])}\n",
      "244 {'inputs': tensor([[   2, 1839, 1963,  ...,    1,    1,    1],\n",
      "        [   2, 1434, 7119,  ...,    1,    1,    1],\n",
      "        [   2,  777, 6150,  ...,    1,    1,    1],\n",
      "        ...,\n",
      "        [   2,  517, 6188,  ...,    1,    1,    1],\n",
      "        [   2, 2293, 3341,  ...,    1,    1,    1],\n",
      "        [   2, 1562, 2358,  ...,    1,    1,    1]]), 'labels': tensor([9, 9, 9, 9, 9, 7, 8, 9, 9, 9, 5, 8, 9, 9, 9, 9, 6, 8, 9, 9, 9, 0, 9, 3,\n",
      "        0, 6, 7, 9, 4, 9, 9, 9]), 'length': tensor([15, 28, 11, 28, 10, 22,  8, 24, 17,  5, 16, 59, 18, 35, 49, 24, 62, 10,\n",
      "        76, 14, 19, 10, 16, 26, 75, 22, 24,  4,  9,  6, 22, 28])}\n",
      "245 {'inputs': tensor([[   2, 2705, 6883,  ...,    1,    1,    1],\n",
      "        [   2,  517, 6994,  ...,    1,    1,    1],\n",
      "        [   2, 2146, 5037,  ...,    1,    1,    1],\n",
      "        ...,\n",
      "        [   2, 1435, 3670,  ...,    1,    1,    1],\n",
      "        [   2, 3969, 6269,  ...,    1,    1,    1],\n",
      "        [   2, 3941, 7172,  ...,    1,    1,    1]]), 'labels': tensor([9, 9, 7, 0, 9, 9, 6, 9, 4, 6, 1, 0, 0, 8, 9, 9, 9, 9, 1, 9, 3, 9, 9, 9,\n",
      "        2, 9, 9, 9, 8, 9, 8, 8]), 'length': tensor([45, 22, 24, 25, 10, 11, 15, 91, 22, 22, 15, 27, 15,  8, 39,  8, 16, 26,\n",
      "        21,  8,  8, 91, 18, 23, 24, 21, 14, 24, 15, 27, 28,  8])}\n",
      "246 {'inputs': tensor([[   2,  694, 5655,  ...,    1,    1,    1],\n",
      "        [   2, 2822, 5337,  ...,    1,    1,    1],\n",
      "        [   2, 2781, 7005,  ...,    1,    1,    1],\n",
      "        ...,\n",
      "        [   2,  517, 6618,  ...,    1,    1,    1],\n",
      "        [   2, 4102, 3942,  ...,    1,    1,    1],\n",
      "        [   2, 3647, 6954,  ...,    1,    1,    1]]), 'labels': tensor([9, 9, 0, 9, 4, 9, 9, 9, 0, 9, 5, 9, 9, 9, 4, 7, 9, 1, 9, 4, 6, 8, 4, 9,\n",
      "        9, 1, 6, 3, 4, 3, 9, 0]), 'length': tensor([21, 15, 22, 21, 18, 20, 12, 42, 26, 21, 14, 17, 22, 25, 21, 20, 18, 23,\n",
      "        36, 56, 20, 24, 49, 32, 26, 92, 12, 14, 22, 85, 24, 33])}\n",
      "247 {'inputs': tensor([[   2, 2802, 5808,  ...,    1,    1,    1],\n",
      "        [   2, 3969, 6269,  ...,    1,    1,    1],\n",
      "        [   2,  517, 6618,  ...,    1,    1,    1],\n",
      "        ...,\n",
      "        [   2, 3142, 5599,  ...,    1,    1,    1],\n",
      "        [   2, 4469, 3394,  ...,    1,    1,    1],\n",
      "        [   2,  784, 7996,  ...,    1,    1,    1]]), 'labels': tensor([0, 8, 6, 7, 9, 9, 9, 9, 9, 8, 1, 9, 1, 0, 0, 5, 9, 0, 9, 6, 9, 9, 6, 9,\n",
      "        9, 8, 9, 9, 6, 0, 9, 9]), 'length': tensor([30, 10, 43, 17, 41, 13, 15,  9, 24, 16, 17, 13, 39, 23, 15, 18,  8, 23,\n",
      "         5, 14, 20, 85, 69,  4, 19, 19, 17, 17, 13, 25, 24, 11])}\n",
      "248 {'inputs': tensor([[   2, 1527, 7096,  ...,    1,    1,    1],\n",
      "        [   2, 1562, 7565,  ...,    1,    1,    1],\n",
      "        [   2, 3672, 1897,  ...,    1,    1,    1],\n",
      "        ...,\n",
      "        [   2, 4841, 7220,  ...,    1,    1,    1],\n",
      "        [   2,  517, 7505,  ...,    1,    1,    1],\n",
      "        [   2, 3202, 5468,  ...,    1,    1,    1]]), 'labels': tensor([9, 7, 8, 4, 0, 9, 9, 9, 7, 2, 0, 7, 8, 9, 0, 9, 0, 9, 8, 9, 9, 8, 9, 9,\n",
      "        9, 9, 4, 8, 8, 5, 0, 6]), 'length': tensor([30, 16, 24, 29, 31, 27, 63, 12, 11, 34, 43, 18, 20, 33, 34, 35, 25, 14,\n",
      "        35,  7, 25, 13, 16, 25, 16, 13, 64, 27, 23, 29, 17, 16])}\n",
      "249 {'inputs': tensor([[   2, 4360, 6398,  ...,    1,    1,    1],\n",
      "        [   2,  517, 7428,  ...,    1,    1,    1],\n",
      "        [   2, 3969, 6269,  ...,    1,    1,    1],\n",
      "        ...,\n",
      "        [   2,  517,    0,  ...,    1,    1,    1],\n",
      "        [   2, 2117,  517,  ...,    1,    1,    1],\n",
      "        [   2, 4162, 7495,  ...,    1,    1,    1]]), 'labels': tensor([7, 5, 9, 9, 9, 7, 9, 9, 8, 9, 6, 9, 9, 7, 9, 9, 9, 9, 9, 7, 9, 9, 7, 9,\n",
      "        7, 9, 9, 9, 9, 1, 9, 9]), 'length': tensor([23, 12, 23, 23, 17, 16, 15, 25, 74, 16, 13,  8,  9, 14, 12,  9, 18, 13,\n",
      "        27,  9, 25, 13, 21, 26, 13, 27, 47, 10, 53, 14, 12, 21])}\n",
      "250 {'inputs': tensor([[   2, 3647, 5377,  ...,    1,    1,    1],\n",
      "        [   2, 3978, 5439,  ...,    1,    1,    1],\n",
      "        [   2, 1096, 7848,  ...,    1,    1,    1],\n",
      "        ...,\n",
      "        [   2,  517, 6983,  ...,    1,    1,    1],\n",
      "        [   2, 3298, 7010,  ...,    1,    1,    1],\n",
      "        [   2, 5149, 7227,  ...,    1,    1,    1]]), 'labels': tensor([9, 7, 9, 9, 9, 9, 0, 9, 9, 9, 9, 7, 9, 9, 9, 0, 9, 9, 9, 9, 5, 4, 8, 7,\n",
      "        9, 9, 9, 7, 9, 9, 8, 4]), 'length': tensor([22, 21, 25,  9,  9, 14, 25, 37,  5, 17,  6, 15, 69, 23, 21,  8, 11,  9,\n",
      "        23,  3,  6, 23, 69, 24, 32,  6, 33, 44, 23, 13, 14, 55])}\n",
      "251 {'inputs': tensor([[   2, 3245, 6393,  ...,    1,    1,    1],\n",
      "        [   2, 1100, 5842,  ...,    1,    1,    1],\n",
      "        [   2,  862, 7491,  ...,    1,    1,    1],\n",
      "        ...,\n",
      "        [   2, 3417, 6015,  ...,    1,    1,    1],\n",
      "        [   2,  517, 7368,  ...,    1,    1,    1],\n",
      "        [   2, 4164, 5859,  ...,    1,    1,    1]]), 'labels': tensor([9, 9, 9, 3, 9, 9, 7, 9, 4, 9, 9, 7, 9, 9, 8, 9, 8, 0, 8, 8, 9, 9, 9, 4,\n",
      "        9, 9, 7, 9, 7, 8, 9, 8]), 'length': tensor([10, 17, 15,  7, 11, 15, 13, 22, 12, 18, 21, 11, 11, 28, 22, 23, 24,  9,\n",
      "        13, 17,  9, 29, 14, 24, 25, 24, 68, 22, 17, 30,  6, 15])}\n",
      "252 {'inputs': tensor([[   2, 2554,  517,  ...,    1,    1,    1],\n",
      "        [   2, 3450, 6983,  ...,    1,    1,    1],\n",
      "        [   2, 1435, 1271,  ...,    1,    1,    1],\n",
      "        ...,\n",
      "        [   2, 4012, 3978,  ...,    1,    1,    1],\n",
      "        [   2, 3461, 4522,  ...,    1,    1,    1],\n",
      "        [   2, 3417,  517,  ...,    1,    1,    1]]), 'labels': tensor([0, 9, 3, 9, 9, 0, 7, 0, 9, 9, 9, 5, 9, 9, 9, 8, 5, 8, 0, 0, 9, 7, 1, 9,\n",
      "        5, 7, 9, 6, 4, 9, 9, 9]), 'length': tensor([13, 29, 32, 26, 31,  9, 10, 27, 29,  9, 22,  8, 28, 11,  6, 16, 25, 15,\n",
      "        25, 26,  8, 16, 45, 20, 22, 22, 40, 13, 14,  8, 17, 11])}\n",
      "253 {'inputs': tensor([[   2, 4841, 7220,  ...,    1,    1,    1],\n",
      "        [   2,  847, 7203,  ...,    1,    1,    1],\n",
      "        [   2, 5206, 7344,  ...,    1,    1,    1],\n",
      "        ...,\n",
      "        [   2, 1458, 5691,  ...,    1,    1,    1],\n",
      "        [   2, 3128, 3969,  ...,    1,    1,    1],\n",
      "        [   2, 2549, 5741,  ...,    1,    1,    1]]), 'labels': tensor([9, 9, 9, 9, 9, 7, 7, 9, 6, 6, 9, 9, 9, 0, 9, 8, 5, 9, 9, 5, 6, 9, 3, 9,\n",
      "        9, 9, 9, 9, 9, 9, 4, 0]), 'length': tensor([34, 77,  9, 16, 19, 12, 11, 49, 20, 16, 26, 28,  7, 12, 17, 20, 45,  7,\n",
      "        12, 20, 27, 21, 37, 16, 16, 25,  9, 46, 32, 33,  9, 28])}\n",
      "254 {'inputs': tensor([[   2, 3093, 6629,  ...,    1,    1,    1],\n",
      "        [   2, 3969, 6269,  ...,    1,    1,    1],\n",
      "        [   2, 3501, 6798,  ...,    1,    1,    1],\n",
      "        ...,\n",
      "        [   2,  517, 6018,  ...,    1,    1,    1],\n",
      "        [   2, 3417, 6015,  ...,    1,    1,    1],\n",
      "        [   2, 3647, 3394,  ...,    1,    1,    1]]), 'labels': tensor([5, 7, 7, 6, 9, 7, 9, 9, 5, 9, 0, 7, 0, 9, 0, 4, 9, 9, 6, 9, 6, 8, 9, 8,\n",
      "        6, 9, 0, 4, 0, 7, 9, 8]), 'length': tensor([ 9,  8, 14, 10, 17,  9, 16, 22, 30, 33, 24, 19, 15, 11, 12, 29,  5, 12,\n",
      "        10, 16, 48, 23, 18, 40, 67, 33, 33, 43, 13, 38, 27, 40])}\n",
      "255 {'inputs': tensor([[   2, 4209, 6954,  ...,    1,    1,    1],\n",
      "        [   2, 2962, 7318,  ...,    1,    1,    1],\n",
      "        [   2,  529, 6416,  ...,    1,    1,    1],\n",
      "        ...,\n",
      "        [   2, 3394, 4128,  ...,    1,    1,    1],\n",
      "        [   2, 2149, 7489,  ...,    1,    1,    1],\n",
      "        [   2, 2941, 5330,  ...,    1,    1,    1]]), 'labels': tensor([9, 9, 9, 6, 9, 9, 6, 0, 9, 7, 6, 9, 9, 9, 7, 6, 9, 0, 4, 9, 9, 0, 8, 3,\n",
      "        9, 8, 9, 9, 9, 0, 9, 0]), 'length': tensor([17, 22, 45,  9, 72,  5, 17, 21,  9, 14, 22, 25, 10, 10, 22, 22, 20, 11,\n",
      "        23, 20, 28,  5, 15, 28, 33, 54, 35, 13, 19, 33, 29, 44])}\n",
      "256 {'inputs': tensor([[   2, 4958, 3394,  ...,    1,    1,    1],\n",
      "        [   2, 4856, 6686,  ...,    1,    1,    1],\n",
      "        [   2, 2210, 3121,  ...,    1,    1,    1],\n",
      "        ...,\n",
      "        [   2, 4257, 5561,  ...,    1,    1,    1],\n",
      "        [   2,  842, 5664,  ...,    1,    1,    1],\n",
      "        [   2, 2095, 7253,  ...,    1,    1,    1]]), 'labels': tensor([9, 9, 9, 9, 9, 2, 7, 9, 5, 9, 9, 9, 3, 9, 8, 9, 9, 3, 7, 0, 9, 9, 9, 9,\n",
      "        9, 9, 0, 2, 9, 9, 9, 9]), 'length': tensor([11, 48, 11, 19, 10, 37, 16, 89, 15, 16, 14, 24, 12, 44, 22, 19, 24, 10,\n",
      "        25, 17, 29, 40, 13, 20, 14, 55,  7, 41, 13, 12, 28, 25])}\n",
      "257 {'inputs': tensor([[   2, 4841, 7220,  ...,    1,    1,    1],\n",
      "        [   2,  517, 7451,  ...,    1,    1,    1],\n",
      "        [   2, 3969, 6269,  ...,    1,    1,    1],\n",
      "        ...,\n",
      "        [   2, 4208, 5782,  ...,    1,    1,    1],\n",
      "        [   2, 3085,    3,  ...,    1,    1,    1],\n",
      "        [   2, 2970, 6983,  ...,    1,    1,    1]]), 'labels': tensor([0, 9, 9, 5, 9, 9, 9, 0, 8, 8, 9, 8, 9, 7, 8, 9, 3, 9, 9, 0, 6, 0, 8, 2,\n",
      "        8, 9, 9, 8, 9, 9, 0, 9]), 'length': tensor([15, 26,  7, 14, 39, 16, 12, 29, 14, 21,  6, 27, 24, 44, 20, 27, 76, 23,\n",
      "        11, 12, 22,  8, 15, 12, 30, 13, 10, 19, 20,  5,  3, 18])}\n",
      "258 {'inputs': tensor([[   2, 1423, 6009,  ...,    1,    1,    1],\n",
      "        [   2, 3647, 5377,  ...,    1,    1,    1],\n",
      "        [   2,  847, 7203,  ...,    1,    1,    1],\n",
      "        ...,\n",
      "        [   2, 4092, 7005,  ...,    1,    1,    1],\n",
      "        [   2, 1963, 7774,  ...,    1,    1,    1],\n",
      "        [   2, 3466, 4244,  ...,    1,    1,    1]]), 'labels': tensor([9, 9, 9, 7, 7, 7, 9, 9, 4, 2, 9, 9, 8, 4, 6, 9, 0, 9, 8, 9, 9, 7, 8, 9,\n",
      "        7, 9, 7, 9, 8, 7, 9, 0]), 'length': tensor([ 6, 14, 37, 15, 14, 19, 25, 42, 19, 19, 32, 22,  5, 14,  9, 15, 19,  5,\n",
      "        26, 15,  8, 35, 12, 31,  9, 31, 24, 13, 25, 13, 14, 26])}\n",
      "259 {'inputs': tensor([[   2, 4368, 1900,  ...,    1,    1,    1],\n",
      "        [   2,  517, 6983,  ...,    1,    1,    1],\n",
      "        [   2, 4368, 2929,  ...,    1,    1,    1],\n",
      "        ...,\n",
      "        [   2,  517, 6915,  ...,    1,    1,    1],\n",
      "        [   2, 2043, 6328,  ...,    1,    1,    1],\n",
      "        [   2, 3394, 2986,  ...,    1,    1,    1]]), 'labels': tensor([9, 9, 9, 5, 9, 9, 7, 9, 8, 9, 9, 6, 9, 9, 6, 9, 6, 8, 9, 6, 9, 9, 9, 0,\n",
      "        1, 7, 8, 7, 9, 8, 9, 9]), 'length': tensor([10, 30, 22, 77,  7, 28,  8, 27, 13, 11, 24, 19, 13, 10, 13, 34, 19, 18,\n",
      "        20, 20, 16, 15, 13, 15, 26, 15, 29, 21, 11, 46, 14, 22])}\n",
      "260 {'inputs': tensor([[   2, 3196, 7088,  ...,    1,    1,    1],\n",
      "        [   2, 2971, 6983,  ...,    1,    1,    1],\n",
      "        [   2, 4924, 5859,  ...,    1,    1,    1],\n",
      "        ...,\n",
      "        [   2, 1458, 7174,  ...,    1,    1,    1],\n",
      "        [   2,  517, 7086,  ...,    1,    1,    1],\n",
      "        [   2, 3969, 6269,  ...,    1,    1,    1]]), 'labels': tensor([9, 1, 0, 9, 0, 9, 8, 9, 6, 9, 4, 9, 9, 9, 8, 9, 3, 5, 5, 9, 9, 9, 9, 2,\n",
      "        0, 9, 4, 7, 9, 9, 9, 9]), 'length': tensor([22, 26, 73, 13, 21, 13, 16, 13, 20, 21, 80,  7,  7,  8, 16, 16,  8, 17,\n",
      "        19, 19, 20, 13, 25, 15, 22, 30, 32, 20, 34, 30, 23,  9])}\n",
      "261 {'inputs': tensor([[   2, 4559, 5920,  ...,    1,    1,    1],\n",
      "        [   2, 4886, 6115,  ...,    1,    1,    1],\n",
      "        [   2, 3969, 6269,  ...,    1,    1,    1],\n",
      "        ...,\n",
      "        [   2, 1591, 7828,  ...,    1,    1,    1],\n",
      "        [   2, 4627, 5760,  ...,    1,    1,    1],\n",
      "        [   2, 2959, 5770,  ...,    1,    1,    1]]), 'labels': tensor([9, 9, 9, 9, 9, 9, 9, 9, 9, 0, 9, 9, 7, 9, 9, 9, 9, 8, 0, 8, 7, 9, 0, 9,\n",
      "        9, 4, 9, 9, 9, 7, 8, 9]), 'length': tensor([10, 17, 13, 23, 18, 15, 14,  4, 13, 30,  9, 25, 33, 25, 19, 10, 32, 25,\n",
      "         5, 12,  8,  7, 17, 28, 25,  9, 14, 19, 18, 79, 24, 19])}\n",
      "262 {'inputs': tensor([[   2, 4952, 6898,  ...,    1,    1,    1],\n",
      "        [   2, 2348, 2207,  ...,    1,    1,    1],\n",
      "        [   2, 4368, 3969,  ...,    1,    1,    1],\n",
      "        ...,\n",
      "        [   2,  517, 7534,  ...,    1,    1,    1],\n",
      "        [   2,  569, 5712,  ...,    1,    1,    1],\n",
      "        [   2, 4164, 4589,  ...,    1,    1,    1]]), 'labels': tensor([5, 0, 9, 9, 9, 4, 8, 5, 9, 8, 0, 7, 5, 9, 9, 0, 9, 4, 4, 9, 9, 6, 9, 7,\n",
      "        9, 6, 9, 9, 9, 0, 7, 9]), 'length': tensor([14, 23,  8, 16,  8, 25, 19, 23, 14, 28,  9,  8, 32, 30,  6,  4, 10, 24,\n",
      "        13, 10, 16, 52,  5, 26, 30,  6, 21, 16, 51, 24, 62, 16])}\n",
      "263 {'inputs': tensor([[   2, 4469, 5176,  ...,    1,    1,    1],\n",
      "        [   2, 3701, 1390,  ...,    1,    1,    1],\n",
      "        [   2, 2553, 5655,  ...,    1,    1,    1],\n",
      "        ...,\n",
      "        [   2, 1729, 2846,  ...,    1,    1,    1],\n",
      "        [   2, 2929, 7682,  ...,    1,    1,    1],\n",
      "        [   2, 2081, 7138,  ...,    1,    1,    1]]), 'labels': tensor([0, 0, 9, 7, 9, 9, 9, 9, 7, 6, 5, 9, 9, 9, 7, 3, 1, 7, 9, 0, 8, 0, 9, 8,\n",
      "        9, 6, 9, 9, 9, 7, 7, 9]), 'length': tensor([20, 22, 16, 15, 21, 21,  8, 11, 18, 78, 18, 44, 28, 14, 39, 46, 24, 44,\n",
      "        12, 13, 82, 13, 11, 13, 39, 39, 85, 30, 11, 13,  9, 13])}\n",
      "264 {'inputs': tensor([[   2, 4368, 3977,  ...,    1,    1,    1],\n",
      "        [   2, 1919, 7096,  ...,    1,    1,    1],\n",
      "        [   2, 4257, 6064,  ...,    1,    1,    1],\n",
      "        ...,\n",
      "        [   2, 1054, 6983,  ...,    1,    1,    1],\n",
      "        [   2, 4368,  680,  ...,    1,    1,    1],\n",
      "        [   2,  517,    0,  ...,    1,    1,    1]]), 'labels': tensor([0, 8, 9, 5, 9, 9, 9, 0, 6, 9, 9, 5, 9, 9, 7, 9, 5, 9, 0, 8, 9, 0, 2, 8,\n",
      "        8, 9, 0, 9, 9, 5, 0, 9]), 'length': tensor([15, 14,  9, 21, 16, 24,  9, 18, 33, 26, 15, 81, 28, 17, 17, 77, 11, 22,\n",
      "        18, 14, 17, 48, 57, 55, 11, 23, 33, 19, 34, 25, 29, 14])}\n",
      "265 {'inputs': tensor([[   2,  517, 6473,  ...,    1,    1,    1],\n",
      "        [   2, 4360, 6398,  ...,    1,    1,    1],\n",
      "        [   2, 3977, 5859,  ...,    1,    1,    1],\n",
      "        ...,\n",
      "        [   2, 4522, 5782,  ...,    1,    1,    1],\n",
      "        [   2,  517, 6618,  ...,    1,    1,    1],\n",
      "        [   2, 1216, 7184,  ...,    1,    1,    1]]), 'labels': tensor([7, 7, 6, 8, 3, 9, 3, 0, 9, 9, 7, 9, 9, 9, 8, 8, 9, 9, 0, 9, 9, 8, 0, 8,\n",
      "        0, 9, 7, 1, 1, 9, 7, 9]), 'length': tensor([23, 37, 20, 21, 11, 12, 29, 51, 12,  6, 28, 20, 12, 18, 65, 19, 26, 10,\n",
      "        32, 16, 14,  8, 25, 17, 17, 31, 15, 14, 24, 17, 24, 17])}\n",
      "266 {'inputs': tensor([[   2,  787, 4928,  ...,    1,    1,    1],\n",
      "        [   2, 3394, 7271,  ...,    1,    1,    1],\n",
      "        [   2, 2043, 5719,  ...,    1,    1,    1],\n",
      "        ...,\n",
      "        [   2, 4102, 2034,  ...,    1,    1,    1],\n",
      "        [   2,  517, 6357,  ...,    1,    1,    1],\n",
      "        [   2, 2348, 5907,  ...,    1,    1,    1]]), 'labels': tensor([2, 9, 9, 9, 0, 8, 9, 9, 8, 1, 5, 9, 9, 9, 9, 0, 9, 9, 0, 7, 8, 9, 9, 0,\n",
      "        9, 9, 9, 9, 7, 9, 0, 3]), 'length': tensor([48, 57, 34, 36, 12, 23, 16, 12, 36, 14, 16, 14, 14, 12, 11, 23,  6, 11,\n",
      "        78, 12, 14, 25, 11, 11, 14, 25, 10, 10, 16, 12,  4, 13])}\n",
      "267 {'inputs': tensor([[   2, 3672, 2939,  ...,    1,    1,    1],\n",
      "        [   2,  517, 6983,  ...,    1,    1,    1],\n",
      "        [   2, 3942, 6150,  ...,    1,    1,    1],\n",
      "        ...,\n",
      "        [   2, 2219, 6896,  ...,    1,    1,    1],\n",
      "        [   2, 2043, 5716,  ...,    1,    1,    1],\n",
      "        [   2, 4743, 7548,  ...,    1,    1,    1]]), 'labels': tensor([9, 9, 7, 9, 9, 6, 9, 1, 0, 9, 7, 8, 9, 2, 1, 9, 4, 0, 0, 8, 5, 9, 9, 9,\n",
      "        6, 7, 9, 9, 1, 9, 9, 9]), 'length': tensor([21, 27, 25, 17, 10,  8, 10, 22, 14,  8, 13, 17, 19, 14, 23, 16, 15, 24,\n",
      "        12, 10, 14, 39, 64, 23, 53, 10,  4, 16, 17, 27, 10, 30])}\n",
      "268 {'inputs': tensor([[   2, 2468, 7044,  ...,    1,    1,    1],\n",
      "        [   2, 3498, 6983,  ...,    1,    1,    1],\n",
      "        [   2, 1919, 1132,  ...,    1,    1,    1],\n",
      "        ...,\n",
      "        [   2, 4360, 7227,  ...,    1,    1,    1],\n",
      "        [   2,  517,  492,  ...,    1,    1,    1],\n",
      "        [   2, 4368, 7459,  ...,    1,    1,    1]]), 'labels': tensor([0, 1, 9, 7, 4, 7, 9, 0, 7, 9, 9, 9, 9, 3, 8, 9, 7, 3, 9, 9, 8, 3, 2, 9,\n",
      "        0, 9, 9, 9, 9, 9, 9, 9]), 'length': tensor([30, 61, 15, 25, 55, 14, 26, 32, 33, 25, 11, 29, 34,  7, 24, 12, 48, 17,\n",
      "        20,  7, 10, 23, 20, 16, 13, 15, 16, 17, 10, 17,  8, 23])}\n",
      "269 {'inputs': tensor([[   2, 1406, 7446,  ...,    1,    1,    1],\n",
      "        [   2, 3647, 3394,  ...,    1,    1,    1],\n",
      "        [   2, 3725, 7096,  ...,    1,    1,    1],\n",
      "        ...,\n",
      "        [   2, 3647, 5384,  ...,    1,    1,    1],\n",
      "        [   2, 3501, 6263,  ...,    1,    1,    1],\n",
      "        [   2, 2643, 5782,  ...,    1,    1,    1]]), 'labels': tensor([9, 8, 9, 9, 6, 8, 7, 5, 9, 7, 8, 8, 7, 9, 9, 0, 9, 9, 9, 9, 7, 9, 2, 9,\n",
      "        5, 8, 9, 5, 9, 9, 8, 0]), 'length': tensor([25, 12, 29, 12,  7, 53, 18, 24, 12, 27, 10,  5, 29, 13,  9, 17, 19, 22,\n",
      "        10,  4, 20, 19, 20, 17, 13, 37, 15, 25,  8, 17, 22, 71])}\n",
      "270 {'inputs': tensor([[   2,  658, 6903,  ...,    1,    1,    1],\n",
      "        [   2, 1450, 4360,  ...,    1,    1,    1],\n",
      "        [   2, 2658, 6951,  ...,    1,    1,    1],\n",
      "        ...,\n",
      "        [   2,  517,  492,  ...,    1,    1,    1],\n",
      "        [   2, 3502, 2095,  ...,    1,    1,    1],\n",
      "        [   2, 4368, 2941,  ...,    1,    1,    1]]), 'labels': tensor([9, 6, 9, 2, 9, 9, 9, 9, 9, 9, 9, 9, 9, 8, 8, 9, 9, 0, 7, 7, 8, 7, 6, 9,\n",
      "        9, 9, 7, 9, 6, 9, 9, 4]), 'length': tensor([46, 22, 12, 15, 18, 22,  7, 15,  7,  8, 22, 12, 18, 30, 16, 29, 10, 15,\n",
      "        26, 32,  6, 36, 22, 32,  6, 18, 83, 19, 10, 58, 21, 20])}\n",
      "271 {'inputs': tensor([[   2, 3376, 6811,  ...,    1,    1,    1],\n",
      "        [   2, 3977,   47,  ...,    1,    1,    1],\n",
      "        [   2, 3202, 6150,  ...,    1,    1,    1],\n",
      "        ...,\n",
      "        [   2, 1311, 3298,  ...,    1,    1,    1],\n",
      "        [   2, 3714, 6896,  ...,    1,    1,    1],\n",
      "        [   2, 4077, 5330,  ...,    1,    1,    1]]), 'labels': tensor([9, 6, 6, 7, 5, 5, 9, 9, 2, 9, 7, 6, 8, 5, 9, 8, 9, 9, 0, 5, 3, 9, 9, 8,\n",
      "        7, 0, 7, 9, 8, 9, 9, 9]), 'length': tensor([44, 21,  9, 25, 34, 67, 27, 11, 38, 24, 47, 11, 33, 27, 11, 24, 15, 40,\n",
      "        65,  7, 12, 32, 20, 28, 25, 84, 39, 11, 19, 20, 15,  9])}\n",
      "272 {'inputs': tensor([[   2, 2718, 6951,  ...,    1,    1,    1],\n",
      "        [   2, 1460, 3528,  ...,    1,    1,    1],\n",
      "        [   2,  807, 5872,  ...,    1,    1,    1],\n",
      "        ...,\n",
      "        [   2, 2586, 4212,  ...,    1,    1,    1],\n",
      "        [   2, 3501, 6804,  ...,    1,    1,    1],\n",
      "        [   2, 1549, 7096,  ...,    1,    1,    1]]), 'labels': tensor([7, 8, 7, 9, 4, 9, 2, 8, 4, 9, 7, 7, 9, 9, 7, 7, 8, 9, 6, 0, 8, 9, 9, 0,\n",
      "        0, 9, 9, 0, 0, 8, 8, 9]), 'length': tensor([19, 23, 37, 20, 46, 29, 33, 12, 23, 63, 20,  8, 12, 27, 24, 11, 14, 14,\n",
      "        22, 14,  7, 11, 14, 25, 17, 19, 12,  7, 13, 19, 27, 31])}\n",
      "273 {'inputs': tensor([[   2, 1406,  517,  ...,    1,    1,    1],\n",
      "        [   2, 3319, 6116,  ...,    1,    1,    1],\n",
      "        [   2, 1267, 7110,  ...,    1,    1,    1],\n",
      "        ...,\n",
      "        [   2, 3650, 7096,  ...,    1,    1,    1],\n",
      "        [   2, 2417, 6150,  ...,    1,    1,    1],\n",
      "        [   2, 3419,  142,  ...,    1,    1,    1]]), 'labels': tensor([6, 8, 9, 0, 8, 0, 9, 9, 0, 6, 9, 9, 9, 9, 9, 8, 5, 9, 9, 9, 9, 9, 1, 9,\n",
      "        6, 0, 9, 9, 9, 9, 7, 9]), 'length': tensor([17, 10,  8, 18, 69, 19, 14,  8, 31, 12, 10, 13,  6, 12, 19, 14, 12,  8,\n",
      "        16, 26, 11,  4, 17, 18, 12,  6,  6, 60, 10, 16, 13, 15])}\n",
      "274 {'inputs': tensor([[   2,  835, 5939,  ...,    1,    1,    1],\n",
      "        [   2, 3489, 2811,  ...,    1,    1,    1],\n",
      "        [   2, 3647, 6954,  ...,    1,    1,    1],\n",
      "        ...,\n",
      "        [   2,  807, 7461,  ...,    1,    1,    1],\n",
      "        [   2, 1423, 5940,  ...,    1,    1,    1],\n",
      "        [   2, 3647, 5400,  ...,    1,    1,    1]]), 'labels': tensor([8, 9, 9, 5, 9, 4, 9, 9, 9, 9, 0, 9, 9, 8, 9, 9, 4, 9, 7, 9, 9, 6, 3, 0,\n",
      "        6, 9, 7, 8, 9, 9, 9, 0]), 'length': tensor([25, 42, 18, 19, 10,  8, 11, 10, 25, 41, 24, 10, 14, 20, 17, 16, 23, 22,\n",
      "        38, 24, 51, 32, 18, 21, 20, 27, 29, 38, 23, 11, 14, 26])}\n",
      "275 {'inputs': tensor([[   2, 1458, 5655,  ...,    1,    1,    1],\n",
      "        [   2,  687,  285,  ...,    1,    1,    1],\n",
      "        [   2, 3394, 5330,  ...,    1,    1,    1],\n",
      "        ...,\n",
      "        [   2, 4506, 3528,  ...,    1,    1,    1],\n",
      "        [   2,  786, 1844,  ...,    1,    1,    1],\n",
      "        [   2, 2924, 2228,  ...,    1,    1,    1]]), 'labels': tensor([2, 9, 4, 9, 7, 9, 8, 9, 9, 9, 9, 8, 7, 0, 7, 0, 0, 9, 7, 9, 9, 6, 8, 9,\n",
      "        9, 9, 0, 4, 5, 9, 0, 9]), 'length': tensor([16, 23, 11, 10, 14, 21, 16, 14, 13, 13, 66, 19, 13, 16, 26, 24, 22, 24,\n",
      "        24, 27, 15, 20, 28, 14,  8, 15, 20, 18, 33, 14, 27, 17])}\n",
      "276 {'inputs': tensor([[   2, 5178, 1919,  ...,    1,    1,    1],\n",
      "        [   2, 4468, 6909,  ...,    1,    1,    1],\n",
      "        [   2,  533, 7220,  ...,    1,    1,    1],\n",
      "        ...,\n",
      "        [   2, 4689, 6050,  ...,    1,    1,    1],\n",
      "        [   2, 4196, 5178,  ...,    1,    1,    1],\n",
      "        [   2, 3233,  905,  ...,    1,    1,    1]]), 'labels': tensor([8, 9, 0, 8, 9, 0, 9, 0, 9, 9, 9, 9, 9, 9, 2, 0, 3, 9, 4, 5, 9, 7, 9, 1,\n",
      "        7, 9, 6, 8, 4, 9, 6, 0]), 'length': tensor([24, 30, 19, 40,  9, 17, 18, 24, 12, 23, 11, 28, 28, 10, 19, 30, 66, 41,\n",
      "         4, 32, 29, 14, 12, 26, 21, 65, 11, 22,  6, 17, 11, 18])}\n",
      "277 {'inputs': tensor([[   2, 3647, 5400,  ...,    1,    1,    1],\n",
      "        [   2, 2358, 5655,  ...,    1,    1,    1],\n",
      "        [   2, 2966, 7095,  ...,    1,    1,    1],\n",
      "        ...,\n",
      "        [   2, 3524, 6872,  ...,    1,    1,    1],\n",
      "        [   2, 4541, 6557,  ...,    1,    1,    1],\n",
      "        [   2, 2366, 5678,  ...,    1,    1,    1]]), 'labels': tensor([0, 7, 4, 7, 8, 6, 3, 7, 7, 9, 9, 7, 0, 7, 6, 9, 0, 9, 9, 9, 7, 8, 3, 9,\n",
      "        9, 9, 4, 7, 9, 0, 9, 9]), 'length': tensor([23, 35, 17, 24, 20, 36, 22, 46, 20,  9, 23, 42, 16, 29, 16, 13, 22, 15,\n",
      "        14, 40, 15, 46, 70, 45, 21,  8,  9, 26, 22, 30, 51, 10])}\n",
      "278 {'inputs': tensor([[   2, 1316, 7005,  ...,    1,    1,    1],\n",
      "        [   2, 1185, 6039,  ...,    1,    1,    1],\n",
      "        [   2, 1958, 5859,  ...,    1,    1,    1],\n",
      "        ...,\n",
      "        [   2, 3231, 5947,  ...,    1,    1,    1],\n",
      "        [   2, 3423, 6150,  ...,    1,    1,    1],\n",
      "        [   2, 4368, 7191,  ...,    1,    1,    1]]), 'labels': tensor([9, 6, 0, 9, 5, 0, 8, 6, 9, 9, 5, 9, 0, 5, 8, 9, 9, 5, 9, 7, 9, 0, 9, 9,\n",
      "        9, 8, 9, 9, 8, 8, 9, 9]), 'length': tensor([43, 14,  8, 19, 18, 29, 24, 10,  6, 16, 17, 12, 25, 13, 44, 13,  6, 11,\n",
      "        23, 10, 16, 10, 35, 12, 11, 14, 17, 35, 15,  7, 41, 15])}\n",
      "279 {'inputs': tensor([[   2, 3461, 3969,  ...,    1,    1,    1],\n",
      "        [   2, 4680, 6909,  ...,    1,    1,    1],\n",
      "        [   2,  517, 6983,  ...,    1,    1,    1],\n",
      "        ...,\n",
      "        [   2, 3123, 5859,  ...,    1,    1,    1],\n",
      "        [   2, 3049, 5355,  ...,    1,    1,    1],\n",
      "        [   2, 2959, 6514,  ...,    1,    1,    1]]), 'labels': tensor([0, 8, 9, 9, 9, 9, 9, 6, 9, 9, 9, 0, 9, 9, 9, 0, 6, 9, 9, 9, 5, 0, 9, 9,\n",
      "        9, 9, 5, 9, 8, 9, 7, 9]), 'length': tensor([29, 13, 47, 11,  9, 17, 15, 26, 17, 23,  4, 10, 22, 15,  9, 18, 25, 19,\n",
      "        19, 32, 32, 68, 28, 21, 31, 28, 29, 21, 17, 30, 15, 21])}\n",
      "280 {'inputs': tensor([[   2,  517,    0,  ...,    1,    1,    1],\n",
      "        [   2, 2769, 5424,  ...,    1,    1,    1],\n",
      "        [   2, 2293, 3341,  ...,    1,    1,    1],\n",
      "        ...,\n",
      "        [   2, 3417, 6079,  ...,    1,    1,    1],\n",
      "        [   2, 4958,  517,  ...,    1,    1,    1],\n",
      "        [   2, 4958, 7921,  ...,    1,    1,    1]]), 'labels': tensor([8, 4, 8, 6, 9, 0, 9, 7, 9, 3, 8, 4, 0, 0, 2, 8, 0, 7, 9, 7, 1, 8, 4, 9,\n",
      "        9, 7, 9, 8, 8, 0, 0, 6]), 'length': tensor([12,  9,  9, 26,  4, 16,  7, 15, 18, 78,  9, 13, 13, 18, 12, 22, 11, 45,\n",
      "        18, 17, 36, 27, 16, 13,  8, 28,  7, 26, 52, 22, 17, 11])}\n",
      "281 {'inputs': tensor([[   2, 1406,   93,  ...,    1,    1,    1],\n",
      "        [   2, 2417, 6632,  ...,    1,    1,    1],\n",
      "        [   2,  765, 6954,  ...,    1,    1,    1],\n",
      "        ...,\n",
      "        [   2, 3498, 6983,  ...,    1,    1,    1],\n",
      "        [   2, 4559, 7139,  ...,    1,    1,    1],\n",
      "        [   2, 3969, 6269,  ...,    1,    1,    1]]), 'labels': tensor([9, 9, 9, 9, 0, 9, 0, 9, 8, 9, 9, 8, 0, 0, 7, 9, 8, 9, 0, 7, 9, 8, 9, 7,\n",
      "        7, 0, 6, 9, 4, 9, 9, 9]), 'length': tensor([13, 11, 15, 15, 12,  3, 18, 68, 19, 23, 23, 29, 10, 23, 37, 29, 29,  4,\n",
      "         5,  5, 10, 15, 30, 24, 28, 25, 23, 20, 26, 11, 12, 17])}\n",
      "282 {'inputs': tensor([[   2, 5106, 2783,  ...,    1,    1,    1],\n",
      "        [   2, 1963, 4919,  ...,    1,    1,    1],\n",
      "        [   2, 2199, 6573,  ...,    1,    1,    1],\n",
      "        ...,\n",
      "        [   2,  517,    0,  ...,    1,    1,    1],\n",
      "        [   2, 2098, 7121,  ...,    1,    1,    1],\n",
      "        [   2, 5064, 2408,  ...,    1,    1,    1]]), 'labels': tensor([9, 9, 1, 6, 0, 8, 8, 0, 9, 7, 9, 2, 9, 9, 9, 9, 9, 7, 8, 7, 9, 9, 9, 8,\n",
      "        9, 7, 9, 8, 9, 0, 9, 8]), 'length': tensor([15,  5, 23, 16, 26, 15, 18, 11, 15,  6, 18, 14, 23, 30, 16, 26, 15, 11,\n",
      "        30, 21, 22, 15, 62, 20, 10, 10, 31, 26, 58,  6, 26, 13])}\n",
      "283 {'inputs': tensor([[   2,  517, 5520,  ...,    1,    1,    1],\n",
      "        [   2, 2970, 7095,  ...,    1,    1,    1],\n",
      "        [   2,  835, 5630,  ...,    1,    1,    1],\n",
      "        ...,\n",
      "        [   2, 4396, 7316,  ...,    1,    1,    1],\n",
      "        [   2,  517, 7986,  ...,    1,    1,    1],\n",
      "        [   2,  680,  329,  ...,    1,    1,    1]]), 'labels': tensor([5, 2, 9, 0, 9, 9, 9, 9, 7, 8, 9, 9, 7, 9, 9, 7, 6, 9, 1, 9, 9, 1, 7, 8,\n",
      "        0, 3, 9, 8, 7, 0, 0, 0]), 'length': tensor([24, 20, 55, 14,  8, 11, 74, 26,  9, 18, 21, 11, 19,  4, 11, 31, 23, 25,\n",
      "        10, 39, 20, 14, 23, 10, 38, 27, 15, 37, 51, 22, 21,  8])}\n",
      "284 {'inputs': tensor([[   2, 1527, 3594,  ...,    1,    1,    1],\n",
      "        [   2, 4368,  533,  ...,    1,    1,    1],\n",
      "        [   2, 1406, 2287,  ...,    1,    1,    1],\n",
      "        ...,\n",
      "        [   2, 4368, 4524,  ...,    1,    1,    1],\n",
      "        [   2, 5090, 6424,  ...,    1,    1,    1],\n",
      "        [   2, 3647, 5384,  ...,    1,    1,    1]]), 'labels': tensor([8, 9, 9, 9, 8, 4, 9, 0, 9, 9, 6, 9, 8, 9, 8, 7, 2, 9, 0, 8, 9, 9, 9, 9,\n",
      "        9, 8, 9, 9, 9, 9, 9, 9]), 'length': tensor([41, 12, 23, 18, 30, 24, 24, 16, 23, 14, 21, 22, 19, 10, 21, 11, 85, 16,\n",
      "         7, 18, 22,  6, 10, 11, 11, 10, 10, 40, 14, 27, 43, 23])}\n",
      "285 {'inputs': tensor([[   2, 3133, 5804,  ...,    1,    1,    1],\n",
      "        [   2,  517, 5626,  ...,    1,    1,    1],\n",
      "        [   2,  517, 7368,  ...,    1,    1,    1],\n",
      "        ...,\n",
      "        [   2,  517,  427,  ...,    1,    1,    1],\n",
      "        [   2, 3672, 3394,  ...,    1,    1,    1],\n",
      "        [   2, 4773, 6983,  ...,    1,    1,    1]]), 'labels': tensor([7, 6, 8, 0, 8, 8, 3, 7, 4, 7, 9, 9, 4, 5, 9, 8, 8, 9, 7, 9, 9, 4, 9, 0,\n",
      "        0, 9, 9, 9, 9, 9, 9, 9]), 'length': tensor([15,  9, 14, 27, 80, 34, 34, 28, 31, 52, 31, 26, 16, 26, 13, 53, 19, 27,\n",
      "        12, 50, 24,  9, 38, 17, 74,  8, 19, 14, 12, 12, 16, 15])}\n",
      "286 {'inputs': tensor([[   2, 1830, 6664,  ...,    1,    1,    1],\n",
      "        [   2, 5090, 6022,  ...,    1,    1,    1],\n",
      "        [   2, 1788, 6050,  ...,    1,    1,    1],\n",
      "        ...,\n",
      "        [   2, 3585, 5330,  ...,    1,    1,    1],\n",
      "        [   2, 1963, 7774,  ...,    1,    1,    1],\n",
      "        [   2, 4427, 2417,  ...,    1,    1,    1]]), 'labels': tensor([9, 9, 9, 9, 8, 0, 9, 9, 9, 9, 4, 7, 7, 4, 9, 7, 9, 9, 3, 9, 9, 9, 9, 9,\n",
      "        8, 0, 9, 9, 9, 9, 9, 8]), 'length': tensor([10, 22, 31, 11, 21, 16, 29, 24, 12, 22, 12, 24, 28, 31, 71, 27, 21, 11,\n",
      "        27, 23, 20, 21, 32, 19, 17, 23, 17, 13, 18, 14, 13, 58])}\n",
      "287 {'inputs': tensor([[   2, 4368,  791,  ...,    1,    1,    1],\n",
      "        [   2, 3803, 6341,  ...,    1,    1,    1],\n",
      "        [   2,  517, 7860,  ...,    1,    1,    1],\n",
      "        ...,\n",
      "        [   2, 2962, 5330,  ...,    1,    1,    1],\n",
      "        [   2, 3461, 7191,  ...,    1,    1,    1],\n",
      "        [   2, 1321, 5536,  ...,    1,    1,    1]]), 'labels': tensor([9, 9, 0, 9, 9, 9, 7, 9, 4, 8, 7, 9, 9, 6, 9, 7, 2, 7, 9, 8, 9, 5, 0, 7,\n",
      "        9, 7, 9, 9, 0, 9, 9, 9]), 'length': tensor([16, 31, 31, 18,  5, 14, 20, 16, 19,  7, 23, 10, 14, 29,  7, 23, 16, 13,\n",
      "        24, 27, 80, 13, 11, 42, 18, 31,  7, 10, 14, 10, 18, 18])}\n",
      "288 {'inputs': tensor([[   2,  777, 6150,  ...,    1,    1,    1],\n",
      "        [   2, 1458, 5691,  ...,    1,    1,    1],\n",
      "        [   2, 2423, 7177,  ...,    1,    1,    1],\n",
      "        ...,\n",
      "        [   2, 4559, 7843,  ...,    1,    1,    1],\n",
      "        [   2,  529, 7720,  ...,    1,    1,    1],\n",
      "        [   2, 3601, 5342,  ...,    1,    1,    1]]), 'labels': tensor([9, 9, 9, 2, 9, 9, 9, 0, 9, 7, 9, 8, 9, 7, 9, 9, 0, 7, 8, 7, 0, 9, 9, 0,\n",
      "        2, 5, 9, 4, 6, 9, 6, 9]), 'length': tensor([12, 11, 70, 19, 22, 12, 25, 72,  8, 13, 19, 71, 30, 29, 15, 17, 19, 25,\n",
      "        17, 10, 24, 36, 18,  6, 20, 18, 75, 14, 39, 13, 30, 24])}\n",
      "289 {'inputs': tensor([[   2, 2705, 6371,  ...,    1,    1,    1],\n",
      "        [   2, 4102, 7191,  ...,    1,    1,    1],\n",
      "        [   2, 4506, 6896,  ...,    1,    1,    1],\n",
      "        ...,\n",
      "        [   2, 3916, 5424,  ...,    1,    1,    1],\n",
      "        [   2, 2034, 7170,  ...,    1,    1,    1],\n",
      "        [   2, 3341, 4102,  ...,    1,    1,    1]]), 'labels': tensor([8, 9, 8, 9, 4, 9, 9, 9, 9, 9, 8, 8, 9, 9, 9, 0, 9, 9, 2, 9, 9, 9, 7, 9,\n",
      "        9, 9, 0, 9, 6, 7, 9, 8]), 'length': tensor([10, 36, 17,  7, 20, 18, 12,  8, 17, 23, 24, 32,  7, 27, 13, 76, 27, 11,\n",
      "         9, 20, 32, 45, 31, 14, 10, 41, 15, 30, 70, 18,  7, 11])}\n",
      "290 {'inputs': tensor([[   2, 1931, 7941,  ...,    1,    1,    1],\n",
      "        [   2, 4841, 7220,  ...,    1,    1,    1],\n",
      "        [   2, 4841, 7220,  ...,    1,    1,    1],\n",
      "        ...,\n",
      "        [   2, 2401, 6738,  ...,    1,    1,    1],\n",
      "        [   2, 1458, 5100,  ...,    1,    1,    1],\n",
      "        [   2, 4102,  517,  ...,    1,    1,    1]]), 'labels': tensor([9, 0, 9, 9, 9, 7, 8, 0, 0, 9, 9, 9, 6, 9, 9, 9, 9, 9, 0, 9, 7, 9, 9, 9,\n",
      "        9, 9, 9, 8, 9, 9, 3, 8]), 'length': tensor([26, 33, 14, 12, 12, 24, 27, 21, 71, 18, 38,  7, 23, 25, 13, 15, 14, 16,\n",
      "        12, 17, 37, 30, 21, 22, 32, 30, 31, 18, 19, 36, 36,  8])}\n",
      "291 {'inputs': tensor([[   2, 1102,  517,  ...,    1,    1,    1],\n",
      "        [   2, 4604, 7289,  ...,    1,    1,    1],\n",
      "        [   2, 3647, 3394,  ...,    1,    1,    1],\n",
      "        ...,\n",
      "        [   2, 3220, 6072,  ...,    1,    1,    1],\n",
      "        [   2, 2084, 7096,  ...,    1,    1,    1],\n",
      "        [   2, 3093,  463,  ...,    1,    1,    1]]), 'labels': tensor([9, 9, 9, 2, 2, 3, 0, 0, 9, 9, 4, 9, 9, 9, 9, 9, 9, 6, 9, 7, 0, 9, 7, 8,\n",
      "        9, 0, 9, 7, 9, 9, 7, 9]), 'length': tensor([15, 11, 40, 74,  9, 16, 22, 19, 18, 18, 24, 17, 12, 14, 11, 13, 32, 23,\n",
      "        18,  7,  4, 17, 16, 49, 23, 15,  8, 18, 55, 23, 18, 19])}\n",
      "292 {'inputs': tensor([[   2, 3969, 6269,  ...,    1,    1,    1],\n",
      "        [   2, 3480, 6536,  ...,    1,    1,    1],\n",
      "        [   2, 3202, 6954,  ...,    1,    1,    1],\n",
      "        ...,\n",
      "        [   2, 2146, 5330,  ...,    1,    1,    1],\n",
      "        [   2, 4841, 7220,  ...,    1,    1,    1],\n",
      "        [   2, 3111, 6122,  ...,    1,    1,    1]]), 'labels': tensor([9, 9, 9, 8, 7, 8, 9, 0, 9, 7, 9, 6, 9, 5, 9, 0, 9, 9, 6, 7, 6, 9, 7, 0,\n",
      "        9, 7, 7, 4, 8, 7, 9, 4]), 'length': tensor([10, 35, 21, 18, 25, 23, 10, 16, 21, 24, 77, 19, 12, 25,  8, 36, 13, 22,\n",
      "        82, 18, 20,  5, 31, 27, 12, 19, 16, 23, 21, 26, 21, 29])}\n",
      "293 {'inputs': tensor([[   2, 1431, 4841,  ...,    1,    1,    1],\n",
      "        [   2, 3978, 6887,  ...,    1,    1,    1],\n",
      "        [   2, 4067, 6579,  ...,    1,    1,    1],\n",
      "        ...,\n",
      "        [   2, 1267, 6157,  ...,    1,    1,    1],\n",
      "        [   2, 1955, 1103,  ...,    1,    1,    1],\n",
      "        [   2, 4531, 1773,  ...,    1,    1,    1]]), 'labels': tensor([9, 7, 2, 8, 5, 5, 9, 0, 9, 0, 8, 4, 8, 8, 6, 8, 9, 7, 9, 8, 9, 9, 9, 3,\n",
      "        4, 6, 9, 9, 8, 6, 9, 9]), 'length': tensor([10, 47, 40, 22, 35,  7,  7, 27, 28, 13, 12, 38, 57, 20, 10, 39, 19, 12,\n",
      "        26, 24,  9, 23,  6, 61, 21, 10, 23,  4, 14, 56, 33, 20])}\n",
      "294 {'inputs': tensor([[   2, 1316, 6023,  ...,    1,    1,    1],\n",
      "        [   2, 1509, 7095,  ...,    1,    1,    1],\n",
      "        [   2, 3358, 6328,  ...,    1,    1,    1],\n",
      "        ...,\n",
      "        [   2, 2822, 6745,  ...,    1,    1,    1],\n",
      "        [   2, 1889, 7784,  ...,    1,    1,    1],\n",
      "        [   2, 3465, 6738,  ...,    1,    1,    1]]), 'labels': tensor([6, 7, 9, 0, 0, 9, 1, 9, 9, 9, 8, 9, 9, 9, 7, 9, 9, 8, 9, 4, 7, 9, 9, 0,\n",
      "        1, 9, 0, 2, 9, 7, 0, 2]), 'length': tensor([19, 22, 13, 21, 33, 23, 11, 43,  7, 17, 14, 25, 34, 23, 15, 32,  5, 27,\n",
      "        12, 16, 26, 49, 20, 26, 38, 15,  9, 25, 14, 17, 10,  5])}\n",
      "295 {'inputs': tensor([[   2, 3341, 6064,  ...,    1,    1,    1],\n",
      "        [   2, 4958, 6954,  ...,    1,    1,    1],\n",
      "        [   2, 3503, 6335,  ...,    1,    1,    1],\n",
      "        ...,\n",
      "        [   2, 3958, 7797,  ...,    1,    1,    1],\n",
      "        [   2, 5207, 7086,  ...,    1,    1,    1],\n",
      "        [   2,  517,    0,  ...,    1,    1,    1]]), 'labels': tensor([9, 9, 9, 9, 9, 9, 7, 4, 9, 9, 7, 2, 6, 0, 4, 6, 9, 9, 4, 9, 7, 6, 9, 9,\n",
      "        9, 5, 7, 0, 7, 0, 6, 6]), 'length': tensor([24,  9, 23, 10, 19,  9, 15, 24, 11, 11, 22, 28, 14, 20,  9, 16, 13,  5,\n",
      "        78, 18, 17, 15, 16,  8, 11, 25, 24, 10, 13,  5, 27, 16])}\n",
      "296 {'inputs': tensor([[   2, 3341,  517,  ...,    1,    1,    1],\n",
      "        [   2,  517, 5468,  ...,    1,    1,    1],\n",
      "        [   2, 1347, 3394,  ...,    1,    1,    1],\n",
      "        ...,\n",
      "        [   2, 4368, 2948,  ...,    1,    1,    1],\n",
      "        [   2,  517, 7891,  ...,    1,    1,    1],\n",
      "        [   2, 3093, 4102,  ...,    1,    1,    1]]), 'labels': tensor([8, 6, 9, 8, 9, 9, 9, 9, 7, 9, 8, 9, 8, 7, 9, 8, 9, 9, 6, 9, 8, 8, 9, 9,\n",
      "        0, 9, 7, 6, 9, 9, 9, 9]), 'length': tensor([ 7, 49, 21, 37, 32, 13,  6, 10, 19, 11,  8, 12, 25, 21, 16, 11, 40,  6,\n",
      "        32, 20, 29, 17, 70, 33, 23, 15, 18, 24, 20, 53, 36, 28])}\n",
      "297 {'inputs': tensor([[   2, 1312, 7262,  ...,    1,    1,    1],\n",
      "        [   2, 2048, 2029,  ...,    1,    1,    1],\n",
      "        [   2, 4710, 1120,  ...,    1,    1,    1],\n",
      "        ...,\n",
      "        [   2, 2149, 6691,  ...,    1,    1,    1],\n",
      "        [   2, 4297, 6095,  ...,    1,    1,    1],\n",
      "        [   2, 4841, 7220,  ...,    1,    1,    1]]), 'labels': tensor([0, 9, 7, 9, 8, 9, 9, 0, 9, 6, 9, 9, 2, 6, 8, 6, 8, 9, 9, 0, 9, 0, 9, 9,\n",
      "        8, 9, 8, 9, 7, 7, 6, 9]), 'length': tensor([15, 35, 11, 17, 23, 16, 12, 32, 12, 61, 28, 13,  6, 15, 22, 75, 28, 96,\n",
      "        27, 20, 38,  6,  7, 16, 18, 12, 14, 20, 12, 18, 14, 11])}\n",
      "298 {'inputs': tensor([[   2, 3706, 7096,  ...,    1,    1,    1],\n",
      "        [   2, 2120, 5546,  ...,    1,    1,    1],\n",
      "        [   2, 2120, 7405,  ...,    1,    1,    1],\n",
      "        ...,\n",
      "        [   2, 1574, 2420,  ...,    1,    1,    1],\n",
      "        [   2, 1185, 6079,  ...,    1,    1,    1],\n",
      "        [   2, 2095, 5663,  ...,    1,    1,    1]]), 'labels': tensor([9, 4, 7, 3, 9, 3, 6, 3, 9, 0, 9, 9, 0, 0, 0, 9, 9, 9, 5, 9, 7, 8, 7, 7,\n",
      "        8, 9, 9, 9, 9, 9, 9, 6]), 'length': tensor([40, 11, 11, 13, 23, 95, 31, 21, 17, 21, 10, 12, 13, 11,  9, 25, 11, 13,\n",
      "        13, 22,  9, 26, 11, 11, 29, 13, 21, 10, 34, 22, 18, 16])}\n",
      "299 {'inputs': tensor([[   2, 1267, 6812,  ...,    1,    1,    1],\n",
      "        [   2, 3672, 6954,  ...,    1,    1,    1],\n",
      "        [   2, 1458, 3110,  ...,    1,    1,    1],\n",
      "        ...,\n",
      "        [   2, 3220, 7096,  ...,    1,    1,    1],\n",
      "        [   2,  517, 6188,  ...,    1,    1,    1],\n",
      "        [   2, 1572, 3594,  ...,    1,    1,    1]]), 'labels': tensor([9, 0, 9, 0, 9, 5, 7, 9, 9, 9, 9, 9, 4, 9, 7, 9, 8, 9, 8, 6, 2, 3, 0, 9,\n",
      "        9, 8, 9, 9, 0, 9, 4, 4]), 'length': tensor([12, 28, 13, 16, 23, 33, 26,  7,  8,  8, 32, 14, 10, 20, 17, 33, 28, 28,\n",
      "        13, 24, 75, 24, 63, 31, 20, 15, 16, 19, 34, 80, 18, 12])}\n",
      "300 {'inputs': tensor([[   2, 1564, 6912,  ...,    1,    1,    1],\n",
      "        [   2, 3606, 3622,  ...,    1,    1,    1],\n",
      "        [   2, 1730, 6797,  ...,    1,    1,    1],\n",
      "        ...,\n",
      "        [   2, 2426, 6883,  ...,    1,    1,    1],\n",
      "        [   2, 4102, 2034,  ...,    1,    1,    1],\n",
      "        [   2, 1435, 3670,  ...,    1,    1,    1]]), 'labels': tensor([8, 7, 0, 9, 9, 7, 6, 9, 9, 8, 9, 3, 9, 9, 2, 9, 9, 9, 2, 9, 0, 5, 0, 4,\n",
      "        6, 9, 6, 8, 9, 9, 9, 9]), 'length': tensor([18, 26, 16, 19, 27, 24, 10, 11, 49, 17, 45, 32, 18, 14, 26, 21, 15, 76,\n",
      "         9,  6, 22, 24, 19, 18, 31, 20, 12, 71, 32, 10, 10, 87])}\n",
      "301 {'inputs': tensor([[   2, 2081, 7138,  ...,    1,    1,    1],\n",
      "        [   2, 1963, 4919,  ...,    1,    1,    1],\n",
      "        [   2, 2358, 5176,  ...,    1,    1,    1],\n",
      "        ...,\n",
      "        [   2, 4258, 7295,  ...,    1,    1,    1],\n",
      "        [   2, 3969, 6269,  ...,    1,    1,    1],\n",
      "        [   2, 3647, 5965,  ...,    1,    1,    1]]), 'labels': tensor([9, 9, 9, 9, 8, 6, 8, 9, 9, 9, 9, 9, 9, 3, 0, 9, 9, 6, 9, 8, 9, 9, 9, 9,\n",
      "        7, 3, 9, 9, 9, 5, 7, 0]), 'length': tensor([23, 11, 24, 10, 55, 18, 35, 21, 11, 60, 15,  6, 29, 31, 28, 18, 12, 60,\n",
      "        25,  6, 34, 12, 15, 17, 12, 75, 25, 17, 88, 31, 14, 18])}\n",
      "302 {'inputs': tensor([[   2, 3461, 3969,  ...,    1,    1,    1],\n",
      "        [   2, 3977, 3274,  ...,    1,    1,    1],\n",
      "        [   2, 2928, 6173,  ...,    1,    1,    1],\n",
      "        ...,\n",
      "        [   2, 2293, 3341,  ...,    1,    1,    1],\n",
      "        [   2, 3327,  791,  ...,    1,    1,    1],\n",
      "        [   2, 2970, 6312,  ...,    1,    1,    1]]), 'labels': tensor([9, 7, 9, 9, 9, 8, 9, 5, 5, 9, 9, 9, 9, 0, 5, 9, 9, 9, 0, 9, 0, 7, 2, 9,\n",
      "        0, 0, 9, 9, 0, 6, 9, 7]), 'length': tensor([11, 21, 15,  8, 20, 19, 17, 16, 11, 14,  5, 20, 12, 30, 13, 49, 26, 23,\n",
      "        40, 63, 10, 26, 41, 16, 22, 17, 17,  8, 25, 35, 18, 35])}\n",
      "303 {'inputs': tensor([[   2, 2590, 6896,  ...,    1,    1,    1],\n",
      "        [   2, 1958, 6079,  ...,    1,    1,    1],\n",
      "        [   2, 2145, 6844,  ...,    1,    1,    1],\n",
      "        ...,\n",
      "        [   2, 2095, 6855,  ...,    1,    1,    1],\n",
      "        [   2,  517,    0,  ...,    1,    1,    1],\n",
      "        [   2, 1611, 7767,  ...,    1,    1,    1]]), 'labels': tensor([7, 9, 8, 4, 9, 9, 6, 9, 9, 9, 9, 9, 6, 9, 9, 7, 6, 3, 0, 1, 5, 8, 9, 9,\n",
      "        9, 4, 4, 9, 9, 9, 9, 0]), 'length': tensor([35, 32, 31, 16,  7,  8,  7, 25, 24,  4, 68, 21, 14, 22, 22, 24, 15, 29,\n",
      "         6, 19, 39, 23, 22, 14, 28,  9, 16,  5, 15, 16,  8, 20])}\n",
      "304 {'inputs': tensor([[   2, 2007, 6916,  ...,    1,    1,    1],\n",
      "        [   2, 1185, 6039,  ...,    1,    1,    1],\n",
      "        [   2, 3461, 3978,  ...,    1,    1,    1],\n",
      "        ...,\n",
      "        [   2, 3026, 7086,  ...,    1,    1,    1],\n",
      "        [   2, 3647, 6489,  ...,    1,    1,    1],\n",
      "        [   2, 3206, 6303,  ...,    1,    1,    1]]), 'labels': tensor([3, 7, 9, 9, 2, 9, 8, 6, 0, 9, 5, 6, 8, 6, 8, 8, 9, 9, 7, 9, 0, 0, 3, 8,\n",
      "        7, 9, 9, 9, 9, 0, 9, 4]), 'length': tensor([42,  9, 15, 11, 32, 19,  9, 24, 29,  8,  7, 22, 23, 28, 19, 42,  6, 13,\n",
      "        14, 17, 17, 47, 17, 37, 11, 21, 46, 78, 12, 24,  5, 61])}\n",
      "305 {'inputs': tensor([[   2, 2465, 7271,  ...,    1,    1,    1],\n",
      "        [   2, 3245, 1356,  ...,    1,    1,    1],\n",
      "        [   2, 3419, 5859,  ...,    1,    1,    1],\n",
      "        ...,\n",
      "        [   2, 3093,  463,  ...,    1,    1,    1],\n",
      "        [   2, 4196, 6441,  ...,    1,    1,    1],\n",
      "        [   2, 4102, 7459,  ...,    1,    1,    1]]), 'labels': tensor([0, 0, 9, 7, 8, 9, 9, 0, 9, 9, 8, 8, 9, 9, 6, 0, 9, 9, 9, 7, 3, 9, 7, 8,\n",
      "        0, 3, 6, 9, 9, 9, 9, 9]), 'length': tensor([27, 12, 14, 16, 88, 16, 85, 14, 29, 90, 32, 40, 28, 16, 12, 27, 32, 37,\n",
      "        40, 26,  9,  8, 13, 15, 22, 27, 12, 32,  9, 19, 10, 35])}\n",
      "306 {'inputs': tensor([[   2, 3220, 5954,  ...,    1,    1,    1],\n",
      "        [   2, 3423, 6150,  ...,    1,    1,    1],\n",
      "        [   2, 4955, 1170,  ...,    1,    1,    1],\n",
      "        ...,\n",
      "        [   2, 1919, 6896,  ...,    1,    1,    1],\n",
      "        [   2, 3010,   54,  ...,    1,    1,    1],\n",
      "        [   2,  517, 6983,  ...,    1,    1,    1]]), 'labels': tensor([7, 9, 9, 4, 9, 8, 9, 9, 9, 6, 9, 6, 9, 8, 8, 7, 0, 7, 6, 5, 9, 6, 8, 4,\n",
      "        9, 5, 6, 9, 3, 6, 9, 9]), 'length': tensor([ 58,  10,  16,  19,  16,  10,  22,  20,  26,  25,  10,   8,  11,  23,\n",
      "         16,  24,  16,  45,  17,  20,  54,   8,   7, 101,  16,  14,  16,  28,\n",
      "          9,  16,   9,  36])}\n",
      "307 {'inputs': tensor([[   2, 2408, 6305,  ...,    1,    1,    1],\n",
      "        [   2, 4841, 7220,  ...,    1,    1,    1],\n",
      "        [   2, 4297, 6095,  ...,    1,    1,    1],\n",
      "        ...,\n",
      "        [   2, 3458, 7836,  ...,    1,    1,    1],\n",
      "        [   2, 1591, 7996,  ...,    1,    1,    1],\n",
      "        [   2,  517, 5520,  ...,    1,    1,    1]]), 'labels': tensor([9, 0, 4, 0, 9, 7, 9, 1, 0, 8, 9, 6, 7, 9, 7, 0, 8, 9, 8, 9, 7, 9, 9, 5,\n",
      "        0, 8, 9, 8, 9, 0, 9, 9]), 'length': tensor([51, 16, 10, 55, 74, 39, 17,  8, 43, 34, 24, 14, 23, 10, 25,  9, 24, 83,\n",
      "        21,  9, 35, 14, 20,  7, 46, 18, 29, 29,  8, 25, 27,  4])}\n",
      "308 {'inputs': tensor([[   2, 2293, 7095,  ...,    1,    1,    1],\n",
      "        [   2, 3969, 6269,  ...,    1,    1,    1],\n",
      "        [   2,  930, 6992,  ...,    1,    1,    1],\n",
      "        ...,\n",
      "        [   2, 4955, 5547,  ...,    1,    1,    1],\n",
      "        [   2, 3826, 6527,  ...,    1,    1,    1],\n",
      "        [   2, 4977, 6122,  ...,    1,    1,    1]]), 'labels': tensor([6, 7, 8, 8, 0, 9, 4, 0, 0, 9, 7, 9, 7, 7, 9, 0, 8, 9, 6, 2, 7, 8, 0, 9,\n",
      "        6, 9, 8, 8, 6, 9, 9, 9]), 'length': tensor([ 9, 13, 12, 13, 15, 18, 12,  4,  8, 20, 19, 10, 25, 16, 40, 16, 15, 36,\n",
      "        14, 11, 21, 13, 14, 14, 24, 24, 24,  8, 25, 19, 14, 20])}\n",
      "309 \n"
     ]
    },
    {
     "ename": "KeyboardInterrupt",
     "evalue": "",
     "output_type": "error",
     "traceback": [
      "\u001b[0;31m---------------------------------------------------------------------------\u001b[0m",
      "\u001b[0;31mKeyboardInterrupt\u001b[0m                         Traceback (most recent call last)",
      "\u001b[0;32m<ipython-input-85-27003ff3545d>\u001b[0m in \u001b[0;36m<module>\u001b[0;34m\u001b[0m\n\u001b[1;32m      1\u001b[0m \u001b[0;32mfor\u001b[0m \u001b[0mi\u001b[0m\u001b[0;34m,\u001b[0m \u001b[0mbatch\u001b[0m \u001b[0;32min\u001b[0m \u001b[0menumerate\u001b[0m\u001b[0;34m(\u001b[0m\u001b[0mtqdm\u001b[0m\u001b[0;34m(\u001b[0m\u001b[0mtrain_loader\u001b[0m\u001b[0;34m)\u001b[0m\u001b[0;34m)\u001b[0m\u001b[0;34m:\u001b[0m\u001b[0;34m\u001b[0m\u001b[0;34m\u001b[0m\u001b[0m\n\u001b[0;32m----> 2\u001b[0;31m     \u001b[0mprint\u001b[0m\u001b[0;34m(\u001b[0m\u001b[0mi\u001b[0m\u001b[0;34m,\u001b[0m\u001b[0mbatch\u001b[0m\u001b[0;34m)\u001b[0m\u001b[0;34m\u001b[0m\u001b[0;34m\u001b[0m\u001b[0m\n\u001b[0m",
      "\u001b[0;32m~/anaconda3/envs/allml/lib/python3.7/site-packages/torch/tensor.py\u001b[0m in \u001b[0;36m__repr__\u001b[0;34m(self)\u001b[0m\n\u001b[1;32m    128\u001b[0m         \u001b[0;31m# characters to replace unicode characters with.\u001b[0m\u001b[0;34m\u001b[0m\u001b[0;34m\u001b[0m\u001b[0;34m\u001b[0m\u001b[0m\n\u001b[1;32m    129\u001b[0m         \u001b[0;32mif\u001b[0m \u001b[0msys\u001b[0m\u001b[0;34m.\u001b[0m\u001b[0mversion_info\u001b[0m \u001b[0;34m>\u001b[0m \u001b[0;34m(\u001b[0m\u001b[0;36m3\u001b[0m\u001b[0;34m,\u001b[0m\u001b[0;34m)\u001b[0m\u001b[0;34m:\u001b[0m\u001b[0;34m\u001b[0m\u001b[0;34m\u001b[0m\u001b[0m\n\u001b[0;32m--> 130\u001b[0;31m             \u001b[0;32mreturn\u001b[0m \u001b[0mtorch\u001b[0m\u001b[0;34m.\u001b[0m\u001b[0m_tensor_str\u001b[0m\u001b[0;34m.\u001b[0m\u001b[0m_str\u001b[0m\u001b[0;34m(\u001b[0m\u001b[0mself\u001b[0m\u001b[0;34m)\u001b[0m\u001b[0;34m\u001b[0m\u001b[0;34m\u001b[0m\u001b[0m\n\u001b[0m\u001b[1;32m    131\u001b[0m         \u001b[0;32melse\u001b[0m\u001b[0;34m:\u001b[0m\u001b[0;34m\u001b[0m\u001b[0;34m\u001b[0m\u001b[0m\n\u001b[1;32m    132\u001b[0m             \u001b[0;32mif\u001b[0m \u001b[0mhasattr\u001b[0m\u001b[0;34m(\u001b[0m\u001b[0msys\u001b[0m\u001b[0;34m.\u001b[0m\u001b[0mstdout\u001b[0m\u001b[0;34m,\u001b[0m \u001b[0;34m'encoding'\u001b[0m\u001b[0;34m)\u001b[0m\u001b[0;34m:\u001b[0m\u001b[0;34m\u001b[0m\u001b[0;34m\u001b[0m\u001b[0m\n",
      "\u001b[0;32m~/anaconda3/envs/allml/lib/python3.7/site-packages/torch/_tensor_str.py\u001b[0m in \u001b[0;36m_str\u001b[0;34m(self)\u001b[0m\n\u001b[1;32m    309\u001b[0m                 \u001b[0mtensor_str\u001b[0m \u001b[0;34m=\u001b[0m \u001b[0m_tensor_str\u001b[0m\u001b[0;34m(\u001b[0m\u001b[0mself\u001b[0m\u001b[0;34m.\u001b[0m\u001b[0mto_dense\u001b[0m\u001b[0;34m(\u001b[0m\u001b[0;34m)\u001b[0m\u001b[0;34m,\u001b[0m \u001b[0mindent\u001b[0m\u001b[0;34m)\u001b[0m\u001b[0;34m\u001b[0m\u001b[0;34m\u001b[0m\u001b[0m\n\u001b[1;32m    310\u001b[0m             \u001b[0;32melse\u001b[0m\u001b[0;34m:\u001b[0m\u001b[0;34m\u001b[0m\u001b[0;34m\u001b[0m\u001b[0m\n\u001b[0;32m--> 311\u001b[0;31m                 \u001b[0mtensor_str\u001b[0m \u001b[0;34m=\u001b[0m \u001b[0m_tensor_str\u001b[0m\u001b[0;34m(\u001b[0m\u001b[0mself\u001b[0m\u001b[0;34m,\u001b[0m \u001b[0mindent\u001b[0m\u001b[0;34m)\u001b[0m\u001b[0;34m\u001b[0m\u001b[0;34m\u001b[0m\u001b[0m\n\u001b[0m\u001b[1;32m    312\u001b[0m \u001b[0;34m\u001b[0m\u001b[0m\n\u001b[1;32m    313\u001b[0m     \u001b[0;32mif\u001b[0m \u001b[0mself\u001b[0m\u001b[0;34m.\u001b[0m\u001b[0mlayout\u001b[0m \u001b[0;34m!=\u001b[0m \u001b[0mtorch\u001b[0m\u001b[0;34m.\u001b[0m\u001b[0mstrided\u001b[0m\u001b[0;34m:\u001b[0m\u001b[0;34m\u001b[0m\u001b[0;34m\u001b[0m\u001b[0m\n",
      "\u001b[0;32m~/anaconda3/envs/allml/lib/python3.7/site-packages/torch/_tensor_str.py\u001b[0m in \u001b[0;36m_tensor_str\u001b[0;34m(self, indent)\u001b[0m\n\u001b[1;32m    207\u001b[0m     \u001b[0;32mif\u001b[0m \u001b[0mself\u001b[0m\u001b[0;34m.\u001b[0m\u001b[0mdtype\u001b[0m \u001b[0;32mis\u001b[0m \u001b[0mtorch\u001b[0m\u001b[0;34m.\u001b[0m\u001b[0mfloat16\u001b[0m \u001b[0;32mor\u001b[0m \u001b[0mself\u001b[0m\u001b[0;34m.\u001b[0m\u001b[0mdtype\u001b[0m \u001b[0;32mis\u001b[0m \u001b[0mtorch\u001b[0m\u001b[0;34m.\u001b[0m\u001b[0mbfloat16\u001b[0m\u001b[0;34m:\u001b[0m\u001b[0;34m\u001b[0m\u001b[0;34m\u001b[0m\u001b[0m\n\u001b[1;32m    208\u001b[0m         \u001b[0mself\u001b[0m \u001b[0;34m=\u001b[0m \u001b[0mself\u001b[0m\u001b[0;34m.\u001b[0m\u001b[0mfloat\u001b[0m\u001b[0;34m(\u001b[0m\u001b[0;34m)\u001b[0m\u001b[0;34m\u001b[0m\u001b[0;34m\u001b[0m\u001b[0m\n\u001b[0;32m--> 209\u001b[0;31m     \u001b[0mformatter\u001b[0m \u001b[0;34m=\u001b[0m \u001b[0m_Formatter\u001b[0m\u001b[0;34m(\u001b[0m\u001b[0mget_summarized_data\u001b[0m\u001b[0;34m(\u001b[0m\u001b[0mself\u001b[0m\u001b[0;34m)\u001b[0m \u001b[0;32mif\u001b[0m \u001b[0msummarize\u001b[0m \u001b[0;32melse\u001b[0m \u001b[0mself\u001b[0m\u001b[0;34m)\u001b[0m\u001b[0;34m\u001b[0m\u001b[0;34m\u001b[0m\u001b[0m\n\u001b[0m\u001b[1;32m    210\u001b[0m     \u001b[0;32mreturn\u001b[0m \u001b[0m_tensor_str_with_formatter\u001b[0m\u001b[0;34m(\u001b[0m\u001b[0mself\u001b[0m\u001b[0;34m,\u001b[0m \u001b[0mindent\u001b[0m\u001b[0;34m,\u001b[0m \u001b[0mformatter\u001b[0m\u001b[0;34m,\u001b[0m \u001b[0msummarize\u001b[0m\u001b[0;34m)\u001b[0m\u001b[0;34m\u001b[0m\u001b[0;34m\u001b[0m\u001b[0m\n\u001b[1;32m    211\u001b[0m \u001b[0;34m\u001b[0m\u001b[0m\n",
      "\u001b[0;32m~/anaconda3/envs/allml/lib/python3.7/site-packages/torch/_tensor_str.py\u001b[0m in \u001b[0;36m__init__\u001b[0;34m(self, tensor)\u001b[0m\n\u001b[1;32m     81\u001b[0m         \u001b[0;32mif\u001b[0m \u001b[0;32mnot\u001b[0m \u001b[0mself\u001b[0m\u001b[0;34m.\u001b[0m\u001b[0mfloating_dtype\u001b[0m\u001b[0;34m:\u001b[0m\u001b[0;34m\u001b[0m\u001b[0;34m\u001b[0m\u001b[0m\n\u001b[1;32m     82\u001b[0m             \u001b[0;32mfor\u001b[0m \u001b[0mvalue\u001b[0m \u001b[0;32min\u001b[0m \u001b[0mtensor_view\u001b[0m\u001b[0;34m:\u001b[0m\u001b[0;34m\u001b[0m\u001b[0;34m\u001b[0m\u001b[0m\n\u001b[0;32m---> 83\u001b[0;31m                 \u001b[0mvalue_str\u001b[0m \u001b[0;34m=\u001b[0m \u001b[0;34m'{}'\u001b[0m\u001b[0;34m.\u001b[0m\u001b[0mformat\u001b[0m\u001b[0;34m(\u001b[0m\u001b[0mvalue\u001b[0m\u001b[0;34m)\u001b[0m\u001b[0;34m\u001b[0m\u001b[0;34m\u001b[0m\u001b[0m\n\u001b[0m\u001b[1;32m     84\u001b[0m                 \u001b[0mself\u001b[0m\u001b[0;34m.\u001b[0m\u001b[0mmax_width\u001b[0m \u001b[0;34m=\u001b[0m \u001b[0mmax\u001b[0m\u001b[0;34m(\u001b[0m\u001b[0mself\u001b[0m\u001b[0;34m.\u001b[0m\u001b[0mmax_width\u001b[0m\u001b[0;34m,\u001b[0m \u001b[0mlen\u001b[0m\u001b[0;34m(\u001b[0m\u001b[0mvalue_str\u001b[0m\u001b[0;34m)\u001b[0m\u001b[0;34m)\u001b[0m\u001b[0;34m\u001b[0m\u001b[0;34m\u001b[0m\u001b[0m\n\u001b[1;32m     85\u001b[0m \u001b[0;34m\u001b[0m\u001b[0m\n",
      "\u001b[0;31mKeyboardInterrupt\u001b[0m: "
     ]
    }
   ],
   "source": [
    "for i, batch in enumerate(tqdm(train_loader)):\n",
    "    print(i,batch)"
   ]
  },
  {
   "cell_type": "code",
   "execution_count": 11,
   "metadata": {},
   "outputs": [],
   "source": [
    "def test(model, test_loader):\n",
    "    model.eval()\n",
    "    output = []\n",
    "    for i, batch in enumerate(tqdm(test_loader)):\n",
    "        x = batch['inputs'].to(DEVICE)\n",
    "        z = model(x)\n",
    "        p = torch.argmax(z, dim=-1).cpu() + 1\n",
    "        l = [i.item() for i in p.flatten()]\n",
    "        output.extend(l)\n",
    "\n",
    "    return output"
   ]
  },
  {
   "cell_type": "code",
   "execution_count": 14,
   "metadata": {},
   "outputs": [
    {
     "data": {
      "application/vnd.jupyter.widget-view+json": {
       "model_id": "994ea0a0092344c5b6ba6b4fddfde888",
       "version_major": 2,
       "version_minor": 0
      },
      "text/plain": [
       "HBox(children=(FloatProgress(value=0.0, max=200000.0), HTML(value='')))"
      ]
     },
     "metadata": {},
     "output_type": "display_data"
    },
    {
     "name": "stdout",
     "output_type": "stream",
     "text": [
      "\n"
     ]
    }
   ],
   "source": [
    "# Load model and run test\n",
    "model.load_state_dict(torch.load('checkpoint.pt'))\n",
    "model.to(DEVICE)\n",
    "l = test(model, test_loader)\n",
    "\n",
    "dic = {'ID': [i for i in range(len(l))], 'Prediction': l}\n",
    "df = pd.DataFrame(dic)\n",
    "df.to_csv('submission.csv', index=False)"
   ]
  },
  {
   "cell_type": "code",
   "execution_count": 13,
   "metadata": {},
   "outputs": [],
   "source": [
    "test_loader  = DataLoader(test_ds,  batch_size=2)"
   ]
  },
  {
   "cell_type": "code",
   "execution_count": null,
   "metadata": {},
   "outputs": [],
   "source": []
  }
 ],
 "metadata": {
  "kernelspec": {
   "display_name": "EasyDeep",
   "language": "python",
   "name": "easydeep"
  },
  "language_info": {
   "codemirror_mode": {
    "name": "ipython",
    "version": 3
   },
   "file_extension": ".py",
   "mimetype": "text/x-python",
   "name": "python",
   "nbconvert_exporter": "python",
   "pygments_lexer": "ipython3",
   "version": "3.7.5"
  }
 },
 "nbformat": 4,
 "nbformat_minor": 4
}
